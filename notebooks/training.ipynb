{
 "cells": [
  {
   "cell_type": "code",
   "execution_count": 6,
   "id": "c23ae3a5",
   "metadata": {},
   "outputs": [],
   "source": [
    "import pandas as pd\n",
    "import numpy as np\n",
    "from sentence_transformers import SentenceTransformer\n",
    "from sklearn.cluster import DBSCAN\n",
    "import re"
   ]
  },
  {
   "cell_type": "code",
   "execution_count": 2,
   "id": "7fa450d4",
   "metadata": {},
   "outputs": [
    {
     "data": {
      "application/vnd.microsoft.datawrangler.viewer.v0+json": {
       "columns": [
        {
         "name": "index",
         "rawType": "int64",
         "type": "integer"
        },
        {
         "name": "timestamp",
         "rawType": "object",
         "type": "string"
        },
        {
         "name": "source",
         "rawType": "object",
         "type": "string"
        },
        {
         "name": "log_message",
         "rawType": "object",
         "type": "string"
        },
        {
         "name": "target_label",
         "rawType": "object",
         "type": "string"
        },
        {
         "name": "complexity",
         "rawType": "object",
         "type": "string"
        }
       ],
       "conversionMethod": "pd.DataFrame",
       "ref": "2c48d714-1a91-43f0-ad64-1c65b513b1e3",
       "rows": [
        [
         "0",
         "2025-06-27 07:20:25",
         "ModernCRM",
         "nova.osapi_compute.wsgi.server [req-b9718cd8-f65e-49cc-8349-6cf7122af137 113d3a99c3da401fbd62cc2caa5b96d2 54fadb412c4e40cdbaed9335e4c35a9e - - -] 10.11.10.1 \"GET /v2/54fadb412c4e40cdbaed9335e4c35a9e/servers/detail HTTP/1.1\" status: 200 len: 1893 time: 0.2675118",
         "HTTP Status",
         "bert"
        ],
        [
         "1",
         "1/14/2025 23:07",
         "ModernCRM",
         "Email service experiencing issues with sending",
         "Critical Error",
         "bert"
        ],
        [
         "2",
         "1/17/2025 1:29",
         "AnalyticsEngine",
         "Unauthorized access to data was attempted",
         "Security Alert",
         "bert"
        ],
        [
         "3",
         "2025-07-12 00:24:16",
         "ModernHR",
         "nova.osapi_compute.wsgi.server [req-4895c258-b2f8-488f-a2a3-4fae63982e48 113d3a99c3da401fbd62cc2caa5b96d2 54fadb412c4e40cdbaed9335e4c35a9e - - -] 10.11.10.1 \"GET /v2/54fadb412c4e40cdbaed9335e4c35a9e/servers/detail HTTP/1.1\" HTTP status code -  200 len: 211 time: 0.0968180",
         "HTTP Status",
         "bert"
        ],
        [
         "4",
         "2025-06-02 18:25:23",
         "BillingSystem",
         "nova.osapi_compute.wsgi.server [req-ee8bc8ba-9265-4280-9215-dbe000a41209 113d3a99c3da401fbd62cc2caa5b96d2 54fadb412c4e40cdbaed9335e4c35a9e - - -] 10.11.10.1 \"GET /v2/54fadb412c4e40cdbaed9335e4c35a9e/servers/detail HTTP/1.1\" RCODE  200 len: 1874 time: 0.2280791",
         "HTTP Status",
         "bert"
        ],
        [
         "5",
         "2025-10-09 10:30:31",
         "ModernHR",
         "nova.osapi_compute.wsgi.server [req-f0bffbc3-5ab0-4916-91c1-0a61dd7d4ec2 113d3a99c3da401fbd62cc2caa5b96d2 54fadb412c4e40cdbaed9335e4c35a9e - - -] 10.11.10.1 \"GET /v2/54fadb412c4e40cdbaed9335e4c35a9e/servers/detail HTTP/1.1\" Return code: 200 len: 1874 time: 0.2131531",
         "HTTP Status",
         "bert"
        ],
        [
         "6",
         "3/1/2025 19:14",
         "ModernHR",
         "Shard 6 replication task ended in failure",
         "Error",
         "bert"
        ],
        [
         "7",
         "10/11/2025 8:44",
         "ModernHR",
         "File data_6169.csv uploaded successfully by user User953.",
         "System Notification",
         "regex"
        ],
        [
         "8",
         "2025-02-12 10:42:29",
         "ThirdPartyAPI",
         "nova.compute.claims [req-a07ac654-8e81-416d-bfbb-189116b07969 113d3a99c3da401fbd62cc2caa5b96d2 54fadb412c4e40cdbaed9335e4c35a9e - - -] [instance: bf8c824d-f099-4433-a41e-e3da7578262e] Total memory: 64172 MB, used: 512.00 MB",
         "Resource Usage",
         "bert"
        ],
        [
         "9",
         "2025-03-30 04:01:45",
         "ModernHR",
         "nova.osapi_compute.wsgi.server [req-2bf7cfee-a236-42f3-8fb1-96fefab0b302 113d3a99c3da401fbd62cc2caa5b96d2 54fadb412c4e40cdbaed9335e4c35a9e - - -] 10.11.10.1 \"GET /v2/54fadb412c4e40cdbaed9335e4c35a9e/servers/detail HTTP/1.1\" RCODE  200 len: 1874 time: 0.1794369",
         "HTTP Status",
         "bert"
        ],
        [
         "10",
         "8/9/2025 18:58",
         "ModernCRM",
         "Email server encountered a sending fault",
         "Error",
         "bert"
        ],
        [
         "11",
         "6/15/2025 11:44",
         "ModernHR",
         "Critical system unit error: unit ID Component55",
         "Critical Error",
         "bert"
        ],
        [
         "12",
         "2025-07-12 03:03:18",
         "ModernHR",
         "nova.osapi_compute.wsgi.server [req-d4f8d0c2-4f21-4b38-9f85-d82f8da75c23 113d3a99c3da401fbd62cc2caa5b96d2 54fadb412c4e40cdbaed9335e4c35a9e - - -] 10.11.10.1 \"GET /v2/54fadb412c4e40cdbaed9335e4c35a9e/servers/detail HTTP/1.1\" status: 200 len: 1893 time: 0.2663860",
         "HTTP Status",
         "bert"
        ],
        [
         "13",
         "8/4/2025 19:57",
         "ThirdPartyAPI",
         "Multiple bad login attempts detected on user 8538 account",
         "Security Alert",
         "bert"
        ],
        [
         "14",
         "1/4/2025 1:43",
         "ThirdPartyAPI",
         "File data_3847.csv uploaded successfully by user User175.",
         "System Notification",
         "regex"
        ],
        [
         "15",
         "5/1/2025 9:41",
         "ModernCRM",
         "Backup completed successfully.",
         "System Notification",
         "regex"
        ],
        [
         "16",
         "2025-11-15 14:48:30",
         "BillingSystem",
         "nova.osapi_compute.wsgi.server [req-6fe0e366-f20b-454e-ade1-771deb7a911f 113d3a99c3da401fbd62cc2caa5b96d2 54fadb412c4e40cdbaed9335e4c35a9e - - -] 10.11.10.1 \"GET /v2/54fadb412c4e40cdbaed9335e4c35a9e/servers/detail HTTP/1.1\" Status code -  200 len: 1893 time: 0.2608259",
         "HTTP Status",
         "bert"
        ],
        [
         "17",
         "2025-01-27 12:39:05",
         "ModernCRM",
         "nova.osapi_compute.wsgi.server [req-5f1c2027-e1b0-43f1-b6d3-694f483a69be 113d3a99c3da401fbd62cc2caa5b96d2 54fadb412c4e40cdbaed9335e4c35a9e - - -] 10.11.10.1 \"GET /v2/54fadb412c4e40cdbaed9335e4c35a9e/servers/detail HTTP/1.1\" RCODE  200 len: 1893 time: 0.2732208",
         "HTTP Status",
         "bert"
        ],
        [
         "18",
         "2/22/2025 17:49",
         "ModernCRM",
         "Account with ID 5351 created by User634.",
         "User Action",
         "regex"
        ],
        [
         "19",
         "2025-07-10 01:17:59",
         "BillingSystem",
         "nova.osapi_compute.wsgi.server [req-945d1f31-a2e5-496a-a1da-21a0c88b6b61 113d3a99c3da401fbd62cc2caa5b96d2 54fadb412c4e40cdbaed9335e4c35a9e - - -] 10.11.10.1 \"GET /v2/54fadb412c4e40cdbaed9335e4c35a9e/servers/detail HTTP/1.1\" HTTP status code -  200 len: 1893 time: 0.2775040",
         "HTTP Status",
         "bert"
        ],
        [
         "20",
         "2025-12-27 12:52:25",
         "ThirdPartyAPI",
         "nova.osapi_compute.wsgi.server [req-033d97b9-69e4-4acd-9029-f0d7b9370645 f7b8d1f1d4d44643b07fa10ca7d021fb e9746973ac574c6b8a9e8857f56a7608 - - -] 10.11.10.1 \"POST /v2/e9746973ac574c6b8a9e8857f56a7608/os-server-external-events HTTP/1.1\" status: 404 len: 296 time: 0.0847020",
         "HTTP Status",
         "bert"
        ],
        [
         "21",
         "2025-03-01 19:16:10",
         "ModernCRM",
         "nova.osapi_compute.wsgi.server [req-75bc6269-8527-4b6a-8925-67611b9e00d9 113d3a99c3da401fbd62cc2caa5b96d2 54fadb412c4e40cdbaed9335e4c35a9e - - -] 10.11.10.1 \"GET /v2/54fadb412c4e40cdbaed9335e4c35a9e/servers/detail HTTP/1.1\" status: 200 len: 1916 time: 0.2785730",
         "HTTP Status",
         "bert"
        ],
        [
         "22",
         "2025-08-28 03:54:33",
         "ThirdPartyAPI",
         "nova.compute.resource_tracker [req-addc1839-2ed5-4778-b57e-5854eb7b8b09 - - - - -] Final resource view: name=cp-1.slowvm1.tcloud-pg0.utah.cloudlab.us phys_ram=64172MB used_ram=512MB phys_disk=15GB used_disk=0GB total_vcpus=16 used_vcpus=0 pci_stats=[]",
         "Resource Usage",
         "bert"
        ],
        [
         "23",
         "2025-09-01 18:46:38",
         "ModernHR",
         "nova.osapi_compute.wsgi.server [req-077c3c87-b7ff-46f8-8320-8fed200a0b94 113d3a99c3da401fbd62cc2caa5b96d2 54fadb412c4e40cdbaed9335e4c35a9e - - -] 10.11.10.1 \"GET /v2/54fadb412c4e40cdbaed9335e4c35a9e/servers/detail HTTP/1.1\" Status code -  200 len: 1893 time: 0.2517929",
         "HTTP Status",
         "bert"
        ],
        [
         "24",
         "2025-12-16 23:18:28",
         "ModernCRM",
         "nova.osapi_compute.wsgi.server [req-4e83daf7-a24c-4ab4-96ff-1da5848255ad 113d3a99c3da401fbd62cc2caa5b96d2 54fadb412c4e40cdbaed9335e4c35a9e - - -] 10.11.10.1 \"GET /v2/54fadb412c4e40cdbaed9335e4c35a9e/servers/detail HTTP/1.1\" RCODE  200 len: 1583 time: 0.1878400",
         "HTTP Status",
         "bert"
        ],
        [
         "25",
         "2025-02-15 09:00:40",
         "AnalyticsEngine",
         "nova.osapi_compute.wsgi.server [req-bfce366e-9868-4f52-b245-271e9b3455ca 113d3a99c3da401fbd62cc2caa5b96d2 54fadb412c4e40cdbaed9335e4c35a9e - - -] 10.11.10.1 \"GET /v2/54fadb412c4e40cdbaed9335e4c35a9e/servers/detail HTTP/1.1\" status: 200 len: 1583 time: 0.1962459",
         "HTTP Status",
         "bert"
        ],
        [
         "26",
         "2025-03-03 17:11:11",
         "ModernCRM",
         "nova.compute.claims [req-d6986b54-3735-4a42-9074-0ba7d9717de9 113d3a99c3da401fbd62cc2caa5b96d2 54fadb412c4e40cdbaed9335e4c35a9e - - -] [instance: af5f7392-f7d4-4298-b647-c98924c64aa1] memory limit: 96258.00 MB, free: 95746.00 MB",
         "Resource Usage",
         "bert"
        ],
        [
         "27",
         "9/24/2025 19:57",
         "ThirdPartyAPI",
         "User User685 logged out.",
         "User Action",
         "regex"
        ],
        [
         "28",
         "2025-07-31 07:47:02",
         "AnalyticsEngine",
         "nova.osapi_compute.wsgi.server [req-5e6e042b-f9e8-4ab4-add4-b4809623b13a 113d3a99c3da401fbd62cc2caa5b96d2 54fadb412c4e40cdbaed9335e4c35a9e - - -] 10.11.10.1 \"GET /v2/54fadb412c4e40cdbaed9335e4c35a9e/servers/detail HTTP/1.1\" Return code: 200 len: 1893 time: 0.2591050",
         "HTTP Status",
         "bert"
        ],
        [
         "29",
         "3/10/2025 23:11",
         "AnalyticsEngine",
         "Alert: brute force login attempt from 192.168.80.114 detected",
         "Security Alert",
         "bert"
        ],
        [
         "30",
         "4/26/2025 7:54",
         "AnalyticsEngine",
         "Backup started at 2025-05-14 07:06:55.",
         "System Notification",
         "regex"
        ],
        [
         "31",
         "2025-10-28 00:49:44",
         "ModernCRM",
         "nova.metadata.wsgi.server [-] 10.11.21.138,10.11.10.1 \"GET /openstack/2013-10-17 HTTP/1.1\" RCODE  200 len: 157 time: 0.0010941",
         "HTTP Status",
         "bert"
        ],
        [
         "32",
         "5/29/2025 7:36",
         "ModernCRM",
         "Detection of multiple disk faults in RAID setup",
         "Critical Error",
         "bert"
        ],
        [
         "33",
         "2025-10-06 14:26:32",
         "AnalyticsEngine",
         "nova.osapi_compute.wsgi.server [req-fe9ef402-d3b4-4d8c-8093-17b49aba2993 113d3a99c3da401fbd62cc2caa5b96d2 54fadb412c4e40cdbaed9335e4c35a9e - - -] 10.11.10.1 \"GET /v2/54fadb412c4e40cdbaed9335e4c35a9e/servers/detail HTTP/1.1\" RCODE  200 len: 1893 time: 0.2738080",
         "HTTP Status",
         "bert"
        ],
        [
         "34",
         "9/30/2025 8:13",
         "ThirdPartyAPI",
         "Suspicious login activity detected from 192.168.24.250",
         "Security Alert",
         "bert"
        ],
        [
         "35",
         "6/22/2025 0:22",
         "ThirdPartyAPI",
         "System component malfunction: component ID Component79",
         "Critical Error",
         "bert"
        ],
        [
         "36",
         "11/19/2025 13:14",
         "BillingSystem",
         "System reboot initiated by user User243.",
         "System Notification",
         "regex"
        ],
        [
         "37",
         "2025-07-03 17:18:22",
         "ModernHR",
         "nova.metadata.wsgi.server [req-27e91939-3ba4-4d14-80e1-47d8fbb230ff - - - - -] 10.11.21.126,10.11.10.1 \"GET /latest/meta-data/block-device-mapping/root HTTP/1.1\" Status code -  200 len: 124 time: 0.2206309",
         "HTTP Status",
         "bert"
        ],
        [
         "38",
         "8/19/2025 16:43",
         "AnalyticsEngine",
         "Denied access attempt on restricted account Account2682",
         "Security Alert",
         "bert"
        ],
        [
         "39",
         "2025-04-12 08:10:38",
         "ModernHR",
         "nova.osapi_compute.wsgi.server [req-aef59c8e-1f3c-4a10-8c3b-8e73c538f3ed 113d3a99c3da401fbd62cc2caa5b96d2 54fadb412c4e40cdbaed9335e4c35a9e - - -] 10.11.10.1 \"GET /v2/54fadb412c4e40cdbaed9335e4c35a9e/servers/detail HTTP/1.1\" status: 200 len: 1583 time: 0.1843870",
         "HTTP Status",
         "bert"
        ],
        [
         "40",
         "2025-06-19 21:42:34",
         "ThirdPartyAPI",
         "nova.compute.claims [req-72b4858f-049e-49e1-b31e-b562c5018eaf 113d3a99c3da401fbd62cc2caa5b96d2 54fadb412c4e40cdbaed9335e4c35a9e - - -] [instance: 63a0d960-70b6-44c6-b606-491478a5cadf] disk limit not specified, defaulting to unlimited",
         "Resource Usage",
         "bert"
        ],
        [
         "41",
         "2025-04-01 19:44:04",
         "AnalyticsEngine",
         "nova.osapi_compute.wsgi.server [req-3f4867ee-5402-4e7f-bf24-41c58b20e80b 113d3a99c3da401fbd62cc2caa5b96d2 54fadb412c4e40cdbaed9335e4c35a9e - - -] 10.11.10.1 \"GET /v2/54fadb412c4e40cdbaed9335e4c35a9e/servers/detail HTTP/1.1\" RCODE  200 len: 1893 time: 0.2732630",
         "HTTP Status",
         "bert"
        ],
        [
         "42",
         "4/1/2025 16:42",
         "ThirdPartyAPI",
         "Boot process terminated unexpectedly due to kernel issue",
         "Critical Error",
         "bert"
        ],
        [
         "43",
         "11/22/2025 11:06",
         "BillingSystem",
         "Abnormal system behavior on server 40, potential security breach",
         "Security Alert",
         "bert"
        ],
        [
         "44",
         "6/20/2025 0:53",
         "BillingSystem",
         "Backup started at 2025-02-15 20:00:19.",
         "System Notification",
         "regex"
        ],
        [
         "45",
         "5/22/2025 3:17",
         "ThirdPartyAPI",
         "Data replication task for shard 14 did not complete",
         "Error",
         "bert"
        ],
        [
         "46",
         "1/14/2025 4:46",
         "ModernHR",
         "User 7662 tried to bypass API security measures",
         "Security Alert",
         "bert"
        ],
        [
         "47",
         "2025-03-25 01:18:09",
         "ModernCRM",
         "nova.osapi_compute.wsgi.server [req-4d05bae9-8a34-42b6-98be-991eae0f992c 113d3a99c3da401fbd62cc2caa5b96d2 54fadb412c4e40cdbaed9335e4c35a9e - - -] 10.11.10.1 \"GET /v2/54fadb412c4e40cdbaed9335e4c35a9e/servers/detail HTTP/1.1\" Return code: 200 len: 1874 time: 0.1925120",
         "HTTP Status",
         "bert"
        ],
        [
         "48",
         "7/1/2025 9:43",
         "ModernHR",
         "File data_7366.csv uploaded successfully by user User282.",
         "System Notification",
         "regex"
        ],
        [
         "49",
         "2025-01-13 20:36:16",
         "ModernCRM",
         "nova.osapi_compute.wsgi.server [req-d5fd3b8a-3323-4f9f-9453-d74ab24c21d3 113d3a99c3da401fbd62cc2caa5b96d2 54fadb412c4e40cdbaed9335e4c35a9e - - -] 10.11.10.1 \"GET /v2/54fadb412c4e40cdbaed9335e4c35a9e/servers/63a0d960-70b6-44c6-b606-491478a5cadf HTTP/1.1\" RCODE  200 len: 1708 time: 0.1946359",
         "HTTP Status",
         "bert"
        ]
       ],
       "shape": {
        "columns": 5,
        "rows": 2410
       }
      },
      "text/html": [
       "<div>\n",
       "<style scoped>\n",
       "    .dataframe tbody tr th:only-of-type {\n",
       "        vertical-align: middle;\n",
       "    }\n",
       "\n",
       "    .dataframe tbody tr th {\n",
       "        vertical-align: top;\n",
       "    }\n",
       "\n",
       "    .dataframe thead th {\n",
       "        text-align: right;\n",
       "    }\n",
       "</style>\n",
       "<table border=\"1\" class=\"dataframe\">\n",
       "  <thead>\n",
       "    <tr style=\"text-align: right;\">\n",
       "      <th></th>\n",
       "      <th>timestamp</th>\n",
       "      <th>source</th>\n",
       "      <th>log_message</th>\n",
       "      <th>target_label</th>\n",
       "      <th>complexity</th>\n",
       "    </tr>\n",
       "  </thead>\n",
       "  <tbody>\n",
       "    <tr>\n",
       "      <th>0</th>\n",
       "      <td>2025-06-27 07:20:25</td>\n",
       "      <td>ModernCRM</td>\n",
       "      <td>nova.osapi_compute.wsgi.server [req-b9718cd8-f...</td>\n",
       "      <td>HTTP Status</td>\n",
       "      <td>bert</td>\n",
       "    </tr>\n",
       "    <tr>\n",
       "      <th>1</th>\n",
       "      <td>1/14/2025 23:07</td>\n",
       "      <td>ModernCRM</td>\n",
       "      <td>Email service experiencing issues with sending</td>\n",
       "      <td>Critical Error</td>\n",
       "      <td>bert</td>\n",
       "    </tr>\n",
       "    <tr>\n",
       "      <th>2</th>\n",
       "      <td>1/17/2025 1:29</td>\n",
       "      <td>AnalyticsEngine</td>\n",
       "      <td>Unauthorized access to data was attempted</td>\n",
       "      <td>Security Alert</td>\n",
       "      <td>bert</td>\n",
       "    </tr>\n",
       "    <tr>\n",
       "      <th>3</th>\n",
       "      <td>2025-07-12 00:24:16</td>\n",
       "      <td>ModernHR</td>\n",
       "      <td>nova.osapi_compute.wsgi.server [req-4895c258-b...</td>\n",
       "      <td>HTTP Status</td>\n",
       "      <td>bert</td>\n",
       "    </tr>\n",
       "    <tr>\n",
       "      <th>4</th>\n",
       "      <td>2025-06-02 18:25:23</td>\n",
       "      <td>BillingSystem</td>\n",
       "      <td>nova.osapi_compute.wsgi.server [req-ee8bc8ba-9...</td>\n",
       "      <td>HTTP Status</td>\n",
       "      <td>bert</td>\n",
       "    </tr>\n",
       "    <tr>\n",
       "      <th>...</th>\n",
       "      <td>...</td>\n",
       "      <td>...</td>\n",
       "      <td>...</td>\n",
       "      <td>...</td>\n",
       "      <td>...</td>\n",
       "    </tr>\n",
       "    <tr>\n",
       "      <th>2405</th>\n",
       "      <td>2025-08-13 07:29:25</td>\n",
       "      <td>ModernHR</td>\n",
       "      <td>nova.osapi_compute.wsgi.server [req-96c3ec98-2...</td>\n",
       "      <td>HTTP Status</td>\n",
       "      <td>bert</td>\n",
       "    </tr>\n",
       "    <tr>\n",
       "      <th>2406</th>\n",
       "      <td>1/11/2025 5:32</td>\n",
       "      <td>ModernHR</td>\n",
       "      <td>User 3844 account experienced multiple failed ...</td>\n",
       "      <td>Security Alert</td>\n",
       "      <td>bert</td>\n",
       "    </tr>\n",
       "    <tr>\n",
       "      <th>2407</th>\n",
       "      <td>2025-08-03 03:07:47</td>\n",
       "      <td>ThirdPartyAPI</td>\n",
       "      <td>nova.metadata.wsgi.server [req-b6d4a270-accb-4...</td>\n",
       "      <td>HTTP Status</td>\n",
       "      <td>bert</td>\n",
       "    </tr>\n",
       "    <tr>\n",
       "      <th>2408</th>\n",
       "      <td>11/11/2025 11:52</td>\n",
       "      <td>BillingSystem</td>\n",
       "      <td>Email service affected by failed transmission</td>\n",
       "      <td>Critical Error</td>\n",
       "      <td>bert</td>\n",
       "    </tr>\n",
       "    <tr>\n",
       "      <th>2409</th>\n",
       "      <td>12/25/2025 13:21</td>\n",
       "      <td>AnalyticsEngine</td>\n",
       "      <td>Repeated failed login attempts occurred for us...</td>\n",
       "      <td>Security Alert</td>\n",
       "      <td>bert</td>\n",
       "    </tr>\n",
       "  </tbody>\n",
       "</table>\n",
       "<p>2410 rows × 5 columns</p>\n",
       "</div>"
      ],
      "text/plain": [
       "                timestamp           source  \\\n",
       "0     2025-06-27 07:20:25        ModernCRM   \n",
       "1         1/14/2025 23:07        ModernCRM   \n",
       "2          1/17/2025 1:29  AnalyticsEngine   \n",
       "3     2025-07-12 00:24:16         ModernHR   \n",
       "4     2025-06-02 18:25:23    BillingSystem   \n",
       "...                   ...              ...   \n",
       "2405  2025-08-13 07:29:25         ModernHR   \n",
       "2406       1/11/2025 5:32         ModernHR   \n",
       "2407  2025-08-03 03:07:47    ThirdPartyAPI   \n",
       "2408     11/11/2025 11:52    BillingSystem   \n",
       "2409     12/25/2025 13:21  AnalyticsEngine   \n",
       "\n",
       "                                            log_message    target_label  \\\n",
       "0     nova.osapi_compute.wsgi.server [req-b9718cd8-f...     HTTP Status   \n",
       "1        Email service experiencing issues with sending  Critical Error   \n",
       "2             Unauthorized access to data was attempted  Security Alert   \n",
       "3     nova.osapi_compute.wsgi.server [req-4895c258-b...     HTTP Status   \n",
       "4     nova.osapi_compute.wsgi.server [req-ee8bc8ba-9...     HTTP Status   \n",
       "...                                                 ...             ...   \n",
       "2405  nova.osapi_compute.wsgi.server [req-96c3ec98-2...     HTTP Status   \n",
       "2406  User 3844 account experienced multiple failed ...  Security Alert   \n",
       "2407  nova.metadata.wsgi.server [req-b6d4a270-accb-4...     HTTP Status   \n",
       "2408      Email service affected by failed transmission  Critical Error   \n",
       "2409  Repeated failed login attempts occurred for us...  Security Alert   \n",
       "\n",
       "     complexity  \n",
       "0          bert  \n",
       "1          bert  \n",
       "2          bert  \n",
       "3          bert  \n",
       "4          bert  \n",
       "...         ...  \n",
       "2405       bert  \n",
       "2406       bert  \n",
       "2407       bert  \n",
       "2408       bert  \n",
       "2409       bert  \n",
       "\n",
       "[2410 rows x 5 columns]"
      ]
     },
     "execution_count": 2,
     "metadata": {},
     "output_type": "execute_result"
    }
   ],
   "source": [
    "df = pd.read_csv('../data/synthetic_logs.csv')\n",
    "df"
   ]
  },
  {
   "cell_type": "code",
   "execution_count": 3,
   "id": "c29122d9",
   "metadata": {},
   "outputs": [
    {
     "data": {
      "application/vnd.jupyter.widget-view+json": {
       "model_id": "ec89af50da8b416ab0568df7889e1811",
       "version_major": 2,
       "version_minor": 0
      },
      "text/plain": [
       "modules.json:   0%|          | 0.00/349 [00:00<?, ?B/s]"
      ]
     },
     "metadata": {},
     "output_type": "display_data"
    },
    {
     "data": {
      "application/vnd.jupyter.widget-view+json": {
       "model_id": "3466178698374274ba85f3d1aeb6a8b2",
       "version_major": 2,
       "version_minor": 0
      },
      "text/plain": [
       "config_sentence_transformers.json:   0%|          | 0.00/116 [00:00<?, ?B/s]"
      ]
     },
     "metadata": {},
     "output_type": "display_data"
    },
    {
     "data": {
      "application/vnd.jupyter.widget-view+json": {
       "model_id": "855c1ba28c3b4e80970e1512a5ab5faf",
       "version_major": 2,
       "version_minor": 0
      },
      "text/plain": [
       "README.md:   0%|          | 0.00/10.5k [00:00<?, ?B/s]"
      ]
     },
     "metadata": {},
     "output_type": "display_data"
    },
    {
     "data": {
      "application/vnd.jupyter.widget-view+json": {
       "model_id": "59f7910d6a9a42fba0c3e241d1c65fed",
       "version_major": 2,
       "version_minor": 0
      },
      "text/plain": [
       "sentence_bert_config.json:   0%|          | 0.00/53.0 [00:00<?, ?B/s]"
      ]
     },
     "metadata": {},
     "output_type": "display_data"
    },
    {
     "data": {
      "application/vnd.jupyter.widget-view+json": {
       "model_id": "19e7a13b8c764382b1397068d9a0ad1d",
       "version_major": 2,
       "version_minor": 0
      },
      "text/plain": [
       "config.json:   0%|          | 0.00/612 [00:00<?, ?B/s]"
      ]
     },
     "metadata": {},
     "output_type": "display_data"
    },
    {
     "data": {
      "application/vnd.jupyter.widget-view+json": {
       "model_id": "a4c1641e827b42e7beee2ed482746f50",
       "version_major": 2,
       "version_minor": 0
      },
      "text/plain": [
       "model.safetensors:   0%|          | 0.00/90.9M [00:00<?, ?B/s]"
      ]
     },
     "metadata": {},
     "output_type": "display_data"
    },
    {
     "data": {
      "application/vnd.jupyter.widget-view+json": {
       "model_id": "335259f7e24b48f2806192abdacba891",
       "version_major": 2,
       "version_minor": 0
      },
      "text/plain": [
       "tokenizer_config.json:   0%|          | 0.00/350 [00:00<?, ?B/s]"
      ]
     },
     "metadata": {},
     "output_type": "display_data"
    },
    {
     "data": {
      "application/vnd.jupyter.widget-view+json": {
       "model_id": "f11df2951bb54a3b80d0b912fa79232b",
       "version_major": 2,
       "version_minor": 0
      },
      "text/plain": [
       "vocab.txt:   0%|          | 0.00/232k [00:00<?, ?B/s]"
      ]
     },
     "metadata": {},
     "output_type": "display_data"
    },
    {
     "data": {
      "application/vnd.jupyter.widget-view+json": {
       "model_id": "b7a70915721d45129477f10a8099fdfd",
       "version_major": 2,
       "version_minor": 0
      },
      "text/plain": [
       "tokenizer.json:   0%|          | 0.00/466k [00:00<?, ?B/s]"
      ]
     },
     "metadata": {},
     "output_type": "display_data"
    },
    {
     "data": {
      "application/vnd.jupyter.widget-view+json": {
       "model_id": "3377dfdd28f148b3abadfc589f2807d7",
       "version_major": 2,
       "version_minor": 0
      },
      "text/plain": [
       "special_tokens_map.json:   0%|          | 0.00/112 [00:00<?, ?B/s]"
      ]
     },
     "metadata": {},
     "output_type": "display_data"
    },
    {
     "data": {
      "application/vnd.jupyter.widget-view+json": {
       "model_id": "7151b64468024473836a41019e830854",
       "version_major": 2,
       "version_minor": 0
      },
      "text/plain": [
       "config.json:   0%|          | 0.00/190 [00:00<?, ?B/s]"
      ]
     },
     "metadata": {},
     "output_type": "display_data"
    },
    {
     "data": {
      "application/vnd.microsoft.datawrangler.viewer.v0+json": {
       "columns": [
        {
         "name": "index",
         "rawType": "int64",
         "type": "integer"
        },
        {
         "name": "timestamp",
         "rawType": "object",
         "type": "string"
        },
        {
         "name": "source",
         "rawType": "object",
         "type": "string"
        },
        {
         "name": "log_message",
         "rawType": "object",
         "type": "string"
        },
        {
         "name": "target_label",
         "rawType": "object",
         "type": "string"
        },
        {
         "name": "complexity",
         "rawType": "object",
         "type": "string"
        },
        {
         "name": "cluster",
         "rawType": "int64",
         "type": "integer"
        }
       ],
       "conversionMethod": "pd.DataFrame",
       "ref": "b56c4902-9a5a-432d-8598-e907c02d54f7",
       "rows": [
        [
         "0",
         "2025-06-27 07:20:25",
         "ModernCRM",
         "nova.osapi_compute.wsgi.server [req-b9718cd8-f65e-49cc-8349-6cf7122af137 113d3a99c3da401fbd62cc2caa5b96d2 54fadb412c4e40cdbaed9335e4c35a9e - - -] 10.11.10.1 \"GET /v2/54fadb412c4e40cdbaed9335e4c35a9e/servers/detail HTTP/1.1\" status: 200 len: 1893 time: 0.2675118",
         "HTTP Status",
         "bert",
         "0"
        ],
        [
         "1",
         "1/14/2025 23:07",
         "ModernCRM",
         "Email service experiencing issues with sending",
         "Critical Error",
         "bert",
         "1"
        ],
        [
         "2",
         "1/17/2025 1:29",
         "AnalyticsEngine",
         "Unauthorized access to data was attempted",
         "Security Alert",
         "bert",
         "2"
        ],
        [
         "3",
         "2025-07-12 00:24:16",
         "ModernHR",
         "nova.osapi_compute.wsgi.server [req-4895c258-b2f8-488f-a2a3-4fae63982e48 113d3a99c3da401fbd62cc2caa5b96d2 54fadb412c4e40cdbaed9335e4c35a9e - - -] 10.11.10.1 \"GET /v2/54fadb412c4e40cdbaed9335e4c35a9e/servers/detail HTTP/1.1\" HTTP status code -  200 len: 211 time: 0.0968180",
         "HTTP Status",
         "bert",
         "0"
        ],
        [
         "4",
         "2025-06-02 18:25:23",
         "BillingSystem",
         "nova.osapi_compute.wsgi.server [req-ee8bc8ba-9265-4280-9215-dbe000a41209 113d3a99c3da401fbd62cc2caa5b96d2 54fadb412c4e40cdbaed9335e4c35a9e - - -] 10.11.10.1 \"GET /v2/54fadb412c4e40cdbaed9335e4c35a9e/servers/detail HTTP/1.1\" RCODE  200 len: 1874 time: 0.2280791",
         "HTTP Status",
         "bert",
         "0"
        ],
        [
         "5",
         "2025-10-09 10:30:31",
         "ModernHR",
         "nova.osapi_compute.wsgi.server [req-f0bffbc3-5ab0-4916-91c1-0a61dd7d4ec2 113d3a99c3da401fbd62cc2caa5b96d2 54fadb412c4e40cdbaed9335e4c35a9e - - -] 10.11.10.1 \"GET /v2/54fadb412c4e40cdbaed9335e4c35a9e/servers/detail HTTP/1.1\" Return code: 200 len: 1874 time: 0.2131531",
         "HTTP Status",
         "bert",
         "0"
        ],
        [
         "6",
         "3/1/2025 19:14",
         "ModernHR",
         "Shard 6 replication task ended in failure",
         "Error",
         "bert",
         "3"
        ],
        [
         "7",
         "10/11/2025 8:44",
         "ModernHR",
         "File data_6169.csv uploaded successfully by user User953.",
         "System Notification",
         "regex",
         "4"
        ],
        [
         "8",
         "2025-02-12 10:42:29",
         "ThirdPartyAPI",
         "nova.compute.claims [req-a07ac654-8e81-416d-bfbb-189116b07969 113d3a99c3da401fbd62cc2caa5b96d2 54fadb412c4e40cdbaed9335e4c35a9e - - -] [instance: bf8c824d-f099-4433-a41e-e3da7578262e] Total memory: 64172 MB, used: 512.00 MB",
         "Resource Usage",
         "bert",
         "5"
        ],
        [
         "9",
         "2025-03-30 04:01:45",
         "ModernHR",
         "nova.osapi_compute.wsgi.server [req-2bf7cfee-a236-42f3-8fb1-96fefab0b302 113d3a99c3da401fbd62cc2caa5b96d2 54fadb412c4e40cdbaed9335e4c35a9e - - -] 10.11.10.1 \"GET /v2/54fadb412c4e40cdbaed9335e4c35a9e/servers/detail HTTP/1.1\" RCODE  200 len: 1874 time: 0.1794369",
         "HTTP Status",
         "bert",
         "0"
        ],
        [
         "10",
         "8/9/2025 18:58",
         "ModernCRM",
         "Email server encountered a sending fault",
         "Error",
         "bert",
         "1"
        ],
        [
         "11",
         "6/15/2025 11:44",
         "ModernHR",
         "Critical system unit error: unit ID Component55",
         "Critical Error",
         "bert",
         "6"
        ],
        [
         "12",
         "2025-07-12 03:03:18",
         "ModernHR",
         "nova.osapi_compute.wsgi.server [req-d4f8d0c2-4f21-4b38-9f85-d82f8da75c23 113d3a99c3da401fbd62cc2caa5b96d2 54fadb412c4e40cdbaed9335e4c35a9e - - -] 10.11.10.1 \"GET /v2/54fadb412c4e40cdbaed9335e4c35a9e/servers/detail HTTP/1.1\" status: 200 len: 1893 time: 0.2663860",
         "HTTP Status",
         "bert",
         "0"
        ],
        [
         "13",
         "8/4/2025 19:57",
         "ThirdPartyAPI",
         "Multiple bad login attempts detected on user 8538 account",
         "Security Alert",
         "bert",
         "7"
        ],
        [
         "14",
         "1/4/2025 1:43",
         "ThirdPartyAPI",
         "File data_3847.csv uploaded successfully by user User175.",
         "System Notification",
         "regex",
         "4"
        ],
        [
         "15",
         "5/1/2025 9:41",
         "ModernCRM",
         "Backup completed successfully.",
         "System Notification",
         "regex",
         "8"
        ],
        [
         "16",
         "2025-11-15 14:48:30",
         "BillingSystem",
         "nova.osapi_compute.wsgi.server [req-6fe0e366-f20b-454e-ade1-771deb7a911f 113d3a99c3da401fbd62cc2caa5b96d2 54fadb412c4e40cdbaed9335e4c35a9e - - -] 10.11.10.1 \"GET /v2/54fadb412c4e40cdbaed9335e4c35a9e/servers/detail HTTP/1.1\" Status code -  200 len: 1893 time: 0.2608259",
         "HTTP Status",
         "bert",
         "0"
        ],
        [
         "17",
         "2025-01-27 12:39:05",
         "ModernCRM",
         "nova.osapi_compute.wsgi.server [req-5f1c2027-e1b0-43f1-b6d3-694f483a69be 113d3a99c3da401fbd62cc2caa5b96d2 54fadb412c4e40cdbaed9335e4c35a9e - - -] 10.11.10.1 \"GET /v2/54fadb412c4e40cdbaed9335e4c35a9e/servers/detail HTTP/1.1\" RCODE  200 len: 1893 time: 0.2732208",
         "HTTP Status",
         "bert",
         "0"
        ],
        [
         "18",
         "2/22/2025 17:49",
         "ModernCRM",
         "Account with ID 5351 created by User634.",
         "User Action",
         "regex",
         "9"
        ],
        [
         "19",
         "2025-07-10 01:17:59",
         "BillingSystem",
         "nova.osapi_compute.wsgi.server [req-945d1f31-a2e5-496a-a1da-21a0c88b6b61 113d3a99c3da401fbd62cc2caa5b96d2 54fadb412c4e40cdbaed9335e4c35a9e - - -] 10.11.10.1 \"GET /v2/54fadb412c4e40cdbaed9335e4c35a9e/servers/detail HTTP/1.1\" HTTP status code -  200 len: 1893 time: 0.2775040",
         "HTTP Status",
         "bert",
         "0"
        ],
        [
         "20",
         "2025-12-27 12:52:25",
         "ThirdPartyAPI",
         "nova.osapi_compute.wsgi.server [req-033d97b9-69e4-4acd-9029-f0d7b9370645 f7b8d1f1d4d44643b07fa10ca7d021fb e9746973ac574c6b8a9e8857f56a7608 - - -] 10.11.10.1 \"POST /v2/e9746973ac574c6b8a9e8857f56a7608/os-server-external-events HTTP/1.1\" status: 404 len: 296 time: 0.0847020",
         "HTTP Status",
         "bert",
         "0"
        ],
        [
         "21",
         "2025-03-01 19:16:10",
         "ModernCRM",
         "nova.osapi_compute.wsgi.server [req-75bc6269-8527-4b6a-8925-67611b9e00d9 113d3a99c3da401fbd62cc2caa5b96d2 54fadb412c4e40cdbaed9335e4c35a9e - - -] 10.11.10.1 \"GET /v2/54fadb412c4e40cdbaed9335e4c35a9e/servers/detail HTTP/1.1\" status: 200 len: 1916 time: 0.2785730",
         "HTTP Status",
         "bert",
         "0"
        ],
        [
         "22",
         "2025-08-28 03:54:33",
         "ThirdPartyAPI",
         "nova.compute.resource_tracker [req-addc1839-2ed5-4778-b57e-5854eb7b8b09 - - - - -] Final resource view: name=cp-1.slowvm1.tcloud-pg0.utah.cloudlab.us phys_ram=64172MB used_ram=512MB phys_disk=15GB used_disk=0GB total_vcpus=16 used_vcpus=0 pci_stats=[]",
         "Resource Usage",
         "bert",
         "10"
        ],
        [
         "23",
         "2025-09-01 18:46:38",
         "ModernHR",
         "nova.osapi_compute.wsgi.server [req-077c3c87-b7ff-46f8-8320-8fed200a0b94 113d3a99c3da401fbd62cc2caa5b96d2 54fadb412c4e40cdbaed9335e4c35a9e - - -] 10.11.10.1 \"GET /v2/54fadb412c4e40cdbaed9335e4c35a9e/servers/detail HTTP/1.1\" Status code -  200 len: 1893 time: 0.2517929",
         "HTTP Status",
         "bert",
         "0"
        ],
        [
         "24",
         "2025-12-16 23:18:28",
         "ModernCRM",
         "nova.osapi_compute.wsgi.server [req-4e83daf7-a24c-4ab4-96ff-1da5848255ad 113d3a99c3da401fbd62cc2caa5b96d2 54fadb412c4e40cdbaed9335e4c35a9e - - -] 10.11.10.1 \"GET /v2/54fadb412c4e40cdbaed9335e4c35a9e/servers/detail HTTP/1.1\" RCODE  200 len: 1583 time: 0.1878400",
         "HTTP Status",
         "bert",
         "0"
        ],
        [
         "25",
         "2025-02-15 09:00:40",
         "AnalyticsEngine",
         "nova.osapi_compute.wsgi.server [req-bfce366e-9868-4f52-b245-271e9b3455ca 113d3a99c3da401fbd62cc2caa5b96d2 54fadb412c4e40cdbaed9335e4c35a9e - - -] 10.11.10.1 \"GET /v2/54fadb412c4e40cdbaed9335e4c35a9e/servers/detail HTTP/1.1\" status: 200 len: 1583 time: 0.1962459",
         "HTTP Status",
         "bert",
         "0"
        ],
        [
         "26",
         "2025-03-03 17:11:11",
         "ModernCRM",
         "nova.compute.claims [req-d6986b54-3735-4a42-9074-0ba7d9717de9 113d3a99c3da401fbd62cc2caa5b96d2 54fadb412c4e40cdbaed9335e4c35a9e - - -] [instance: af5f7392-f7d4-4298-b647-c98924c64aa1] memory limit: 96258.00 MB, free: 95746.00 MB",
         "Resource Usage",
         "bert",
         "5"
        ],
        [
         "27",
         "9/24/2025 19:57",
         "ThirdPartyAPI",
         "User User685 logged out.",
         "User Action",
         "regex",
         "11"
        ],
        [
         "28",
         "2025-07-31 07:47:02",
         "AnalyticsEngine",
         "nova.osapi_compute.wsgi.server [req-5e6e042b-f9e8-4ab4-add4-b4809623b13a 113d3a99c3da401fbd62cc2caa5b96d2 54fadb412c4e40cdbaed9335e4c35a9e - - -] 10.11.10.1 \"GET /v2/54fadb412c4e40cdbaed9335e4c35a9e/servers/detail HTTP/1.1\" Return code: 200 len: 1893 time: 0.2591050",
         "HTTP Status",
         "bert",
         "0"
        ],
        [
         "29",
         "3/10/2025 23:11",
         "AnalyticsEngine",
         "Alert: brute force login attempt from 192.168.80.114 detected",
         "Security Alert",
         "bert",
         "12"
        ],
        [
         "30",
         "4/26/2025 7:54",
         "AnalyticsEngine",
         "Backup started at 2025-05-14 07:06:55.",
         "System Notification",
         "regex",
         "13"
        ],
        [
         "31",
         "2025-10-28 00:49:44",
         "ModernCRM",
         "nova.metadata.wsgi.server [-] 10.11.21.138,10.11.10.1 \"GET /openstack/2013-10-17 HTTP/1.1\" RCODE  200 len: 157 time: 0.0010941",
         "HTTP Status",
         "bert",
         "0"
        ],
        [
         "32",
         "5/29/2025 7:36",
         "ModernCRM",
         "Detection of multiple disk faults in RAID setup",
         "Critical Error",
         "bert",
         "14"
        ],
        [
         "33",
         "2025-10-06 14:26:32",
         "AnalyticsEngine",
         "nova.osapi_compute.wsgi.server [req-fe9ef402-d3b4-4d8c-8093-17b49aba2993 113d3a99c3da401fbd62cc2caa5b96d2 54fadb412c4e40cdbaed9335e4c35a9e - - -] 10.11.10.1 \"GET /v2/54fadb412c4e40cdbaed9335e4c35a9e/servers/detail HTTP/1.1\" RCODE  200 len: 1893 time: 0.2738080",
         "HTTP Status",
         "bert",
         "0"
        ],
        [
         "34",
         "9/30/2025 8:13",
         "ThirdPartyAPI",
         "Suspicious login activity detected from 192.168.24.250",
         "Security Alert",
         "bert",
         "15"
        ],
        [
         "35",
         "6/22/2025 0:22",
         "ThirdPartyAPI",
         "System component malfunction: component ID Component79",
         "Critical Error",
         "bert",
         "6"
        ],
        [
         "36",
         "11/19/2025 13:14",
         "BillingSystem",
         "System reboot initiated by user User243.",
         "System Notification",
         "regex",
         "16"
        ],
        [
         "37",
         "2025-07-03 17:18:22",
         "ModernHR",
         "nova.metadata.wsgi.server [req-27e91939-3ba4-4d14-80e1-47d8fbb230ff - - - - -] 10.11.21.126,10.11.10.1 \"GET /latest/meta-data/block-device-mapping/root HTTP/1.1\" Status code -  200 len: 124 time: 0.2206309",
         "HTTP Status",
         "bert",
         "0"
        ],
        [
         "38",
         "8/19/2025 16:43",
         "AnalyticsEngine",
         "Denied access attempt on restricted account Account2682",
         "Security Alert",
         "bert",
         "17"
        ],
        [
         "39",
         "2025-04-12 08:10:38",
         "ModernHR",
         "nova.osapi_compute.wsgi.server [req-aef59c8e-1f3c-4a10-8c3b-8e73c538f3ed 113d3a99c3da401fbd62cc2caa5b96d2 54fadb412c4e40cdbaed9335e4c35a9e - - -] 10.11.10.1 \"GET /v2/54fadb412c4e40cdbaed9335e4c35a9e/servers/detail HTTP/1.1\" status: 200 len: 1583 time: 0.1843870",
         "HTTP Status",
         "bert",
         "0"
        ],
        [
         "40",
         "2025-06-19 21:42:34",
         "ThirdPartyAPI",
         "nova.compute.claims [req-72b4858f-049e-49e1-b31e-b562c5018eaf 113d3a99c3da401fbd62cc2caa5b96d2 54fadb412c4e40cdbaed9335e4c35a9e - - -] [instance: 63a0d960-70b6-44c6-b606-491478a5cadf] disk limit not specified, defaulting to unlimited",
         "Resource Usage",
         "bert",
         "5"
        ],
        [
         "41",
         "2025-04-01 19:44:04",
         "AnalyticsEngine",
         "nova.osapi_compute.wsgi.server [req-3f4867ee-5402-4e7f-bf24-41c58b20e80b 113d3a99c3da401fbd62cc2caa5b96d2 54fadb412c4e40cdbaed9335e4c35a9e - - -] 10.11.10.1 \"GET /v2/54fadb412c4e40cdbaed9335e4c35a9e/servers/detail HTTP/1.1\" RCODE  200 len: 1893 time: 0.2732630",
         "HTTP Status",
         "bert",
         "0"
        ],
        [
         "42",
         "4/1/2025 16:42",
         "ThirdPartyAPI",
         "Boot process terminated unexpectedly due to kernel issue",
         "Critical Error",
         "bert",
         "18"
        ],
        [
         "43",
         "11/22/2025 11:06",
         "BillingSystem",
         "Abnormal system behavior on server 40, potential security breach",
         "Security Alert",
         "bert",
         "19"
        ],
        [
         "44",
         "6/20/2025 0:53",
         "BillingSystem",
         "Backup started at 2025-02-15 20:00:19.",
         "System Notification",
         "regex",
         "13"
        ],
        [
         "45",
         "5/22/2025 3:17",
         "ThirdPartyAPI",
         "Data replication task for shard 14 did not complete",
         "Error",
         "bert",
         "3"
        ],
        [
         "46",
         "1/14/2025 4:46",
         "ModernHR",
         "User 7662 tried to bypass API security measures",
         "Security Alert",
         "bert",
         "20"
        ],
        [
         "47",
         "2025-03-25 01:18:09",
         "ModernCRM",
         "nova.osapi_compute.wsgi.server [req-4d05bae9-8a34-42b6-98be-991eae0f992c 113d3a99c3da401fbd62cc2caa5b96d2 54fadb412c4e40cdbaed9335e4c35a9e - - -] 10.11.10.1 \"GET /v2/54fadb412c4e40cdbaed9335e4c35a9e/servers/detail HTTP/1.1\" Return code: 200 len: 1874 time: 0.1925120",
         "HTTP Status",
         "bert",
         "0"
        ],
        [
         "48",
         "7/1/2025 9:43",
         "ModernHR",
         "File data_7366.csv uploaded successfully by user User282.",
         "System Notification",
         "regex",
         "4"
        ],
        [
         "49",
         "2025-01-13 20:36:16",
         "ModernCRM",
         "nova.osapi_compute.wsgi.server [req-d5fd3b8a-3323-4f9f-9453-d74ab24c21d3 113d3a99c3da401fbd62cc2caa5b96d2 54fadb412c4e40cdbaed9335e4c35a9e - - -] 10.11.10.1 \"GET /v2/54fadb412c4e40cdbaed9335e4c35a9e/servers/63a0d960-70b6-44c6-b606-491478a5cadf HTTP/1.1\" RCODE  200 len: 1708 time: 0.1946359",
         "HTTP Status",
         "bert",
         "0"
        ]
       ],
       "shape": {
        "columns": 6,
        "rows": 2410
       }
      },
      "text/html": [
       "<div>\n",
       "<style scoped>\n",
       "    .dataframe tbody tr th:only-of-type {\n",
       "        vertical-align: middle;\n",
       "    }\n",
       "\n",
       "    .dataframe tbody tr th {\n",
       "        vertical-align: top;\n",
       "    }\n",
       "\n",
       "    .dataframe thead th {\n",
       "        text-align: right;\n",
       "    }\n",
       "</style>\n",
       "<table border=\"1\" class=\"dataframe\">\n",
       "  <thead>\n",
       "    <tr style=\"text-align: right;\">\n",
       "      <th></th>\n",
       "      <th>timestamp</th>\n",
       "      <th>source</th>\n",
       "      <th>log_message</th>\n",
       "      <th>target_label</th>\n",
       "      <th>complexity</th>\n",
       "      <th>cluster</th>\n",
       "    </tr>\n",
       "  </thead>\n",
       "  <tbody>\n",
       "    <tr>\n",
       "      <th>0</th>\n",
       "      <td>2025-06-27 07:20:25</td>\n",
       "      <td>ModernCRM</td>\n",
       "      <td>nova.osapi_compute.wsgi.server [req-b9718cd8-f...</td>\n",
       "      <td>HTTP Status</td>\n",
       "      <td>bert</td>\n",
       "      <td>0</td>\n",
       "    </tr>\n",
       "    <tr>\n",
       "      <th>1</th>\n",
       "      <td>1/14/2025 23:07</td>\n",
       "      <td>ModernCRM</td>\n",
       "      <td>Email service experiencing issues with sending</td>\n",
       "      <td>Critical Error</td>\n",
       "      <td>bert</td>\n",
       "      <td>1</td>\n",
       "    </tr>\n",
       "    <tr>\n",
       "      <th>2</th>\n",
       "      <td>1/17/2025 1:29</td>\n",
       "      <td>AnalyticsEngine</td>\n",
       "      <td>Unauthorized access to data was attempted</td>\n",
       "      <td>Security Alert</td>\n",
       "      <td>bert</td>\n",
       "      <td>2</td>\n",
       "    </tr>\n",
       "    <tr>\n",
       "      <th>3</th>\n",
       "      <td>2025-07-12 00:24:16</td>\n",
       "      <td>ModernHR</td>\n",
       "      <td>nova.osapi_compute.wsgi.server [req-4895c258-b...</td>\n",
       "      <td>HTTP Status</td>\n",
       "      <td>bert</td>\n",
       "      <td>0</td>\n",
       "    </tr>\n",
       "    <tr>\n",
       "      <th>4</th>\n",
       "      <td>2025-06-02 18:25:23</td>\n",
       "      <td>BillingSystem</td>\n",
       "      <td>nova.osapi_compute.wsgi.server [req-ee8bc8ba-9...</td>\n",
       "      <td>HTTP Status</td>\n",
       "      <td>bert</td>\n",
       "      <td>0</td>\n",
       "    </tr>\n",
       "    <tr>\n",
       "      <th>...</th>\n",
       "      <td>...</td>\n",
       "      <td>...</td>\n",
       "      <td>...</td>\n",
       "      <td>...</td>\n",
       "      <td>...</td>\n",
       "      <td>...</td>\n",
       "    </tr>\n",
       "    <tr>\n",
       "      <th>2405</th>\n",
       "      <td>2025-08-13 07:29:25</td>\n",
       "      <td>ModernHR</td>\n",
       "      <td>nova.osapi_compute.wsgi.server [req-96c3ec98-2...</td>\n",
       "      <td>HTTP Status</td>\n",
       "      <td>bert</td>\n",
       "      <td>0</td>\n",
       "    </tr>\n",
       "    <tr>\n",
       "      <th>2406</th>\n",
       "      <td>1/11/2025 5:32</td>\n",
       "      <td>ModernHR</td>\n",
       "      <td>User 3844 account experienced multiple failed ...</td>\n",
       "      <td>Security Alert</td>\n",
       "      <td>bert</td>\n",
       "      <td>7</td>\n",
       "    </tr>\n",
       "    <tr>\n",
       "      <th>2407</th>\n",
       "      <td>2025-08-03 03:07:47</td>\n",
       "      <td>ThirdPartyAPI</td>\n",
       "      <td>nova.metadata.wsgi.server [req-b6d4a270-accb-4...</td>\n",
       "      <td>HTTP Status</td>\n",
       "      <td>bert</td>\n",
       "      <td>0</td>\n",
       "    </tr>\n",
       "    <tr>\n",
       "      <th>2408</th>\n",
       "      <td>11/11/2025 11:52</td>\n",
       "      <td>BillingSystem</td>\n",
       "      <td>Email service affected by failed transmission</td>\n",
       "      <td>Critical Error</td>\n",
       "      <td>bert</td>\n",
       "      <td>1</td>\n",
       "    </tr>\n",
       "    <tr>\n",
       "      <th>2409</th>\n",
       "      <td>12/25/2025 13:21</td>\n",
       "      <td>AnalyticsEngine</td>\n",
       "      <td>Repeated failed login attempts occurred for us...</td>\n",
       "      <td>Security Alert</td>\n",
       "      <td>bert</td>\n",
       "      <td>7</td>\n",
       "    </tr>\n",
       "  </tbody>\n",
       "</table>\n",
       "<p>2410 rows × 6 columns</p>\n",
       "</div>"
      ],
      "text/plain": [
       "                timestamp           source  \\\n",
       "0     2025-06-27 07:20:25        ModernCRM   \n",
       "1         1/14/2025 23:07        ModernCRM   \n",
       "2          1/17/2025 1:29  AnalyticsEngine   \n",
       "3     2025-07-12 00:24:16         ModernHR   \n",
       "4     2025-06-02 18:25:23    BillingSystem   \n",
       "...                   ...              ...   \n",
       "2405  2025-08-13 07:29:25         ModernHR   \n",
       "2406       1/11/2025 5:32         ModernHR   \n",
       "2407  2025-08-03 03:07:47    ThirdPartyAPI   \n",
       "2408     11/11/2025 11:52    BillingSystem   \n",
       "2409     12/25/2025 13:21  AnalyticsEngine   \n",
       "\n",
       "                                            log_message    target_label  \\\n",
       "0     nova.osapi_compute.wsgi.server [req-b9718cd8-f...     HTTP Status   \n",
       "1        Email service experiencing issues with sending  Critical Error   \n",
       "2             Unauthorized access to data was attempted  Security Alert   \n",
       "3     nova.osapi_compute.wsgi.server [req-4895c258-b...     HTTP Status   \n",
       "4     nova.osapi_compute.wsgi.server [req-ee8bc8ba-9...     HTTP Status   \n",
       "...                                                 ...             ...   \n",
       "2405  nova.osapi_compute.wsgi.server [req-96c3ec98-2...     HTTP Status   \n",
       "2406  User 3844 account experienced multiple failed ...  Security Alert   \n",
       "2407  nova.metadata.wsgi.server [req-b6d4a270-accb-4...     HTTP Status   \n",
       "2408      Email service affected by failed transmission  Critical Error   \n",
       "2409  Repeated failed login attempts occurred for us...  Security Alert   \n",
       "\n",
       "     complexity  cluster  \n",
       "0          bert        0  \n",
       "1          bert        1  \n",
       "2          bert        2  \n",
       "3          bert        0  \n",
       "4          bert        0  \n",
       "...         ...      ...  \n",
       "2405       bert        0  \n",
       "2406       bert        7  \n",
       "2407       bert        0  \n",
       "2408       bert        1  \n",
       "2409       bert        7  \n",
       "\n",
       "[2410 rows x 6 columns]"
      ]
     },
     "execution_count": 3,
     "metadata": {},
     "output_type": "execute_result"
    }
   ],
   "source": [
    "# Extract the messages column\n",
    "messages = df['log_message']\n",
    "\n",
    "# Generate embeddings using SentenceTransformer\n",
    "model = SentenceTransformer('all-MiniLM-L6-v2')\n",
    "embeddings = model.encode(messages.tolist())\n",
    "\n",
    "# Apply DBSCAN clustering\n",
    "dbscan = DBSCAN(eps=0.2, min_samples=1, metric='cosine')\n",
    "clusters = dbscan.fit_predict(embeddings)\n",
    "\n",
    "# Add the cluster labels to the dataframe\n",
    "df['cluster'] = clusters\n",
    "df"
   ]
  },
  {
   "cell_type": "code",
   "execution_count": 5,
   "id": "e6ef1033",
   "metadata": {},
   "outputs": [
    {
     "name": "stdout",
     "output_type": "stream",
     "text": [
      "Cluster 0:\n",
      "['nova.osapi_compute.wsgi.server [req-b9718cd8-f65e-49cc-8349-6cf7122af137 113d3a99c3da401fbd62cc2caa5b96d2 54fadb412c4e40cdbaed9335e4c35a9e - - -] 10.11.10.1 \"GET /v2/54fadb412c4e40cdbaed9335e4c35a9e/servers/detail HTTP/1.1\" status: 200 len: 1893 time: 0.2675118', 'nova.osapi_compute.wsgi.server [req-4895c258-b2f8-488f-a2a3-4fae63982e48 113d3a99c3da401fbd62cc2caa5b96d2 54fadb412c4e40cdbaed9335e4c35a9e - - -] 10.11.10.1 \"GET /v2/54fadb412c4e40cdbaed9335e4c35a9e/servers/detail HTTP/1.1\" HTTP status code -  200 len: 211 time: 0.0968180', 'nova.osapi_compute.wsgi.server [req-ee8bc8ba-9265-4280-9215-dbe000a41209 113d3a99c3da401fbd62cc2caa5b96d2 54fadb412c4e40cdbaed9335e4c35a9e - - -] 10.11.10.1 \"GET /v2/54fadb412c4e40cdbaed9335e4c35a9e/servers/detail HTTP/1.1\" RCODE  200 len: 1874 time: 0.2280791', 'nova.osapi_compute.wsgi.server [req-f0bffbc3-5ab0-4916-91c1-0a61dd7d4ec2 113d3a99c3da401fbd62cc2caa5b96d2 54fadb412c4e40cdbaed9335e4c35a9e - - -] 10.11.10.1 \"GET /v2/54fadb412c4e40cdbaed9335e4c35a9e/servers/detail HTTP/1.1\" Return code: 200 len: 1874 time: 0.2131531', 'nova.osapi_compute.wsgi.server [req-2bf7cfee-a236-42f3-8fb1-96fefab0b302 113d3a99c3da401fbd62cc2caa5b96d2 54fadb412c4e40cdbaed9335e4c35a9e - - -] 10.11.10.1 \"GET /v2/54fadb412c4e40cdbaed9335e4c35a9e/servers/detail HTTP/1.1\" RCODE  200 len: 1874 time: 0.1794369', 'nova.osapi_compute.wsgi.server [req-d4f8d0c2-4f21-4b38-9f85-d82f8da75c23 113d3a99c3da401fbd62cc2caa5b96d2 54fadb412c4e40cdbaed9335e4c35a9e - - -] 10.11.10.1 \"GET /v2/54fadb412c4e40cdbaed9335e4c35a9e/servers/detail HTTP/1.1\" status: 200 len: 1893 time: 0.2663860', 'nova.osapi_compute.wsgi.server [req-6fe0e366-f20b-454e-ade1-771deb7a911f 113d3a99c3da401fbd62cc2caa5b96d2 54fadb412c4e40cdbaed9335e4c35a9e - - -] 10.11.10.1 \"GET /v2/54fadb412c4e40cdbaed9335e4c35a9e/servers/detail HTTP/1.1\" Status code -  200 len: 1893 time: 0.2608259', 'nova.osapi_compute.wsgi.server [req-5f1c2027-e1b0-43f1-b6d3-694f483a69be 113d3a99c3da401fbd62cc2caa5b96d2 54fadb412c4e40cdbaed9335e4c35a9e - - -] 10.11.10.1 \"GET /v2/54fadb412c4e40cdbaed9335e4c35a9e/servers/detail HTTP/1.1\" RCODE  200 len: 1893 time: 0.2732208', 'nova.osapi_compute.wsgi.server [req-945d1f31-a2e5-496a-a1da-21a0c88b6b61 113d3a99c3da401fbd62cc2caa5b96d2 54fadb412c4e40cdbaed9335e4c35a9e - - -] 10.11.10.1 \"GET /v2/54fadb412c4e40cdbaed9335e4c35a9e/servers/detail HTTP/1.1\" HTTP status code -  200 len: 1893 time: 0.2775040', 'nova.osapi_compute.wsgi.server [req-033d97b9-69e4-4acd-9029-f0d7b9370645 f7b8d1f1d4d44643b07fa10ca7d021fb e9746973ac574c6b8a9e8857f56a7608 - - -] 10.11.10.1 \"POST /v2/e9746973ac574c6b8a9e8857f56a7608/os-server-external-events HTTP/1.1\" status: 404 len: 296 time: 0.0847020', 'nova.osapi_compute.wsgi.server [req-75bc6269-8527-4b6a-8925-67611b9e00d9 113d3a99c3da401fbd62cc2caa5b96d2 54fadb412c4e40cdbaed9335e4c35a9e - - -] 10.11.10.1 \"GET /v2/54fadb412c4e40cdbaed9335e4c35a9e/servers/detail HTTP/1.1\" status: 200 len: 1916 time: 0.2785730', 'nova.osapi_compute.wsgi.server [req-077c3c87-b7ff-46f8-8320-8fed200a0b94 113d3a99c3da401fbd62cc2caa5b96d2 54fadb412c4e40cdbaed9335e4c35a9e - - -] 10.11.10.1 \"GET /v2/54fadb412c4e40cdbaed9335e4c35a9e/servers/detail HTTP/1.1\" Status code -  200 len: 1893 time: 0.2517929', 'nova.osapi_compute.wsgi.server [req-4e83daf7-a24c-4ab4-96ff-1da5848255ad 113d3a99c3da401fbd62cc2caa5b96d2 54fadb412c4e40cdbaed9335e4c35a9e - - -] 10.11.10.1 \"GET /v2/54fadb412c4e40cdbaed9335e4c35a9e/servers/detail HTTP/1.1\" RCODE  200 len: 1583 time: 0.1878400', 'nova.osapi_compute.wsgi.server [req-bfce366e-9868-4f52-b245-271e9b3455ca 113d3a99c3da401fbd62cc2caa5b96d2 54fadb412c4e40cdbaed9335e4c35a9e - - -] 10.11.10.1 \"GET /v2/54fadb412c4e40cdbaed9335e4c35a9e/servers/detail HTTP/1.1\" status: 200 len: 1583 time: 0.1962459', 'nova.osapi_compute.wsgi.server [req-5e6e042b-f9e8-4ab4-add4-b4809623b13a 113d3a99c3da401fbd62cc2caa5b96d2 54fadb412c4e40cdbaed9335e4c35a9e - - -] 10.11.10.1 \"GET /v2/54fadb412c4e40cdbaed9335e4c35a9e/servers/detail HTTP/1.1\" Return code: 200 len: 1893 time: 0.2591050', 'nova.metadata.wsgi.server [-] 10.11.21.138,10.11.10.1 \"GET /openstack/2013-10-17 HTTP/1.1\" RCODE  200 len: 157 time: 0.0010941', 'nova.osapi_compute.wsgi.server [req-fe9ef402-d3b4-4d8c-8093-17b49aba2993 113d3a99c3da401fbd62cc2caa5b96d2 54fadb412c4e40cdbaed9335e4c35a9e - - -] 10.11.10.1 \"GET /v2/54fadb412c4e40cdbaed9335e4c35a9e/servers/detail HTTP/1.1\" RCODE  200 len: 1893 time: 0.2738080', 'nova.metadata.wsgi.server [req-27e91939-3ba4-4d14-80e1-47d8fbb230ff - - - - -] 10.11.21.126,10.11.10.1 \"GET /latest/meta-data/block-device-mapping/root HTTP/1.1\" Status code -  200 len: 124 time: 0.2206309', 'nova.osapi_compute.wsgi.server [req-aef59c8e-1f3c-4a10-8c3b-8e73c538f3ed 113d3a99c3da401fbd62cc2caa5b96d2 54fadb412c4e40cdbaed9335e4c35a9e - - -] 10.11.10.1 \"GET /v2/54fadb412c4e40cdbaed9335e4c35a9e/servers/detail HTTP/1.1\" status: 200 len: 1583 time: 0.1843870', 'nova.osapi_compute.wsgi.server [req-3f4867ee-5402-4e7f-bf24-41c58b20e80b 113d3a99c3da401fbd62cc2caa5b96d2 54fadb412c4e40cdbaed9335e4c35a9e - - -] 10.11.10.1 \"GET /v2/54fadb412c4e40cdbaed9335e4c35a9e/servers/detail HTTP/1.1\" RCODE  200 len: 1893 time: 0.2732630', 'nova.osapi_compute.wsgi.server [req-4d05bae9-8a34-42b6-98be-991eae0f992c 113d3a99c3da401fbd62cc2caa5b96d2 54fadb412c4e40cdbaed9335e4c35a9e - - -] 10.11.10.1 \"GET /v2/54fadb412c4e40cdbaed9335e4c35a9e/servers/detail HTTP/1.1\" Return code: 200 len: 1874 time: 0.1925120', 'nova.osapi_compute.wsgi.server [req-d5fd3b8a-3323-4f9f-9453-d74ab24c21d3 113d3a99c3da401fbd62cc2caa5b96d2 54fadb412c4e40cdbaed9335e4c35a9e - - -] 10.11.10.1 \"GET /v2/54fadb412c4e40cdbaed9335e4c35a9e/servers/63a0d960-70b6-44c6-b606-491478a5cadf HTTP/1.1\" RCODE  200 len: 1708 time: 0.1946359', 'nova.osapi_compute.wsgi.server [req-86b60c9f-5825-4447-9b26-c90aa4eb5986 113d3a99c3da401fbd62cc2caa5b96d2 54fadb412c4e40cdbaed9335e4c35a9e - - -] 10.11.10.1 \"GET /v2/54fadb412c4e40cdbaed9335e4c35a9e/servers/detail HTTP/1.1\" Status code -  200 len: 1759 time: 0.2631650', 'nova.metadata.wsgi.server [-] 10.11.21.143,10.11.10.1 \"GET /latest/meta-data/block-device-mapping/root HTTP/1.1\" HTTP status code -  200 len: 124 time: 0.0009151', 'nova.osapi_compute.wsgi.server [req-d6e9cfb8-d914-48c3-b677-72bc73329c69 f7b8d1f1d4d44643b07fa10ca7d021fb e9746973ac574c6b8a9e8857f56a7608 - - -] 10.11.10.1 \"POST /v2/e9746973ac574c6b8a9e8857f56a7608/os-server-external-events HTTP/1.1\" Status code -  404 len: 296 time: 0.0934131', 'nova.osapi_compute.wsgi.server [req-8c36e637-8e89-4cbe-813d-c5f46cc79818 f7b8d1f1d4d44643b07fa10ca7d021fb e9746973ac574c6b8a9e8857f56a7608 - - -] 10.11.10.1 \"POST /v2/e9746973ac574c6b8a9e8857f56a7608/os-server-external-events HTTP/1.1\" status: 200 len: 380 time: 0.0919530', 'nova.osapi_compute.wsgi.server [req-01d570b0-78a7-4719-b7a3-429fd7dc5a3f 113d3a99c3da401fbd62cc2caa5b96d2 54fadb412c4e40cdbaed9335e4c35a9e - - -] 10.11.10.1 \"POST /v2/54fadb412c4e40cdbaed9335e4c35a9e/servers HTTP/1.1\" Status code -  202 len: 733 time: 0.5130808', 'nova.osapi_compute.wsgi.server [req-482e36cc-6ff0-4a18-a72e-0768a622100b 113d3a99c3da401fbd62cc2caa5b96d2 54fadb412c4e40cdbaed9335e4c35a9e - - -] 10.11.10.1 \"GET /v2/54fadb412c4e40cdbaed9335e4c35a9e/servers/detail HTTP/1.1\" Status code -  200 len: 1893 time: 0.2634540', 'nova.osapi_compute.wsgi.server [req-0b7fefce-6f00-464a-969a-d6799e8bba35 f7b8d1f1d4d44643b07fa10ca7d021fb e9746973ac574c6b8a9e8857f56a7608 - - -] 10.11.10.1 \"POST /v2/e9746973ac574c6b8a9e8857f56a7608/os-server-external-events HTTP/1.1\" Return code: 200 len: 380 time: 0.0926709', 'nova.osapi_compute.wsgi.server [req-9174a757-0149-4e23-94ae-8e316c8ea14f 113d3a99c3da401fbd62cc2caa5b96d2 54fadb412c4e40cdbaed9335e4c35a9e - - -] 10.11.10.1 \"GET /v2/54fadb412c4e40cdbaed9335e4c35a9e/servers/detail HTTP/1.1\" Return code: 200 len: 1910 time: 0.2539101', 'nova.osapi_compute.wsgi.server [req-465fd6e6-5eda-4b3f-b35e-5d48f8fa1156 113d3a99c3da401fbd62cc2caa5b96d2 54fadb412c4e40cdbaed9335e4c35a9e - - -] 10.11.10.1 \"GET /v2/54fadb412c4e40cdbaed9335e4c35a9e/servers/detail HTTP/1.1\" HTTP status code -  200 len: 1893 time: 0.2692790', 'nova.metadata.wsgi.server [req-61196723-e034-487d-82e0-9cc159c8572c - - - - -] 10.11.21.123,10.11.10.1 \"GET /openstack/2013-10-17/vendor_data.json HTTP/1.1\" status: 200 len: 124 time: 0.2335150', 'nova.osapi_compute.wsgi.server [req-767559d9-3156-4388-a6c3-feb6533e4e13 113d3a99c3da401fbd62cc2caa5b96d2 54fadb412c4e40cdbaed9335e4c35a9e - - -] 10.11.10.1 \"GET /v2/54fadb412c4e40cdbaed9335e4c35a9e/servers/detail HTTP/1.1\" status: 200 len: 1893 time: 0.2680290', 'nova.metadata.wsgi.server [req-7d3eeb2d-3948-433a-8002-d969d2f86863 - - - - -] 10.11.21.132,10.11.10.1 \"GET /openstack/2012-08-10/meta_data.json HTTP/1.1\" Return code: 200 len: 264 time: 0.2316251', 'nova.osapi_compute.wsgi.server [req-97f723ce-8b78-4bdd-9d45-f7fa2e7707de 113d3a99c3da401fbd62cc2caa5b96d2 54fadb412c4e40cdbaed9335e4c35a9e - - -] 10.11.10.1 \"GET /v2/54fadb412c4e40cdbaed9335e4c35a9e/servers/detail HTTP/1.1\" RCODE  200 len: 1893 time: 0.4219470', 'nova.osapi_compute.wsgi.server [req-89a9360c-984b-4eea-b18f-619d5715cd1d 113d3a99c3da401fbd62cc2caa5b96d2 54fadb412c4e40cdbaed9335e4c35a9e - - -] 10.11.10.1 \"GET /v2/54fadb412c4e40cdbaed9335e4c35a9e/servers/detail HTTP/1.1\" HTTP status code -  200 len: 1893 time: 0.4072108', 'nova.osapi_compute.wsgi.server [req-78acc268-1d58-4b31-967a-c31e22012a78 113d3a99c3da401fbd62cc2caa5b96d2 54fadb412c4e40cdbaed9335e4c35a9e - - -] 10.11.10.1 \"GET /v2/54fadb412c4e40cdbaed9335e4c35a9e/servers/detail HTTP/1.1\" HTTP status code -  200 len: 1893 time: 0.2668920', 'nova.osapi_compute.wsgi.server [req-84a068e2-7bf3-4fbf-b480-f41b090acc76 113d3a99c3da401fbd62cc2caa5b96d2 54fadb412c4e40cdbaed9335e4c35a9e - - -] 10.11.10.1 \"GET /v2/54fadb412c4e40cdbaed9335e4c35a9e/servers/96abccce-8d1f-4e07-b6d1-4b2ab87e23b4 HTTP/1.1\" status: 200 len: 1708 time: 0.1917260', 'nova.osapi_compute.wsgi.server [req-7ddd7d81-0ab9-4cd7-8791-d29551028f51 113d3a99c3da401fbd62cc2caa5b96d2 54fadb412c4e40cdbaed9335e4c35a9e - - -] 10.11.10.1 \"GET /v2/54fadb412c4e40cdbaed9335e4c35a9e/servers/detail HTTP/1.1\" HTTP status code -  200 len: 1893 time: 0.2544250', 'nova.metadata.wsgi.server [-] 10.11.21.137,10.11.10.1 \"GET /openstack/2013-10-17/meta_data.json HTTP/1.1\" HTTP status code -  200 len: 967 time: 0.0013261', 'nova.osapi_compute.wsgi.server [req-19e7ad40-3594-41b0-a83a-40333f767ebd 113d3a99c3da401fbd62cc2caa5b96d2 54fadb412c4e40cdbaed9335e4c35a9e - - -] 10.11.10.1 \"GET /v2/54fadb412c4e40cdbaed9335e4c35a9e/servers/detail HTTP/1.1\" Status code -  200 len: 1893 time: 0.2650268', 'nova.osapi_compute.wsgi.server [req-2d658d2c-7eff-414e-a68f-3f1c75c9e874 113d3a99c3da401fbd62cc2caa5b96d2 54fadb412c4e40cdbaed9335e4c35a9e - - -] 10.11.10.1 \"POST /v2/54fadb412c4e40cdbaed9335e4c35a9e/servers HTTP/1.1\" HTTP status code -  202 len: 733 time: 0.7116742', 'nova.osapi_compute.wsgi.server [req-e234332e-87e4-4b52-92cd-ce2165ef38ad 113d3a99c3da401fbd62cc2caa5b96d2 54fadb412c4e40cdbaed9335e4c35a9e - - -] 10.11.10.1 \"GET /v2/54fadb412c4e40cdbaed9335e4c35a9e/servers/detail HTTP/1.1\" HTTP status code -  200 len: 1759 time: 0.2687941', 'nova.osapi_compute.wsgi.server [req-f204b576-164a-45e0-b31f-e57265e8864a 113d3a99c3da401fbd62cc2caa5b96d2 54fadb412c4e40cdbaed9335e4c35a9e - - -] 10.11.10.1 \"GET /v2/54fadb412c4e40cdbaed9335e4c35a9e/servers/detail HTTP/1.1\" status: 200 len: 1910 time: 0.2570262', 'nova.osapi_compute.wsgi.server [req-5619cf42-78f9-4d40-aca9-4224cd0bc357 113d3a99c3da401fbd62cc2caa5b96d2 54fadb412c4e40cdbaed9335e4c35a9e - - -] 10.11.10.1 \"GET /v2/54fadb412c4e40cdbaed9335e4c35a9e/servers/detail HTTP/1.1\" HTTP status code -  200 len: 1759 time: 0.2722960', 'nova.osapi_compute.wsgi.server [req-1902ca72-a41e-4900-898d-7d5c2feae591 113d3a99c3da401fbd62cc2caa5b96d2 54fadb412c4e40cdbaed9335e4c35a9e - - -] 10.11.10.1 \"GET /v2/54fadb412c4e40cdbaed9335e4c35a9e/servers/detail HTTP/1.1\" RCODE  200 len: 1893 time: 0.2677131', 'nova.osapi_compute.wsgi.server [req-b2ffcdcc-26b5-4e4a-9d90-2922ac5b9b02 113d3a99c3da401fbd62cc2caa5b96d2 54fadb412c4e40cdbaed9335e4c35a9e - - -] 10.11.10.1 \"GET /v2/54fadb412c4e40cdbaed9335e4c35a9e/servers/detail HTTP/1.1\" Return code: 200 len: 1893 time: 0.2687330', 'nova.osapi_compute.wsgi.server [req-7bf56606-1c53-49cb-9d8d-e6afa1920cc1 113d3a99c3da401fbd62cc2caa5b96d2 54fadb412c4e40cdbaed9335e4c35a9e - - -] 10.11.10.1 \"GET /v2/54fadb412c4e40cdbaed9335e4c35a9e/servers/detail HTTP/1.1\" Return code: 200 len: 1893 time: 0.2449391', 'nova.osapi_compute.wsgi.server [req-9bfa48e0-464a-476d-81d5-72787269d268 113d3a99c3da401fbd62cc2caa5b96d2 54fadb412c4e40cdbaed9335e4c35a9e - - -] 10.11.10.1 \"GET /v2/54fadb412c4e40cdbaed9335e4c35a9e/servers/detail HTTP/1.1\" status: 200 len: 1893 time: 0.2597730', 'nova.osapi_compute.wsgi.server [req-2567652e-8b67-4fdb-ae28-88239694577a 113d3a99c3da401fbd62cc2caa5b96d2 54fadb412c4e40cdbaed9335e4c35a9e - - -] 10.11.10.1 \"GET /v2/54fadb412c4e40cdbaed9335e4c35a9e/servers/detail HTTP/1.1\" HTTP status code -  200 len: 1893 time: 0.2652020', 'nova.osapi_compute.wsgi.server [req-bd44e0ae-45e8-4721-93b0-d14563ca6caf 113d3a99c3da401fbd62cc2caa5b96d2 54fadb412c4e40cdbaed9335e4c35a9e - - -] 10.11.10.1 \"GET /v2/54fadb412c4e40cdbaed9335e4c35a9e/servers/detail HTTP/1.1\" Status code -  200 len: 1893 time: 0.2650018', 'nova.osapi_compute.wsgi.server [req-5d311501-92ce-4342-99ac-863f9b53a5cb 113d3a99c3da401fbd62cc2caa5b96d2 54fadb412c4e40cdbaed9335e4c35a9e - - -] 10.11.10.1 \"GET /v2/54fadb412c4e40cdbaed9335e4c35a9e/servers/detail HTTP/1.1\" Return code: 200 len: 1893 time: 0.2633319', 'nova.osapi_compute.wsgi.server [req-008605fa-fa0a-483e-b596-a17329409763 113d3a99c3da401fbd62cc2caa5b96d2 54fadb412c4e40cdbaed9335e4c35a9e - - -] 10.11.10.1 \"GET /v2/54fadb412c4e40cdbaed9335e4c35a9e/servers/detail HTTP/1.1\" Return code: 200 len: 1893 time: 0.2833471', 'nova.metadata.wsgi.server [req-e0d4ce94-e0cb-41b5-9192-c6b9fdd49a94 - - - - -] 10.11.21.139,10.11.10.1 \"GET /openstack/2012-08-10/meta_data.json HTTP/1.1\" status: 200 len: 264 time: 0.2261620', 'nova.osapi_compute.wsgi.server [req-cfb0b245-947c-47d7-84e0-826ee5b5cda3 113d3a99c3da401fbd62cc2caa5b96d2 54fadb412c4e40cdbaed9335e4c35a9e - - -] 10.11.10.1 \"GET /v2/54fadb412c4e40cdbaed9335e4c35a9e/servers/detail HTTP/1.1\" Status code -  200 len: 1893 time: 0.2609611', 'nova.osapi_compute.wsgi.server [req-525a532e-ea93-4b66-ab16-33fbf450d6e6 113d3a99c3da401fbd62cc2caa5b96d2 54fadb412c4e40cdbaed9335e4c35a9e - - -] 10.11.10.1 \"GET /v2/54fadb412c4e40cdbaed9335e4c35a9e/servers/detail HTTP/1.1\" Return code: 200 len: 1910 time: 0.2577920', 'nova.osapi_compute.wsgi.server [req-04afc2da-442d-4a57-ac6e-c0f7a277825c 113d3a99c3da401fbd62cc2caa5b96d2 54fadb412c4e40cdbaed9335e4c35a9e - - -] 10.11.10.1 \"GET /v2/54fadb412c4e40cdbaed9335e4c35a9e/servers/detail HTTP/1.1\" Return code: 200 len: 1874 time: 0.1984708', 'nova.osapi_compute.wsgi.server [req-88b9956b-ebf6-49eb-9bee-cac3e642febd 113d3a99c3da401fbd62cc2caa5b96d2 54fadb412c4e40cdbaed9335e4c35a9e - - -] 10.11.10.1 \"GET /v2/54fadb412c4e40cdbaed9335e4c35a9e/servers/detail HTTP/1.1\" Return code: 200 len: 1893 time: 0.2889762', 'nova.osapi_compute.wsgi.server [req-a0cfddf4-71b7-4e21-9fcd-ddf39b33b35d 113d3a99c3da401fbd62cc2caa5b96d2 54fadb412c4e40cdbaed9335e4c35a9e - - -] 10.11.10.1 \"GET /v2/54fadb412c4e40cdbaed9335e4c35a9e/servers/detail HTTP/1.1\" RCODE  200 len: 1893 time: 0.2614942', 'nova.osapi_compute.wsgi.server [req-fea0b5a8-c597-4190-af41-69c4c624c06a 113d3a99c3da401fbd62cc2caa5b96d2 54fadb412c4e40cdbaed9335e4c35a9e - - -] 10.11.10.1 \"GET /v2/54fadb412c4e40cdbaed9335e4c35a9e/servers/detail HTTP/1.1\" RCODE  200 len: 1893 time: 0.2578111', 'nova.osapi_compute.wsgi.server [req-1c34c9ba-7c24-486f-9aa1-914e6415fc66 113d3a99c3da401fbd62cc2caa5b96d2 54fadb412c4e40cdbaed9335e4c35a9e - - -] 10.11.10.1 \"GET /v2/54fadb412c4e40cdbaed9335e4c35a9e/servers/detail HTTP/1.1\" HTTP status code -  200 len: 1583 time: 0.2032580', 'nova.metadata.wsgi.server [req-c1795e2c-0a17-4aa0-b47e-19e4218b049e - - - - -] 10.11.21.130,10.11.10.1 \"GET /openstack/2013-10-17/meta_data.json HTTP/1.1\" Status code -  200 len: 967 time: 0.2323599', 'nova.osapi_compute.wsgi.server [req-402c6ee4-e191-4b57-9a7c-9063363b678e 113d3a99c3da401fbd62cc2caa5b96d2 54fadb412c4e40cdbaed9335e4c35a9e - - -] 10.11.10.1 \"GET /v2/54fadb412c4e40cdbaed9335e4c35a9e/servers/detail HTTP/1.1\" Return code: 200 len: 1893 time: 0.2529092', 'nova.osapi_compute.wsgi.server [req-bcb231a7-f705-44c7-ada9-18959debb717 113d3a99c3da401fbd62cc2caa5b96d2 54fadb412c4e40cdbaed9335e4c35a9e - - -] 10.11.10.1 \"GET /v2/54fadb412c4e40cdbaed9335e4c35a9e/servers/detail HTTP/1.1\" status: 200 len: 1916 time: 0.3035021', 'nova.osapi_compute.wsgi.server [req-2897f349-4f7a-48c5-b3b4-7df386f0436a 113d3a99c3da401fbd62cc2caa5b96d2 54fadb412c4e40cdbaed9335e4c35a9e - - -] 10.11.10.1 \"GET /v2/54fadb412c4e40cdbaed9335e4c35a9e/servers/detail HTTP/1.1\" Status code -  200 len: 1893 time: 0.2607100', 'nova.osapi_compute.wsgi.server [req-b6a4fa91-7414-432a-b725-52b5613d3ca3 113d3a99c3da401fbd62cc2caa5b96d2 54fadb412c4e40cdbaed9335e4c35a9e - - -] 10.11.10.1 \"GET /v2/54fadb412c4e40cdbaed9335e4c35a9e/servers/detail HTTP/1.1\" Status code -  200 len: 1893 time: 0.2642131', 'nova.osapi_compute.wsgi.server [req-1b487345-4528-402e-a731-e4466158c607 113d3a99c3da401fbd62cc2caa5b96d2 54fadb412c4e40cdbaed9335e4c35a9e - - -] 10.11.10.1 \"GET /v2/54fadb412c4e40cdbaed9335e4c35a9e/servers/detail HTTP/1.1\" status: 200 len: 1893 time: 0.2672610', 'nova.osapi_compute.wsgi.server [req-7c8e64e9-3213-4cb0-af0a-d211dd344679 113d3a99c3da401fbd62cc2caa5b96d2 54fadb412c4e40cdbaed9335e4c35a9e - - -] 10.11.10.1 \"GET /v2/54fadb412c4e40cdbaed9335e4c35a9e/servers/detail HTTP/1.1\" status: 200 len: 1910 time: 0.2544081', 'nova.osapi_compute.wsgi.server [req-60f50a9d-827b-4fc8-b8c7-dc0bbe15c936 f7b8d1f1d4d44643b07fa10ca7d021fb e9746973ac574c6b8a9e8857f56a7608 - - -] 10.11.10.1 \"POST /v2/e9746973ac574c6b8a9e8857f56a7608/os-server-external-events HTTP/1.1\" RCODE  404 len: 296 time: 0.0870681', 'nova.metadata.wsgi.server [-] 10.11.21.139,10.11.10.1 \"GET /openstack/2013-10-17 HTTP/1.1\" HTTP status code -  200 len: 157 time: 0.0006461', 'nova.osapi_compute.wsgi.server [req-36f6bb06-1b97-4d65-9794-e557cd23be7c 113d3a99c3da401fbd62cc2caa5b96d2 54fadb412c4e40cdbaed9335e4c35a9e - - -] 10.11.10.1 \"GET /v2/54fadb412c4e40cdbaed9335e4c35a9e/servers/detail HTTP/1.1\" Return code: 200 len: 1874 time: 0.1959360', 'nova.osapi_compute.wsgi.server [req-964322ee-29e9-4c5d-a07c-9d30a2f01ee2 113d3a99c3da401fbd62cc2caa5b96d2 54fadb412c4e40cdbaed9335e4c35a9e - - -] 10.11.10.1 \"GET /v2/54fadb412c4e40cdbaed9335e4c35a9e/servers/detail HTTP/1.1\" status: 200 len: 1893 time: 0.2523489', 'nova.metadata.wsgi.server [-] 10.11.21.136,10.11.10.1 \"GET /latest/meta-data/placement/ HTTP/1.1\" status: 200 len: 134 time: 0.0015550', 'nova.osapi_compute.wsgi.server [req-63dbb4ce-0c2f-4bdc-a33a-5d6828cbba7a 113d3a99c3da401fbd62cc2caa5b96d2 54fadb412c4e40cdbaed9335e4c35a9e - - -] 10.11.10.1 \"GET /v2/54fadb412c4e40cdbaed9335e4c35a9e/servers/detail HTTP/1.1\" Status code -  200 len: 1893 time: 0.2629061', 'nova.osapi_compute.wsgi.server [req-3f659609-fd63-4882-8044-6a95fc6ca75d 113d3a99c3da401fbd62cc2caa5b96d2 54fadb412c4e40cdbaed9335e4c35a9e - - -] 10.11.10.1 \"GET /v2/54fadb412c4e40cdbaed9335e4c35a9e/servers/detail HTTP/1.1\" Return code: 200 len: 1874 time: 0.1815979', 'nova.osapi_compute.wsgi.server [req-f8409217-ad00-40c8-96ba-c5eea0f38b6d 113d3a99c3da401fbd62cc2caa5b96d2 54fadb412c4e40cdbaed9335e4c35a9e - - -] 10.11.10.1 \"GET /v2/54fadb412c4e40cdbaed9335e4c35a9e/servers/detail HTTP/1.1\" HTTP status code -  200 len: 1893 time: 0.2826021', 'nova.osapi_compute.wsgi.server [req-60ef3ade-e54b-47c2-ae3c-cdf307668e2e 113d3a99c3da401fbd62cc2caa5b96d2 54fadb412c4e40cdbaed9335e4c35a9e - - -] 10.11.10.1 \"GET /v2/54fadb412c4e40cdbaed9335e4c35a9e/servers/detail HTTP/1.1\" HTTP status code -  200 len: 1893 time: 0.3644130', 'nova.metadata.wsgi.server [req-e5e061d6-f2aa-464b-9512-2fd6c7c9a812 - - - - -] 10.11.21.143,10.11.10.1 \"GET /latest/meta-data/placement/ HTTP/1.1\" HTTP status code -  200 len: 134 time: 0.4259689', 'nova.osapi_compute.wsgi.server [req-a6b9779d-b384-4e84-b3d0-bac079760244 113d3a99c3da401fbd62cc2caa5b96d2 54fadb412c4e40cdbaed9335e4c35a9e - - -] 10.11.10.1 \"DELETE /v2/54fadb412c4e40cdbaed9335e4c35a9e/servers/95960536-049b-41f6-9049-05fc479b6a7c HTTP/1.1\" RCODE  204 len: 203 time: 0.2639730', 'nova.osapi_compute.wsgi.server [req-ab030d68-61de-4726-9836-33469b7135dd 113d3a99c3da401fbd62cc2caa5b96d2 54fadb412c4e40cdbaed9335e4c35a9e - - -] 10.11.10.1 \"GET /v2/54fadb412c4e40cdbaed9335e4c35a9e/servers/detail HTTP/1.1\" HTTP status code -  200 len: 1893 time: 0.3666670', 'nova.osapi_compute.wsgi.server [req-0f3adb60-b6c6-4d59-ac1e-28b756a66886 113d3a99c3da401fbd62cc2caa5b96d2 54fadb412c4e40cdbaed9335e4c35a9e - - -] 10.11.10.1 \"GET /v2/54fadb412c4e40cdbaed9335e4c35a9e/servers/detail HTTP/1.1\" Return code: 200 len: 1893 time: 0.2527301', 'nova.metadata.wsgi.server [req-81a97e64-19c0-4fca-9d0a-4ebfefde7b11 - - - - -] 10.11.21.142,10.11.10.1 \"GET /openstack/2013-10-17/meta_data.json HTTP/1.1\" Status code -  200 len: 967 time: 0.2257652', 'nova.metadata.wsgi.server [req-35ea282d-a35a-408a-b01f-a07c9d2957da - - - - -] 10.11.21.124,10.11.10.1 \"GET /openstack/2012-08-10/meta_data.json HTTP/1.1\" RCODE  200 len: 264 time: 0.2212229', 'nova.metadata.wsgi.server [req-c22c0e7f-ff55-4389-9c48-bf72dda87ce7 - - - - -] 10.11.21.136,10.11.10.1 \"GET /latest/meta-data/placement/availability-zone HTTP/1.1\" HTTP status code -  200 len: 120 time: 0.2186198', 'nova.metadata.wsgi.server [-] 10.11.21.129,10.11.10.1 \"GET /openstack/2013-10-17/meta_data.json HTTP/1.1\" HTTP status code -  200 len: 967 time: 0.0012221', 'nova.osapi_compute.wsgi.server [req-95cb0030-6b56-44a8-8208-d68412f2eb43 113d3a99c3da401fbd62cc2caa5b96d2 54fadb412c4e40cdbaed9335e4c35a9e - - -] 10.11.10.1 \"GET /v2/54fadb412c4e40cdbaed9335e4c35a9e/servers/detail HTTP/1.1\" RCODE  200 len: 1910 time: 0.2763309', 'nova.osapi_compute.wsgi.server [req-a6d2fe15-c840-4b5f-b058-88ee45b5a7fe 113d3a99c3da401fbd62cc2caa5b96d2 54fadb412c4e40cdbaed9335e4c35a9e - - -] 10.11.10.1 \"GET /v2/54fadb412c4e40cdbaed9335e4c35a9e/servers/detail HTTP/1.1\" RCODE  200 len: 1893 time: 0.4255710', 'nova.osapi_compute.wsgi.server [req-03a0519f-9124-4409-bb35-88b9fae7ea0e 113d3a99c3da401fbd62cc2caa5b96d2 54fadb412c4e40cdbaed9335e4c35a9e - - -] 10.11.10.1 \"GET /v2/54fadb412c4e40cdbaed9335e4c35a9e/servers/70c1714b-c11b-4c88-b300-239afe1f5ff8 HTTP/1.1\" RCODE  200 len: 1708 time: 0.1883068', 'nova.osapi_compute.wsgi.server [req-c4aa3830-6060-410f-b743-97f55cb918f8 113d3a99c3da401fbd62cc2caa5b96d2 54fadb412c4e40cdbaed9335e4c35a9e - - -] 10.11.10.1 \"GET /v2/54fadb412c4e40cdbaed9335e4c35a9e/servers/detail HTTP/1.1\" RCODE  200 len: 1893 time: 0.2457409', 'nova.osapi_compute.wsgi.server [req-be711236-194c-40ba-afc0-2c1c4327c503 113d3a99c3da401fbd62cc2caa5b96d2 54fadb412c4e40cdbaed9335e4c35a9e - - -] 10.11.10.1 \"GET /v2/54fadb412c4e40cdbaed9335e4c35a9e/servers/detail HTTP/1.1\" HTTP status code -  200 len: 1583 time: 0.1981771', 'nova.osapi_compute.wsgi.server [req-05bc2099-282b-4260-9a9c-1fa4f55e65bf 113d3a99c3da401fbd62cc2caa5b96d2 54fadb412c4e40cdbaed9335e4c35a9e - - -] 10.11.10.1 \"GET /v2/54fadb412c4e40cdbaed9335e4c35a9e/servers/detail HTTP/1.1\" RCODE  200 len: 1583 time: 0.1909380', 'nova.osapi_compute.wsgi.server [req-2b589ba2-b7e0-4ed4-8169-372247f99be8 113d3a99c3da401fbd62cc2caa5b96d2 54fadb412c4e40cdbaed9335e4c35a9e - - -] 10.11.10.1 \"GET /v2/54fadb412c4e40cdbaed9335e4c35a9e/servers/detail HTTP/1.1\" RCODE  200 len: 1893 time: 0.2652750', 'nova.osapi_compute.wsgi.server [req-11200554-a543-43c3-ac95-d855b3bd8b32 113d3a99c3da401fbd62cc2caa5b96d2 54fadb412c4e40cdbaed9335e4c35a9e - - -] 10.11.10.1 \"GET /v2/54fadb412c4e40cdbaed9335e4c35a9e/servers/detail HTTP/1.1\" Return code: 200 len: 1893 time: 0.2652190', 'nova.osapi_compute.wsgi.server [req-f791b1b3-df99-4b6f-9d52-1874ced07e4d 113d3a99c3da401fbd62cc2caa5b96d2 54fadb412c4e40cdbaed9335e4c35a9e - - -] 10.11.10.1 \"GET /v2/54fadb412c4e40cdbaed9335e4c35a9e/servers/detail HTTP/1.1\" status: 200 len: 1893 time: 0.2522879', 'nova.osapi_compute.wsgi.server [req-f894c9ea-bf2b-40c2-98df-e60c969bb8eb 113d3a99c3da401fbd62cc2caa5b96d2 54fadb412c4e40cdbaed9335e4c35a9e - - -] 10.11.10.1 \"GET /v2/54fadb412c4e40cdbaed9335e4c35a9e/servers/detail HTTP/1.1\" Return code: 200 len: 1893 time: 0.2627070', 'nova.osapi_compute.wsgi.server [req-b19871ff-db0a-46c5-8eef-a1edef1e2de8 113d3a99c3da401fbd62cc2caa5b96d2 54fadb412c4e40cdbaed9335e4c35a9e - - -] 10.11.10.1 \"GET /v2/54fadb412c4e40cdbaed9335e4c35a9e/servers/detail HTTP/1.1\" status: 200 len: 1893 time: 0.2688050', 'nova.osapi_compute.wsgi.server [req-efe668bd-0162-4b21-b1c0-d962abc9f6ba 113d3a99c3da401fbd62cc2caa5b96d2 54fadb412c4e40cdbaed9335e4c35a9e - - -] 10.11.10.1 \"GET /v2/54fadb412c4e40cdbaed9335e4c35a9e/servers/detail HTTP/1.1\" Status code -  200 len: 1893 time: 0.2633080', 'nova.osapi_compute.wsgi.server [req-6d61da96-503a-40e2-a90e-6429d34f0c00 113d3a99c3da401fbd62cc2caa5b96d2 54fadb412c4e40cdbaed9335e4c35a9e - - -] 10.11.10.1 \"GET /v2/54fadb412c4e40cdbaed9335e4c35a9e/servers/detail HTTP/1.1\" Return code: 200 len: 1893 time: 0.2413731', 'nova.osapi_compute.wsgi.server [req-6c3203d9-d215-4722-af23-4a81f95f15fc 113d3a99c3da401fbd62cc2caa5b96d2 54fadb412c4e40cdbaed9335e4c35a9e - - -] 10.11.10.1 \"GET /v2/54fadb412c4e40cdbaed9335e4c35a9e/servers/detail HTTP/1.1\" Status code -  200 len: 1893 time: 0.2438371', 'nova.metadata.wsgi.server [-] 10.11.21.132,10.11.10.1 \"GET /latest/meta-data/placement/ HTTP/1.1\" HTTP status code -  200 len: 134 time: 0.0007560', 'nova.osapi_compute.wsgi.server [req-96b6dd3d-8eb1-43f0-9bbb-19fd234cc6f5 113d3a99c3da401fbd62cc2caa5b96d2 54fadb412c4e40cdbaed9335e4c35a9e - - -] 10.11.10.1 \"GET /v2/54fadb412c4e40cdbaed9335e4c35a9e/servers/detail HTTP/1.1\" status: 200 len: 1893 time: 0.2685661', 'nova.osapi_compute.wsgi.server [req-cebeeef5-8804-4bfc-beca-716acf433be4 113d3a99c3da401fbd62cc2caa5b96d2 54fadb412c4e40cdbaed9335e4c35a9e - - -] 10.11.10.1 \"GET /v2/54fadb412c4e40cdbaed9335e4c35a9e/servers/detail HTTP/1.1\" RCODE  200 len: 1893 time: 0.2543209', 'nova.metadata.wsgi.server [req-ecbd525f-38ad-49a5-a65d-6b43af9227ab - - - - -] 10.11.21.127,10.11.10.1 \"GET /openstack/2013-10-17/vendor_data.json HTTP/1.1\" Status code -  200 len: 124 time: 0.2475102', 'nova.metadata.wsgi.server [req-ba4b4d89-3236-416c-999f-b42782557681 - - - - -] 10.11.21.143,10.11.10.1 \"GET /latest/meta-data/ HTTP/1.1\" RCODE  200 len: 328 time: 0.2230601', 'nova.osapi_compute.wsgi.server [req-cfb8d696-c59f-483f-be6a-06c7f011ac6c 113d3a99c3da401fbd62cc2caa5b96d2 54fadb412c4e40cdbaed9335e4c35a9e - - -] 10.11.10.1 \"GET /v2/54fadb412c4e40cdbaed9335e4c35a9e/servers/detail HTTP/1.1\" status: 200 len: 1893 time: 0.2508061', 'nova.metadata.wsgi.server [req-705dd9dc-0fad-4523-b0ef-0524abc6f12a - - - - -] 10.11.21.135,10.11.10.1 \"GET /latest/meta-data/block-device-mapping/ HTTP/1.1\" status: 200 len: 124 time: 0.2319629', 'nova.metadata.wsgi.server [req-e840cb3c-2e87-4b1c-8d42-7817a506acd7 - - - - -] 10.11.21.135,10.11.10.1 \"GET /openstack/2013-10-17 HTTP/1.1\" Return code: 200 len: 157 time: 0.2177148', 'nova.osapi_compute.wsgi.server [req-f9ac2f26-39d4-4979-982a-1d2c4baee0e2 113d3a99c3da401fbd62cc2caa5b96d2 54fadb412c4e40cdbaed9335e4c35a9e - - -] 10.11.10.1 \"GET /v2/54fadb412c4e40cdbaed9335e4c35a9e/servers/detail HTTP/1.1\" RCODE  200 len: 1893 time: 0.2600241', 'nova.osapi_compute.wsgi.server [req-59b0af54-2013-4474-a1c6-9d78e6f052a2 113d3a99c3da401fbd62cc2caa5b96d2 54fadb412c4e40cdbaed9335e4c35a9e - - -] 10.11.10.1 \"GET /v2/54fadb412c4e40cdbaed9335e4c35a9e/servers/detail HTTP/1.1\" HTTP status code -  200 len: 1759 time: 0.2835078', 'nova.osapi_compute.wsgi.server [req-e584ef57-6eeb-4444-bd9a-e1bf5ea3149b 113d3a99c3da401fbd62cc2caa5b96d2 54fadb412c4e40cdbaed9335e4c35a9e - - -] 10.11.10.1 \"GET /v2/54fadb412c4e40cdbaed9335e4c35a9e/servers/detail HTTP/1.1\" HTTP status code -  200 len: 1893 time: 0.2322080', 'nova.metadata.wsgi.server [req-3a439e39-d7f5-4cdf-a08c-c530a5bc9b23 - - - - -] 10.11.21.133,10.11.10.1 \"GET /openstack/2013-10-17/user_data HTTP/1.1\" RCODE  404 len: 176 time: 0.2186041', 'nova.osapi_compute.wsgi.server [req-0f33968d-d618-4346-9501-8f382cd571d9 113d3a99c3da401fbd62cc2caa5b96d2 54fadb412c4e40cdbaed9335e4c35a9e - - -] 10.11.10.1 \"GET /v2/54fadb412c4e40cdbaed9335e4c35a9e/servers/detail HTTP/1.1\" RCODE  200 len: 1916 time: 0.2731459', 'nova.osapi_compute.wsgi.server [req-0ba05e2a-7142-4fa0-859c-8573119de464 113d3a99c3da401fbd62cc2caa5b96d2 54fadb412c4e40cdbaed9335e4c35a9e - - -] 10.11.10.1 \"GET /v2/54fadb412c4e40cdbaed9335e4c35a9e/servers/detail HTTP/1.1\" Status code -  200 len: 1893 time: 0.2593911', 'nova.osapi_compute.wsgi.server [req-4beefba4-a928-45a5-90f6-6246e77bc2ce f7b8d1f1d4d44643b07fa10ca7d021fb e9746973ac574c6b8a9e8857f56a7608 - - -] 10.11.10.1 \"POST /v2/e9746973ac574c6b8a9e8857f56a7608/os-server-external-events HTTP/1.1\" status: 404 len: 296 time: 0.0877421', 'nova.osapi_compute.wsgi.server [req-e0e52eae-603e-45e1-9b5e-06c76033bfd5 113d3a99c3da401fbd62cc2caa5b96d2 54fadb412c4e40cdbaed9335e4c35a9e - - -] 10.11.10.1 \"GET /v2/54fadb412c4e40cdbaed9335e4c35a9e/servers/detail HTTP/1.1\" Status code -  200 len: 1910 time: 0.2668512', 'nova.osapi_compute.wsgi.server [req-32d71807-a737-4853-b385-bed9ed2bfb49 113d3a99c3da401fbd62cc2caa5b96d2 54fadb412c4e40cdbaed9335e4c35a9e - - -] 10.11.10.1 \"GET /v2/54fadb412c4e40cdbaed9335e4c35a9e/servers/detail HTTP/1.1\" RCODE  200 len: 1893 time: 0.2557549', 'nova.osapi_compute.wsgi.server [req-7e7cfc23-3ca0-4da6-905e-2ad3e38efe55 113d3a99c3da401fbd62cc2caa5b96d2 54fadb412c4e40cdbaed9335e4c35a9e - - -] 10.11.10.1 \"GET /v2/54fadb412c4e40cdbaed9335e4c35a9e/servers/detail HTTP/1.1\" HTTP status code -  200 len: 1893 time: 0.2639382', 'nova.osapi_compute.wsgi.server [req-ac21e2d3-1f54-4f11-a629-11fcde3d69a8 113d3a99c3da401fbd62cc2caa5b96d2 54fadb412c4e40cdbaed9335e4c35a9e - - -] 10.11.10.1 \"GET /v2/54fadb412c4e40cdbaed9335e4c35a9e/servers/detail HTTP/1.1\" HTTP status code -  200 len: 1893 time: 0.2522721', 'nova.osapi_compute.wsgi.server [req-7510d7d3-bc52-4241-93ea-b03036f20981 113d3a99c3da401fbd62cc2caa5b96d2 54fadb412c4e40cdbaed9335e4c35a9e - - -] 10.11.10.1 \"GET /v2/54fadb412c4e40cdbaed9335e4c35a9e/servers/detail HTTP/1.1\" RCODE  200 len: 1893 time: 0.2748721', 'nova.osapi_compute.wsgi.server [req-f1165387-31bd-47d0-8401-c94cf986171d f7b8d1f1d4d44643b07fa10ca7d021fb e9746973ac574c6b8a9e8857f56a7608 - - -] 10.11.10.1 \"POST /v2/e9746973ac574c6b8a9e8857f56a7608/os-server-external-events HTTP/1.1\" Return code: 200 len: 380 time: 0.0897720', 'nova.metadata.wsgi.server [req-691a651a-31b1-4d8a-87d4-f6a1577b69fa - - - - -] 10.11.21.129,10.11.10.1 \"GET /openstack/2013-10-17/meta_data.json HTTP/1.1\" Status code -  200 len: 967 time: 0.2376790', 'nova.osapi_compute.wsgi.server [req-20e8e749-e3a8-4213-8093-8c63771bfba2 113d3a99c3da401fbd62cc2caa5b96d2 54fadb412c4e40cdbaed9335e4c35a9e - - -] 10.11.10.1 \"GET /v2/54fadb412c4e40cdbaed9335e4c35a9e/servers/bf8c824d-f099-4433-a41e-e3da7578262e HTTP/1.1\" Return code: 200 len: 1708 time: 0.1956160', 'nova.osapi_compute.wsgi.server [req-4ffeb467-110b-4615-a5a8-11f1ccb2bf27 113d3a99c3da401fbd62cc2caa5b96d2 54fadb412c4e40cdbaed9335e4c35a9e - - -] 10.11.10.1 \"GET /v2/54fadb412c4e40cdbaed9335e4c35a9e/servers/detail HTTP/1.1\" Return code: 200 len: 1893 time: 0.2863061', 'nova.osapi_compute.wsgi.server [req-e133e2c7-a7a8-453c-b34c-ea8e1e300efe 113d3a99c3da401fbd62cc2caa5b96d2 54fadb412c4e40cdbaed9335e4c35a9e - - -] 10.11.10.1 \"GET /v2/54fadb412c4e40cdbaed9335e4c35a9e/servers/fecdd5a9-3ca0-4c82-9336-63b7774f738e HTTP/1.1\" HTTP status code -  200 len: 1708 time: 0.1929550', 'nova.osapi_compute.wsgi.server [req-6edf1bc7-00ce-410b-9215-df6910965afa 113d3a99c3da401fbd62cc2caa5b96d2 54fadb412c4e40cdbaed9335e4c35a9e - - -] 10.11.10.1 \"GET /v2/54fadb412c4e40cdbaed9335e4c35a9e/servers/detail HTTP/1.1\" Status code -  200 len: 1759 time: 0.2856178', 'nova.osapi_compute.wsgi.server [req-c55c1814-b208-4043-9018-b4f8851ac580 113d3a99c3da401fbd62cc2caa5b96d2 54fadb412c4e40cdbaed9335e4c35a9e - - -] 10.11.10.1 \"GET /v2/54fadb412c4e40cdbaed9335e4c35a9e/servers/detail HTTP/1.1\" Return code: 200 len: 1910 time: 0.2735250', 'nova.osapi_compute.wsgi.server [req-77d6ad13-1155-4342-a655-eca5f333bf88 113d3a99c3da401fbd62cc2caa5b96d2 54fadb412c4e40cdbaed9335e4c35a9e - - -] 10.11.10.1 \"GET /v2/54fadb412c4e40cdbaed9335e4c35a9e/servers/detail HTTP/1.1\" HTTP status code -  200 len: 1893 time: 0.3706589', 'nova.osapi_compute.wsgi.server [req-9bc8b0af-864a-421b-a2bc-b0472952e7c1 113d3a99c3da401fbd62cc2caa5b96d2 54fadb412c4e40cdbaed9335e4c35a9e - - -] 10.11.10.1 \"GET /v2/54fadb412c4e40cdbaed9335e4c35a9e/servers/b562ef10-ba2d-48ae-bf4a-18666cba4a51 HTTP/1.1\" RCODE  200 len: 1708 time: 0.2013841', 'nova.osapi_compute.wsgi.server [req-eb2674b8-424e-4647-8551-ac3f76b8158f 113d3a99c3da401fbd62cc2caa5b96d2 54fadb412c4e40cdbaed9335e4c35a9e - - -] 10.11.10.1 \"GET /v2/54fadb412c4e40cdbaed9335e4c35a9e/servers/detail HTTP/1.1\" Status code -  200 len: 1893 time: 0.2697911', 'nova.osapi_compute.wsgi.server [req-103f400e-2e15-4052-9d68-3c1f3be374f6 113d3a99c3da401fbd62cc2caa5b96d2 54fadb412c4e40cdbaed9335e4c35a9e - - -] 10.11.10.1 \"GET /v2/54fadb412c4e40cdbaed9335e4c35a9e/servers/detail HTTP/1.1\" RCODE  200 len: 1893 time: 0.2600908', 'nova.osapi_compute.wsgi.server [req-d473bea3-588a-441a-8b2a-a137806f8786 113d3a99c3da401fbd62cc2caa5b96d2 54fadb412c4e40cdbaed9335e4c35a9e - - -] 10.11.10.1 \"DELETE /v2/54fadb412c4e40cdbaed9335e4c35a9e/servers/96abccce-8d1f-4e07-b6d1-4b2ab87e23b4 HTTP/1.1\" RCODE  204 len: 203 time: 0.2604880', 'nova.osapi_compute.wsgi.server [req-dc39a957-533e-48ec-bdbe-e9483f37cb85 113d3a99c3da401fbd62cc2caa5b96d2 54fadb412c4e40cdbaed9335e4c35a9e - - -] 10.11.10.1 \"GET /v2/54fadb412c4e40cdbaed9335e4c35a9e/servers/detail HTTP/1.1\" RCODE  200 len: 1583 time: 0.2042511', 'nova.osapi_compute.wsgi.server [req-90bee863-254f-4aaa-b399-2a7d15fed576 113d3a99c3da401fbd62cc2caa5b96d2 54fadb412c4e40cdbaed9335e4c35a9e - - -] 10.11.10.1 \"GET /v2/54fadb412c4e40cdbaed9335e4c35a9e/servers/detail HTTP/1.1\" HTTP status code -  200 len: 1893 time: 0.2682898', 'nova.osapi_compute.wsgi.server [req-52403199-280b-4272-82f8-8de3f18c3c47 113d3a99c3da401fbd62cc2caa5b96d2 54fadb412c4e40cdbaed9335e4c35a9e - - -] 10.11.10.1 \"GET /v2/54fadb412c4e40cdbaed9335e4c35a9e/servers/detail HTTP/1.1\" Status code -  200 len: 1893 time: 0.2608440', 'nova.osapi_compute.wsgi.server [req-97738e9d-8df6-4948-89f0-afcd17e1f899 113d3a99c3da401fbd62cc2caa5b96d2 54fadb412c4e40cdbaed9335e4c35a9e - - -] 10.11.10.1 \"GET /v2/54fadb412c4e40cdbaed9335e4c35a9e/servers/detail HTTP/1.1\" RCODE  200 len: 1583 time: 0.1901591', 'nova.osapi_compute.wsgi.server [req-3161b8c0-6350-466b-a9e8-600437e9783c 113d3a99c3da401fbd62cc2caa5b96d2 54fadb412c4e40cdbaed9335e4c35a9e - - -] 10.11.10.1 \"GET /v2/54fadb412c4e40cdbaed9335e4c35a9e/servers/detail HTTP/1.1\" status: 200 len: 1893 time: 0.2472031', 'nova.osapi_compute.wsgi.server [req-4535b71b-250e-41e3-9fef-ea48e83e93d3 113d3a99c3da401fbd62cc2caa5b96d2 54fadb412c4e40cdbaed9335e4c35a9e - - -] 10.11.10.1 \"GET /v2/54fadb412c4e40cdbaed9335e4c35a9e/servers/detail HTTP/1.1\" RCODE  200 len: 1874 time: 0.1995878', 'nova.osapi_compute.wsgi.server [req-868a5460-dbb6-416b-b4c4-a98abae6c847 113d3a99c3da401fbd62cc2caa5b96d2 54fadb412c4e40cdbaed9335e4c35a9e - - -] 10.11.10.1 \"POST /v2/54fadb412c4e40cdbaed9335e4c35a9e/servers HTTP/1.1\" RCODE  202 len: 733 time: 0.4964380', 'nova.osapi_compute.wsgi.server [req-52c0125b-347b-4b3a-88f4-4d87d4f024b3 113d3a99c3da401fbd62cc2caa5b96d2 54fadb412c4e40cdbaed9335e4c35a9e - - -] 10.11.10.1 \"GET /v2/54fadb412c4e40cdbaed9335e4c35a9e/servers/detail HTTP/1.1\" status: 200 len: 1893 time: 0.2426732', 'nova.osapi_compute.wsgi.server [req-be61f06f-fcee-49d3-9438-719cedca6e55 113d3a99c3da401fbd62cc2caa5b96d2 54fadb412c4e40cdbaed9335e4c35a9e - - -] 10.11.10.1 \"GET /v2/54fadb412c4e40cdbaed9335e4c35a9e/servers/detail HTTP/1.1\" status: 200 len: 1893 time: 0.4461639', 'nova.osapi_compute.wsgi.server [req-707b6cbd-f9dd-4e7f-905b-f6cda1e13ce8 113d3a99c3da401fbd62cc2caa5b96d2 54fadb412c4e40cdbaed9335e4c35a9e - - -] 10.11.10.1 \"GET /v2/54fadb412c4e40cdbaed9335e4c35a9e/servers/detail HTTP/1.1\" RCODE  200 len: 1893 time: 0.2474949', 'nova.osapi_compute.wsgi.server [req-623d521c-5e95-47e2-81e4-d6905cb6d4ad 113d3a99c3da401fbd62cc2caa5b96d2 54fadb412c4e40cdbaed9335e4c35a9e - - -] 10.11.10.1 \"GET /v2/54fadb412c4e40cdbaed9335e4c35a9e/servers/detail HTTP/1.1\" RCODE  200 len: 1910 time: 0.2556899', 'nova.osapi_compute.wsgi.server [req-afb01936-1170-4119-9232-5e5ecdaede34 113d3a99c3da401fbd62cc2caa5b96d2 54fadb412c4e40cdbaed9335e4c35a9e - - -] 10.11.10.1 \"GET /v2/54fadb412c4e40cdbaed9335e4c35a9e/servers/detail HTTP/1.1\" HTTP status code -  200 len: 1893 time: 0.2718439', 'nova.metadata.wsgi.server [-] 10.11.21.123,10.11.10.1 \"GET /openstack/2013-10-17 HTTP/1.1\" status: 200 len: 157 time: 0.0019679', 'nova.osapi_compute.wsgi.server [req-0dd87940-76ef-4556-bfb6-3cb42c58fc82 113d3a99c3da401fbd62cc2caa5b96d2 54fadb412c4e40cdbaed9335e4c35a9e - - -] 10.11.10.1 \"GET /v2/54fadb412c4e40cdbaed9335e4c35a9e/servers/detail HTTP/1.1\" HTTP status code -  200 len: 1916 time: 0.2644901', 'nova.osapi_compute.wsgi.server [req-d45c30d9-d550-4192-ae3f-9921a31a99e8 113d3a99c3da401fbd62cc2caa5b96d2 54fadb412c4e40cdbaed9335e4c35a9e - - -] 10.11.10.1 \"GET /v2/54fadb412c4e40cdbaed9335e4c35a9e/servers/c62f4f25-982c-4ea2-b5e4-93000edfcfbf HTTP/1.1\" HTTP status code -  200 len: 1708 time: 0.1990912', 'nova.osapi_compute.wsgi.server [req-c51ad426-c9e8-4939-9e18-3e7b2eaab0db 113d3a99c3da401fbd62cc2caa5b96d2 54fadb412c4e40cdbaed9335e4c35a9e - - -] 10.11.10.1 \"GET /v2/54fadb412c4e40cdbaed9335e4c35a9e/servers/detail HTTP/1.1\" RCODE  200 len: 1893 time: 0.2563319', 'nova.osapi_compute.wsgi.server [req-278d9036-452a-45bc-be2b-ef72034db638 113d3a99c3da401fbd62cc2caa5b96d2 54fadb412c4e40cdbaed9335e4c35a9e - - -] 10.11.10.1 \"GET /v2/54fadb412c4e40cdbaed9335e4c35a9e/servers/detail HTTP/1.1\" RCODE  200 len: 1759 time: 0.2531900', 'nova.osapi_compute.wsgi.server [req-72a5e10c-fdb5-447b-8ece-adf07b6992ac 113d3a99c3da401fbd62cc2caa5b96d2 54fadb412c4e40cdbaed9335e4c35a9e - - -] 10.11.10.1 \"GET /v2/54fadb412c4e40cdbaed9335e4c35a9e/servers/detail HTTP/1.1\" Return code: 200 len: 1893 time: 0.2774739', 'nova.osapi_compute.wsgi.server [req-237bbb72-4dca-4476-879c-60be2ce9a95a 113d3a99c3da401fbd62cc2caa5b96d2 54fadb412c4e40cdbaed9335e4c35a9e - - -] 10.11.10.1 \"GET /v2/54fadb412c4e40cdbaed9335e4c35a9e/servers/detail HTTP/1.1\" Return code: 200 len: 1583 time: 0.2089801', 'nova.osapi_compute.wsgi.server [req-4b4147f6-e5d1-469c-bae0-41d505cc6a89 113d3a99c3da401fbd62cc2caa5b96d2 54fadb412c4e40cdbaed9335e4c35a9e - - -] 10.11.10.1 \"GET /v2/54fadb412c4e40cdbaed9335e4c35a9e/servers/detail HTTP/1.1\" HTTP status code -  200 len: 1893 time: 0.2561631', 'nova.metadata.wsgi.server [req-27525a89-b0a1-4d18-8263-f2bc3079f9dc - - - - -] 10.11.21.140,10.11.10.1 \"GET /openstack/2013-10-17 HTTP/1.1\" RCODE  200 len: 157 time: 0.2332909', 'nova.osapi_compute.wsgi.server [req-0013db4a-a7f2-4013-a135-314a1fbb97e8 113d3a99c3da401fbd62cc2caa5b96d2 54fadb412c4e40cdbaed9335e4c35a9e - - -] 10.11.10.1 \"GET /v2/54fadb412c4e40cdbaed9335e4c35a9e/servers/detail HTTP/1.1\" HTTP status code -  200 len: 1893 time: 0.2449338', 'nova.metadata.wsgi.server [req-89545a1f-55c0-4475-9183-2f74dfc5fb04 - - - - -] 10.11.21.130,10.11.10.1 \"GET /openstack/2013-10-17/vendor_data.json HTTP/1.1\" HTTP status code -  200 len: 124 time: 0.2199168', 'nova.osapi_compute.wsgi.server [req-ff142455-b2d5-4551-ad81-56244e8b4246 113d3a99c3da401fbd62cc2caa5b96d2 54fadb412c4e40cdbaed9335e4c35a9e - - -] 10.11.10.1 \"GET /v2/54fadb412c4e40cdbaed9335e4c35a9e/servers/detail HTTP/1.1\" HTTP status code -  200 len: 1893 time: 0.2751970', 'nova.osapi_compute.wsgi.server [req-45f80172-398a-4dc5-be8b-2d5a3509a95c 113d3a99c3da401fbd62cc2caa5b96d2 54fadb412c4e40cdbaed9335e4c35a9e - - -] 10.11.10.1 \"GET /v2/54fadb412c4e40cdbaed9335e4c35a9e/servers/detail HTTP/1.1\" Return code: 200 len: 1893 time: 0.2740800', 'nova.metadata.wsgi.server [req-cb87c9f0-3bb5-4102-b97e-6066266f5cf9 - - - - -] 10.11.21.126,10.11.10.1 \"GET /openstack/2012-08-10/meta_data.json HTTP/1.1\" Return code: 200 len: 264 time: 0.2225840', 'nova.osapi_compute.wsgi.server [req-f0ebc071-5c5d-4bfa-aea6-9a6d1704b71b 113d3a99c3da401fbd62cc2caa5b96d2 54fadb412c4e40cdbaed9335e4c35a9e - - -] 10.11.10.1 \"GET /v2/54fadb412c4e40cdbaed9335e4c35a9e/servers/detail HTTP/1.1\" RCODE  200 len: 1893 time: 0.2866180', 'nova.osapi_compute.wsgi.server [req-bb193d66-759c-4753-9b98-792dd882f3a0 113d3a99c3da401fbd62cc2caa5b96d2 54fadb412c4e40cdbaed9335e4c35a9e - - -] 10.11.10.1 \"GET /v2/54fadb412c4e40cdbaed9335e4c35a9e/servers/detail HTTP/1.1\" HTTP status code -  200 len: 1893 time: 0.2596231', 'nova.osapi_compute.wsgi.server [req-596345be-48b5-46f8-a2d8-79378eb77a59 113d3a99c3da401fbd62cc2caa5b96d2 54fadb412c4e40cdbaed9335e4c35a9e - - -] 10.11.10.1 \"GET /v2/54fadb412c4e40cdbaed9335e4c35a9e/servers/detail HTTP/1.1\" Return code: 200 len: 1759 time: 0.3028941', 'nova.osapi_compute.wsgi.server [req-7ab32aeb-f03d-4e16-9e0e-b06217f81a83 113d3a99c3da401fbd62cc2caa5b96d2 54fadb412c4e40cdbaed9335e4c35a9e - - -] 10.11.10.1 \"GET /v2/54fadb412c4e40cdbaed9335e4c35a9e/servers/detail HTTP/1.1\" Return code: 200 len: 1893 time: 0.2729750', 'nova.osapi_compute.wsgi.server [req-298721cb-d01e-4dab-9475-518f5471932d 113d3a99c3da401fbd62cc2caa5b96d2 54fadb412c4e40cdbaed9335e4c35a9e - - -] 10.11.10.1 \"GET /v2/54fadb412c4e40cdbaed9335e4c35a9e/servers/detail HTTP/1.1\" RCODE  200 len: 1893 time: 0.4362931', 'nova.osapi_compute.wsgi.server [req-ae99e5e4-fa5f-4574-8b38-e246c01b5d70 113d3a99c3da401fbd62cc2caa5b96d2 54fadb412c4e40cdbaed9335e4c35a9e - - -] 10.11.10.1 \"GET /v2/54fadb412c4e40cdbaed9335e4c35a9e/servers/detail HTTP/1.1\" status: 200 len: 1893 time: 0.2700670', 'nova.metadata.wsgi.server [-] 10.11.21.137,10.11.10.1 \"GET /openstack/2013-10-17 HTTP/1.1\" Status code -  200 len: 157 time: 0.0005910', 'nova.osapi_compute.wsgi.server [req-dedb4b73-18c3-428b-8f65-56390838beef f7b8d1f1d4d44643b07fa10ca7d021fb e9746973ac574c6b8a9e8857f56a7608 - - -] 10.11.10.1 \"POST /v2/e9746973ac574c6b8a9e8857f56a7608/os-server-external-events HTTP/1.1\" HTTP status code -  200 len: 380 time: 0.0901439', 'nova.osapi_compute.wsgi.server [req-d0d1ead8-1065-40d2-a364-2dfde517832d f7b8d1f1d4d44643b07fa10ca7d021fb e9746973ac574c6b8a9e8857f56a7608 - - -] 10.11.10.1 \"POST /v2/e9746973ac574c6b8a9e8857f56a7608/os-server-external-events HTTP/1.1\" RCODE  404 len: 296 time: 0.0970299', 'nova.osapi_compute.wsgi.server [req-5109428d-2e28-4e45-bc21-e205311b0c37 113d3a99c3da401fbd62cc2caa5b96d2 54fadb412c4e40cdbaed9335e4c35a9e - - -] 10.11.10.1 \"GET /v2/54fadb412c4e40cdbaed9335e4c35a9e/servers/detail HTTP/1.1\" RCODE  200 len: 1893 time: 0.2707500', 'nova.osapi_compute.wsgi.server [req-98474cd9-61e1-4afe-bd52-676a577b058f 113d3a99c3da401fbd62cc2caa5b96d2 54fadb412c4e40cdbaed9335e4c35a9e - - -] 10.11.10.1 \"POST /v2/54fadb412c4e40cdbaed9335e4c35a9e/servers HTTP/1.1\" RCODE  202 len: 733 time: 0.6913249', 'nova.metadata.wsgi.server [req-64ef1894-4284-4723-8d5f-4f0d80b1e371 - - - - -] 10.11.21.136,10.11.10.1 \"GET /openstack/2012-08-10/meta_data.json HTTP/1.1\" Status code -  200 len: 264 time: 0.2157998', 'nova.metadata.wsgi.server [-] 10.11.21.131,10.11.10.1 \"GET /openstack/2013-10-17/meta_data.json HTTP/1.1\" Return code: 200 len: 967 time: 0.0012500', 'nova.metadata.wsgi.server [req-624c74d8-31e8-45d2-aa80-bb9b1821399c - - - - -] 10.11.21.140,10.11.10.1 \"GET /openstack/2013-10-17/vendor_data.json HTTP/1.1\" Return code: 200 len: 124 time: 0.2250240', 'nova.osapi_compute.wsgi.server [req-f73e5f36-f74f-4335-831b-820d3996fbd5 113d3a99c3da401fbd62cc2caa5b96d2 54fadb412c4e40cdbaed9335e4c35a9e - - -] 10.11.10.1 \"GET /v2/54fadb412c4e40cdbaed9335e4c35a9e/servers/detail HTTP/1.1\" RCODE  200 len: 1893 time: 0.2643099', 'nova.osapi_compute.wsgi.server [req-d7f4eacc-a714-40ec-8b5b-b43ac80269f1 113d3a99c3da401fbd62cc2caa5b96d2 54fadb412c4e40cdbaed9335e4c35a9e - - -] 10.11.10.1 \"GET /v2/54fadb412c4e40cdbaed9335e4c35a9e/servers/detail HTTP/1.1\" RCODE  200 len: 1893 time: 0.2638071', 'nova.metadata.wsgi.server [req-410908b9-815e-4f81-be5c-3fca98c283de - - - - -] 10.11.21.131,10.11.10.1 \"GET /openstack/2013-10-17/vendor_data.json HTTP/1.1\" Return code: 200 len: 124 time: 0.2301619', 'nova.osapi_compute.wsgi.server [req-3a90789d-5475-4e5d-8013-cfe3f8388818 113d3a99c3da401fbd62cc2caa5b96d2 54fadb412c4e40cdbaed9335e4c35a9e - - -] 10.11.10.1 \"GET /v2/54fadb412c4e40cdbaed9335e4c35a9e/servers/detail HTTP/1.1\" status: 200 len: 1893 time: 0.2747879', 'nova.osapi_compute.wsgi.server [req-15f26609-7890-441c-8de5-d04abd093485 113d3a99c3da401fbd62cc2caa5b96d2 54fadb412c4e40cdbaed9335e4c35a9e - - -] 10.11.10.1 \"GET /v2/54fadb412c4e40cdbaed9335e4c35a9e/servers/detail HTTP/1.1\" RCODE  200 len: 1893 time: 0.2659788', 'nova.osapi_compute.wsgi.server [req-b2aa258b-dbc8-4979-8029-ca24828e3c80 113d3a99c3da401fbd62cc2caa5b96d2 54fadb412c4e40cdbaed9335e4c35a9e - - -] 10.11.10.1 \"GET /v2/54fadb412c4e40cdbaed9335e4c35a9e/servers/detail HTTP/1.1\" Status code -  200 len: 1893 time: 0.2596920', 'nova.osapi_compute.wsgi.server [req-89ca6e78-b521-4038-b5da-c3a9d694d5e1 113d3a99c3da401fbd62cc2caa5b96d2 54fadb412c4e40cdbaed9335e4c35a9e - - -] 10.11.10.1 \"GET /v2/54fadb412c4e40cdbaed9335e4c35a9e/servers/detail HTTP/1.1\" status: 200 len: 1893 time: 0.2878940', 'nova.osapi_compute.wsgi.server [req-d30bc321-f408-400a-9c25-4425620164a0 113d3a99c3da401fbd62cc2caa5b96d2 54fadb412c4e40cdbaed9335e4c35a9e - - -] 10.11.10.1 \"GET /v2/54fadb412c4e40cdbaed9335e4c35a9e/servers/detail HTTP/1.1\" RCODE  200 len: 1910 time: 0.2625270', 'nova.osapi_compute.wsgi.server [req-1ea0f0f5-7810-4564-b77e-b6729aec28e8 113d3a99c3da401fbd62cc2caa5b96d2 54fadb412c4e40cdbaed9335e4c35a9e - - -] 10.11.10.1 \"GET /v2/54fadb412c4e40cdbaed9335e4c35a9e/servers/detail HTTP/1.1\" Status code -  200 len: 1893 time: 0.2678630', 'nova.osapi_compute.wsgi.server [req-2c6c341b-b271-4b81-8187-e4b32d472053 113d3a99c3da401fbd62cc2caa5b96d2 54fadb412c4e40cdbaed9335e4c35a9e - - -] 10.11.10.1 \"GET /v2/54fadb412c4e40cdbaed9335e4c35a9e/servers/detail HTTP/1.1\" Status code -  200 len: 1893 time: 0.2630482', 'nova.osapi_compute.wsgi.server [req-fe088b1d-091d-4469-b624-642a43cf8789 113d3a99c3da401fbd62cc2caa5b96d2 54fadb412c4e40cdbaed9335e4c35a9e - - -] 10.11.10.1 \"GET /v2/54fadb412c4e40cdbaed9335e4c35a9e/servers/detail HTTP/1.1\" Return code: 200 len: 1893 time: 0.4303629', 'nova.osapi_compute.wsgi.server [req-fd70d0b5-7a2d-46ad-a0cb-93b6d93028f9 113d3a99c3da401fbd62cc2caa5b96d2 54fadb412c4e40cdbaed9335e4c35a9e - - -] 10.11.10.1 \"GET /v2/54fadb412c4e40cdbaed9335e4c35a9e/servers/detail HTTP/1.1\" Return code: 200 len: 211 time: 0.0958090', 'nova.osapi_compute.wsgi.server [req-245e4301-a338-44d2-8fdd-3b80b5679f24 113d3a99c3da401fbd62cc2caa5b96d2 54fadb412c4e40cdbaed9335e4c35a9e - - -] 10.11.10.1 \"GET /v2/54fadb412c4e40cdbaed9335e4c35a9e/servers/detail HTTP/1.1\" HTTP status code -  200 len: 1893 time: 0.2575240', 'nova.metadata.wsgi.server [req-920159e6-7067-4753-b15a-8791d87dd456 - - - - -] 10.11.21.129,10.11.10.1 \"GET /openstack/2013-10-17 HTTP/1.1\" RCODE  200 len: 157 time: 0.2278371', 'nova.osapi_compute.wsgi.server [req-ddab777b-9479-4ebb-b0a0-459ea7fd50b7 113d3a99c3da401fbd62cc2caa5b96d2 54fadb412c4e40cdbaed9335e4c35a9e - - -] 10.11.10.1 \"GET /v2/54fadb412c4e40cdbaed9335e4c35a9e/servers/detail HTTP/1.1\" RCODE  200 len: 1893 time: 0.2469411', 'nova.osapi_compute.wsgi.server [req-9023d31d-10a0-4c42-808c-25a63f1f7380 113d3a99c3da401fbd62cc2caa5b96d2 54fadb412c4e40cdbaed9335e4c35a9e - - -] 10.11.10.1 \"GET /v2/54fadb412c4e40cdbaed9335e4c35a9e/servers/detail HTTP/1.1\" Return code: 200 len: 1893 time: 0.2676129', 'nova.osapi_compute.wsgi.server [req-78eed036-ab3e-4482-b5e2-e1e06c5f0951 113d3a99c3da401fbd62cc2caa5b96d2 54fadb412c4e40cdbaed9335e4c35a9e - - -] 10.11.10.1 \"GET /v2/54fadb412c4e40cdbaed9335e4c35a9e/servers/detail HTTP/1.1\" HTTP status code -  200 len: 1583 time: 0.1864619', 'nova.osapi_compute.wsgi.server [req-c6d4eab2-e008-4384-a149-8ff001ca4cb6 113d3a99c3da401fbd62cc2caa5b96d2 54fadb412c4e40cdbaed9335e4c35a9e - - -] 10.11.10.1 \"DELETE /v2/54fadb412c4e40cdbaed9335e4c35a9e/servers/7e7cc42f-3cb9-4d91-804c-f5a32d54f1c5 HTTP/1.1\" HTTP status code -  204 len: 203 time: 0.2801199', 'nova.osapi_compute.wsgi.server [req-37d41a3b-e45c-4972-b4a4-0812e63e3da0 113d3a99c3da401fbd62cc2caa5b96d2 54fadb412c4e40cdbaed9335e4c35a9e - - -] 10.11.10.1 \"GET /v2/54fadb412c4e40cdbaed9335e4c35a9e/servers/detail HTTP/1.1\" RCODE  200 len: 1893 time: 0.2627749', 'nova.metadata.wsgi.server [req-e420b0c2-4377-47db-85dc-dec44f304472 - - - - -] 10.11.21.125,10.11.10.1 \"GET /openstack/2013-10-17/vendor_data.json HTTP/1.1\" Return code: 200 len: 124 time: 0.2296579', 'nova.osapi_compute.wsgi.server [req-f6913476-4049-499b-ba84-2c7dd2640cbd 113d3a99c3da401fbd62cc2caa5b96d2 54fadb412c4e40cdbaed9335e4c35a9e - - -] 10.11.10.1 \"GET /v2/54fadb412c4e40cdbaed9335e4c35a9e/servers/detail HTTP/1.1\" Return code: 200 len: 1893 time: 0.2802150', 'nova.osapi_compute.wsgi.server [req-db18b8a9-ee02-437c-840b-5ef03afab0cc 113d3a99c3da401fbd62cc2caa5b96d2 54fadb412c4e40cdbaed9335e4c35a9e - - -] 10.11.10.1 \"GET /v2/54fadb412c4e40cdbaed9335e4c35a9e/servers/detail HTTP/1.1\" RCODE  200 len: 1893 time: 0.2491229', 'nova.osapi_compute.wsgi.server [req-83ca2d84-6122-4f81-9183-523acb70934b 113d3a99c3da401fbd62cc2caa5b96d2 54fadb412c4e40cdbaed9335e4c35a9e - - -] 10.11.10.1 \"GET /v2/54fadb412c4e40cdbaed9335e4c35a9e/servers/detail HTTP/1.1\" Return code: 200 len: 1910 time: 0.2722361', 'nova.osapi_compute.wsgi.server [req-3ce8c6ef-a314-44fc-84ba-752e2f6cadde 113d3a99c3da401fbd62cc2caa5b96d2 54fadb412c4e40cdbaed9335e4c35a9e - - -] 10.11.10.1 \"GET /v2/54fadb412c4e40cdbaed9335e4c35a9e/servers/detail HTTP/1.1\" Return code: 200 len: 1893 time: 0.3656721', 'nova.osapi_compute.wsgi.server [req-f32a2c19-2c81-45f7-8506-f8e539929139 113d3a99c3da401fbd62cc2caa5b96d2 54fadb412c4e40cdbaed9335e4c35a9e - - -] 10.11.10.1 \"GET /v2/54fadb412c4e40cdbaed9335e4c35a9e/servers/detail HTTP/1.1\" HTTP status code -  200 len: 1910 time: 0.2687280', 'nova.metadata.wsgi.server [req-ed0b5830-26a8-4484-8164-feaebe737259 - - - - -] 10.11.21.122,10.11.10.1 \"GET /openstack/2013-10-17/vendor_data.json HTTP/1.1\" RCODE  200 len: 124 time: 0.2368760', 'nova.osapi_compute.wsgi.server [req-1271f5ec-7a4e-4176-b507-2fc69a6142c9 113d3a99c3da401fbd62cc2caa5b96d2 54fadb412c4e40cdbaed9335e4c35a9e - - -] 10.11.10.1 \"GET /v2/54fadb412c4e40cdbaed9335e4c35a9e/servers/detail HTTP/1.1\" RCODE  200 len: 1893 time: 0.2703741', 'nova.osapi_compute.wsgi.server [req-e28bae73-ef07-429a-af86-3b7b89a80422 113d3a99c3da401fbd62cc2caa5b96d2 54fadb412c4e40cdbaed9335e4c35a9e - - -] 10.11.10.1 \"GET /v2/54fadb412c4e40cdbaed9335e4c35a9e/servers/detail HTTP/1.1\" Return code: 200 len: 1893 time: 0.2702570', 'nova.osapi_compute.wsgi.server [req-5b3396e6-da74-4756-8c45-fb22ed4200f4 113d3a99c3da401fbd62cc2caa5b96d2 54fadb412c4e40cdbaed9335e4c35a9e - - -] 10.11.10.1 \"GET /v2/54fadb412c4e40cdbaed9335e4c35a9e/servers/detail HTTP/1.1\" Status code -  200 len: 1893 time: 0.2566571', 'nova.osapi_compute.wsgi.server [req-d083d3b6-88a1-4af0-b0ff-8adc0dfea774 113d3a99c3da401fbd62cc2caa5b96d2 54fadb412c4e40cdbaed9335e4c35a9e - - -] 10.11.10.1 \"GET /v2/54fadb412c4e40cdbaed9335e4c35a9e/servers/detail HTTP/1.1\" RCODE  200 len: 1893 time: 0.2661309', 'nova.osapi_compute.wsgi.server [req-acb68414-8b02-462e-b5e0-0f35e15e1e69 113d3a99c3da401fbd62cc2caa5b96d2 54fadb412c4e40cdbaed9335e4c35a9e - - -] 10.11.10.1 \"GET /v2/54fadb412c4e40cdbaed9335e4c35a9e/servers/detail HTTP/1.1\" status: 200 len: 1893 time: 0.2575791', 'nova.osapi_compute.wsgi.server [req-edac629f-a08b-4501-9863-97a32c6c9baf 113d3a99c3da401fbd62cc2caa5b96d2 54fadb412c4e40cdbaed9335e4c35a9e - - -] 10.11.10.1 \"GET /v2/54fadb412c4e40cdbaed9335e4c35a9e/servers/detail HTTP/1.1\" Status code -  200 len: 1893 time: 0.2707181', 'nova.osapi_compute.wsgi.server [req-9f9bea16-b6b9-45e6-8fd7-83cb41c5db6d 113d3a99c3da401fbd62cc2caa5b96d2 54fadb412c4e40cdbaed9335e4c35a9e - - -] 10.11.10.1 \"GET /v2/54fadb412c4e40cdbaed9335e4c35a9e/servers/detail HTTP/1.1\" status: 200 len: 1893 time: 0.2717772', 'nova.metadata.wsgi.server [-] 10.11.21.132,10.11.10.1 \"GET /latest/meta-data/security-groups HTTP/1.1\" RCODE  200 len: 123 time: 0.0007679', 'nova.osapi_compute.wsgi.server [req-6a27e91d-9c9c-4b48-ade9-853fc2a05d1a 113d3a99c3da401fbd62cc2caa5b96d2 54fadb412c4e40cdbaed9335e4c35a9e - - -] 10.11.10.1 \"GET /v2/54fadb412c4e40cdbaed9335e4c35a9e/servers/detail HTTP/1.1\" RCODE  200 len: 1893 time: 0.2558961', 'nova.osapi_compute.wsgi.server [req-06221192-6331-4531-8e2a-f6f1041ea6a9 113d3a99c3da401fbd62cc2caa5b96d2 54fadb412c4e40cdbaed9335e4c35a9e - - -] 10.11.10.1 \"GET /v2/54fadb412c4e40cdbaed9335e4c35a9e/servers/detail HTTP/1.1\" status: 200 len: 1893 time: 0.2682462', 'nova.osapi_compute.wsgi.server [req-066e2f4a-435d-4939-84c5-f74916ccecb1 113d3a99c3da401fbd62cc2caa5b96d2 54fadb412c4e40cdbaed9335e4c35a9e - - -] 10.11.10.1 \"GET /v2/54fadb412c4e40cdbaed9335e4c35a9e/servers/detail HTTP/1.1\" HTTP status code -  200 len: 1916 time: 0.3046119', 'nova.metadata.wsgi.server [-] 10.11.21.129,10.11.10.1 \"GET /latest/meta-data/block-device-mapping/ HTTP/1.1\" HTTP status code -  200 len: 124 time: 0.0010171', 'nova.osapi_compute.wsgi.server [req-b205f1b9-cbfe-4e2a-9ba7-37286386e48c 113d3a99c3da401fbd62cc2caa5b96d2 54fadb412c4e40cdbaed9335e4c35a9e - - -] 10.11.10.1 \"GET /v2/54fadb412c4e40cdbaed9335e4c35a9e/servers/detail HTTP/1.1\" status: 200 len: 1893 time: 0.2615452', 'nova.osapi_compute.wsgi.server [req-137d902f-6187-4b26-a6e2-9b16f72e5f89 113d3a99c3da401fbd62cc2caa5b96d2 54fadb412c4e40cdbaed9335e4c35a9e - - -] 10.11.10.1 \"GET /v2/54fadb412c4e40cdbaed9335e4c35a9e/servers/detail HTTP/1.1\" Status code -  200 len: 1893 time: 0.2673008', 'nova.osapi_compute.wsgi.server [req-4581b3d6-dfb3-4463-be9b-bff865be3b7c 113d3a99c3da401fbd62cc2caa5b96d2 54fadb412c4e40cdbaed9335e4c35a9e - - -] 10.11.10.1 \"GET /v2/54fadb412c4e40cdbaed9335e4c35a9e/servers/detail HTTP/1.1\" RCODE  200 len: 1575 time: 0.1811130', 'nova.osapi_compute.wsgi.server [req-94d476af-a264-46bc-81cb-b42d00ee2d0f 113d3a99c3da401fbd62cc2caa5b96d2 54fadb412c4e40cdbaed9335e4c35a9e - - -] 10.11.10.1 \"GET /v2/54fadb412c4e40cdbaed9335e4c35a9e/servers/detail HTTP/1.1\" Status code -  200 len: 1916 time: 0.2735779', 'nova.osapi_compute.wsgi.server [req-2a243770-f5c3-4a9b-8bd5-13063d31a644 113d3a99c3da401fbd62cc2caa5b96d2 54fadb412c4e40cdbaed9335e4c35a9e - - -] 10.11.10.1 \"GET /v2/54fadb412c4e40cdbaed9335e4c35a9e/servers/detail HTTP/1.1\" HTTP status code -  200 len: 1893 time: 0.2696431', 'nova.osapi_compute.wsgi.server [req-c7adc0ec-5ebd-40c7-9575-2cec6db128b4 113d3a99c3da401fbd62cc2caa5b96d2 54fadb412c4e40cdbaed9335e4c35a9e - - -] 10.11.10.1 \"GET /v2/54fadb412c4e40cdbaed9335e4c35a9e/servers/detail HTTP/1.1\" HTTP status code -  200 len: 1893 time: 0.2399089', 'nova.metadata.wsgi.server [req-7fd3da99-a9b0-4dec-8a14-37be960fd707 - - - - -] 10.11.21.139,10.11.10.1 \"GET /latest/meta-data/block-device-mapping/ HTTP/1.1\" HTTP status code -  200 len: 124 time: 0.2223170', 'nova.osapi_compute.wsgi.server [req-a06fae15-859f-4608-a340-3185fa888bac 113d3a99c3da401fbd62cc2caa5b96d2 54fadb412c4e40cdbaed9335e4c35a9e - - -] 10.11.10.1 \"GET /v2/54fadb412c4e40cdbaed9335e4c35a9e/servers/detail HTTP/1.1\" Return code: 200 len: 1910 time: 0.2621021', 'nova.osapi_compute.wsgi.server [req-9397f963-fad4-47eb-96e8-39f4f4552343 113d3a99c3da401fbd62cc2caa5b96d2 54fadb412c4e40cdbaed9335e4c35a9e - - -] 10.11.10.1 \"GET /v2/54fadb412c4e40cdbaed9335e4c35a9e/servers/detail HTTP/1.1\" Return code: 200 len: 1893 time: 0.2735012', 'nova.osapi_compute.wsgi.server [req-60c3da91-bd1c-4693-991e-fa3580fa22c2 113d3a99c3da401fbd62cc2caa5b96d2 54fadb412c4e40cdbaed9335e4c35a9e - - -] 10.11.10.1 \"GET /v2/54fadb412c4e40cdbaed9335e4c35a9e/servers/detail HTTP/1.1\" Return code: 200 len: 1893 time: 0.2722521', 'nova.osapi_compute.wsgi.server [req-ec851719-5052-4fee-8b0a-3c33b586efd1 d16a600c5e2a47fe98aee00ee4cb9743 e9746973ac574c6b8a9e8857f56a7608 - - -] 10.11.10.1 \"GET /v2/e9746973ac574c6b8a9e8857f56a7608/servers/detail?all_tenants=True&changes-since=2017-05-16T05%3A54%3A58.530160%2B00%3A00 HTTP/1.1\" RCODE  200 len: 23370 time: 0.3273299', 'nova.osapi_compute.wsgi.server [req-912661ba-4a2e-4f08-9b80-ad089e9b411c 113d3a99c3da401fbd62cc2caa5b96d2 54fadb412c4e40cdbaed9335e4c35a9e - - -] 10.11.10.1 \"GET /v2/54fadb412c4e40cdbaed9335e4c35a9e/servers/detail HTTP/1.1\" Status code -  200 len: 1893 time: 0.2634768', 'nova.osapi_compute.wsgi.server [req-a0e8716b-4556-4eda-8b06-0b9b11f65e74 113d3a99c3da401fbd62cc2caa5b96d2 54fadb412c4e40cdbaed9335e4c35a9e - - -] 10.11.10.1 \"GET /v2/54fadb412c4e40cdbaed9335e4c35a9e/servers/detail HTTP/1.1\" HTTP status code -  200 len: 1893 time: 0.2657661', 'nova.osapi_compute.wsgi.server [req-ccf53bd0-3d1f-4951-858c-c5b0416e7ccf 113d3a99c3da401fbd62cc2caa5b96d2 54fadb412c4e40cdbaed9335e4c35a9e - - -] 10.11.10.1 \"GET /v2/54fadb412c4e40cdbaed9335e4c35a9e/servers/detail HTTP/1.1\" HTTP status code -  200 len: 1893 time: 0.2638359', 'nova.metadata.wsgi.server [-] 10.11.21.138,10.11.10.1 \"GET /openstack/2013-10-17/user_data HTTP/1.1\" RCODE  404 len: 176 time: 0.0009220', 'nova.osapi_compute.wsgi.server [req-d6986b54-3735-4a42-9074-0ba7d9717de9 113d3a99c3da401fbd62cc2caa5b96d2 54fadb412c4e40cdbaed9335e4c35a9e - - -] 10.11.10.1 \"POST /v2/54fadb412c4e40cdbaed9335e4c35a9e/servers HTTP/1.1\" HTTP status code -  202 len: 733 time: 0.5000288', 'nova.osapi_compute.wsgi.server [req-afa4d0e3-8b30-49a5-a9b8-4048c7d3b6d9 113d3a99c3da401fbd62cc2caa5b96d2 54fadb412c4e40cdbaed9335e4c35a9e - - -] 10.11.10.1 \"GET /v2/54fadb412c4e40cdbaed9335e4c35a9e/servers/detail HTTP/1.1\" status: 200 len: 1893 time: 0.2591708', 'nova.osapi_compute.wsgi.server [req-1a086eaf-4641-48d5-bcd7-32c91302df8f 113d3a99c3da401fbd62cc2caa5b96d2 54fadb412c4e40cdbaed9335e4c35a9e - - -] 10.11.10.1 \"GET /v2/54fadb412c4e40cdbaed9335e4c35a9e/servers/detail HTTP/1.1\" Return code: 200 len: 1893 time: 0.2569268', 'nova.osapi_compute.wsgi.server [req-b7948826-c8b0-4d2c-9933-1580f19fdf93 113d3a99c3da401fbd62cc2caa5b96d2 54fadb412c4e40cdbaed9335e4c35a9e - - -] 10.11.10.1 \"GET /v2/54fadb412c4e40cdbaed9335e4c35a9e/servers/detail HTTP/1.1\" Return code: 200 len: 1575 time: 0.1955159', 'nova.osapi_compute.wsgi.server [req-db6932df-e3e8-4798-b123-2e0ee6a8999b 113d3a99c3da401fbd62cc2caa5b96d2 54fadb412c4e40cdbaed9335e4c35a9e - - -] 10.11.10.1 \"GET /v2/54fadb412c4e40cdbaed9335e4c35a9e/servers/detail HTTP/1.1\" Return code: 200 len: 1893 time: 0.2623498', 'nova.osapi_compute.wsgi.server [req-deb750c5-cf92-4e47-b828-298d46ee7b78 113d3a99c3da401fbd62cc2caa5b96d2 54fadb412c4e40cdbaed9335e4c35a9e - - -] 10.11.10.1 \"GET /v2/54fadb412c4e40cdbaed9335e4c35a9e/servers/detail HTTP/1.1\" Return code: 200 len: 1893 time: 0.2659440', 'nova.metadata.wsgi.server [-] 10.11.21.132,10.11.10.1 \"GET /latest/meta-data/local-ipv4 HTTP/1.1\" HTTP status code -  200 len: 129 time: 0.0006690', 'nova.osapi_compute.wsgi.server [req-8f929d23-bb12-4951-9b49-f8df8837aa5e 113d3a99c3da401fbd62cc2caa5b96d2 54fadb412c4e40cdbaed9335e4c35a9e - - -] 10.11.10.1 \"GET /v2/54fadb412c4e40cdbaed9335e4c35a9e/servers/detail HTTP/1.1\" Return code: 200 len: 1910 time: 0.2870619', 'nova.osapi_compute.wsgi.server [req-0350bc90-73e4-414f-8f4a-b2640e1cde69 113d3a99c3da401fbd62cc2caa5b96d2 54fadb412c4e40cdbaed9335e4c35a9e - - -] 10.11.10.1 \"GET /v2/54fadb412c4e40cdbaed9335e4c35a9e/servers/detail HTTP/1.1\" HTTP status code -  200 len: 1759 time: 0.2935462', 'nova.metadata.wsgi.server [req-1cbcfc19-86a6-45ba-be47-f13c3af17b9e - - - - -] 10.11.21.127,10.11.10.1 \"GET /openstack/2013-10-17 HTTP/1.1\" HTTP status code -  200 len: 157 time: 0.2243600', 'nova.osapi_compute.wsgi.server [req-2e68b02f-6c9b-4ff6-86ae-96c9bfd618c5 113d3a99c3da401fbd62cc2caa5b96d2 54fadb412c4e40cdbaed9335e4c35a9e - - -] 10.11.10.1 \"GET /v2/54fadb412c4e40cdbaed9335e4c35a9e/servers/detail HTTP/1.1\" Status code -  200 len: 1893 time: 0.4313569', 'nova.osapi_compute.wsgi.server [req-42da7b86-cc4f-4a8d-b40a-2970b44b2293 113d3a99c3da401fbd62cc2caa5b96d2 54fadb412c4e40cdbaed9335e4c35a9e - - -] 10.11.10.1 \"GET /v2/54fadb412c4e40cdbaed9335e4c35a9e/servers/faf974ea-cba5-4e1b-93f4-3a3bc606006f HTTP/1.1\" Return code: 200 len: 1708 time: 0.1894400', 'nova.osapi_compute.wsgi.server [req-caeb3818-dab6-4e8d-9ea6-aceb23905ebc 113d3a99c3da401fbd62cc2caa5b96d2 54fadb412c4e40cdbaed9335e4c35a9e - - -] 10.11.10.1 \"POST /v2/54fadb412c4e40cdbaed9335e4c35a9e/servers HTTP/1.1\" RCODE  202 len: 733 time: 0.4586949', 'nova.osapi_compute.wsgi.server [req-355185de-7074-4448-a197-a632db9c5cbd 113d3a99c3da401fbd62cc2caa5b96d2 54fadb412c4e40cdbaed9335e4c35a9e - - -] 10.11.10.1 \"GET /v2/54fadb412c4e40cdbaed9335e4c35a9e/servers/detail HTTP/1.1\" RCODE  200 len: 1893 time: 0.2717261', 'nova.osapi_compute.wsgi.server [req-2e5c7471-1bfb-4634-8a87-aeef024c256d 113d3a99c3da401fbd62cc2caa5b96d2 54fadb412c4e40cdbaed9335e4c35a9e - - -] 10.11.10.1 \"GET /v2/54fadb412c4e40cdbaed9335e4c35a9e/servers/detail HTTP/1.1\" Return code: 200 len: 1893 time: 0.2524278', 'nova.osapi_compute.wsgi.server [req-4f5d8a7d-8353-4f98-983f-bd0854bea276 113d3a99c3da401fbd62cc2caa5b96d2 54fadb412c4e40cdbaed9335e4c35a9e - - -] 10.11.10.1 \"GET /v2/54fadb412c4e40cdbaed9335e4c35a9e/servers/detail HTTP/1.1\" Return code: 200 len: 1893 time: 0.2724411', 'nova.metadata.wsgi.server [-] 10.11.21.129,10.11.10.1 \"GET /openstack/2013-10-17/user_data HTTP/1.1\" status: 404 len: 176 time: 0.0006950', 'nova.osapi_compute.wsgi.server [req-d7e60bdc-85aa-4e2f-b45c-82adbb1a5a4e 113d3a99c3da401fbd62cc2caa5b96d2 54fadb412c4e40cdbaed9335e4c35a9e - - -] 10.11.10.1 \"GET /v2/54fadb412c4e40cdbaed9335e4c35a9e/servers/detail HTTP/1.1\" Status code -  200 len: 1759 time: 0.2857559', 'nova.osapi_compute.wsgi.server [req-8720bc4b-6afa-4ed0-8211-0a1c4eeb3626 113d3a99c3da401fbd62cc2caa5b96d2 54fadb412c4e40cdbaed9335e4c35a9e - - -] 10.11.10.1 \"GET /v2/54fadb412c4e40cdbaed9335e4c35a9e/servers/detail HTTP/1.1\" status: 200 len: 1893 time: 0.2753210', 'nova.osapi_compute.wsgi.server [req-5e19ca64-9d79-46dc-af69-0bfe959dadd6 113d3a99c3da401fbd62cc2caa5b96d2 54fadb412c4e40cdbaed9335e4c35a9e - - -] 10.11.10.1 \"GET /v2/54fadb412c4e40cdbaed9335e4c35a9e/servers/detail HTTP/1.1\" HTTP status code -  200 len: 1893 time: 0.2620330', 'nova.metadata.wsgi.server [req-bcebb9de-a387-44e2-b784-db819fff540d - - - - -] 10.11.21.133,10.11.10.1 \"GET /openstack/2012-08-10/meta_data.json HTTP/1.1\" RCODE  200 len: 264 time: 0.2296522', 'nova.metadata.wsgi.server [-] 10.11.21.141,10.11.10.1 \"GET /openstack/2013-10-17/meta_data.json HTTP/1.1\" Status code -  200 len: 967 time: 0.0013518', 'nova.osapi_compute.wsgi.server [req-f34ca27d-611a-4561-9ed2-e54664bf0514 f7b8d1f1d4d44643b07fa10ca7d021fb e9746973ac574c6b8a9e8857f56a7608 - - -] 10.11.10.1 \"POST /v2/e9746973ac574c6b8a9e8857f56a7608/os-server-external-events HTTP/1.1\" Return code: 404 len: 296 time: 0.0926130', 'nova.metadata.wsgi.server [req-cf86bdeb-2809-46ac-a163-99450b2985aa - - - - -] 10.11.21.141,10.11.10.1 \"GET /latest/meta-data/ HTTP/1.1\" RCODE  200 len: 328 time: 0.2267661', 'nova.osapi_compute.wsgi.server [req-cc4f8ca6-e412-41c5-b196-f1390dba7faf 113d3a99c3da401fbd62cc2caa5b96d2 54fadb412c4e40cdbaed9335e4c35a9e - - -] 10.11.10.1 \"GET /v2/54fadb412c4e40cdbaed9335e4c35a9e/servers/detail HTTP/1.1\" RCODE  200 len: 211 time: 0.0934021', 'nova.osapi_compute.wsgi.server [req-4c5a4bf8-3ffd-47e6-bd27-6cc8aa71b618 f7b8d1f1d4d44643b07fa10ca7d021fb e9746973ac574c6b8a9e8857f56a7608 - - -] 10.11.10.1 \"POST /v2/e9746973ac574c6b8a9e8857f56a7608/os-server-external-events HTTP/1.1\" HTTP status code -  200 len: 380 time: 0.1034019', 'nova.osapi_compute.wsgi.server [req-ac940fc4-e12a-4d3d-b262-e8ae3afad120 113d3a99c3da401fbd62cc2caa5b96d2 54fadb412c4e40cdbaed9335e4c35a9e - - -] 10.11.10.1 \"GET /v2/54fadb412c4e40cdbaed9335e4c35a9e/servers/detail HTTP/1.1\" HTTP status code -  200 len: 1874 time: 0.2029028', 'nova.osapi_compute.wsgi.server [req-6cbb36b7-bd0e-4336-8e06-af3b2951e446 113d3a99c3da401fbd62cc2caa5b96d2 54fadb412c4e40cdbaed9335e4c35a9e - - -] 10.11.10.1 \"GET /v2/54fadb412c4e40cdbaed9335e4c35a9e/servers/detail HTTP/1.1\" HTTP status code -  200 len: 1893 time: 0.2498651', 'nova.osapi_compute.wsgi.server [req-2bef14f0-3254-4098-8d7c-b319eebbd43e 113d3a99c3da401fbd62cc2caa5b96d2 54fadb412c4e40cdbaed9335e4c35a9e - - -] 10.11.10.1 \"GET /v2/54fadb412c4e40cdbaed9335e4c35a9e/servers/detail HTTP/1.1\" HTTP status code -  200 len: 1893 time: 0.2710969', 'nova.metadata.wsgi.server [req-b40b44ea-c721-4bc4-b1cd-bb238982ede4 - - - - -] 10.11.21.122,10.11.10.1 \"GET /openstack/2012-08-10/meta_data.json HTTP/1.1\" RCODE  200 len: 264 time: 0.2451560', 'nova.metadata.wsgi.server [-] 10.11.21.131,10.11.10.1 \"GET /openstack/2013-10-17/user_data HTTP/1.1\" HTTP status code -  404 len: 176 time: 0.0015490', 'nova.osapi_compute.wsgi.server [req-0a48ad90-076f-4367-9334-0b865814f9dd 113d3a99c3da401fbd62cc2caa5b96d2 54fadb412c4e40cdbaed9335e4c35a9e - - -] 10.11.10.1 \"GET /v2/54fadb412c4e40cdbaed9335e4c35a9e/servers/detail HTTP/1.1\" HTTP status code -  200 len: 1893 time: 0.2591650', 'nova.metadata.wsgi.server [-] 10.11.21.139,10.11.10.1 \"GET /openstack/2013-10-17/user_data HTTP/1.1\" RCODE  404 len: 176 time: 0.0010579', 'nova.metadata.wsgi.server [req-7ef5f130-fbae-4370-ad20-07c0ce5d475e - - - - -] 10.11.21.139,10.11.10.1 \"GET /latest/meta-data/block-device-mapping/root HTTP/1.1\" status: 200 len: 124 time: 0.2165668', 'nova.osapi_compute.wsgi.server [req-68e17e36-b9b8-4b5d-9096-6bd81ce33bbc 113d3a99c3da401fbd62cc2caa5b96d2 54fadb412c4e40cdbaed9335e4c35a9e - - -] 10.11.10.1 \"GET /v2/54fadb412c4e40cdbaed9335e4c35a9e/servers/detail HTTP/1.1\" RCODE  200 len: 1893 time: 0.2648020', 'nova.osapi_compute.wsgi.server [req-5060aaf4-0f21-48ed-892a-9f8918c76841 113d3a99c3da401fbd62cc2caa5b96d2 54fadb412c4e40cdbaed9335e4c35a9e - - -] 10.11.10.1 \"GET /v2/54fadb412c4e40cdbaed9335e4c35a9e/servers/detail HTTP/1.1\" RCODE  200 len: 1893 time: 0.2708540', 'nova.osapi_compute.wsgi.server [req-7c98765b-5005-4eb1-b863-0e66d8c312c4 113d3a99c3da401fbd62cc2caa5b96d2 54fadb412c4e40cdbaed9335e4c35a9e - - -] 10.11.10.1 \"DELETE /v2/54fadb412c4e40cdbaed9335e4c35a9e/servers/af5f7392-f7d4-4298-b647-c98924c64aa1 HTTP/1.1\" HTTP status code -  204 len: 203 time: 0.2809131', 'nova.osapi_compute.wsgi.server [req-17d97474-1552-40e1-b424-7de7e498d150 113d3a99c3da401fbd62cc2caa5b96d2 54fadb412c4e40cdbaed9335e4c35a9e - - -] 10.11.10.1 \"GET /v2/54fadb412c4e40cdbaed9335e4c35a9e/servers/detail HTTP/1.1\" HTTP status code -  200 len: 1893 time: 0.2607520', 'nova.osapi_compute.wsgi.server [req-44948c02-9c44-4f95-b4dd-08d7e4df65da 113d3a99c3da401fbd62cc2caa5b96d2 54fadb412c4e40cdbaed9335e4c35a9e - - -] 10.11.10.1 \"GET /v2/54fadb412c4e40cdbaed9335e4c35a9e/servers/detail HTTP/1.1\" RCODE  200 len: 1893 time: 0.2457120', 'nova.osapi_compute.wsgi.server [req-493775eb-1dd2-40ef-b924-0bf937b83836 113d3a99c3da401fbd62cc2caa5b96d2 54fadb412c4e40cdbaed9335e4c35a9e - - -] 10.11.10.1 \"GET /v2/54fadb412c4e40cdbaed9335e4c35a9e/servers/detail HTTP/1.1\" HTTP status code -  200 len: 1893 time: 0.2762039', 'nova.osapi_compute.wsgi.server [req-07bc4660-d894-4b67-8bb7-0b1ebe315af2 113d3a99c3da401fbd62cc2caa5b96d2 54fadb412c4e40cdbaed9335e4c35a9e - - -] 10.11.10.1 \"GET /v2/54fadb412c4e40cdbaed9335e4c35a9e/servers/95960536-049b-41f6-9049-05fc479b6a7c HTTP/1.1\" Return code: 200 len: 1708 time: 0.1721809', 'nova.osapi_compute.wsgi.server [req-3c7d7e41-e930-4301-9889-6509c7142e16 113d3a99c3da401fbd62cc2caa5b96d2 54fadb412c4e40cdbaed9335e4c35a9e - - -] 10.11.10.1 \"GET /v2/54fadb412c4e40cdbaed9335e4c35a9e/servers/detail HTTP/1.1\" status: 200 len: 1910 time: 0.2694650', 'nova.metadata.wsgi.server [req-972078d5-4e3b-4133-b562-d6d29d9c0110 - - - - -] 10.11.21.135,10.11.10.1 \"GET /openstack/2013-10-17/vendor_data.json HTTP/1.1\" RCODE  200 len: 124 time: 0.2238431', 'nova.osapi_compute.wsgi.server [req-09b59776-544a-4963-b0ae-b19efe78d211 113d3a99c3da401fbd62cc2caa5b96d2 54fadb412c4e40cdbaed9335e4c35a9e - - -] 10.11.10.1 \"GET /v2/54fadb412c4e40cdbaed9335e4c35a9e/servers/detail HTTP/1.1\" Return code: 200 len: 1893 time: 0.2686541', 'nova.metadata.wsgi.server [req-5de0f721-212b-46b8-81df-fb28eaafb152 - - - - -] 10.11.21.139,10.11.10.1 \"GET /openstack/2013-10-17/vendor_data.json HTTP/1.1\" Return code: 200 len: 124 time: 0.2188199', 'nova.osapi_compute.wsgi.server [req-e6e405d0-64f1-4959-b359-ba64936c6144 113d3a99c3da401fbd62cc2caa5b96d2 54fadb412c4e40cdbaed9335e4c35a9e - - -] 10.11.10.1 \"GET /v2/54fadb412c4e40cdbaed9335e4c35a9e/servers/detail HTTP/1.1\" HTTP status code -  200 len: 1893 time: 0.2754779', 'nova.osapi_compute.wsgi.server [req-39477c65-5728-4dd9-8e3e-d8c89db36e91 113d3a99c3da401fbd62cc2caa5b96d2 54fadb412c4e40cdbaed9335e4c35a9e - - -] 10.11.10.1 \"GET /v2/54fadb412c4e40cdbaed9335e4c35a9e/servers/detail HTTP/1.1\" Status code -  200 len: 1893 time: 0.3852520', 'nova.osapi_compute.wsgi.server [req-d133dda3-dd32-4846-bca9-96dfeb3e9657 113d3a99c3da401fbd62cc2caa5b96d2 54fadb412c4e40cdbaed9335e4c35a9e - - -] 10.11.10.1 \"GET /v2/54fadb412c4e40cdbaed9335e4c35a9e/servers/detail HTTP/1.1\" Return code: 200 len: 1893 time: 0.2688291', 'nova.osapi_compute.wsgi.server [req-5daeb01c-10d3-4b9c-bf66-8a5171be5f2b 113d3a99c3da401fbd62cc2caa5b96d2 54fadb412c4e40cdbaed9335e4c35a9e - - -] 10.11.10.1 \"GET /v2/54fadb412c4e40cdbaed9335e4c35a9e/servers/detail HTTP/1.1\" status: 200 len: 1910 time: 0.2753000', 'nova.osapi_compute.wsgi.server [req-49348d37-0ea0-4804-b3d1-fe84b2fdfa12 113d3a99c3da401fbd62cc2caa5b96d2 54fadb412c4e40cdbaed9335e4c35a9e - - -] 10.11.10.1 \"GET /v2/54fadb412c4e40cdbaed9335e4c35a9e/servers/detail HTTP/1.1\" RCODE  200 len: 1583 time: 0.2927220', 'nova.metadata.wsgi.server [-] 10.11.21.140,10.11.10.1 \"GET /openstack/2013-10-17/meta_data.json HTTP/1.1\" Status code -  200 len: 967 time: 0.0032220', 'nova.osapi_compute.wsgi.server [req-e965c8a8-1a85-4bb4-9103-fb8227b10886 113d3a99c3da401fbd62cc2caa5b96d2 54fadb412c4e40cdbaed9335e4c35a9e - - -] 10.11.10.1 \"GET /v2/54fadb412c4e40cdbaed9335e4c35a9e/servers/detail HTTP/1.1\" RCODE  200 len: 1893 time: 0.2633300', 'nova.osapi_compute.wsgi.server [req-308202e3-7228-440e-aa2e-70558059a68b 113d3a99c3da401fbd62cc2caa5b96d2 54fadb412c4e40cdbaed9335e4c35a9e - - -] 10.11.10.1 \"GET /v2/54fadb412c4e40cdbaed9335e4c35a9e/servers/detail HTTP/1.1\" HTTP status code -  200 len: 1893 time: 0.2644999', 'nova.osapi_compute.wsgi.server [req-53a10b92-552c-4e90-9f52-b1a8c3ced361 113d3a99c3da401fbd62cc2caa5b96d2 54fadb412c4e40cdbaed9335e4c35a9e - - -] 10.11.10.1 \"GET /v2/54fadb412c4e40cdbaed9335e4c35a9e/servers/detail HTTP/1.1\" HTTP status code -  200 len: 1893 time: 0.2543302', 'nova.osapi_compute.wsgi.server [req-e9d2e77a-a98d-4605-9681-3dcad21d7ec7 113d3a99c3da401fbd62cc2caa5b96d2 54fadb412c4e40cdbaed9335e4c35a9e - - -] 10.11.10.1 \"GET /v2/54fadb412c4e40cdbaed9335e4c35a9e/servers/detail HTTP/1.1\" status: 200 len: 211 time: 0.0931380', 'nova.osapi_compute.wsgi.server [req-cd52b7e1-5ad8-4c2b-babc-3250dc367121 113d3a99c3da401fbd62cc2caa5b96d2 54fadb412c4e40cdbaed9335e4c35a9e - - -] 10.11.10.1 \"GET /v2/54fadb412c4e40cdbaed9335e4c35a9e/servers/detail HTTP/1.1\" status: 200 len: 1893 time: 0.2790480', 'nova.osapi_compute.wsgi.server [req-5579c03c-54d9-46ef-bfc5-6edae7fa4094 113d3a99c3da401fbd62cc2caa5b96d2 54fadb412c4e40cdbaed9335e4c35a9e - - -] 10.11.10.1 \"GET /v2/54fadb412c4e40cdbaed9335e4c35a9e/servers/detail HTTP/1.1\" status: 200 len: 211 time: 0.1024609', 'nova.osapi_compute.wsgi.server [req-8faad941-ddb6-41e5-85d5-813c88b1a880 113d3a99c3da401fbd62cc2caa5b96d2 54fadb412c4e40cdbaed9335e4c35a9e - - -] 10.11.10.1 \"GET /v2/54fadb412c4e40cdbaed9335e4c35a9e/servers/detail HTTP/1.1\" Status code -  200 len: 1893 time: 0.2605860', 'nova.osapi_compute.wsgi.server [req-c53a921a-16c7-422e-8c9d-c922a720d047 113d3a99c3da401fbd62cc2caa5b96d2 54fadb412c4e40cdbaed9335e4c35a9e - - -] 10.11.10.1 \"DELETE /v2/54fadb412c4e40cdbaed9335e4c35a9e/servers/b9000564-fe1a-409b-b8cc-1e88b294cd1d HTTP/1.1\" HTTP status code -  204 len: 203 time: 0.2534380', 'nova.osapi_compute.wsgi.server [req-e4a5ec58-0304-4e5e-930c-57180ee7c1dd 113d3a99c3da401fbd62cc2caa5b96d2 54fadb412c4e40cdbaed9335e4c35a9e - - -] 10.11.10.1 \"GET /v2/54fadb412c4e40cdbaed9335e4c35a9e/servers/detail HTTP/1.1\" RCODE  200 len: 1893 time: 0.2686100', 'nova.osapi_compute.wsgi.server [req-12db2bbc-6755-4401-99d8-450e84703abd 113d3a99c3da401fbd62cc2caa5b96d2 54fadb412c4e40cdbaed9335e4c35a9e - - -] 10.11.10.1 \"GET /v2/54fadb412c4e40cdbaed9335e4c35a9e/servers/detail HTTP/1.1\" Return code: 200 len: 1893 time: 0.2685480', 'nova.metadata.wsgi.server [req-68a0fcfe-55d9-4f80-8fef-d9915932d2ef - - - - -] 10.11.21.126,10.11.10.1 \"GET /latest/meta-data/placement/ HTTP/1.1\" RCODE  200 len: 134 time: 0.2258282', 'nova.metadata.wsgi.server [-] 10.11.21.135,10.11.10.1 \"GET /latest/meta-data/block-device-mapping/ami HTTP/1.1\" Status code -  200 len: 119 time: 0.0006430', 'nova.osapi_compute.wsgi.server [req-31e71c53-2e15-4300-aeb6-1d77caf1d13a 113d3a99c3da401fbd62cc2caa5b96d2 54fadb412c4e40cdbaed9335e4c35a9e - - -] 10.11.10.1 \"GET /v2/54fadb412c4e40cdbaed9335e4c35a9e/servers/detail HTTP/1.1\" Status code -  200 len: 1893 time: 0.2742469', 'nova.osapi_compute.wsgi.server [req-f5ece0cf-7a39-41b3-84d0-833a63040442 113d3a99c3da401fbd62cc2caa5b96d2 54fadb412c4e40cdbaed9335e4c35a9e - - -] 10.11.10.1 \"GET /v2/54fadb412c4e40cdbaed9335e4c35a9e/servers/detail HTTP/1.1\" HTTP status code -  200 len: 1893 time: 0.2500231', 'nova.osapi_compute.wsgi.server [req-7fe775ef-77ca-494b-8b7b-ca9e05ab4015 113d3a99c3da401fbd62cc2caa5b96d2 54fadb412c4e40cdbaed9335e4c35a9e - - -] 10.11.10.1 \"GET /v2/54fadb412c4e40cdbaed9335e4c35a9e/servers/detail HTTP/1.1\" RCODE  200 len: 1893 time: 0.2847130', 'nova.osapi_compute.wsgi.server [req-048f93d6-3858-482b-972d-48640f16bed1 113d3a99c3da401fbd62cc2caa5b96d2 54fadb412c4e40cdbaed9335e4c35a9e - - -] 10.11.10.1 \"GET /v2/54fadb412c4e40cdbaed9335e4c35a9e/servers/detail HTTP/1.1\" HTTP status code -  200 len: 1893 time: 0.2640278', 'nova.metadata.wsgi.server [req-189e6373-cac8-4dcd-9029-7cb80f2e114c - - - - -] 10.11.21.143,10.11.10.1 \"GET /openstack/2013-10-17/vendor_data.json HTTP/1.1\" status: 200 len: 124 time: 0.2292829', 'nova.osapi_compute.wsgi.server [req-32b14e4d-90cd-4ecb-9171-0ede02691b36 113d3a99c3da401fbd62cc2caa5b96d2 54fadb412c4e40cdbaed9335e4c35a9e - - -] 10.11.10.1 \"GET /v2/54fadb412c4e40cdbaed9335e4c35a9e/servers/detail HTTP/1.1\" HTTP status code -  200 len: 1893 time: 0.2646151', 'nova.osapi_compute.wsgi.server [req-dd3a90c6-4783-47d3-a7da-72b8a4ef98e3 113d3a99c3da401fbd62cc2caa5b96d2 54fadb412c4e40cdbaed9335e4c35a9e - - -] 10.11.10.1 \"GET /v2/54fadb412c4e40cdbaed9335e4c35a9e/servers/detail HTTP/1.1\" Return code: 200 len: 1893 time: 0.2672410', 'nova.osapi_compute.wsgi.server [req-e8a40430-24a0-4317-859b-555bb76fb798 113d3a99c3da401fbd62cc2caa5b96d2 54fadb412c4e40cdbaed9335e4c35a9e - - -] 10.11.10.1 \"GET /v2/54fadb412c4e40cdbaed9335e4c35a9e/servers/detail HTTP/1.1\" Status code -  200 len: 1893 time: 0.2604382', 'nova.osapi_compute.wsgi.server [req-44d3573a-0d2c-4610-85f3-f228ac82a1d1 113d3a99c3da401fbd62cc2caa5b96d2 54fadb412c4e40cdbaed9335e4c35a9e - - -] 10.11.10.1 \"GET /v2/54fadb412c4e40cdbaed9335e4c35a9e/servers/detail HTTP/1.1\" Return code: 200 len: 1893 time: 0.2529991', 'nova.osapi_compute.wsgi.server [req-acc5bb0f-42fe-4bbc-ac8b-0bace2d3b906 f7b8d1f1d4d44643b07fa10ca7d021fb e9746973ac574c6b8a9e8857f56a7608 - - -] 10.11.10.1 \"POST /v2/e9746973ac574c6b8a9e8857f56a7608/os-server-external-events HTTP/1.1\" Status code -  404 len: 296 time: 0.0836670', 'nova.osapi_compute.wsgi.server [req-7b894c1d-bfc0-4dca-afed-0b8ca7a93a72 113d3a99c3da401fbd62cc2caa5b96d2 54fadb412c4e40cdbaed9335e4c35a9e - - -] 10.11.10.1 \"GET /v2/54fadb412c4e40cdbaed9335e4c35a9e/servers/detail HTTP/1.1\" RCODE  200 len: 1893 time: 0.2758210', 'nova.osapi_compute.wsgi.server [req-903eebb0-3535-4b76-80bf-7b37baa4daa0 113d3a99c3da401fbd62cc2caa5b96d2 54fadb412c4e40cdbaed9335e4c35a9e - - -] 10.11.10.1 \"GET /v2/54fadb412c4e40cdbaed9335e4c35a9e/servers/detail HTTP/1.1\" Return code: 200 len: 1583 time: 0.1841609', 'nova.metadata.wsgi.server [req-610fdd1e-f55d-480e-866a-6effcc9d83ae - - - - -] 10.11.21.134,10.11.10.1 \"GET /openstack/2012-08-10/meta_data.json HTTP/1.1\" status: 200 len: 264 time: 0.2398081', 'nova.osapi_compute.wsgi.server [req-c632929d-1bf8-43a4-afb7-0f32e2d3cdf3 113d3a99c3da401fbd62cc2caa5b96d2 54fadb412c4e40cdbaed9335e4c35a9e - - -] 10.11.10.1 \"GET /v2/54fadb412c4e40cdbaed9335e4c35a9e/servers/detail HTTP/1.1\" Status code -  200 len: 1893 time: 0.2570438', 'nova.osapi_compute.wsgi.server [req-135542a4-6100-4643-83f4-c3d3271ac898 113d3a99c3da401fbd62cc2caa5b96d2 54fadb412c4e40cdbaed9335e4c35a9e - - -] 10.11.10.1 \"GET /v2/54fadb412c4e40cdbaed9335e4c35a9e/servers/detail HTTP/1.1\" RCODE  200 len: 1893 time: 0.2776730', 'nova.metadata.wsgi.server [req-f9565d6d-171c-408f-8b5f-9e9792826f42 - - - - -] 10.11.21.122,10.11.10.1 \"GET /openstack/2013-10-17/vendor_data.json HTTP/1.1\" Status code -  200 len: 124 time: 0.2197890', 'nova.osapi_compute.wsgi.server [req-330a4477-cfaf-485f-a5e9-69e0e9be0a4f 113d3a99c3da401fbd62cc2caa5b96d2 54fadb412c4e40cdbaed9335e4c35a9e - - -] 10.11.10.1 \"GET /v2/54fadb412c4e40cdbaed9335e4c35a9e/servers/detail HTTP/1.1\" Return code: 200 len: 1916 time: 0.3824501', 'nova.osapi_compute.wsgi.server [req-8e6482cd-ad01-4a71-92f9-2d218d014a8f 113d3a99c3da401fbd62cc2caa5b96d2 54fadb412c4e40cdbaed9335e4c35a9e - - -] 10.11.10.1 \"GET /v2/54fadb412c4e40cdbaed9335e4c35a9e/servers/detail HTTP/1.1\" Return code: 200 len: 1916 time: 0.2944360', 'nova.osapi_compute.wsgi.server [req-86997220-e959-4cef-8315-723f20d4f1de 113d3a99c3da401fbd62cc2caa5b96d2 54fadb412c4e40cdbaed9335e4c35a9e - - -] 10.11.10.1 \"GET /v2/54fadb412c4e40cdbaed9335e4c35a9e/servers/detail HTTP/1.1\" HTTP status code -  200 len: 1893 time: 0.2708549', 'nova.metadata.wsgi.server [req-3d7baa90-ec29-4386-a6c5-edd5ae651f45 - - - - -] 10.11.21.140,10.11.10.1 \"GET /openstack/2013-10-17/meta_data.json HTTP/1.1\" HTTP status code -  200 len: 967 time: 0.2314420', 'nova.osapi_compute.wsgi.server [req-9d2c1d24-f157-464f-aa8c-17ebcdaac12b 113d3a99c3da401fbd62cc2caa5b96d2 54fadb412c4e40cdbaed9335e4c35a9e - - -] 10.11.10.1 \"GET /v2/54fadb412c4e40cdbaed9335e4c35a9e/servers/detail HTTP/1.1\" status: 200 len: 1910 time: 0.2577691', 'nova.osapi_compute.wsgi.server [req-e6509c84-a275-459c-b564-25fdbaa58cdc 113d3a99c3da401fbd62cc2caa5b96d2 54fadb412c4e40cdbaed9335e4c35a9e - - -] 10.11.10.1 \"GET /v2/54fadb412c4e40cdbaed9335e4c35a9e/servers/detail HTTP/1.1\" status: 200 len: 1759 time: 0.2789471', 'nova.osapi_compute.wsgi.server [req-c4fe12ee-96d2-455a-bd90-4456a7878d04 113d3a99c3da401fbd62cc2caa5b96d2 54fadb412c4e40cdbaed9335e4c35a9e - - -] 10.11.10.1 \"GET /v2/54fadb412c4e40cdbaed9335e4c35a9e/servers/detail HTTP/1.1\" status: 200 len: 1910 time: 0.2752299', 'nova.osapi_compute.wsgi.server [req-ea4a360f-b853-46fe-af72-7db91c3346ad 113d3a99c3da401fbd62cc2caa5b96d2 54fadb412c4e40cdbaed9335e4c35a9e - - -] 10.11.10.1 \"GET /v2/54fadb412c4e40cdbaed9335e4c35a9e/servers/detail HTTP/1.1\" Status code -  200 len: 1893 time: 0.2724142', 'nova.metadata.wsgi.server [req-5eee7c2e-9d80-4668-869d-1d8f70d9b074 - - - - -] 10.11.21.136,10.11.10.1 \"GET /openstack/2013-10-17/vendor_data.json HTTP/1.1\" status: 200 len: 124 time: 0.2191730', 'nova.osapi_compute.wsgi.server [req-0ed561a5-fdf2-4b23-ab40-0f283f3da54e 113d3a99c3da401fbd62cc2caa5b96d2 54fadb412c4e40cdbaed9335e4c35a9e - - -] 10.11.10.1 \"GET /v2/54fadb412c4e40cdbaed9335e4c35a9e/servers/detail HTTP/1.1\" Return code: 200 len: 1916 time: 0.2693460', 'nova.osapi_compute.wsgi.server [req-25d4598c-81f0-4e79-87fd-228f3dc94aa7 113d3a99c3da401fbd62cc2caa5b96d2 54fadb412c4e40cdbaed9335e4c35a9e - - -] 10.11.10.1 \"GET /v2/54fadb412c4e40cdbaed9335e4c35a9e/servers/detail HTTP/1.1\" status: 200 len: 1893 time: 0.2755768', 'nova.osapi_compute.wsgi.server [req-4ce4f8fb-f692-4d80-b150-96bc30db03f0 113d3a99c3da401fbd62cc2caa5b96d2 54fadb412c4e40cdbaed9335e4c35a9e - - -] 10.11.10.1 \"GET /v2/54fadb412c4e40cdbaed9335e4c35a9e/servers/detail HTTP/1.1\" RCODE  200 len: 1893 time: 0.2672279', 'nova.metadata.wsgi.server [-] 10.11.21.135,10.11.10.1 \"GET /openstack/2013-10-17/user_data HTTP/1.1\" Status code -  404 len: 176 time: 0.0011439', 'nova.osapi_compute.wsgi.server [req-c00498e9-c4a0-4e46-b680-c8e4927369f7 113d3a99c3da401fbd62cc2caa5b96d2 54fadb412c4e40cdbaed9335e4c35a9e - - -] 10.11.10.1 \"DELETE /v2/54fadb412c4e40cdbaed9335e4c35a9e/servers/17288ea8-cbf4-4f0e-94fe-853fd2735f29 HTTP/1.1\" RCODE  204 len: 203 time: 0.2726481', 'nova.metadata.wsgi.server [req-b1e650c2-d691-43dc-bd4b-43a1cc250f36 - - - - -] 10.11.21.128,10.11.10.1 \"GET /openstack/2012-08-10/meta_data.json HTTP/1.1\" Return code: 200 len: 264 time: 0.2413990', 'nova.osapi_compute.wsgi.server [req-06631678-1e19-4e4e-bddf-a588d8ea6217 113d3a99c3da401fbd62cc2caa5b96d2 54fadb412c4e40cdbaed9335e4c35a9e - - -] 10.11.10.1 \"DELETE /v2/54fadb412c4e40cdbaed9335e4c35a9e/servers/78dc1847-8848-49cc-933e-9239b12c9dcf HTTP/1.1\" RCODE  204 len: 203 time: 0.2560370', 'nova.osapi_compute.wsgi.server [req-3e88afc7-0acc-498b-b3ab-9a74aad4e4fa f7b8d1f1d4d44643b07fa10ca7d021fb e9746973ac574c6b8a9e8857f56a7608 - - -] 10.11.10.1 \"POST /v2/e9746973ac574c6b8a9e8857f56a7608/os-server-external-events HTTP/1.1\" status: 404 len: 296 time: 0.0880730', 'nova.metadata.wsgi.server [req-c58fdf6b-7dad-448e-b06a-da2fd52415fc - - - - -] 10.11.21.143,10.11.10.1 \"GET /openstack/2013-10-17/user_data HTTP/1.1\" Return code: 404 len: 176 time: 0.2187860', 'nova.metadata.wsgi.server [-] 10.11.21.132,10.11.10.1 \"GET /openstack/2013-10-17 HTTP/1.1\" RCODE  200 len: 157 time: 0.0006261', 'nova.osapi_compute.wsgi.server [req-3d954aae-f4f5-47a6-9cf8-a8e00beeab93 113d3a99c3da401fbd62cc2caa5b96d2 54fadb412c4e40cdbaed9335e4c35a9e - - -] 10.11.10.1 \"GET /v2/54fadb412c4e40cdbaed9335e4c35a9e/servers/detail HTTP/1.1\" status: 200 len: 1893 time: 0.2733018', 'nova.osapi_compute.wsgi.server [req-4ca1aca1-840a-4512-b431-5533a9e02497 113d3a99c3da401fbd62cc2caa5b96d2 54fadb412c4e40cdbaed9335e4c35a9e - - -] 10.11.10.1 \"GET /v2/54fadb412c4e40cdbaed9335e4c35a9e/servers/detail HTTP/1.1\" RCODE  200 len: 1583 time: 0.1969190', 'nova.metadata.wsgi.server [-] 10.11.21.124,10.11.10.1 \"GET /openstack/2013-10-17/vendor_data.json HTTP/1.1\" RCODE  200 len: 124 time: 0.0006270', 'nova.osapi_compute.wsgi.server [req-1f89dbfb-bbfe-45ca-8162-110e3c405711 113d3a99c3da401fbd62cc2caa5b96d2 54fadb412c4e40cdbaed9335e4c35a9e - - -] 10.11.10.1 \"GET /v2/54fadb412c4e40cdbaed9335e4c35a9e/servers/detail HTTP/1.1\" Status code -  200 len: 1893 time: 0.2716691', 'nova.osapi_compute.wsgi.server [req-f632ae73-7d87-49f4-bdbf-3a0f06d197ed 113d3a99c3da401fbd62cc2caa5b96d2 54fadb412c4e40cdbaed9335e4c35a9e - - -] 10.11.10.1 \"GET /v2/54fadb412c4e40cdbaed9335e4c35a9e/servers/detail HTTP/1.1\" Status code -  200 len: 1893 time: 0.2486479', 'nova.metadata.wsgi.server [req-fb8d5cd6-127f-4735-9c32-25567cf0d2d6 - - - - -] 10.11.21.140,10.11.10.1 \"GET /openstack/2012-08-10/meta_data.json HTTP/1.1\" Status code -  200 len: 264 time: 0.2175281', 'nova.osapi_compute.wsgi.server [req-0b5ced27-6fb3-449b-a87f-1d9beaae3f62 113d3a99c3da401fbd62cc2caa5b96d2 54fadb412c4e40cdbaed9335e4c35a9e - - -] 10.11.10.1 \"GET /v2/54fadb412c4e40cdbaed9335e4c35a9e/servers/detail HTTP/1.1\" Return code: 200 len: 1893 time: 0.2769639', 'nova.osapi_compute.wsgi.server [req-96bb2855-71cc-4c4c-8ffb-03336d12219e 113d3a99c3da401fbd62cc2caa5b96d2 54fadb412c4e40cdbaed9335e4c35a9e - - -] 10.11.10.1 \"GET /v2/54fadb412c4e40cdbaed9335e4c35a9e/servers/detail HTTP/1.1\" status: 200 len: 1893 time: 0.3673830', 'nova.osapi_compute.wsgi.server [req-fc3464cd-8dd6-4fe9-a825-bb3b395eff72 113d3a99c3da401fbd62cc2caa5b96d2 54fadb412c4e40cdbaed9335e4c35a9e - - -] 10.11.10.1 \"GET /v2/54fadb412c4e40cdbaed9335e4c35a9e/servers/detail HTTP/1.1\" RCODE  200 len: 1893 time: 0.2485340', 'nova.osapi_compute.wsgi.server [req-2a3dc421-6604-42a7-9390-a18dc824d5d6 113d3a99c3da401fbd62cc2caa5b96d2 54fadb412c4e40cdbaed9335e4c35a9e - - -] 10.11.10.1 \"GET /v2/54fadb412c4e40cdbaed9335e4c35a9e/servers/detail HTTP/1.1\" status: 200 len: 1893 time: 0.2580249', 'nova.osapi_compute.wsgi.server [req-22455aab-13cf-4045-92e8-65371ef51485 113d3a99c3da401fbd62cc2caa5b96d2 54fadb412c4e40cdbaed9335e4c35a9e - - -] 10.11.10.1 \"GET /v2/54fadb412c4e40cdbaed9335e4c35a9e/servers/detail HTTP/1.1\" status: 200 len: 1910 time: 0.2603891', 'nova.osapi_compute.wsgi.server [req-694b3a2f-adf3-4093-9f3e-e97b12fc6bd3 113d3a99c3da401fbd62cc2caa5b96d2 54fadb412c4e40cdbaed9335e4c35a9e - - -] 10.11.10.1 \"GET /v2/54fadb412c4e40cdbaed9335e4c35a9e/servers/detail HTTP/1.1\" status: 200 len: 1893 time: 0.2678900', 'nova.osapi_compute.wsgi.server [req-79b9f95a-26b4-4b98-9f57-1896c54a0a33 113d3a99c3da401fbd62cc2caa5b96d2 54fadb412c4e40cdbaed9335e4c35a9e - - -] 10.11.10.1 \"GET /v2/54fadb412c4e40cdbaed9335e4c35a9e/servers/detail HTTP/1.1\" status: 200 len: 1583 time: 0.2017291', 'nova.osapi_compute.wsgi.server [req-c825e8ea-d765-4f39-9175-93cb0321be3f 113d3a99c3da401fbd62cc2caa5b96d2 54fadb412c4e40cdbaed9335e4c35a9e - - -] 10.11.10.1 \"GET /v2/54fadb412c4e40cdbaed9335e4c35a9e/servers/detail HTTP/1.1\" Status code -  200 len: 1916 time: 0.2741730', 'nova.osapi_compute.wsgi.server [req-1162e278-3bf2-4b32-93b5-9c7ec218365e 113d3a99c3da401fbd62cc2caa5b96d2 54fadb412c4e40cdbaed9335e4c35a9e - - -] 10.11.10.1 \"POST /v2/54fadb412c4e40cdbaed9335e4c35a9e/servers HTTP/1.1\" Return code: 202 len: 733 time: 0.5126011', 'nova.metadata.wsgi.server [-] 10.11.21.139,10.11.10.1 \"GET /latest/meta-data/local-hostname HTTP/1.1\" status: 200 len: 130 time: 0.0008819', 'nova.osapi_compute.wsgi.server [req-8a5b19ff-20d8-40e7-94d3-29b89f9b6987 f7b8d1f1d4d44643b07fa10ca7d021fb e9746973ac574c6b8a9e8857f56a7608 - - -] 10.11.10.1 \"POST /v2/e9746973ac574c6b8a9e8857f56a7608/os-server-external-events HTTP/1.1\" RCODE  404 len: 296 time: 0.0831139', 'nova.osapi_compute.wsgi.server [req-2828889b-97b9-4cc6-9cf7-44c8f4e856b9 f7b8d1f1d4d44643b07fa10ca7d021fb e9746973ac574c6b8a9e8857f56a7608 - - -] 10.11.10.1 \"POST /v2/e9746973ac574c6b8a9e8857f56a7608/os-server-external-events HTTP/1.1\" RCODE  404 len: 296 time: 0.0839748', 'nova.osapi_compute.wsgi.server [req-ab451068-9756-4ad9-9d18-5ceaa6424627 f7b8d1f1d4d44643b07fa10ca7d021fb e9746973ac574c6b8a9e8857f56a7608 - - -] 10.11.10.1 \"POST /v2/e9746973ac574c6b8a9e8857f56a7608/os-server-external-events HTTP/1.1\" status: 200 len: 380 time: 0.0913219', 'nova.metadata.wsgi.server [-] 10.11.21.130,10.11.10.1 \"GET /openstack/2013-10-17/vendor_data.json HTTP/1.1\" status: 200 len: 124 time: 0.0006940', 'nova.osapi_compute.wsgi.server [req-3e488ee5-f0f3-41b6-b0b1-894d043b6f5e 113d3a99c3da401fbd62cc2caa5b96d2 54fadb412c4e40cdbaed9335e4c35a9e - - -] 10.11.10.1 \"GET /v2/54fadb412c4e40cdbaed9335e4c35a9e/servers/detail HTTP/1.1\" status: 200 len: 1893 time: 0.2681561', 'nova.metadata.wsgi.server [-] 10.11.21.133,10.11.10.1 \"GET /openstack/2013-10-17/meta_data.json HTTP/1.1\" status: 200 len: 967 time: 0.0011051', 'nova.osapi_compute.wsgi.server [req-ea4d9b17-3021-441c-a951-975ae6253a8b f7b8d1f1d4d44643b07fa10ca7d021fb e9746973ac574c6b8a9e8857f56a7608 - - -] 10.11.10.1 \"POST /v2/e9746973ac574c6b8a9e8857f56a7608/os-server-external-events HTTP/1.1\" status: 404 len: 296 time: 0.0890410', 'nova.osapi_compute.wsgi.server [req-6e4f4f57-ce56-4885-956a-dc1235c5afb2 113d3a99c3da401fbd62cc2caa5b96d2 54fadb412c4e40cdbaed9335e4c35a9e - - -] 10.11.10.1 \"GET /v2/54fadb412c4e40cdbaed9335e4c35a9e/servers/detail HTTP/1.1\" HTTP status code -  200 len: 1893 time: 0.4072819', 'nova.metadata.wsgi.server [-] 10.11.21.135,10.11.10.1 \"GET /latest/meta-data/placement/availability-zone HTTP/1.1\" Return code: 200 len: 120 time: 0.0008440', 'nova.osapi_compute.wsgi.server [req-7ee56f12-b2ee-4eec-a767-d06435b1b2c6 113d3a99c3da401fbd62cc2caa5b96d2 54fadb412c4e40cdbaed9335e4c35a9e - - -] 10.11.10.1 \"GET /v2/54fadb412c4e40cdbaed9335e4c35a9e/servers/detail HTTP/1.1\" status: 200 len: 1893 time: 0.2796621', 'nova.osapi_compute.wsgi.server [req-11fa0afd-fbbf-4d33-b4a3-eadb918ccd07 113d3a99c3da401fbd62cc2caa5b96d2 54fadb412c4e40cdbaed9335e4c35a9e - - -] 10.11.10.1 \"GET /v2/54fadb412c4e40cdbaed9335e4c35a9e/servers/detail HTTP/1.1\" status: 200 len: 1583 time: 0.1875880', 'nova.osapi_compute.wsgi.server [req-243447da-80ee-4808-8d5d-11bd590c2711 113d3a99c3da401fbd62cc2caa5b96d2 54fadb412c4e40cdbaed9335e4c35a9e - - -] 10.11.10.1 \"GET /v2/54fadb412c4e40cdbaed9335e4c35a9e/servers/detail HTTP/1.1\" Return code: 200 len: 1893 time: 0.2768469', 'nova.osapi_compute.wsgi.server [req-5e914d03-3281-48b4-9dee-bf7664c6b59c 113d3a99c3da401fbd62cc2caa5b96d2 54fadb412c4e40cdbaed9335e4c35a9e - - -] 10.11.10.1 \"GET /v2/54fadb412c4e40cdbaed9335e4c35a9e/servers/detail HTTP/1.1\" HTTP status code -  200 len: 1893 time: 0.2578239', 'nova.osapi_compute.wsgi.server [req-3f8eee6a-941b-44e5-af74-fb97a076217a 113d3a99c3da401fbd62cc2caa5b96d2 54fadb412c4e40cdbaed9335e4c35a9e - - -] 10.11.10.1 \"GET /v2/54fadb412c4e40cdbaed9335e4c35a9e/servers/detail HTTP/1.1\" RCODE  200 len: 1893 time: 0.2812061', 'nova.metadata.wsgi.server [req-57347641-fcb9-4d81-a320-5b050607d370 - - - - -] 10.11.21.135,10.11.10.1 \"GET /openstack/2013-10-17/meta_data.json HTTP/1.1\" RCODE  200 len: 967 time: 0.2257981', 'nova.osapi_compute.wsgi.server [req-1c33bdb8-a945-437c-a2a4-836c25c502ef 113d3a99c3da401fbd62cc2caa5b96d2 54fadb412c4e40cdbaed9335e4c35a9e - - -] 10.11.10.1 \"GET /v2/54fadb412c4e40cdbaed9335e4c35a9e/servers/detail HTTP/1.1\" RCODE  200 len: 1893 time: 0.4467819', 'nova.osapi_compute.wsgi.server [req-16984fba-a60d-4234-9a5c-2f5f9bb45081 113d3a99c3da401fbd62cc2caa5b96d2 54fadb412c4e40cdbaed9335e4c35a9e - - -] 10.11.10.1 \"GET /v2/54fadb412c4e40cdbaed9335e4c35a9e/servers/detail HTTP/1.1\" Status code -  200 len: 211 time: 0.1063731', 'nova.metadata.wsgi.server [-] 10.11.21.132,10.11.10.1 \"GET /latest/meta-data/reservation-id HTTP/1.1\" status: 200 len: 127 time: 0.0007050', 'nova.osapi_compute.wsgi.server [req-9d415292-078d-4325-9e67-e1ed14e1c957 113d3a99c3da401fbd62cc2caa5b96d2 54fadb412c4e40cdbaed9335e4c35a9e - - -] 10.11.10.1 \"GET /v2/54fadb412c4e40cdbaed9335e4c35a9e/servers/detail HTTP/1.1\" Return code: 200 len: 1583 time: 0.1959479', 'nova.osapi_compute.wsgi.server [req-e2e335d1-99eb-4702-aa0a-111f1dc7cd93 113d3a99c3da401fbd62cc2caa5b96d2 54fadb412c4e40cdbaed9335e4c35a9e - - -] 10.11.10.1 \"GET /v2/54fadb412c4e40cdbaed9335e4c35a9e/servers/detail HTTP/1.1\" Return code: 200 len: 1759 time: 0.2809780', 'nova.osapi_compute.wsgi.server [req-19db83be-773c-4b1c-8615-7f1bf20500fa 113d3a99c3da401fbd62cc2caa5b96d2 54fadb412c4e40cdbaed9335e4c35a9e - - -] 10.11.10.1 \"GET /v2/54fadb412c4e40cdbaed9335e4c35a9e/servers/detail HTTP/1.1\" Return code: 200 len: 1893 time: 0.2618630', 'nova.metadata.wsgi.server [-] 10.11.21.132,10.11.10.1 \"GET /latest/meta-data/block-device-mapping/ami HTTP/1.1\" RCODE  200 len: 119 time: 0.0010529', 'nova.metadata.wsgi.server [req-89097afe-bee0-455e-8b96-cf6531c50564 - - - - -] 10.11.21.129,10.11.10.1 \"GET /openstack/2012-08-10/meta_data.json HTTP/1.1\" Return code: 200 len: 264 time: 0.2234900', 'nova.osapi_compute.wsgi.server [req-a40c78d6-9f83-4945-86c5-11d623eb41b7 113d3a99c3da401fbd62cc2caa5b96d2 54fadb412c4e40cdbaed9335e4c35a9e - - -] 10.11.10.1 \"GET /v2/54fadb412c4e40cdbaed9335e4c35a9e/servers/detail HTTP/1.1\" HTTP status code -  200 len: 1893 time: 0.2620499', 'nova.metadata.wsgi.server [req-db4ae65d-6aab-4be6-abbd-59fbb9dae569 - - - - -] 10.11.21.141,10.11.10.1 \"GET /openstack/2013-10-17/vendor_data.json HTTP/1.1\" Return code: 200 len: 124 time: 0.2228522', 'nova.metadata.wsgi.server [req-3169ebb5-1055-4017-a172-e8da7500e084 - - - - -] 10.11.21.137,10.11.10.1 \"GET /openstack/2012-08-10/meta_data.json HTTP/1.1\" Return code: 200 len: 264 time: 0.2397351', 'nova.osapi_compute.wsgi.server [req-5de95d80-f71b-490c-8d14-92b6f68286f6 113d3a99c3da401fbd62cc2caa5b96d2 54fadb412c4e40cdbaed9335e4c35a9e - - -] 10.11.10.1 \"GET /v2/54fadb412c4e40cdbaed9335e4c35a9e/servers/detail HTTP/1.1\" Status code -  200 len: 1893 time: 0.2795429', 'nova.metadata.wsgi.server [req-09ad207c-d18b-465c-aaa6-ca8326453c26 - - - - -] 10.11.21.139,10.11.10.1 \"GET /latest/meta-data/ami-launch-index HTTP/1.1\" Status code -  200 len: 117 time: 0.2664881', 'nova.osapi_compute.wsgi.server [req-612c8a52-3f24-45a6-ab9f-61dedce20abb 113d3a99c3da401fbd62cc2caa5b96d2 54fadb412c4e40cdbaed9335e4c35a9e - - -] 10.11.10.1 \"GET /v2/54fadb412c4e40cdbaed9335e4c35a9e/servers/detail HTTP/1.1\" RCODE  200 len: 1893 time: 0.2626150', 'nova.osapi_compute.wsgi.server [req-e9c83d27-a59d-4538-a732-7dab65fb4130 113d3a99c3da401fbd62cc2caa5b96d2 54fadb412c4e40cdbaed9335e4c35a9e - - -] 10.11.10.1 \"GET /v2/54fadb412c4e40cdbaed9335e4c35a9e/servers/detail HTTP/1.1\" status: 200 len: 1759 time: 0.2882659', 'nova.osapi_compute.wsgi.server [req-8a13853b-8daa-420b-a028-d49e438497b5 113d3a99c3da401fbd62cc2caa5b96d2 54fadb412c4e40cdbaed9335e4c35a9e - - -] 10.11.10.1 \"GET /v2/54fadb412c4e40cdbaed9335e4c35a9e/servers/detail HTTP/1.1\" RCODE  200 len: 1893 time: 0.2778099', 'nova.osapi_compute.wsgi.server [req-50e6e570-f8fb-4d9b-973d-b9ba8a260aa0 113d3a99c3da401fbd62cc2caa5b96d2 54fadb412c4e40cdbaed9335e4c35a9e - - -] 10.11.10.1 \"GET /v2/54fadb412c4e40cdbaed9335e4c35a9e/servers/detail HTTP/1.1\" Return code: 200 len: 1893 time: 0.2513149', 'nova.osapi_compute.wsgi.server [req-dfef2312-3d98-4d1a-bbb9-65069ce80588 113d3a99c3da401fbd62cc2caa5b96d2 54fadb412c4e40cdbaed9335e4c35a9e - - -] 10.11.10.1 \"GET /v2/54fadb412c4e40cdbaed9335e4c35a9e/servers/detail HTTP/1.1\" Return code: 200 len: 1910 time: 0.2610891', 'nova.osapi_compute.wsgi.server [req-31d09752-6f82-4fc5-ac97-416b9c865af4 113d3a99c3da401fbd62cc2caa5b96d2 54fadb412c4e40cdbaed9335e4c35a9e - - -] 10.11.10.1 \"DELETE /v2/54fadb412c4e40cdbaed9335e4c35a9e/servers/b562ef10-ba2d-48ae-bf4a-18666cba4a51 HTTP/1.1\" Status code -  204 len: 203 time: 0.2582572', 'nova.osapi_compute.wsgi.server [req-61b292c7-db97-46b5-820a-3e3c7c22493a 113d3a99c3da401fbd62cc2caa5b96d2 54fadb412c4e40cdbaed9335e4c35a9e - - -] 10.11.10.1 \"GET /v2/54fadb412c4e40cdbaed9335e4c35a9e/servers/detail HTTP/1.1\" RCODE  200 len: 1893 time: 0.4331501', 'nova.osapi_compute.wsgi.server [req-5e38f94a-fd4a-4898-93e0-48033a8a2a1c 113d3a99c3da401fbd62cc2caa5b96d2 54fadb412c4e40cdbaed9335e4c35a9e - - -] 10.11.10.1 \"GET /v2/54fadb412c4e40cdbaed9335e4c35a9e/servers/detail HTTP/1.1\" Status code -  200 len: 1893 time: 0.2656732', 'nova.osapi_compute.wsgi.server [req-3a411e65-bde8-42a4-b222-4779a62e4316 113d3a99c3da401fbd62cc2caa5b96d2 54fadb412c4e40cdbaed9335e4c35a9e - - -] 10.11.10.1 \"GET /v2/54fadb412c4e40cdbaed9335e4c35a9e/servers/detail HTTP/1.1\" RCODE  200 len: 1893 time: 0.2697551', 'nova.osapi_compute.wsgi.server [req-74b000e1-54e1-4761-ba25-545a517f42f9 113d3a99c3da401fbd62cc2caa5b96d2 54fadb412c4e40cdbaed9335e4c35a9e - - -] 10.11.10.1 \"DELETE /v2/54fadb412c4e40cdbaed9335e4c35a9e/servers/63a0d960-70b6-44c6-b606-491478a5cadf HTTP/1.1\" Status code -  204 len: 203 time: 0.2671530', 'nova.osapi_compute.wsgi.server [req-91f43d98-99af-4c3c-ae42-753ae149ae99 113d3a99c3da401fbd62cc2caa5b96d2 54fadb412c4e40cdbaed9335e4c35a9e - - -] 10.11.10.1 \"GET /v2/54fadb412c4e40cdbaed9335e4c35a9e/servers/detail HTTP/1.1\" Return code: 200 len: 1893 time: 0.2630000', 'nova.osapi_compute.wsgi.server [req-815218d2-3f52-467c-86bb-ca2bf4e19001 113d3a99c3da401fbd62cc2caa5b96d2 54fadb412c4e40cdbaed9335e4c35a9e - - -] 10.11.10.1 \"GET /v2/54fadb412c4e40cdbaed9335e4c35a9e/servers/detail HTTP/1.1\" HTTP status code -  200 len: 1893 time: 0.2683980', 'nova.osapi_compute.wsgi.server [req-370681d7-1260-4326-b10a-112d8c56c41e 113d3a99c3da401fbd62cc2caa5b96d2 54fadb412c4e40cdbaed9335e4c35a9e - - -] 10.11.10.1 \"GET /v2/54fadb412c4e40cdbaed9335e4c35a9e/servers/detail HTTP/1.1\" Status code -  200 len: 1893 time: 0.2589149', 'nova.osapi_compute.wsgi.server [req-b6241790-0b6d-4e98-84ca-36bbeb5e676b 113d3a99c3da401fbd62cc2caa5b96d2 54fadb412c4e40cdbaed9335e4c35a9e - - -] 10.11.10.1 \"GET /v2/54fadb412c4e40cdbaed9335e4c35a9e/servers/detail HTTP/1.1\" status: 200 len: 1893 time: 0.2652829', 'nova.metadata.wsgi.server [req-49f8125c-481f-4d59-b390-607c59629638 - - - - -] 10.11.21.134,10.11.10.1 \"GET /openstack/2013-10-17/user_data HTTP/1.1\" HTTP status code -  404 len: 176 time: 0.2255361', 'nova.osapi_compute.wsgi.server [req-e89e7c8f-91d3-41c6-8483-ca10554084c7 113d3a99c3da401fbd62cc2caa5b96d2 54fadb412c4e40cdbaed9335e4c35a9e - - -] 10.11.10.1 \"GET /v2/54fadb412c4e40cdbaed9335e4c35a9e/servers/detail HTTP/1.1\" RCODE  200 len: 1893 time: 0.2793601', 'nova.metadata.wsgi.server [-] 10.11.21.132,10.11.10.1 \"GET /latest/meta-data/hostname HTTP/1.1\" Status code -  200 len: 130 time: 0.0011861', 'nova.osapi_compute.wsgi.server [req-2d183073-77ff-47b9-95eb-07be7fafc897 113d3a99c3da401fbd62cc2caa5b96d2 54fadb412c4e40cdbaed9335e4c35a9e - - -] 10.11.10.1 \"GET /v2/54fadb412c4e40cdbaed9335e4c35a9e/servers/detail HTTP/1.1\" Return code: 200 len: 1910 time: 0.2651579', 'nova.metadata.wsgi.server [-] 10.11.21.139,10.11.10.1 \"GET /latest/meta-data/ HTTP/1.1\" Return code: 200 len: 328 time: 0.0009460', 'nova.osapi_compute.wsgi.server [req-ae9fd2b5-f3e8-416a-a7e9-901b07b280e3 113d3a99c3da401fbd62cc2caa5b96d2 54fadb412c4e40cdbaed9335e4c35a9e - - -] 10.11.10.1 \"GET /v2/54fadb412c4e40cdbaed9335e4c35a9e/servers/detail HTTP/1.1\" HTTP status code -  200 len: 1893 time: 0.2564912', 'nova.osapi_compute.wsgi.server [req-781b0d07-ebc0-46b8-8998-4641f556ebeb 113d3a99c3da401fbd62cc2caa5b96d2 54fadb412c4e40cdbaed9335e4c35a9e - - -] 10.11.10.1 \"GET /v2/54fadb412c4e40cdbaed9335e4c35a9e/servers/detail HTTP/1.1\" status: 200 len: 1893 time: 0.2585039', 'nova.osapi_compute.wsgi.server [req-01451338-4c87-48c4-9dbc-a9831f8f6d41 f7b8d1f1d4d44643b07fa10ca7d021fb e9746973ac574c6b8a9e8857f56a7608 - - -] 10.11.10.1 \"POST /v2/e9746973ac574c6b8a9e8857f56a7608/os-server-external-events HTTP/1.1\" status: 200 len: 380 time: 0.1043310', 'nova.osapi_compute.wsgi.server [req-d20b3fad-09d8-47c2-81f2-8b392fdbfbd5 113d3a99c3da401fbd62cc2caa5b96d2 54fadb412c4e40cdbaed9335e4c35a9e - - -] 10.11.10.1 \"DELETE /v2/54fadb412c4e40cdbaed9335e4c35a9e/servers/ae3a1b5d-eec1-45bb-b76a-c59d83b1471f HTTP/1.1\" RCODE  204 len: 203 time: 0.2648540', 'nova.osapi_compute.wsgi.server [req-dc75766e-f0ca-4e46-aa86-93fa2924a379 113d3a99c3da401fbd62cc2caa5b96d2 54fadb412c4e40cdbaed9335e4c35a9e - - -] 10.11.10.1 \"GET /v2/54fadb412c4e40cdbaed9335e4c35a9e/servers/detail HTTP/1.1\" RCODE  200 len: 1893 time: 0.2399080', 'nova.osapi_compute.wsgi.server [req-f2c16e44-ddd0-4d4b-8b26-7659b6a68386 113d3a99c3da401fbd62cc2caa5b96d2 54fadb412c4e40cdbaed9335e4c35a9e - - -] 10.11.10.1 \"GET /v2/54fadb412c4e40cdbaed9335e4c35a9e/servers/detail HTTP/1.1\" HTTP status code -  200 len: 1910 time: 0.2646050', 'nova.osapi_compute.wsgi.server [req-eb045220-2c05-468d-95c0-390ba6b3dc33 113d3a99c3da401fbd62cc2caa5b96d2 54fadb412c4e40cdbaed9335e4c35a9e - - -] 10.11.10.1 \"GET /v2/54fadb412c4e40cdbaed9335e4c35a9e/servers/detail HTTP/1.1\" RCODE  200 len: 1759 time: 0.2756851', 'nova.osapi_compute.wsgi.server [req-33e71032-1e09-4ea2-9571-c1c1f705552d 113d3a99c3da401fbd62cc2caa5b96d2 54fadb412c4e40cdbaed9335e4c35a9e - - -] 10.11.10.1 \"GET /v2/54fadb412c4e40cdbaed9335e4c35a9e/servers/detail HTTP/1.1\" status: 200 len: 1575 time: 0.1996739', 'nova.osapi_compute.wsgi.server [req-0b9ec1ca-9a89-44fc-8f9a-c6a7460afa4b 113d3a99c3da401fbd62cc2caa5b96d2 54fadb412c4e40cdbaed9335e4c35a9e - - -] 10.11.10.1 \"GET /v2/54fadb412c4e40cdbaed9335e4c35a9e/servers/detail HTTP/1.1\" status: 200 len: 1893 time: 0.2556710', 'nova.metadata.wsgi.server [-] 10.11.21.135,10.11.10.1 \"GET /openstack/2013-10-17/vendor_data.json HTTP/1.1\" status: 200 len: 124 time: 0.0010960', 'nova.metadata.wsgi.server [-] 10.11.21.140,10.11.10.1 \"GET /openstack/2013-10-17/vendor_data.json HTTP/1.1\" Return code: 200 len: 124 time: 0.0006189', 'nova.osapi_compute.wsgi.server [req-750a3ab2-0fba-499a-bad0-f8584e777993 113d3a99c3da401fbd62cc2caa5b96d2 54fadb412c4e40cdbaed9335e4c35a9e - - -] 10.11.10.1 \"GET /v2/54fadb412c4e40cdbaed9335e4c35a9e/servers/detail HTTP/1.1\" Return code: 200 len: 211 time: 0.1072969', 'nova.metadata.wsgi.server [-] 10.11.21.126,10.11.10.1 \"GET /latest/meta-data/ HTTP/1.1\" Return code: 200 len: 328 time: 0.0008578', 'nova.metadata.wsgi.server [-] 10.11.21.123,10.11.10.1 \"GET /openstack/2013-10-17/vendor_data.json HTTP/1.1\" HTTP status code -  200 len: 124 time: 0.0008781', 'nova.osapi_compute.wsgi.server [req-a9b72c1a-65a9-44a5-bcb3-db8c2aa6d404 113d3a99c3da401fbd62cc2caa5b96d2 54fadb412c4e40cdbaed9335e4c35a9e - - -] 10.11.10.1 \"GET /v2/54fadb412c4e40cdbaed9335e4c35a9e/servers/detail HTTP/1.1\" status: 200 len: 1874 time: 0.3479111', 'nova.osapi_compute.wsgi.server [req-15ed46bc-c234-4dd1-ba31-6132a5a21007 113d3a99c3da401fbd62cc2caa5b96d2 54fadb412c4e40cdbaed9335e4c35a9e - - -] 10.11.10.1 \"GET /v2/54fadb412c4e40cdbaed9335e4c35a9e/servers/detail HTTP/1.1\" HTTP status code -  200 len: 1910 time: 0.2641079', 'nova.osapi_compute.wsgi.server [req-8f756dca-2eff-4af6-ba75-9a79b10195a3 113d3a99c3da401fbd62cc2caa5b96d2 54fadb412c4e40cdbaed9335e4c35a9e - - -] 10.11.10.1 \"GET /v2/54fadb412c4e40cdbaed9335e4c35a9e/servers/detail HTTP/1.1\" Status code -  200 len: 1759 time: 0.2669790', 'nova.osapi_compute.wsgi.server [req-8ec5e22b-e672-4e01-8b83-5e00108a6950 113d3a99c3da401fbd62cc2caa5b96d2 54fadb412c4e40cdbaed9335e4c35a9e - - -] 10.11.10.1 \"GET /v2/54fadb412c4e40cdbaed9335e4c35a9e/servers/detail HTTP/1.1\" HTTP status code -  200 len: 1893 time: 0.2512300', 'nova.osapi_compute.wsgi.server [req-5b273dce-4719-47ba-acc2-276214bd6c87 113d3a99c3da401fbd62cc2caa5b96d2 54fadb412c4e40cdbaed9335e4c35a9e - - -] 10.11.10.1 \"GET /v2/54fadb412c4e40cdbaed9335e4c35a9e/servers/detail HTTP/1.1\" status: 200 len: 1910 time: 0.2577119', 'nova.osapi_compute.wsgi.server [req-ee142be0-90ed-45f1-a82c-1f2097469a7c 113d3a99c3da401fbd62cc2caa5b96d2 54fadb412c4e40cdbaed9335e4c35a9e - - -] 10.11.10.1 \"GET /v2/54fadb412c4e40cdbaed9335e4c35a9e/servers/detail HTTP/1.1\" HTTP status code -  200 len: 1893 time: 0.2649550', 'nova.osapi_compute.wsgi.server [req-37a1da35-0d55-4c2e-8689-a9c75f3d4f51 113d3a99c3da401fbd62cc2caa5b96d2 54fadb412c4e40cdbaed9335e4c35a9e - - -] 10.11.10.1 \"GET /v2/54fadb412c4e40cdbaed9335e4c35a9e/servers/detail HTTP/1.1\" RCODE  200 len: 1759 time: 0.2672291', 'nova.osapi_compute.wsgi.server [req-23157160-b741-469c-a6c0-9d3a1548c852 113d3a99c3da401fbd62cc2caa5b96d2 54fadb412c4e40cdbaed9335e4c35a9e - - -] 10.11.10.1 \"GET /v2/54fadb412c4e40cdbaed9335e4c35a9e/servers/detail HTTP/1.1\" HTTP status code -  200 len: 1893 time: 0.2495072', 'nova.osapi_compute.wsgi.server [req-c8ccbfa8-315f-4095-83c4-b30936e668ad 113d3a99c3da401fbd62cc2caa5b96d2 54fadb412c4e40cdbaed9335e4c35a9e - - -] 10.11.10.1 \"GET /v2/54fadb412c4e40cdbaed9335e4c35a9e/servers/detail HTTP/1.1\" status: 200 len: 1583 time: 0.1856170', 'nova.osapi_compute.wsgi.server [req-d95fcabf-b278-4a61-986a-1f17a76796c2 113d3a99c3da401fbd62cc2caa5b96d2 54fadb412c4e40cdbaed9335e4c35a9e - - -] 10.11.10.1 \"GET /v2/54fadb412c4e40cdbaed9335e4c35a9e/servers/detail HTTP/1.1\" RCODE  200 len: 1575 time: 0.2029319', 'nova.osapi_compute.wsgi.server [req-47c1f81c-87e8-42b0-8986-5f705cc2ce6b f7b8d1f1d4d44643b07fa10ca7d021fb e9746973ac574c6b8a9e8857f56a7608 - - -] 10.11.10.1 \"POST /v2/e9746973ac574c6b8a9e8857f56a7608/os-server-external-events HTTP/1.1\" HTTP status code -  200 len: 380 time: 0.0926321', 'nova.osapi_compute.wsgi.server [req-68b928fe-2e4c-41b1-b891-baef5468e91f 113d3a99c3da401fbd62cc2caa5b96d2 54fadb412c4e40cdbaed9335e4c35a9e - - -] 10.11.10.1 \"GET /v2/54fadb412c4e40cdbaed9335e4c35a9e/servers/detail HTTP/1.1\" RCODE  200 len: 1759 time: 0.2619801', 'nova.metadata.wsgi.server [req-851b5cec-0231-43f7-a3f1-47e8d1a1f2b5 - - - - -] 10.11.21.127,10.11.10.1 \"GET /openstack/2013-10-17/vendor_data.json HTTP/1.1\" status: 200 len: 124 time: 0.2370040', 'nova.osapi_compute.wsgi.server [req-93aa1075-ea03-4919-a278-ebd71dd0701a 113d3a99c3da401fbd62cc2caa5b96d2 54fadb412c4e40cdbaed9335e4c35a9e - - -] 10.11.10.1 \"GET /v2/54fadb412c4e40cdbaed9335e4c35a9e/servers/detail HTTP/1.1\" Status code -  200 len: 1893 time: 0.2659068', 'nova.osapi_compute.wsgi.server [req-139b619d-f2c8-4877-9a0e-27e33f8dd917 113d3a99c3da401fbd62cc2caa5b96d2 54fadb412c4e40cdbaed9335e4c35a9e - - -] 10.11.10.1 \"GET /v2/54fadb412c4e40cdbaed9335e4c35a9e/servers/detail HTTP/1.1\" Status code -  200 len: 1910 time: 0.2617211', 'nova.osapi_compute.wsgi.server [req-c8743542-0b14-4dcd-97a4-9e98303b58ba 113d3a99c3da401fbd62cc2caa5b96d2 54fadb412c4e40cdbaed9335e4c35a9e - - -] 10.11.10.1 \"GET /v2/54fadb412c4e40cdbaed9335e4c35a9e/servers/detail HTTP/1.1\" Status code -  200 len: 1916 time: 0.3120630', 'nova.osapi_compute.wsgi.server [req-8a3543f5-d7a2-4715-ba54-1b9515b1bf6e 113d3a99c3da401fbd62cc2caa5b96d2 54fadb412c4e40cdbaed9335e4c35a9e - - -] 10.11.10.1 \"GET /v2/54fadb412c4e40cdbaed9335e4c35a9e/servers/detail HTTP/1.1\" Return code: 200 len: 1893 time: 0.2618670', 'nova.osapi_compute.wsgi.server [req-23ece7f9-4204-4654-a696-11f5ecfb3f17 113d3a99c3da401fbd62cc2caa5b96d2 54fadb412c4e40cdbaed9335e4c35a9e - - -] 10.11.10.1 \"GET /v2/54fadb412c4e40cdbaed9335e4c35a9e/servers/detail HTTP/1.1\" Return code: 200 len: 1893 time: 0.2591121', 'nova.metadata.wsgi.server [req-bab7dcd0-d989-4e78-b6ba-7bd2f7658191 - - - - -] 10.11.21.143,10.11.10.1 \"GET /openstack/2013-10-17/vendor_data.json HTTP/1.1\" HTTP status code -  200 len: 124 time: 0.2143800', 'nova.osapi_compute.wsgi.server [req-226723dd-2517-44e1-8964-528ef2fad42f 113d3a99c3da401fbd62cc2caa5b96d2 54fadb412c4e40cdbaed9335e4c35a9e - - -] 10.11.10.1 \"GET /v2/54fadb412c4e40cdbaed9335e4c35a9e/servers/detail HTTP/1.1\" status: 200 len: 1893 time: 0.2796719', 'nova.osapi_compute.wsgi.server [req-88f886f0-8d8a-4a1c-9a81-bd954933df8f 113d3a99c3da401fbd62cc2caa5b96d2 54fadb412c4e40cdbaed9335e4c35a9e - - -] 10.11.10.1 \"GET /v2/54fadb412c4e40cdbaed9335e4c35a9e/servers/detail HTTP/1.1\" status: 200 len: 1893 time: 0.2616799', 'nova.osapi_compute.wsgi.server [req-e28227ec-c953-412d-bfea-e9d1ee4387d0 113d3a99c3da401fbd62cc2caa5b96d2 54fadb412c4e40cdbaed9335e4c35a9e - - -] 10.11.10.1 \"GET /v2/54fadb412c4e40cdbaed9335e4c35a9e/servers/detail HTTP/1.1\" status: 200 len: 1893 time: 0.3168991', 'nova.osapi_compute.wsgi.server [req-01f26494-f0ef-4145-8d57-e2afa2aebbdf 113d3a99c3da401fbd62cc2caa5b96d2 54fadb412c4e40cdbaed9335e4c35a9e - - -] 10.11.10.1 \"GET /v2/54fadb412c4e40cdbaed9335e4c35a9e/servers/detail HTTP/1.1\" Return code: 200 len: 1759 time: 0.2775590', 'nova.osapi_compute.wsgi.server [req-d09fddb3-8afa-4d8f-a400-494aad29e9c8 113d3a99c3da401fbd62cc2caa5b96d2 54fadb412c4e40cdbaed9335e4c35a9e - - -] 10.11.10.1 \"GET /v2/54fadb412c4e40cdbaed9335e4c35a9e/servers/detail HTTP/1.1\" Status code -  200 len: 1759 time: 0.2735381', 'nova.metadata.wsgi.server [-] 10.11.21.132,10.11.10.1 \"GET /openstack/2013-10-17/meta_data.json HTTP/1.1\" status: 200 len: 967 time: 0.0009539', 'nova.osapi_compute.wsgi.server [req-e06b0cad-8215-47ba-add9-89ec1daeffb9 113d3a99c3da401fbd62cc2caa5b96d2 54fadb412c4e40cdbaed9335e4c35a9e - - -] 10.11.10.1 \"GET /v2/54fadb412c4e40cdbaed9335e4c35a9e/servers/detail HTTP/1.1\" RCODE  200 len: 1893 time: 0.2420769', 'nova.osapi_compute.wsgi.server [req-1a062c18-f82b-4f19-bcee-27ca6bf5d241 113d3a99c3da401fbd62cc2caa5b96d2 54fadb412c4e40cdbaed9335e4c35a9e - - -] 10.11.10.1 \"GET /v2/54fadb412c4e40cdbaed9335e4c35a9e/servers/detail HTTP/1.1\" RCODE  200 len: 1759 time: 0.2745810', 'nova.osapi_compute.wsgi.server [req-430aaf51-6fd5-4ede-bab8-7ca540ec136c 113d3a99c3da401fbd62cc2caa5b96d2 54fadb412c4e40cdbaed9335e4c35a9e - - -] 10.11.10.1 \"GET /v2/54fadb412c4e40cdbaed9335e4c35a9e/servers/detail HTTP/1.1\" Status code -  200 len: 1916 time: 0.2658210', 'nova.osapi_compute.wsgi.server [req-e78ed642-d348-4419-931e-8d1380eeb864 113d3a99c3da401fbd62cc2caa5b96d2 54fadb412c4e40cdbaed9335e4c35a9e - - -] 10.11.10.1 \"GET /v2/54fadb412c4e40cdbaed9335e4c35a9e/servers/detail HTTP/1.1\" HTTP status code -  200 len: 1893 time: 0.2662079', 'nova.osapi_compute.wsgi.server [req-af7be5c1-cb29-4dba-b7eb-d008e01c9690 113d3a99c3da401fbd62cc2caa5b96d2 54fadb412c4e40cdbaed9335e4c35a9e - - -] 10.11.10.1 \"GET /v2/54fadb412c4e40cdbaed9335e4c35a9e/servers/detail HTTP/1.1\" RCODE  200 len: 1893 time: 0.2762442', 'nova.osapi_compute.wsgi.server [req-5c5129a0-c3fa-4de4-bd08-4cbc5d7964b9 113d3a99c3da401fbd62cc2caa5b96d2 54fadb412c4e40cdbaed9335e4c35a9e - - -] 10.11.10.1 \"GET /v2/54fadb412c4e40cdbaed9335e4c35a9e/servers/detail HTTP/1.1\" Return code: 200 len: 1893 time: 0.2748799', 'nova.osapi_compute.wsgi.server [req-a3fe9ed3-7c8e-418d-8cd6-c4a2f013e31d 113d3a99c3da401fbd62cc2caa5b96d2 54fadb412c4e40cdbaed9335e4c35a9e - - -] 10.11.10.1 \"GET /v2/54fadb412c4e40cdbaed9335e4c35a9e/servers/detail HTTP/1.1\" Return code: 200 len: 1910 time: 0.2771690', 'nova.osapi_compute.wsgi.server [req-d69dd2fe-057c-420c-afea-ba8597cd9982 113d3a99c3da401fbd62cc2caa5b96d2 54fadb412c4e40cdbaed9335e4c35a9e - - -] 10.11.10.1 \"GET /v2/54fadb412c4e40cdbaed9335e4c35a9e/servers/detail HTTP/1.1\" status: 200 len: 1893 time: 0.2567449', 'nova.osapi_compute.wsgi.server [req-981d4d23-d12e-47a6-b1d7-590f5a586156 113d3a99c3da401fbd62cc2caa5b96d2 54fadb412c4e40cdbaed9335e4c35a9e - - -] 10.11.10.1 \"GET /v2/54fadb412c4e40cdbaed9335e4c35a9e/servers/detail HTTP/1.1\" Return code: 200 len: 1575 time: 0.2966871', 'nova.osapi_compute.wsgi.server [req-3029fcaa-2872-4bc1-be4d-59de67fbabe1 113d3a99c3da401fbd62cc2caa5b96d2 54fadb412c4e40cdbaed9335e4c35a9e - - -] 10.11.10.1 \"GET /v2/54fadb412c4e40cdbaed9335e4c35a9e/servers/detail HTTP/1.1\" Return code: 200 len: 1910 time: 0.2587130', 'nova.osapi_compute.wsgi.server [req-b9fc4b7e-0550-40d7-affa-7939509a0ef2 113d3a99c3da401fbd62cc2caa5b96d2 54fadb412c4e40cdbaed9335e4c35a9e - - -] 10.11.10.1 \"GET /v2/54fadb412c4e40cdbaed9335e4c35a9e/servers/detail HTTP/1.1\" HTTP status code -  200 len: 1893 time: 0.3734829', 'nova.osapi_compute.wsgi.server [req-6d8d14b0-9baf-4de0-b02a-abd9d158342d 113d3a99c3da401fbd62cc2caa5b96d2 54fadb412c4e40cdbaed9335e4c35a9e - - -] 10.11.10.1 \"GET /v2/54fadb412c4e40cdbaed9335e4c35a9e/servers/detail HTTP/1.1\" Return code: 200 len: 1893 time: 0.2724118', 'nova.osapi_compute.wsgi.server [req-2fea3fa7-dd69-4371-b956-e6edcdbf175b 113d3a99c3da401fbd62cc2caa5b96d2 54fadb412c4e40cdbaed9335e4c35a9e - - -] 10.11.10.1 \"GET /v2/54fadb412c4e40cdbaed9335e4c35a9e/servers/detail HTTP/1.1\" HTTP status code -  200 len: 1893 time: 0.2923260', 'nova.osapi_compute.wsgi.server [req-29a09cdb-3169-4c40-8bd1-552636286362 113d3a99c3da401fbd62cc2caa5b96d2 54fadb412c4e40cdbaed9335e4c35a9e - - -] 10.11.10.1 \"POST /v2/54fadb412c4e40cdbaed9335e4c35a9e/servers HTTP/1.1\" Return code: 202 len: 733 time: 0.5533919', 'nova.osapi_compute.wsgi.server [req-e2337654-a816-4dff-9610-c34d22b07019 113d3a99c3da401fbd62cc2caa5b96d2 54fadb412c4e40cdbaed9335e4c35a9e - - -] 10.11.10.1 \"GET /v2/54fadb412c4e40cdbaed9335e4c35a9e/servers/detail HTTP/1.1\" HTTP status code -  200 len: 1759 time: 0.2732439', 'nova.osapi_compute.wsgi.server [req-ce3a7cb6-1b77-4a95-a38a-4a886e8be2a8 113d3a99c3da401fbd62cc2caa5b96d2 54fadb412c4e40cdbaed9335e4c35a9e - - -] 10.11.10.1 \"GET /v2/54fadb412c4e40cdbaed9335e4c35a9e/servers/detail HTTP/1.1\" Status code -  200 len: 1893 time: 0.2661889', 'nova.osapi_compute.wsgi.server [req-0f4ba393-7607-4e33-aac9-bca155244bd5 113d3a99c3da401fbd62cc2caa5b96d2 54fadb412c4e40cdbaed9335e4c35a9e - - -] 10.11.10.1 \"GET /v2/54fadb412c4e40cdbaed9335e4c35a9e/servers/detail HTTP/1.1\" HTTP status code -  200 len: 1916 time: 0.2653639', 'nova.osapi_compute.wsgi.server [req-aeff33d0-dd58-4d76-bfec-d25b843a0521 113d3a99c3da401fbd62cc2caa5b96d2 54fadb412c4e40cdbaed9335e4c35a9e - - -] 10.11.10.1 \"GET /v2/54fadb412c4e40cdbaed9335e4c35a9e/servers/detail HTTP/1.1\" HTTP status code -  200 len: 1893 time: 0.2706490', 'nova.osapi_compute.wsgi.server [req-aaefd74f-734e-484c-872f-cc6fe0a37a8f 113d3a99c3da401fbd62cc2caa5b96d2 54fadb412c4e40cdbaed9335e4c35a9e - - -] 10.11.10.1 \"GET /v2/54fadb412c4e40cdbaed9335e4c35a9e/servers/ae3a1b5d-eec1-45bb-b76a-c59d83b1471f HTTP/1.1\" Status code -  200 len: 1708 time: 0.1892228', 'nova.osapi_compute.wsgi.server [req-bdd0d3f5-8b43-4b08-ad83-4753e5dd25c2 113d3a99c3da401fbd62cc2caa5b96d2 54fadb412c4e40cdbaed9335e4c35a9e - - -] 10.11.10.1 \"GET /v2/54fadb412c4e40cdbaed9335e4c35a9e/servers/detail HTTP/1.1\" Return code: 200 len: 211 time: 0.0908029', 'nova.osapi_compute.wsgi.server [req-a36c9659-b804-4c4f-952a-693b747decac 113d3a99c3da401fbd62cc2caa5b96d2 54fadb412c4e40cdbaed9335e4c35a9e - - -] 10.11.10.1 \"GET /v2/54fadb412c4e40cdbaed9335e4c35a9e/servers/detail HTTP/1.1\" status: 200 len: 1916 time: 0.2665620', 'nova.metadata.wsgi.server [req-b0c8e9d7-4c07-4875-80da-ee5c41be4832 - - - - -] 10.11.21.134,10.11.10.1 \"GET /openstack/2013-10-17/vendor_data.json HTTP/1.1\" Status code -  200 len: 124 time: 0.2222700', 'nova.osapi_compute.wsgi.server [req-2fd26d35-366a-4fea-9452-0e22e3ff995b f7b8d1f1d4d44643b07fa10ca7d021fb e9746973ac574c6b8a9e8857f56a7608 - - -] 10.11.10.1 \"POST /v2/e9746973ac574c6b8a9e8857f56a7608/os-server-external-events HTTP/1.1\" status: 200 len: 380 time: 0.0913880', 'nova.osapi_compute.wsgi.server [req-723faf03-db43-4131-a339-c792974c7721 113d3a99c3da401fbd62cc2caa5b96d2 54fadb412c4e40cdbaed9335e4c35a9e - - -] 10.11.10.1 \"GET /v2/54fadb412c4e40cdbaed9335e4c35a9e/servers/detail HTTP/1.1\" Return code: 200 len: 1759 time: 0.2896700', 'nova.osapi_compute.wsgi.server [req-5930f621-ff62-4c56-a7c4-04165c4b235a 113d3a99c3da401fbd62cc2caa5b96d2 54fadb412c4e40cdbaed9335e4c35a9e - - -] 10.11.10.1 \"GET /v2/54fadb412c4e40cdbaed9335e4c35a9e/servers/detail HTTP/1.1\" Return code: 200 len: 1893 time: 0.2803490', 'nova.osapi_compute.wsgi.server [req-ee54c54f-9e2f-4f81-b6d9-4a1d5f2d3143 113d3a99c3da401fbd62cc2caa5b96d2 54fadb412c4e40cdbaed9335e4c35a9e - - -] 10.11.10.1 \"GET /v2/54fadb412c4e40cdbaed9335e4c35a9e/servers/af5f7392-f7d4-4298-b647-c98924c64aa1 HTTP/1.1\" HTTP status code -  200 len: 1708 time: 0.1915350', 'nova.osapi_compute.wsgi.server [req-bb582317-a5f0-432d-b7a1-604ce4024a61 113d3a99c3da401fbd62cc2caa5b96d2 54fadb412c4e40cdbaed9335e4c35a9e - - -] 10.11.10.1 \"GET /v2/54fadb412c4e40cdbaed9335e4c35a9e/servers/detail HTTP/1.1\" RCODE  200 len: 1893 time: 0.2720761', 'nova.osapi_compute.wsgi.server [req-61ab7fb1-ea13-4170-9529-ed2c20312112 113d3a99c3da401fbd62cc2caa5b96d2 54fadb412c4e40cdbaed9335e4c35a9e - - -] 10.11.10.1 \"GET /v2/54fadb412c4e40cdbaed9335e4c35a9e/servers/detail HTTP/1.1\" Return code: 200 len: 1583 time: 0.1983159', 'nova.osapi_compute.wsgi.server [req-6e610a81-5877-45d7-ae19-1516790a3030 113d3a99c3da401fbd62cc2caa5b96d2 54fadb412c4e40cdbaed9335e4c35a9e - - -] 10.11.10.1 \"GET /v2/54fadb412c4e40cdbaed9335e4c35a9e/servers/detail HTTP/1.1\" Return code: 200 len: 1893 time: 0.2691090', 'nova.osapi_compute.wsgi.server [req-d81279b2-d9df-48b7-9c36-edab3801c067 113d3a99c3da401fbd62cc2caa5b96d2 54fadb412c4e40cdbaed9335e4c35a9e - - -] 10.11.10.1 \"GET /v2/54fadb412c4e40cdbaed9335e4c35a9e/servers/detail HTTP/1.1\" status: 200 len: 1910 time: 0.2808621', 'nova.metadata.wsgi.server [req-386447cd-167b-4202-aeaa-fd90d85b53b8 - - - - -] 10.11.21.126,10.11.10.1 \"GET /openstack/2013-10-17/meta_data.json HTTP/1.1\" HTTP status code -  200 len: 967 time: 0.2158179', 'nova.osapi_compute.wsgi.server [req-60b39154-68cf-4345-85ba-a56c897b7d66 113d3a99c3da401fbd62cc2caa5b96d2 54fadb412c4e40cdbaed9335e4c35a9e - - -] 10.11.10.1 \"GET /v2/54fadb412c4e40cdbaed9335e4c35a9e/servers/detail HTTP/1.1\" Return code: 200 len: 1893 time: 0.2642689', 'nova.osapi_compute.wsgi.server [req-109ff6a8-131b-47fb-978f-fca442499379 113d3a99c3da401fbd62cc2caa5b96d2 54fadb412c4e40cdbaed9335e4c35a9e - - -] 10.11.10.1 \"GET /v2/54fadb412c4e40cdbaed9335e4c35a9e/servers/detail HTTP/1.1\" Status code -  200 len: 1916 time: 0.3658569', 'nova.osapi_compute.wsgi.server [req-41e63879-5cf5-4846-8bb8-4caf07985a8c 113d3a99c3da401fbd62cc2caa5b96d2 54fadb412c4e40cdbaed9335e4c35a9e - - -] 10.11.10.1 \"GET /v2/54fadb412c4e40cdbaed9335e4c35a9e/servers/detail HTTP/1.1\" RCODE  200 len: 1893 time: 0.2571011', 'nova.osapi_compute.wsgi.server [req-b7cfcfab-18ec-4bde-a156-fdb1b2f47c00 113d3a99c3da401fbd62cc2caa5b96d2 54fadb412c4e40cdbaed9335e4c35a9e - - -] 10.11.10.1 \"GET /v2/54fadb412c4e40cdbaed9335e4c35a9e/servers/detail HTTP/1.1\" Status code -  200 len: 1893 time: 0.2587070', 'nova.osapi_compute.wsgi.server [req-b0e44ae8-e497-4e7f-971d-fec7ab6cdc78 113d3a99c3da401fbd62cc2caa5b96d2 54fadb412c4e40cdbaed9335e4c35a9e - - -] 10.11.10.1 \"GET /v2/54fadb412c4e40cdbaed9335e4c35a9e/servers/detail HTTP/1.1\" Status code -  200 len: 1893 time: 0.2749891', 'nova.osapi_compute.wsgi.server [req-896c8e56-99d8-4dad-8eeb-cf3effe66eca 113d3a99c3da401fbd62cc2caa5b96d2 54fadb412c4e40cdbaed9335e4c35a9e - - -] 10.11.10.1 \"GET /v2/54fadb412c4e40cdbaed9335e4c35a9e/servers/detail HTTP/1.1\" RCODE  200 len: 1893 time: 0.2536900', 'nova.osapi_compute.wsgi.server [req-ab6ff6af-451d-49d8-be95-0fcdfd749a0b 113d3a99c3da401fbd62cc2caa5b96d2 54fadb412c4e40cdbaed9335e4c35a9e - - -] 10.11.10.1 \"GET /v2/54fadb412c4e40cdbaed9335e4c35a9e/servers/detail HTTP/1.1\" RCODE  200 len: 1893 time: 0.2665989', 'nova.metadata.wsgi.server [-] 10.11.21.135,10.11.10.1 \"GET /openstack/2013-10-17/meta_data.json HTTP/1.1\" status: 200 len: 967 time: 0.0009611', 'nova.osapi_compute.wsgi.server [req-b9a11572-cb40-4192-9bbb-0aa909c3e0f6 113d3a99c3da401fbd62cc2caa5b96d2 54fadb412c4e40cdbaed9335e4c35a9e - - -] 10.11.10.1 \"GET /v2/54fadb412c4e40cdbaed9335e4c35a9e/servers/detail HTTP/1.1\" Return code: 200 len: 1893 time: 0.3834350', 'nova.osapi_compute.wsgi.server [req-93ebec7f-31c0-4efe-bd3c-b139f832b447 113d3a99c3da401fbd62cc2caa5b96d2 54fadb412c4e40cdbaed9335e4c35a9e - - -] 10.11.10.1 \"GET /v2/54fadb412c4e40cdbaed9335e4c35a9e/servers/detail HTTP/1.1\" Return code: 200 len: 1759 time: 0.2773421', 'nova.osapi_compute.wsgi.server [req-243b1f1f-768b-4eb9-a559-3887ce7544ca 113d3a99c3da401fbd62cc2caa5b96d2 54fadb412c4e40cdbaed9335e4c35a9e - - -] 10.11.10.1 \"GET /v2/54fadb412c4e40cdbaed9335e4c35a9e/servers/detail HTTP/1.1\" Status code -  200 len: 1893 time: 0.2688351', 'nova.metadata.wsgi.server [-] 10.11.21.132,10.11.10.1 \"GET /latest/meta-data/local-hostname HTTP/1.1\" status: 200 len: 130 time: 0.0007689', 'nova.metadata.wsgi.server [-] 10.11.21.135,10.11.10.1 \"GET /latest/meta-data/block-device-mapping/root HTTP/1.1\" Return code: 200 len: 124 time: 0.0009499', 'nova.osapi_compute.wsgi.server [req-4df3e4ef-09e7-4806-a7e9-bbb5a052ab1b 113d3a99c3da401fbd62cc2caa5b96d2 54fadb412c4e40cdbaed9335e4c35a9e - - -] 10.11.10.1 \"DELETE /v2/54fadb412c4e40cdbaed9335e4c35a9e/servers/70c1714b-c11b-4c88-b300-239afe1f5ff8 HTTP/1.1\" RCODE  204 len: 203 time: 0.2632701', 'nova.osapi_compute.wsgi.server [req-91265cb3-65b6-438e-91a9-a4e8ac3714d7 113d3a99c3da401fbd62cc2caa5b96d2 54fadb412c4e40cdbaed9335e4c35a9e - - -] 10.11.10.1 \"GET /v2/54fadb412c4e40cdbaed9335e4c35a9e/servers/detail HTTP/1.1\" Status code -  200 len: 1759 time: 0.2671440', 'nova.osapi_compute.wsgi.server [req-5825bf9a-4201-4b20-a68a-f3a7e1addf40 f7b8d1f1d4d44643b07fa10ca7d021fb e9746973ac574c6b8a9e8857f56a7608 - - -] 10.11.10.1 \"POST /v2/e9746973ac574c6b8a9e8857f56a7608/os-server-external-events HTTP/1.1\" status: 200 len: 380 time: 0.0999198', 'nova.osapi_compute.wsgi.server [req-70697504-27f7-40b2-a95b-ef2e60a299b0 113d3a99c3da401fbd62cc2caa5b96d2 54fadb412c4e40cdbaed9335e4c35a9e - - -] 10.11.10.1 \"GET /v2/54fadb412c4e40cdbaed9335e4c35a9e/servers/detail HTTP/1.1\" status: 200 len: 1893 time: 0.3723969', 'nova.osapi_compute.wsgi.server [req-47b64d2e-e73c-4948-a1f9-17c873456407 113d3a99c3da401fbd62cc2caa5b96d2 54fadb412c4e40cdbaed9335e4c35a9e - - -] 10.11.10.1 \"GET /v2/54fadb412c4e40cdbaed9335e4c35a9e/servers/detail HTTP/1.1\" status: 200 len: 1583 time: 0.1934071', 'nova.osapi_compute.wsgi.server [req-4f3253c1-cda0-44a7-b910-a1e816a985fe 113d3a99c3da401fbd62cc2caa5b96d2 54fadb412c4e40cdbaed9335e4c35a9e - - -] 10.11.10.1 \"GET /v2/54fadb412c4e40cdbaed9335e4c35a9e/servers/detail HTTP/1.1\" HTTP status code -  200 len: 1893 time: 0.2570450', 'nova.osapi_compute.wsgi.server [req-7a0b0b1d-c0a6-4b5e-b136-946e4779c49e 113d3a99c3da401fbd62cc2caa5b96d2 54fadb412c4e40cdbaed9335e4c35a9e - - -] 10.11.10.1 \"GET /v2/54fadb412c4e40cdbaed9335e4c35a9e/servers/detail HTTP/1.1\" HTTP status code -  200 len: 1759 time: 0.3730500', 'nova.osapi_compute.wsgi.server [req-5af8f9a2-fcb3-47b3-b34e-5286b95b0b8b 113d3a99c3da401fbd62cc2caa5b96d2 54fadb412c4e40cdbaed9335e4c35a9e - - -] 10.11.10.1 \"GET /v2/54fadb412c4e40cdbaed9335e4c35a9e/servers/detail HTTP/1.1\" Status code -  200 len: 1893 time: 0.2692139', 'nova.osapi_compute.wsgi.server [req-f486a199-9e29-45b5-91c5-42e148ce5712 113d3a99c3da401fbd62cc2caa5b96d2 54fadb412c4e40cdbaed9335e4c35a9e - - -] 10.11.10.1 \"GET /v2/54fadb412c4e40cdbaed9335e4c35a9e/servers/detail HTTP/1.1\" Return code: 200 len: 1893 time: 0.2863400', 'nova.osapi_compute.wsgi.server [req-cb466503-b438-4e85-b0aa-c543398c97d2 113d3a99c3da401fbd62cc2caa5b96d2 54fadb412c4e40cdbaed9335e4c35a9e - - -] 10.11.10.1 \"GET /v2/54fadb412c4e40cdbaed9335e4c35a9e/servers/detail HTTP/1.1\" Status code -  200 len: 1893 time: 0.2626660', 'nova.osapi_compute.wsgi.server [req-c0a17f48-be13-4aef-becf-c37a92070a7d 113d3a99c3da401fbd62cc2caa5b96d2 54fadb412c4e40cdbaed9335e4c35a9e - - -] 10.11.10.1 \"GET /v2/54fadb412c4e40cdbaed9335e4c35a9e/servers/be793e89-2cc3-4f99-9884-9c6a624a84bc HTTP/1.1\" Return code: 200 len: 1708 time: 0.1866481', 'nova.osapi_compute.wsgi.server [req-aed90710-a0a8-43a6-bd76-ae5572354e8d 113d3a99c3da401fbd62cc2caa5b96d2 54fadb412c4e40cdbaed9335e4c35a9e - - -] 10.11.10.1 \"GET /v2/54fadb412c4e40cdbaed9335e4c35a9e/servers/detail HTTP/1.1\" Status code -  200 len: 1893 time: 0.2693179', 'nova.osapi_compute.wsgi.server [req-f3305c24-054a-4bd7-b2cb-959552349f8b 113d3a99c3da401fbd62cc2caa5b96d2 54fadb412c4e40cdbaed9335e4c35a9e - - -] 10.11.10.1 \"GET /v2/54fadb412c4e40cdbaed9335e4c35a9e/servers/detail HTTP/1.1\" status: 200 len: 1893 time: 0.2426131', 'nova.osapi_compute.wsgi.server [req-bc51e9df-dfc1-4406-8bbb-6d4b4d6e0e20 113d3a99c3da401fbd62cc2caa5b96d2 54fadb412c4e40cdbaed9335e4c35a9e - - -] 10.11.10.1 \"GET /v2/54fadb412c4e40cdbaed9335e4c35a9e/servers/detail HTTP/1.1\" Status code -  200 len: 1893 time: 0.2498078', 'nova.osapi_compute.wsgi.server [req-76572632-711f-443c-97fd-3910faa34e1f 113d3a99c3da401fbd62cc2caa5b96d2 54fadb412c4e40cdbaed9335e4c35a9e - - -] 10.11.10.1 \"GET /v2/54fadb412c4e40cdbaed9335e4c35a9e/servers/detail HTTP/1.1\" status: 200 len: 1910 time: 0.2556660', 'nova.metadata.wsgi.server [-] 10.11.21.126,10.11.10.1 \"GET /openstack/2013-10-17 HTTP/1.1\" RCODE  200 len: 157 time: 0.0006402', 'nova.osapi_compute.wsgi.server [req-bb86cdcb-2b6e-410f-b422-7209c14f060d 113d3a99c3da401fbd62cc2caa5b96d2 54fadb412c4e40cdbaed9335e4c35a9e - - -] 10.11.10.1 \"GET /v2/54fadb412c4e40cdbaed9335e4c35a9e/servers/detail HTTP/1.1\" HTTP status code -  200 len: 1575 time: 0.1929309', 'nova.osapi_compute.wsgi.server [req-5068a20e-3eff-480e-aa0f-11d004908fe4 113d3a99c3da401fbd62cc2caa5b96d2 54fadb412c4e40cdbaed9335e4c35a9e - - -] 10.11.10.1 \"GET /v2/54fadb412c4e40cdbaed9335e4c35a9e/servers/detail HTTP/1.1\" Status code -  200 len: 1893 time: 0.2559950', 'nova.osapi_compute.wsgi.server [req-bc4a646e-41af-4ec9-b74c-341d98b4912e 113d3a99c3da401fbd62cc2caa5b96d2 54fadb412c4e40cdbaed9335e4c35a9e - - -] 10.11.10.1 \"GET /v2/54fadb412c4e40cdbaed9335e4c35a9e/servers/detail HTTP/1.1\" Return code: 200 len: 1893 time: 0.2636530', 'nova.osapi_compute.wsgi.server [req-ffb8f145-8d6f-4f36-a8ff-c93c67f00c73 f7b8d1f1d4d44643b07fa10ca7d021fb e9746973ac574c6b8a9e8857f56a7608 - - -] 10.11.10.1 \"POST /v2/e9746973ac574c6b8a9e8857f56a7608/os-server-external-events HTTP/1.1\" RCODE  404 len: 296 time: 0.0967801', 'nova.osapi_compute.wsgi.server [req-9ae643e5-6c72-44f6-a04f-db3339d55f20 113d3a99c3da401fbd62cc2caa5b96d2 54fadb412c4e40cdbaed9335e4c35a9e - - -] 10.11.10.1 \"GET /v2/54fadb412c4e40cdbaed9335e4c35a9e/servers/detail HTTP/1.1\" RCODE  200 len: 1893 time: 0.2647748', 'nova.osapi_compute.wsgi.server [req-1480c231-74f8-46d8-9467-9bc9f1645c87 113d3a99c3da401fbd62cc2caa5b96d2 54fadb412c4e40cdbaed9335e4c35a9e - - -] 10.11.10.1 \"GET /v2/54fadb412c4e40cdbaed9335e4c35a9e/servers/detail HTTP/1.1\" Status code -  200 len: 1916 time: 0.2783649', 'nova.osapi_compute.wsgi.server [req-77753070-ea2f-46c8-8fa6-2a21b015c00f 113d3a99c3da401fbd62cc2caa5b96d2 54fadb412c4e40cdbaed9335e4c35a9e - - -] 10.11.10.1 \"GET /v2/54fadb412c4e40cdbaed9335e4c35a9e/servers/detail HTTP/1.1\" Status code -  200 len: 1893 time: 0.2621701', 'nova.osapi_compute.wsgi.server [req-83ffe6d1-b745-4902-832b-44a5e5b480d0 113d3a99c3da401fbd62cc2caa5b96d2 54fadb412c4e40cdbaed9335e4c35a9e - - -] 10.11.10.1 \"GET /v2/54fadb412c4e40cdbaed9335e4c35a9e/servers/detail HTTP/1.1\" Status code -  200 len: 1893 time: 0.2706349', 'nova.osapi_compute.wsgi.server [req-1d1c4773-caa1-4408-8cc7-8475d9bb358e 113d3a99c3da401fbd62cc2caa5b96d2 54fadb412c4e40cdbaed9335e4c35a9e - - -] 10.11.10.1 \"GET /v2/54fadb412c4e40cdbaed9335e4c35a9e/servers/detail HTTP/1.1\" RCODE  200 len: 1893 time: 0.3579462', 'nova.osapi_compute.wsgi.server [req-1375293f-4b18-49f6-a38e-2bad37034b98 113d3a99c3da401fbd62cc2caa5b96d2 54fadb412c4e40cdbaed9335e4c35a9e - - -] 10.11.10.1 \"GET /v2/54fadb412c4e40cdbaed9335e4c35a9e/servers/detail HTTP/1.1\" HTTP status code -  200 len: 1893 time: 0.2700448', 'nova.osapi_compute.wsgi.server [req-323b974a-761f-4406-b306-b93e2bb5e478 113d3a99c3da401fbd62cc2caa5b96d2 54fadb412c4e40cdbaed9335e4c35a9e - - -] 10.11.10.1 \"GET /v2/54fadb412c4e40cdbaed9335e4c35a9e/servers/78dc1847-8848-49cc-933e-9239b12c9dcf HTTP/1.1\" Return code: 200 len: 1708 time: 0.1951439', 'nova.osapi_compute.wsgi.server [req-efbd124c-7597-41ac-8a22-78c44eb4fcbb 113d3a99c3da401fbd62cc2caa5b96d2 54fadb412c4e40cdbaed9335e4c35a9e - - -] 10.11.10.1 \"GET /v2/54fadb412c4e40cdbaed9335e4c35a9e/servers/detail HTTP/1.1\" Return code: 200 len: 1893 time: 0.2458200', 'nova.osapi_compute.wsgi.server [req-5bb78d63-0f3e-4f7e-b545-272cd7cbe517 113d3a99c3da401fbd62cc2caa5b96d2 54fadb412c4e40cdbaed9335e4c35a9e - - -] 10.11.10.1 \"GET /v2/54fadb412c4e40cdbaed9335e4c35a9e/servers/detail HTTP/1.1\" status: 200 len: 1759 time: 0.3940661', 'nova.osapi_compute.wsgi.server [req-a70bb1f3-4825-4f34-a58f-d94ba87be696 113d3a99c3da401fbd62cc2caa5b96d2 54fadb412c4e40cdbaed9335e4c35a9e - - -] 10.11.10.1 \"GET /v2/54fadb412c4e40cdbaed9335e4c35a9e/servers/detail HTTP/1.1\" Return code: 200 len: 1893 time: 0.2621419', 'nova.metadata.wsgi.server [req-a1ef568c-59da-48e0-ad9c-64a66da68a4c - - - - -] 10.11.21.136,10.11.10.1 \"GET /openstack/2013-10-17/user_data HTTP/1.1\" status: 404 len: 176 time: 0.2141590', 'nova.osapi_compute.wsgi.server [req-47727d10-5693-482b-8a10-ae94798bfa8e 113d3a99c3da401fbd62cc2caa5b96d2 54fadb412c4e40cdbaed9335e4c35a9e - - -] 10.11.10.1 \"GET /v2/54fadb412c4e40cdbaed9335e4c35a9e/servers/detail HTTP/1.1\" Status code -  200 len: 1893 time: 0.2909820', 'nova.metadata.wsgi.server [-] 10.11.21.129,10.11.10.1 \"GET /latest/meta-data/block-device-mapping/ami HTTP/1.1\" RCODE  200 len: 119 time: 0.0008659', 'nova.osapi_compute.wsgi.server [req-2a800172-ad24-4031-9a51-d3495146717f 113d3a99c3da401fbd62cc2caa5b96d2 54fadb412c4e40cdbaed9335e4c35a9e - - -] 10.11.10.1 \"GET /v2/54fadb412c4e40cdbaed9335e4c35a9e/servers/7e7cc42f-3cb9-4d91-804c-f5a32d54f1c5 HTTP/1.1\" status: 200 len: 1572 time: 0.1838732', 'nova.osapi_compute.wsgi.server [req-6a763803-4838-49c7-814e-eaefbaddee9d 113d3a99c3da401fbd62cc2caa5b96d2 54fadb412c4e40cdbaed9335e4c35a9e - - -] 10.11.10.1 \"POST /v2/54fadb412c4e40cdbaed9335e4c35a9e/servers HTTP/1.1\" HTTP status code -  202 len: 733 time: 0.6686139', 'nova.metadata.wsgi.server [req-91801364-8068-4e06-88b0-2075c365d41a - - - - -] 10.11.21.136,10.11.10.1 \"GET /latest/meta-data/block-device-mapping/ HTTP/1.1\" Return code: 200 len: 124 time: 0.2300491', 'nova.osapi_compute.wsgi.server [req-bafa2157-685a-4091-b1e9-eb8635e92273 113d3a99c3da401fbd62cc2caa5b96d2 54fadb412c4e40cdbaed9335e4c35a9e - - -] 10.11.10.1 \"GET /v2/54fadb412c4e40cdbaed9335e4c35a9e/servers/detail HTTP/1.1\" status: 200 len: 1893 time: 0.2600479', 'nova.osapi_compute.wsgi.server [req-8d6c4fd5-5df1-4eb8-b38b-9dd170a7e4a7 113d3a99c3da401fbd62cc2caa5b96d2 54fadb412c4e40cdbaed9335e4c35a9e - - -] 10.11.10.1 \"GET /v2/54fadb412c4e40cdbaed9335e4c35a9e/servers/detail HTTP/1.1\" Return code: 200 len: 1893 time: 0.2576051', 'nova.osapi_compute.wsgi.server [req-8913af36-e6b2-4bb8-8efc-38328f8df4f2 113d3a99c3da401fbd62cc2caa5b96d2 54fadb412c4e40cdbaed9335e4c35a9e - - -] 10.11.10.1 \"GET /v2/54fadb412c4e40cdbaed9335e4c35a9e/servers/detail HTTP/1.1\" Return code: 200 len: 1910 time: 0.2723920', 'nova.metadata.wsgi.server [req-9cf301ad-363b-4559-82af-0c80f0e615bb - - - - -] 10.11.21.137,10.11.10.1 \"GET /openstack/2013-10-17/vendor_data.json HTTP/1.1\" Status code -  200 len: 124 time: 0.2337520', 'nova.metadata.wsgi.server [-] 10.11.21.139,10.11.10.1 \"GET /openstack/2013-10-17/meta_data.json HTTP/1.1\" RCODE  200 len: 967 time: 0.0007999', 'nova.osapi_compute.wsgi.server [req-7f1448b8-38fe-4dc3-b1d7-ca0058b598bd 113d3a99c3da401fbd62cc2caa5b96d2 54fadb412c4e40cdbaed9335e4c35a9e - - -] 10.11.10.1 \"GET /v2/54fadb412c4e40cdbaed9335e4c35a9e/servers/detail HTTP/1.1\" status: 200 len: 1910 time: 0.2568409', 'nova.osapi_compute.wsgi.server [req-d68496f5-904c-4250-841e-b6efeba3bad2 113d3a99c3da401fbd62cc2caa5b96d2 54fadb412c4e40cdbaed9335e4c35a9e - - -] 10.11.10.1 \"GET /v2/54fadb412c4e40cdbaed9335e4c35a9e/servers/detail HTTP/1.1\" Return code: 200 len: 1893 time: 0.4324191', 'nova.osapi_compute.wsgi.server [req-7909bf67-0040-4290-a996-c16ad91da03b 113d3a99c3da401fbd62cc2caa5b96d2 54fadb412c4e40cdbaed9335e4c35a9e - - -] 10.11.10.1 \"GET /v2/54fadb412c4e40cdbaed9335e4c35a9e/servers/detail HTTP/1.1\" Return code: 200 len: 1893 time: 0.2673891', 'nova.metadata.wsgi.server [req-02daae83-21bb-40d2-a6da-3cb3fdd661d0 - - - - -] 10.11.21.142,10.11.10.1 \"GET /openstack/2013-10-17/meta_data.json HTTP/1.1\" Status code -  200 len: 967 time: 0.2429230', 'nova.osapi_compute.wsgi.server [req-2aa79807-3ca7-40ed-92cf-b00558282857 113d3a99c3da401fbd62cc2caa5b96d2 54fadb412c4e40cdbaed9335e4c35a9e - - -] 10.11.10.1 \"GET /v2/54fadb412c4e40cdbaed9335e4c35a9e/servers/detail HTTP/1.1\" Return code: 200 len: 1893 time: 0.2837162', 'nova.osapi_compute.wsgi.server [req-80d1efbd-1f02-4091-9827-adafc6003e3f 113d3a99c3da401fbd62cc2caa5b96d2 54fadb412c4e40cdbaed9335e4c35a9e - - -] 10.11.10.1 \"GET /v2/54fadb412c4e40cdbaed9335e4c35a9e/servers/detail HTTP/1.1\" Status code -  200 len: 1893 time: 0.2598870', 'nova.osapi_compute.wsgi.server [req-afb5ee70-39d1-435e-9bf9-2fc3339c5b5b 113d3a99c3da401fbd62cc2caa5b96d2 54fadb412c4e40cdbaed9335e4c35a9e - - -] 10.11.10.1 \"POST /v2/54fadb412c4e40cdbaed9335e4c35a9e/servers HTTP/1.1\" status: 202 len: 733 time: 0.5053148', 'nova.osapi_compute.wsgi.server [req-beb938db-df6e-4611-8113-1a148a0224bc 113d3a99c3da401fbd62cc2caa5b96d2 54fadb412c4e40cdbaed9335e4c35a9e - - -] 10.11.10.1 \"POST /v2/54fadb412c4e40cdbaed9335e4c35a9e/servers HTTP/1.1\" status: 202 len: 733 time: 0.5341210', 'nova.metadata.wsgi.server [req-875ce34e-697a-49a6-83d1-d50427627932 - - - - -] 10.11.21.131,10.11.10.1 \"GET /openstack/2012-08-10/meta_data.json HTTP/1.1\" RCODE  200 len: 264 time: 0.2973430', 'nova.osapi_compute.wsgi.server [req-ec9d2f4e-9c80-4752-bd12-de53bdea6321 113d3a99c3da401fbd62cc2caa5b96d2 54fadb412c4e40cdbaed9335e4c35a9e - - -] 10.11.10.1 \"GET /v2/54fadb412c4e40cdbaed9335e4c35a9e/servers/detail HTTP/1.1\" HTTP status code -  200 len: 1893 time: 0.3798852', 'nova.metadata.wsgi.server [-] 10.11.21.123,10.11.10.1 \"GET /latest/meta-data/block-device-mapping/ HTTP/1.1\" status: 200 len: 124 time: 0.0008931', 'nova.metadata.wsgi.server [req-816e73b8-912b-4ce2-802f-2ac72c996398 - - - - -] 10.11.21.134,10.11.10.1 \"GET /openstack/2013-10-17 HTTP/1.1\" HTTP status code -  200 len: 157 time: 0.2231328', 'nova.osapi_compute.wsgi.server [req-97a94302-7980-4793-9333-2254342e1d40 113d3a99c3da401fbd62cc2caa5b96d2 54fadb412c4e40cdbaed9335e4c35a9e - - -] 10.11.10.1 \"GET /v2/54fadb412c4e40cdbaed9335e4c35a9e/servers/detail HTTP/1.1\" status: 200 len: 1893 time: 0.2462721', 'nova.metadata.wsgi.server [-] 10.11.21.139,10.11.10.1 \"GET /latest/meta-data/security-groups HTTP/1.1\" Return code: 200 len: 123 time: 0.0008359', 'nova.osapi_compute.wsgi.server [req-79fc63ab-432b-40e7-b612-fe4bb62bb25f 113d3a99c3da401fbd62cc2caa5b96d2 54fadb412c4e40cdbaed9335e4c35a9e - - -] 10.11.10.1 \"DELETE /v2/54fadb412c4e40cdbaed9335e4c35a9e/servers/fecdd5a9-3ca0-4c82-9336-63b7774f738e HTTP/1.1\" status: 204 len: 203 time: 0.2630820', 'nova.osapi_compute.wsgi.server [req-ae7c1466-8f74-4112-bb31-d2e2652275de 113d3a99c3da401fbd62cc2caa5b96d2 54fadb412c4e40cdbaed9335e4c35a9e - - -] 10.11.10.1 \"DELETE /v2/54fadb412c4e40cdbaed9335e4c35a9e/servers/d54b44eb-2d1a-4aa2-ba6b-074d35f8f12c HTTP/1.1\" Status code -  204 len: 203 time: 0.2855930', 'nova.osapi_compute.wsgi.server [req-a72df015-19d7-49db-bbde-5b4163055d4f 113d3a99c3da401fbd62cc2caa5b96d2 54fadb412c4e40cdbaed9335e4c35a9e - - -] 10.11.10.1 \"GET /v2/54fadb412c4e40cdbaed9335e4c35a9e/servers/detail HTTP/1.1\" RCODE  200 len: 1893 time: 0.2596569', 'nova.osapi_compute.wsgi.server [req-e3697d4c-fc1d-4871-a2ca-bf214a413669 113d3a99c3da401fbd62cc2caa5b96d2 54fadb412c4e40cdbaed9335e4c35a9e - - -] 10.11.10.1 \"GET /v2/54fadb412c4e40cdbaed9335e4c35a9e/servers/detail HTTP/1.1\" HTTP status code -  200 len: 1893 time: 0.2555609', 'nova.osapi_compute.wsgi.server [req-4633379f-e44c-47c6-a6d0-2aa71067f9db 113d3a99c3da401fbd62cc2caa5b96d2 54fadb412c4e40cdbaed9335e4c35a9e - - -] 10.11.10.1 \"GET /v2/54fadb412c4e40cdbaed9335e4c35a9e/servers/detail HTTP/1.1\" HTTP status code -  200 len: 211 time: 0.0956130', 'nova.osapi_compute.wsgi.server [req-2fbc1e4d-d334-43bb-adb6-1b3a32c127a6 113d3a99c3da401fbd62cc2caa5b96d2 54fadb412c4e40cdbaed9335e4c35a9e - - -] 10.11.10.1 \"GET /v2/54fadb412c4e40cdbaed9335e4c35a9e/servers/detail HTTP/1.1\" HTTP status code -  200 len: 1893 time: 0.2634561', 'nova.osapi_compute.wsgi.server [req-945804d9-c273-4d68-b179-ddda131082d0 113d3a99c3da401fbd62cc2caa5b96d2 54fadb412c4e40cdbaed9335e4c35a9e - - -] 10.11.10.1 \"GET /v2/54fadb412c4e40cdbaed9335e4c35a9e/servers/detail HTTP/1.1\" HTTP status code -  200 len: 1893 time: 0.2642100', 'nova.metadata.wsgi.server [-] 10.11.21.126,10.11.10.1 \"GET /latest/meta-data/block-device-mapping/ami HTTP/1.1\" Status code -  200 len: 119 time: 0.0029080', 'nova.osapi_compute.wsgi.server [req-d3ff0250-98e8-4ed4-945b-3a67bfe78507 113d3a99c3da401fbd62cc2caa5b96d2 54fadb412c4e40cdbaed9335e4c35a9e - - -] 10.11.10.1 \"DELETE /v2/54fadb412c4e40cdbaed9335e4c35a9e/servers/be793e89-2cc3-4f99-9884-9c6a624a84bc HTTP/1.1\" HTTP status code -  204 len: 203 time: 0.2519062', 'nova.osapi_compute.wsgi.server [req-0faa8465-ec0e-43b5-8b0e-ff014563ba05 113d3a99c3da401fbd62cc2caa5b96d2 54fadb412c4e40cdbaed9335e4c35a9e - - -] 10.11.10.1 \"GET /v2/54fadb412c4e40cdbaed9335e4c35a9e/servers/detail HTTP/1.1\" HTTP status code -  200 len: 1893 time: 0.2582810', 'nova.osapi_compute.wsgi.server [req-ad038d3b-0d3c-4abc-971c-b2bd82f6405c 113d3a99c3da401fbd62cc2caa5b96d2 54fadb412c4e40cdbaed9335e4c35a9e - - -] 10.11.10.1 \"GET /v2/54fadb412c4e40cdbaed9335e4c35a9e/servers/detail HTTP/1.1\" Status code -  200 len: 1893 time: 0.2512250', 'nova.osapi_compute.wsgi.server [req-ca1fce2f-adef-45b3-89b2-c03051136e9f 113d3a99c3da401fbd62cc2caa5b96d2 54fadb412c4e40cdbaed9335e4c35a9e - - -] 10.11.10.1 \"GET /v2/54fadb412c4e40cdbaed9335e4c35a9e/servers/detail HTTP/1.1\" Return code: 200 len: 1893 time: 0.2597768', 'nova.osapi_compute.wsgi.server [req-31826992-8435-4e03-bc09-ba9cca2d8ef9 113d3a99c3da401fbd62cc2caa5b96d2 54fadb412c4e40cdbaed9335e4c35a9e - - -] 10.11.10.1 \"GET /v2/54fadb412c4e40cdbaed9335e4c35a9e/servers/detail HTTP/1.1\" Return code: 200 len: 1893 time: 0.2661140', 'nova.metadata.wsgi.server [req-3d4a0060-5493-49ef-bcfe-3661c420a8dc - - - - -] 10.11.21.142,10.11.10.1 \"GET /openstack/2012-08-10/meta_data.json HTTP/1.1\" Return code: 200 len: 264 time: 0.2294021', 'nova.osapi_compute.wsgi.server [req-79805ef8-d822-4dd2-badb-4a56c8687410 113d3a99c3da401fbd62cc2caa5b96d2 54fadb412c4e40cdbaed9335e4c35a9e - - -] 10.11.10.1 \"GET /v2/54fadb412c4e40cdbaed9335e4c35a9e/servers/detail HTTP/1.1\" status: 200 len: 1893 time: 0.2645309', 'nova.osapi_compute.wsgi.server [req-1dd5c6bd-1bda-4e6d-b896-80dc15ab8c56 113d3a99c3da401fbd62cc2caa5b96d2 54fadb412c4e40cdbaed9335e4c35a9e - - -] 10.11.10.1 \"GET /v2/54fadb412c4e40cdbaed9335e4c35a9e/servers/detail HTTP/1.1\" RCODE  200 len: 1874 time: 0.2161739', 'nova.metadata.wsgi.server [req-f642cadd-7508-4db5-a059-07998751face - - - - -] 10.11.21.125,10.11.10.1 \"GET /openstack/2013-10-17/vendor_data.json HTTP/1.1\" status: 200 len: 124 time: 0.2418430', 'nova.osapi_compute.wsgi.server [req-08190bc9-9cd6-4d14-a825-06421a17de6c 113d3a99c3da401fbd62cc2caa5b96d2 54fadb412c4e40cdbaed9335e4c35a9e - - -] 10.11.10.1 \"GET /v2/54fadb412c4e40cdbaed9335e4c35a9e/servers/detail HTTP/1.1\" Status code -  200 len: 1893 time: 0.2684422', 'nova.metadata.wsgi.server [-] 10.11.21.139,10.11.10.1 \"GET /latest/meta-data/reservation-id HTTP/1.1\" status: 200 len: 127 time: 0.0009091', 'nova.osapi_compute.wsgi.server [req-edcdf7cd-ba7f-4d48-bac6-d382209d037e 113d3a99c3da401fbd62cc2caa5b96d2 54fadb412c4e40cdbaed9335e4c35a9e - - -] 10.11.10.1 \"GET /v2/54fadb412c4e40cdbaed9335e4c35a9e/servers/detail HTTP/1.1\" status: 200 len: 1893 time: 0.2706959', 'nova.osapi_compute.wsgi.server [req-03cc7683-8508-42ad-b3bc-f1a9d0a3519d 113d3a99c3da401fbd62cc2caa5b96d2 54fadb412c4e40cdbaed9335e4c35a9e - - -] 10.11.10.1 \"GET /v2/54fadb412c4e40cdbaed9335e4c35a9e/servers/detail HTTP/1.1\" RCODE  200 len: 1893 time: 0.2540560', 'nova.metadata.wsgi.server [req-5fc6b2b8-6fb2-4c4d-8b8a-310372462c25 - - - - -] 10.11.21.142,10.11.10.1 \"GET /openstack/2013-10-17/vendor_data.json HTTP/1.1\" RCODE  200 len: 124 time: 0.2241619', 'nova.osapi_compute.wsgi.server [req-7e26e9a0-f683-46fb-a738-a31eb8cb0765 113d3a99c3da401fbd62cc2caa5b96d2 54fadb412c4e40cdbaed9335e4c35a9e - - -] 10.11.10.1 \"GET /v2/54fadb412c4e40cdbaed9335e4c35a9e/servers/detail HTTP/1.1\" RCODE  200 len: 1893 time: 0.2576380', 'nova.metadata.wsgi.server [-] 10.11.21.136,10.11.10.1 \"GET /openstack/2013-10-17/meta_data.json HTTP/1.1\" Status code -  200 len: 967 time: 0.0009689', 'nova.metadata.wsgi.server [-] 10.11.21.132,10.11.10.1 \"GET /openstack/2013-10-17/vendor_data.json HTTP/1.1\" Status code -  200 len: 124 time: 0.0007501', 'nova.osapi_compute.wsgi.server [req-c77665c9-8474-4c2c-94e9-da8b5eccc4a4 113d3a99c3da401fbd62cc2caa5b96d2 54fadb412c4e40cdbaed9335e4c35a9e - - -] 10.11.10.1 \"GET /v2/54fadb412c4e40cdbaed9335e4c35a9e/servers/detail HTTP/1.1\" status: 200 len: 1583 time: 0.1848371', 'nova.osapi_compute.wsgi.server [req-38101a0b-2096-447d-96ea-a692162415ae 113d3a99c3da401fbd62cc2caa5b96d2 54fadb412c4e40cdbaed9335e4c35a9e - - -] 10.11.10.1 \"GET /v2/54fadb412c4e40cdbaed9335e4c35a9e/servers/detail HTTP/1.1\" Status code -  200 len: 1893 time: 0.2477829', 'nova.osapi_compute.wsgi.server [req-94248553-16cd-4c90-944b-22c39d61951c 113d3a99c3da401fbd62cc2caa5b96d2 54fadb412c4e40cdbaed9335e4c35a9e - - -] 10.11.10.1 \"GET /v2/54fadb412c4e40cdbaed9335e4c35a9e/servers/detail HTTP/1.1\" status: 200 len: 1893 time: 0.2661738', 'nova.osapi_compute.wsgi.server [req-1451b9ac-5cf6-4d69-a2e1-52175b593775 113d3a99c3da401fbd62cc2caa5b96d2 54fadb412c4e40cdbaed9335e4c35a9e - - -] 10.11.10.1 \"GET /v2/54fadb412c4e40cdbaed9335e4c35a9e/servers/detail HTTP/1.1\" Status code -  200 len: 1893 time: 0.2634912', 'nova.osapi_compute.wsgi.server [req-fbfbe68a-3fb6-4132-b139-e707f5534120 113d3a99c3da401fbd62cc2caa5b96d2 54fadb412c4e40cdbaed9335e4c35a9e - - -] 10.11.10.1 \"GET /v2/54fadb412c4e40cdbaed9335e4c35a9e/servers/detail HTTP/1.1\" status: 200 len: 1583 time: 0.1882150', 'nova.osapi_compute.wsgi.server [req-5dc52138-28f0-4afb-95e0-7fff9d651004 113d3a99c3da401fbd62cc2caa5b96d2 54fadb412c4e40cdbaed9335e4c35a9e - - -] 10.11.10.1 \"GET /v2/54fadb412c4e40cdbaed9335e4c35a9e/servers/detail HTTP/1.1\" Return code: 200 len: 1893 time: 0.2686439', 'nova.metadata.wsgi.server [req-c13bec68-eade-44d9-b3ce-0d584189dd68 - - - - -] 10.11.21.136,10.11.10.1 \"GET /latest/meta-data/block-device-mapping/root HTTP/1.1\" status: 200 len: 124 time: 0.2360520', 'nova.osapi_compute.wsgi.server [req-c58e5c9b-8211-4631-a4dc-8be93e96a0d2 113d3a99c3da401fbd62cc2caa5b96d2 54fadb412c4e40cdbaed9335e4c35a9e - - -] 10.11.10.1 \"GET /v2/54fadb412c4e40cdbaed9335e4c35a9e/servers/detail HTTP/1.1\" Status code -  200 len: 1893 time: 0.2586210', 'nova.osapi_compute.wsgi.server [req-9bc36dd9-91c5-4314-898a-47625eb93b09 113d3a99c3da401fbd62cc2caa5b96d2 54fadb412c4e40cdbaed9335e4c35a9e - - -] 10.11.10.1 \"GET /v2/54fadb412c4e40cdbaed9335e4c35a9e/servers/detail HTTP/1.1\" Return code: 200 len: 1893 time: 0.2577181', 'nova.osapi_compute.wsgi.server [req-c4d0c20c-cfe8-4e66-b280-b083419d4967 f7b8d1f1d4d44643b07fa10ca7d021fb e9746973ac574c6b8a9e8857f56a7608 - - -] 10.11.10.1 \"POST /v2/e9746973ac574c6b8a9e8857f56a7608/os-server-external-events HTTP/1.1\" HTTP status code -  404 len: 296 time: 0.0833371', 'nova.metadata.wsgi.server [req-659f79b6-9a06-48f2-89d6-84a1485015e7 - - - - -] 10.11.21.141,10.11.10.1 \"GET /openstack/2013-10-17/vendor_data.json HTTP/1.1\" Return code: 200 len: 124 time: 0.2249861', 'nova.osapi_compute.wsgi.server [req-9eb36ce0-5cbd-44c3-9a07-06fea8c77326 113d3a99c3da401fbd62cc2caa5b96d2 54fadb412c4e40cdbaed9335e4c35a9e - - -] 10.11.10.1 \"GET /v2/54fadb412c4e40cdbaed9335e4c35a9e/servers/detail HTTP/1.1\" HTTP status code -  200 len: 1759 time: 0.2800210', 'nova.osapi_compute.wsgi.server [req-65523c61-535f-4cb1-8c34-2dfe526b6ea2 113d3a99c3da401fbd62cc2caa5b96d2 54fadb412c4e40cdbaed9335e4c35a9e - - -] 10.11.10.1 \"GET /v2/54fadb412c4e40cdbaed9335e4c35a9e/servers/detail HTTP/1.1\" HTTP status code -  200 len: 1910 time: 0.2569480', 'nova.osapi_compute.wsgi.server [req-c52a31aa-4db4-4cc1-ae33-1134f503fb3a 113d3a99c3da401fbd62cc2caa5b96d2 54fadb412c4e40cdbaed9335e4c35a9e - - -] 10.11.10.1 \"GET /v2/54fadb412c4e40cdbaed9335e4c35a9e/servers/detail HTTP/1.1\" HTTP status code -  200 len: 211 time: 0.0929339', 'nova.metadata.wsgi.server [req-dd6dbb5e-9bf4-4e7f-95b7-4dfa7bee65bc - - - - -] 10.11.21.139,10.11.10.1 \"GET /openstack/2013-10-17/meta_data.json HTTP/1.1\" RCODE  200 len: 967 time: 0.2225499', 'nova.osapi_compute.wsgi.server [req-40b49896-8426-467a-8d7f-de6c1cd123d4 113d3a99c3da401fbd62cc2caa5b96d2 54fadb412c4e40cdbaed9335e4c35a9e - - -] 10.11.10.1 \"GET /v2/54fadb412c4e40cdbaed9335e4c35a9e/servers/detail HTTP/1.1\" Status code -  200 len: 1759 time: 0.2690799', 'nova.osapi_compute.wsgi.server [req-3520ffde-5536-40dd-ba9d-ef1581a27b18 113d3a99c3da401fbd62cc2caa5b96d2 54fadb412c4e40cdbaed9335e4c35a9e - - -] 10.11.10.1 \"GET /v2/54fadb412c4e40cdbaed9335e4c35a9e/servers/detail HTTP/1.1\" HTTP status code -  200 len: 1893 time: 0.2727239', 'nova.osapi_compute.wsgi.server [req-543e2dd0-b199-4751-933a-2b0e5a6d48b5 f7b8d1f1d4d44643b07fa10ca7d021fb e9746973ac574c6b8a9e8857f56a7608 - - -] 10.11.10.1 \"POST /v2/e9746973ac574c6b8a9e8857f56a7608/os-server-external-events HTTP/1.1\" RCODE  200 len: 380 time: 0.0965390', 'nova.metadata.wsgi.server [-] 10.11.21.122,10.11.10.1 \"GET /openstack/2013-10-17/user_data HTTP/1.1\" status: 404 len: 176 time: 0.0010660', 'nova.metadata.wsgi.server [req-567bc482-6358-4db5-99c5-b011692d6cf8 - - - - -] 10.11.21.122,10.11.10.1 \"GET /openstack/2013-10-17/meta_data.json HTTP/1.1\" Return code: 200 len: 967 time: 0.2349129', 'nova.osapi_compute.wsgi.server [req-88051a36-ba5a-44d8-90a4-dfd5a30c2f8a 113d3a99c3da401fbd62cc2caa5b96d2 54fadb412c4e40cdbaed9335e4c35a9e - - -] 10.11.10.1 \"GET /v2/54fadb412c4e40cdbaed9335e4c35a9e/servers/detail HTTP/1.1\" Return code: 200 len: 1910 time: 0.2790279', 'nova.osapi_compute.wsgi.server [req-3ab9508b-f853-4fdc-a5d3-7fe02d8f6a77 113d3a99c3da401fbd62cc2caa5b96d2 54fadb412c4e40cdbaed9335e4c35a9e - - -] 10.11.10.1 \"GET /v2/54fadb412c4e40cdbaed9335e4c35a9e/servers/detail HTTP/1.1\" RCODE  200 len: 1893 time: 0.2551761', 'nova.osapi_compute.wsgi.server [req-713cc4cb-1c01-47b1-b2d5-e5c54f7e9d21 113d3a99c3da401fbd62cc2caa5b96d2 54fadb412c4e40cdbaed9335e4c35a9e - - -] 10.11.10.1 \"GET /v2/54fadb412c4e40cdbaed9335e4c35a9e/servers/detail HTTP/1.1\" HTTP status code -  200 len: 1893 time: 0.2455752', 'nova.osapi_compute.wsgi.server [req-77cba855-be33-419f-96b0-11a437e1063a 113d3a99c3da401fbd62cc2caa5b96d2 54fadb412c4e40cdbaed9335e4c35a9e - - -] 10.11.10.1 \"GET /v2/54fadb412c4e40cdbaed9335e4c35a9e/servers/detail HTTP/1.1\" RCODE  200 len: 1893 time: 0.2581029', 'nova.osapi_compute.wsgi.server [req-77cc3c0e-d34a-49e1-b132-eef9a76b64aa 113d3a99c3da401fbd62cc2caa5b96d2 54fadb412c4e40cdbaed9335e4c35a9e - - -] 10.11.10.1 \"GET /v2/54fadb412c4e40cdbaed9335e4c35a9e/servers/detail HTTP/1.1\" RCODE  200 len: 1893 time: 0.2619240', 'nova.osapi_compute.wsgi.server [req-b066b9b3-3cb8-4dff-bb8a-5717a1e6192a d16a600c5e2a47fe98aee00ee4cb9743 e9746973ac574c6b8a9e8857f56a7608 - - -] 10.11.10.2 \"GET /v2/e9746973ac574c6b8a9e8857f56a7608/images/0673dd71-34c5-4fbb-86c4-40623fbe45b4 HTTP/1.1\" Status code -  200 len: 868 time: 0.1525230', 'nova.osapi_compute.wsgi.server [req-11c5a3c1-ff74-4def-a7bc-3925b7f53c24 113d3a99c3da401fbd62cc2caa5b96d2 54fadb412c4e40cdbaed9335e4c35a9e - - -] 10.11.10.1 \"GET /v2/54fadb412c4e40cdbaed9335e4c35a9e/servers/detail HTTP/1.1\" status: 200 len: 1910 time: 0.2920430', 'nova.osapi_compute.wsgi.server [req-4d8212f4-f29d-4448-a7b6-872fb05c703c 113d3a99c3da401fbd62cc2caa5b96d2 54fadb412c4e40cdbaed9335e4c35a9e - - -] 10.11.10.1 \"GET /v2/54fadb412c4e40cdbaed9335e4c35a9e/servers/detail HTTP/1.1\" Return code: 200 len: 1893 time: 0.2590120', 'nova.osapi_compute.wsgi.server [req-6b8f0c42-a8aa-4947-918c-385855184318 113d3a99c3da401fbd62cc2caa5b96d2 54fadb412c4e40cdbaed9335e4c35a9e - - -] 10.11.10.1 \"GET /v2/54fadb412c4e40cdbaed9335e4c35a9e/servers/detail HTTP/1.1\" Status code -  200 len: 1893 time: 0.2773159', 'nova.metadata.wsgi.server [req-a189d358-853f-4bdb-8972-dcc23dfa73a8 - - - - -] 10.11.21.130,10.11.10.1 \"GET /openstack/2013-10-17/user_data HTTP/1.1\" status: 404 len: 176 time: 0.2292249', 'nova.osapi_compute.wsgi.server [req-7159484f-4b91-464c-a6f6-c7820ded6511 f7b8d1f1d4d44643b07fa10ca7d021fb e9746973ac574c6b8a9e8857f56a7608 - - -] 10.11.10.1 \"POST /v2/e9746973ac574c6b8a9e8857f56a7608/os-server-external-events HTTP/1.1\" Status code -  200 len: 380 time: 0.2715590', 'nova.osapi_compute.wsgi.server [req-44701b65-e05c-4855-8fd1-ffb90c9b978e 113d3a99c3da401fbd62cc2caa5b96d2 54fadb412c4e40cdbaed9335e4c35a9e - - -] 10.11.10.1 \"GET /v2/54fadb412c4e40cdbaed9335e4c35a9e/servers/detail HTTP/1.1\" HTTP status code -  200 len: 1893 time: 0.2675440', 'nova.metadata.wsgi.server [req-895531e0-a48b-49a0-b190-1ce9cd0b7a66 - - - - -] 10.11.21.138,10.11.10.1 \"GET /openstack/2012-08-10/meta_data.json HTTP/1.1\" HTTP status code -  200 len: 264 time: 0.2088590', 'nova.osapi_compute.wsgi.server [req-31677284-946b-4d4f-bf44-736a41224f70 113d3a99c3da401fbd62cc2caa5b96d2 54fadb412c4e40cdbaed9335e4c35a9e - - -] 10.11.10.1 \"GET /v2/54fadb412c4e40cdbaed9335e4c35a9e/servers/detail HTTP/1.1\" HTTP status code -  200 len: 1893 time: 0.2421730', 'nova.osapi_compute.wsgi.server [req-1d647fe1-d879-4988-889e-d860ef5b8338 113d3a99c3da401fbd62cc2caa5b96d2 54fadb412c4e40cdbaed9335e4c35a9e - - -] 10.11.10.1 \"GET /v2/54fadb412c4e40cdbaed9335e4c35a9e/servers/detail HTTP/1.1\" Return code: 200 len: 1893 time: 0.2757139', 'nova.osapi_compute.wsgi.server [req-95aa6171-064c-4a8f-96f6-d43250af4408 113d3a99c3da401fbd62cc2caa5b96d2 54fadb412c4e40cdbaed9335e4c35a9e - - -] 10.11.10.1 \"GET /v2/54fadb412c4e40cdbaed9335e4c35a9e/servers/detail HTTP/1.1\" Status code -  200 len: 1893 time: 0.2598760', 'nova.metadata.wsgi.server [-] 10.11.21.140,10.11.10.1 \"GET /openstack/2013-10-17/user_data HTTP/1.1\" status: 404 len: 176 time: 0.0012619', 'nova.osapi_compute.wsgi.server [req-387f80a3-539e-4716-8595-9913cb1d4116 113d3a99c3da401fbd62cc2caa5b96d2 54fadb412c4e40cdbaed9335e4c35a9e - - -] 10.11.10.1 \"GET /v2/54fadb412c4e40cdbaed9335e4c35a9e/servers/detail HTTP/1.1\" HTTP status code -  200 len: 1893 time: 0.2672651', 'nova.osapi_compute.wsgi.server [req-537bc103-6c6d-4c9d-a801-52aa85533601 113d3a99c3da401fbd62cc2caa5b96d2 54fadb412c4e40cdbaed9335e4c35a9e - - -] 10.11.10.1 \"GET /v2/54fadb412c4e40cdbaed9335e4c35a9e/servers/detail HTTP/1.1\" Return code: 200 len: 1910 time: 0.2428820', 'nova.osapi_compute.wsgi.server [req-64dca5a6-dde8-45f1-9e76-e001afd2caa9 113d3a99c3da401fbd62cc2caa5b96d2 54fadb412c4e40cdbaed9335e4c35a9e - - -] 10.11.10.1 \"GET /v2/54fadb412c4e40cdbaed9335e4c35a9e/servers/detail HTTP/1.1\" HTTP status code -  200 len: 1583 time: 0.2041020', 'nova.osapi_compute.wsgi.server [req-cacb633a-46b5-4f22-aad1-864352c7e20d 113d3a99c3da401fbd62cc2caa5b96d2 54fadb412c4e40cdbaed9335e4c35a9e - - -] 10.11.10.1 \"GET /v2/54fadb412c4e40cdbaed9335e4c35a9e/servers/detail HTTP/1.1\" HTTP status code -  200 len: 1893 time: 0.2598419', 'nova.osapi_compute.wsgi.server [req-aa55b411-2ba0-4b61-9fd9-26d40aeb9423 113d3a99c3da401fbd62cc2caa5b96d2 54fadb412c4e40cdbaed9335e4c35a9e - - -] 10.11.10.1 \"GET /v2/54fadb412c4e40cdbaed9335e4c35a9e/servers/detail HTTP/1.1\" Return code: 200 len: 1893 time: 0.2682309', 'nova.osapi_compute.wsgi.server [req-deb9d948-8712-41cb-b575-9d67db2bfc62 113d3a99c3da401fbd62cc2caa5b96d2 54fadb412c4e40cdbaed9335e4c35a9e - - -] 10.11.10.1 \"GET /v2/54fadb412c4e40cdbaed9335e4c35a9e/servers/detail HTTP/1.1\" Return code: 200 len: 1893 time: 0.2789159', 'nova.osapi_compute.wsgi.server [req-5ef90541-0ddc-426b-a12a-3ca3cb0b9b81 113d3a99c3da401fbd62cc2caa5b96d2 54fadb412c4e40cdbaed9335e4c35a9e - - -] 10.11.10.1 \"GET /v2/54fadb412c4e40cdbaed9335e4c35a9e/servers/detail HTTP/1.1\" Return code: 200 len: 1893 time: 0.2612560', 'nova.osapi_compute.wsgi.server [req-40c6c6d9-caf9-426e-b739-a5562aa4043a 113d3a99c3da401fbd62cc2caa5b96d2 54fadb412c4e40cdbaed9335e4c35a9e - - -] 10.11.10.1 \"GET /v2/54fadb412c4e40cdbaed9335e4c35a9e/servers/detail HTTP/1.1\" status: 200 len: 1874 time: 0.2106130', 'nova.osapi_compute.wsgi.server [req-ce6ebea3-0123-4aae-a535-4058e0fceb0c 113d3a99c3da401fbd62cc2caa5b96d2 54fadb412c4e40cdbaed9335e4c35a9e - - -] 10.11.10.1 \"GET /v2/54fadb412c4e40cdbaed9335e4c35a9e/servers/detail HTTP/1.1\" status: 200 len: 1893 time: 0.2613189', 'nova.osapi_compute.wsgi.server [req-403846bd-dd0d-4472-a78d-6077e720094b 113d3a99c3da401fbd62cc2caa5b96d2 54fadb412c4e40cdbaed9335e4c35a9e - - -] 10.11.10.1 \"GET /v2/54fadb412c4e40cdbaed9335e4c35a9e/servers/detail HTTP/1.1\" Return code: 200 len: 1893 time: 0.2580168', 'nova.osapi_compute.wsgi.server [req-554e3f99-2f55-4004-bda8-f9bed26f5ac9 113d3a99c3da401fbd62cc2caa5b96d2 54fadb412c4e40cdbaed9335e4c35a9e - - -] 10.11.10.1 \"GET /v2/54fadb412c4e40cdbaed9335e4c35a9e/servers/detail HTTP/1.1\" status: 200 len: 1916 time: 0.2639148', 'nova.osapi_compute.wsgi.server [req-2d3fdf84-c2d9-47cc-ad3c-8c309b96d32d 113d3a99c3da401fbd62cc2caa5b96d2 54fadb412c4e40cdbaed9335e4c35a9e - - -] 10.11.10.1 \"GET /v2/54fadb412c4e40cdbaed9335e4c35a9e/servers/detail HTTP/1.1\" Return code: 200 len: 1893 time: 0.2640860', 'nova.osapi_compute.wsgi.server [req-36edee2a-9189-477f-be64-1ff36bf2933b 113d3a99c3da401fbd62cc2caa5b96d2 54fadb412c4e40cdbaed9335e4c35a9e - - -] 10.11.10.1 \"GET /v2/54fadb412c4e40cdbaed9335e4c35a9e/servers/detail HTTP/1.1\" RCODE  200 len: 1893 time: 0.2571361', 'nova.metadata.wsgi.server [req-60ac28f2-bde9-4da6-9542-7b7a345b5363 - - - - -] 10.11.21.132,10.11.10.1 \"GET /latest/meta-data/block-device-mapping/ HTTP/1.1\" HTTP status code -  200 len: 124 time: 0.2251949', 'nova.osapi_compute.wsgi.server [req-385c4fd4-fc22-4fc7-b1c9-ff7fea96847c 113d3a99c3da401fbd62cc2caa5b96d2 54fadb412c4e40cdbaed9335e4c35a9e - - -] 10.11.10.1 \"GET /v2/54fadb412c4e40cdbaed9335e4c35a9e/servers/detail HTTP/1.1\" RCODE  200 len: 1893 time: 0.2493019', 'nova.osapi_compute.wsgi.server [req-e101c9c1-2850-452f-be89-d5c81daba5b8 113d3a99c3da401fbd62cc2caa5b96d2 54fadb412c4e40cdbaed9335e4c35a9e - - -] 10.11.10.1 \"GET /v2/54fadb412c4e40cdbaed9335e4c35a9e/servers/detail HTTP/1.1\" RCODE  200 len: 1893 time: 0.2776449', 'nova.osapi_compute.wsgi.server [req-83a70d92-4077-4368-b3e4-b416cf0128aa 113d3a99c3da401fbd62cc2caa5b96d2 54fadb412c4e40cdbaed9335e4c35a9e - - -] 10.11.10.1 \"DELETE /v2/54fadb412c4e40cdbaed9335e4c35a9e/servers/d6b7bd36-2943-4363-9235-fffdd89ea40e HTTP/1.1\" RCODE  204 len: 203 time: 0.2511380', 'nova.osapi_compute.wsgi.server [req-a48835ba-fc76-4d9f-870b-5d7f0956db98 113d3a99c3da401fbd62cc2caa5b96d2 54fadb412c4e40cdbaed9335e4c35a9e - - -] 10.11.10.1 \"GET /v2/54fadb412c4e40cdbaed9335e4c35a9e/servers/detail HTTP/1.1\" Status code -  200 len: 1893 time: 0.2599471', 'nova.metadata.wsgi.server [-] 10.11.21.137,10.11.10.1 \"GET /openstack/2013-10-17/meta_data.json HTTP/1.1\" Status code -  200 len: 967 time: 0.0008872', 'nova.metadata.wsgi.server [-] 10.11.21.141,10.11.10.1 \"GET /openstack/2013-10-17 HTTP/1.1\" Status code -  200 len: 157 time: 0.0009151', 'nova.osapi_compute.wsgi.server [req-fc64a697-9990-4170-bd07-734525c5d666 113d3a99c3da401fbd62cc2caa5b96d2 54fadb412c4e40cdbaed9335e4c35a9e - - -] 10.11.10.1 \"GET /v2/54fadb412c4e40cdbaed9335e4c35a9e/servers/detail HTTP/1.1\" Status code -  200 len: 1893 time: 0.4322081', 'nova.osapi_compute.wsgi.server [req-7e612509-4ae5-4741-b376-839bd045d819 113d3a99c3da401fbd62cc2caa5b96d2 54fadb412c4e40cdbaed9335e4c35a9e - - -] 10.11.10.1 \"GET /v2/54fadb412c4e40cdbaed9335e4c35a9e/servers/detail HTTP/1.1\" Return code: 200 len: 1893 time: 0.2575760', 'nova.osapi_compute.wsgi.server [req-a07ac654-8e81-416d-bfbb-189116b07969 113d3a99c3da401fbd62cc2caa5b96d2 54fadb412c4e40cdbaed9335e4c35a9e - - -] 10.11.10.1 \"POST /v2/54fadb412c4e40cdbaed9335e4c35a9e/servers HTTP/1.1\" RCODE  202 len: 733 time: 0.5049269', 'nova.metadata.wsgi.server [req-b54879c8-254d-412e-a06b-81ee08235d46 - - - - -] 10.11.21.142,10.11.10.1 \"GET /openstack/2013-10-17/vendor_data.json HTTP/1.1\" HTTP status code -  200 len: 124 time: 0.2247450', 'nova.osapi_compute.wsgi.server [req-2d362d97-cb67-4511-9150-17dccfff1ffc 113d3a99c3da401fbd62cc2caa5b96d2 54fadb412c4e40cdbaed9335e4c35a9e - - -] 10.11.10.1 \"GET /v2/54fadb412c4e40cdbaed9335e4c35a9e/servers/detail HTTP/1.1\" Return code: 200 len: 1893 time: 0.2728651', 'nova.metadata.wsgi.server [-] 10.11.21.130,10.11.10.1 \"GET /openstack/2013-10-17 HTTP/1.1\" HTTP status code -  200 len: 157 time: 0.0007410', 'nova.osapi_compute.wsgi.server [req-af33e530-53f7-4a12-83de-a2297101103f 113d3a99c3da401fbd62cc2caa5b96d2 54fadb412c4e40cdbaed9335e4c35a9e - - -] 10.11.10.1 \"GET /v2/54fadb412c4e40cdbaed9335e4c35a9e/servers/detail HTTP/1.1\" RCODE  200 len: 1575 time: 0.1883159', 'nova.osapi_compute.wsgi.server [req-878d8f43-04d4-4bce-a27a-3feca48ba5eb 113d3a99c3da401fbd62cc2caa5b96d2 54fadb412c4e40cdbaed9335e4c35a9e - - -] 10.11.10.1 \"GET /v2/54fadb412c4e40cdbaed9335e4c35a9e/servers/detail HTTP/1.1\" HTTP status code -  200 len: 1583 time: 0.1964839', 'nova.osapi_compute.wsgi.server [req-f0b73f56-6769-4493-9510-f68c4f463312 113d3a99c3da401fbd62cc2caa5b96d2 54fadb412c4e40cdbaed9335e4c35a9e - - -] 10.11.10.1 \"GET /v2/54fadb412c4e40cdbaed9335e4c35a9e/servers/detail HTTP/1.1\" status: 200 len: 1893 time: 0.2313168', 'nova.osapi_compute.wsgi.server [req-43e0f44d-b7b7-4458-849c-184dfc5d16e9 113d3a99c3da401fbd62cc2caa5b96d2 54fadb412c4e40cdbaed9335e4c35a9e - - -] 10.11.10.1 \"GET /v2/54fadb412c4e40cdbaed9335e4c35a9e/servers/detail HTTP/1.1\" RCODE  200 len: 1759 time: 0.2717040', 'nova.osapi_compute.wsgi.server [req-5e98f980-a45f-41ad-ab47-6a5adc12de51 113d3a99c3da401fbd62cc2caa5b96d2 54fadb412c4e40cdbaed9335e4c35a9e - - -] 10.11.10.1 \"GET /v2/54fadb412c4e40cdbaed9335e4c35a9e/servers/detail HTTP/1.1\" status: 200 len: 1893 time: 0.2608740', 'nova.osapi_compute.wsgi.server [req-b4340956-4635-4b87-96a5-fdc4a4bb19fd 113d3a99c3da401fbd62cc2caa5b96d2 54fadb412c4e40cdbaed9335e4c35a9e - - -] 10.11.10.1 \"GET /v2/54fadb412c4e40cdbaed9335e4c35a9e/servers/detail HTTP/1.1\" Return code: 200 len: 1910 time: 0.2587440', 'nova.osapi_compute.wsgi.server [req-3be0ba1e-d96d-483e-b14d-e3c6c34f36f7 f7b8d1f1d4d44643b07fa10ca7d021fb e9746973ac574c6b8a9e8857f56a7608 - - -] 10.11.10.1 \"POST /v2/e9746973ac574c6b8a9e8857f56a7608/os-server-external-events HTTP/1.1\" Status code -  200 len: 380 time: 0.1039391', 'nova.osapi_compute.wsgi.server [req-6264d86e-7a74-4647-a528-8e476a256e94 113d3a99c3da401fbd62cc2caa5b96d2 54fadb412c4e40cdbaed9335e4c35a9e - - -] 10.11.10.1 \"GET /v2/54fadb412c4e40cdbaed9335e4c35a9e/servers/detail HTTP/1.1\" RCODE  200 len: 1893 time: 0.2726710', 'nova.osapi_compute.wsgi.server [req-3d26bc3d-373c-4269-b095-004aab7a9785 113d3a99c3da401fbd62cc2caa5b96d2 54fadb412c4e40cdbaed9335e4c35a9e - - -] 10.11.10.1 \"POST /v2/54fadb412c4e40cdbaed9335e4c35a9e/servers HTTP/1.1\" status: 202 len: 733 time: 0.4759691', 'nova.metadata.wsgi.server [req-e8586e79-0c6d-45b1-a1d2-3d8133877961 - - - - -] 10.11.21.128,10.11.10.1 \"GET /openstack/2013-10-17/meta_data.json HTTP/1.1\" Status code -  200 len: 967 time: 0.2267981', 'nova.osapi_compute.wsgi.server [req-9c29c95b-af64-4c50-b94c-5e9c11ed5386 113d3a99c3da401fbd62cc2caa5b96d2 54fadb412c4e40cdbaed9335e4c35a9e - - -] 10.11.10.1 \"GET /v2/54fadb412c4e40cdbaed9335e4c35a9e/servers/detail HTTP/1.1\" Return code: 200 len: 1759 time: 0.2832489', 'nova.osapi_compute.wsgi.server [req-177f6889-979d-4f28-94cc-c911dfd47a30 113d3a99c3da401fbd62cc2caa5b96d2 54fadb412c4e40cdbaed9335e4c35a9e - - -] 10.11.10.1 \"GET /v2/54fadb412c4e40cdbaed9335e4c35a9e/servers/detail HTTP/1.1\" HTTP status code -  200 len: 1893 time: 0.2432280', 'nova.osapi_compute.wsgi.server [req-1756bc65-fb0b-450c-9e51-57bf965737b7 113d3a99c3da401fbd62cc2caa5b96d2 54fadb412c4e40cdbaed9335e4c35a9e - - -] 10.11.10.1 \"GET /v2/54fadb412c4e40cdbaed9335e4c35a9e/servers/detail HTTP/1.1\" status: 200 len: 1893 time: 0.2555981', 'nova.osapi_compute.wsgi.server [req-0cfdf7d7-2973-4aa9-a729-01793f1e0211 113d3a99c3da401fbd62cc2caa5b96d2 54fadb412c4e40cdbaed9335e4c35a9e - - -] 10.11.10.1 \"GET /v2/54fadb412c4e40cdbaed9335e4c35a9e/servers/detail HTTP/1.1\" status: 200 len: 1893 time: 0.2635262', 'nova.osapi_compute.wsgi.server [req-3e22b75e-1c4f-4579-8a73-7ede40d3f955 f7b8d1f1d4d44643b07fa10ca7d021fb e9746973ac574c6b8a9e8857f56a7608 - - -] 10.11.10.1 \"POST /v2/e9746973ac574c6b8a9e8857f56a7608/os-server-external-events HTTP/1.1\" Return code: 200 len: 380 time: 0.0901799', 'nova.osapi_compute.wsgi.server [req-a4c7cd49-f302-49d5-b690-07572719c6a0 113d3a99c3da401fbd62cc2caa5b96d2 54fadb412c4e40cdbaed9335e4c35a9e - - -] 10.11.10.1 \"GET /v2/54fadb412c4e40cdbaed9335e4c35a9e/servers/detail HTTP/1.1\" RCODE  200 len: 1893 time: 0.2691431', 'nova.osapi_compute.wsgi.server [req-852aef96-b049-4e2e-8dc6-267474bbb155 113d3a99c3da401fbd62cc2caa5b96d2 54fadb412c4e40cdbaed9335e4c35a9e - - -] 10.11.10.1 \"GET /v2/54fadb412c4e40cdbaed9335e4c35a9e/servers/detail HTTP/1.1\" Return code: 200 len: 1893 time: 0.2669339', 'nova.osapi_compute.wsgi.server [req-aad2bb5d-8811-4355-9590-ea1c90040ac5 113d3a99c3da401fbd62cc2caa5b96d2 54fadb412c4e40cdbaed9335e4c35a9e - - -] 10.11.10.1 \"GET /v2/54fadb412c4e40cdbaed9335e4c35a9e/servers/detail HTTP/1.1\" HTTP status code -  200 len: 1893 time: 0.2747231', 'nova.osapi_compute.wsgi.server [req-b413cc90-4f89-4c1c-8049-0931c23830a3 113d3a99c3da401fbd62cc2caa5b96d2 54fadb412c4e40cdbaed9335e4c35a9e - - -] 10.11.10.1 \"GET /v2/54fadb412c4e40cdbaed9335e4c35a9e/servers/detail HTTP/1.1\" Status code -  200 len: 1893 time: 0.2825699', 'nova.metadata.wsgi.server [-] 10.11.21.139,10.11.10.1 \"GET /latest/meta-data/placement/ HTTP/1.1\" status: 200 len: 134 time: 0.0007932', 'nova.metadata.wsgi.server [req-f1603c09-bec5-418f-9b75-0f3393afea8a - - - - -] 10.11.21.123,10.11.10.1 \"GET /openstack/2013-10-17/user_data HTTP/1.1\" Status code -  404 len: 176 time: 0.2285759', 'nova.osapi_compute.wsgi.server [req-9339970e-e303-4833-a6b6-31e4b360624c 113d3a99c3da401fbd62cc2caa5b96d2 54fadb412c4e40cdbaed9335e4c35a9e - - -] 10.11.10.1 \"GET /v2/54fadb412c4e40cdbaed9335e4c35a9e/servers/detail HTTP/1.1\" Status code -  200 len: 1759 time: 0.2833371', 'nova.metadata.wsgi.server [-] 10.11.21.135,10.11.10.1 \"GET /latest/meta-data/local-ipv4 HTTP/1.1\" Status code -  200 len: 129 time: 0.0008481', 'nova.osapi_compute.wsgi.server [req-c6700d4f-9ed4-4baf-9ac9-ad0e7f66f155 113d3a99c3da401fbd62cc2caa5b96d2 54fadb412c4e40cdbaed9335e4c35a9e - - -] 10.11.10.1 \"GET /v2/54fadb412c4e40cdbaed9335e4c35a9e/servers/detail HTTP/1.1\" RCODE  200 len: 1893 time: 0.2646890', 'nova.osapi_compute.wsgi.server [req-bce85102-ddb3-4323-aa2f-073373c4af50 113d3a99c3da401fbd62cc2caa5b96d2 54fadb412c4e40cdbaed9335e4c35a9e - - -] 10.11.10.1 \"GET /v2/54fadb412c4e40cdbaed9335e4c35a9e/servers/detail HTTP/1.1\" HTTP status code -  200 len: 1893 time: 0.2648559', 'nova.osapi_compute.wsgi.server [req-2a1f7bb7-7587-41c9-9cbf-ecfa82136c36 113d3a99c3da401fbd62cc2caa5b96d2 54fadb412c4e40cdbaed9335e4c35a9e - - -] 10.11.10.1 \"GET /v2/54fadb412c4e40cdbaed9335e4c35a9e/servers/detail HTTP/1.1\" status: 200 len: 1893 time: 0.2704930', 'nova.osapi_compute.wsgi.server [req-0dbc8793-cf63-4757-9f9a-7f48ea19367d 113d3a99c3da401fbd62cc2caa5b96d2 54fadb412c4e40cdbaed9335e4c35a9e - - -] 10.11.10.1 \"GET /v2/54fadb412c4e40cdbaed9335e4c35a9e/servers/detail HTTP/1.1\" Status code -  200 len: 1893 time: 0.2641821', 'nova.osapi_compute.wsgi.server [req-3bcb41f9-500e-4b8b-b452-5fbedba613e8 113d3a99c3da401fbd62cc2caa5b96d2 54fadb412c4e40cdbaed9335e4c35a9e - - -] 10.11.10.1 \"GET /v2/54fadb412c4e40cdbaed9335e4c35a9e/servers/detail HTTP/1.1\" RCODE  200 len: 1893 time: 0.2755351', 'nova.metadata.wsgi.server [req-f98a7db8-25c1-495e-935d-413e4bc76c8f - - - - -] 10.11.21.138,10.11.10.1 \"GET /openstack/2013-10-17/meta_data.json HTTP/1.1\" Status code -  200 len: 967 time: 0.2451930', 'nova.osapi_compute.wsgi.server [req-2aa6387d-95fb-4fd7-b1be-f36ebc5c11a6 113d3a99c3da401fbd62cc2caa5b96d2 54fadb412c4e40cdbaed9335e4c35a9e - - -] 10.11.10.1 \"DELETE /v2/54fadb412c4e40cdbaed9335e4c35a9e/servers/127e769a-4fe6-4548-93b1-513ac51e0452 HTTP/1.1\" Return code: 204 len: 203 time: 0.2509129', 'nova.osapi_compute.wsgi.server [req-bd42eb24-d22e-4fef-b92e-3a70d8d83d15 113d3a99c3da401fbd62cc2caa5b96d2 54fadb412c4e40cdbaed9335e4c35a9e - - -] 10.11.10.1 \"GET /v2/54fadb412c4e40cdbaed9335e4c35a9e/servers/detail HTTP/1.1\" status: 200 len: 1893 time: 0.2747049', 'nova.metadata.wsgi.server [req-2886b8ba-64e7-4ee7-862d-0e6af9fb9fe9 - - - - -] 10.11.21.126,10.11.10.1 \"GET /openstack/2013-10-17/vendor_data.json HTTP/1.1\" RCODE  200 len: 124 time: 0.2317870', 'nova.osapi_compute.wsgi.server [req-981d3f9b-fbb6-47e5-9c90-9d503ada7bd7 113d3a99c3da401fbd62cc2caa5b96d2 54fadb412c4e40cdbaed9335e4c35a9e - - -] 10.11.10.1 \"GET /v2/54fadb412c4e40cdbaed9335e4c35a9e/servers/detail HTTP/1.1\" HTTP status code -  200 len: 1893 time: 0.2654428', 'nova.osapi_compute.wsgi.server [req-3db4d5f7-9334-45de-9e4f-41fb8fbe9c3a 113d3a99c3da401fbd62cc2caa5b96d2 54fadb412c4e40cdbaed9335e4c35a9e - - -] 10.11.10.1 \"GET /v2/54fadb412c4e40cdbaed9335e4c35a9e/servers/detail HTTP/1.1\" Status code -  200 len: 1893 time: 0.2585869', 'nova.osapi_compute.wsgi.server [req-44728780-6d8a-4bdb-8440-fdce3253364e 113d3a99c3da401fbd62cc2caa5b96d2 54fadb412c4e40cdbaed9335e4c35a9e - - -] 10.11.10.1 \"GET /v2/54fadb412c4e40cdbaed9335e4c35a9e/servers/detail HTTP/1.1\" HTTP status code -  200 len: 1893 time: 0.2660699', 'nova.osapi_compute.wsgi.server [req-a2c60c94-be5e-451e-ba23-b3ba022b70e9 113d3a99c3da401fbd62cc2caa5b96d2 54fadb412c4e40cdbaed9335e4c35a9e - - -] 10.11.10.1 \"GET /v2/54fadb412c4e40cdbaed9335e4c35a9e/servers/detail HTTP/1.1\" RCODE  200 len: 1893 time: 0.2605669', 'nova.osapi_compute.wsgi.server [req-be718301-57f1-4762-937d-8171d3785f5d 113d3a99c3da401fbd62cc2caa5b96d2 54fadb412c4e40cdbaed9335e4c35a9e - - -] 10.11.10.1 \"GET /v2/54fadb412c4e40cdbaed9335e4c35a9e/servers/detail HTTP/1.1\" HTTP status code -  200 len: 1893 time: 0.2661371', 'nova.osapi_compute.wsgi.server [req-8117222a-0c51-49b8-8ea5-6090b6314d9c 113d3a99c3da401fbd62cc2caa5b96d2 54fadb412c4e40cdbaed9335e4c35a9e - - -] 10.11.10.1 \"GET /v2/54fadb412c4e40cdbaed9335e4c35a9e/servers/detail HTTP/1.1\" Status code -  200 len: 1575 time: 0.1933501', 'nova.osapi_compute.wsgi.server [req-d230ec37-1175-4546-bd8b-45715b8acf08 113d3a99c3da401fbd62cc2caa5b96d2 54fadb412c4e40cdbaed9335e4c35a9e - - -] 10.11.10.1 \"GET /v2/54fadb412c4e40cdbaed9335e4c35a9e/servers/detail HTTP/1.1\" Return code: 200 len: 1893 time: 0.2535899', 'nova.metadata.wsgi.server [req-de9c326d-8d13-4a2f-9d79-0ef565d09903 - - - - -] 10.11.21.129,10.11.10.1 \"GET /latest/meta-data/ HTTP/1.1\" HTTP status code -  200 len: 328 time: 0.3263230', 'nova.metadata.wsgi.server [req-258a0b43-37d6-4f22-98b8-e7863a77ef43 - - - - -] 10.11.21.127,10.11.10.1 \"GET /openstack/2012-08-10/meta_data.json HTTP/1.1\" Return code: 200 len: 264 time: 0.2254272', 'nova.osapi_compute.wsgi.server [req-b2fc192f-a41f-4ca6-ae6e-c737cc772580 113d3a99c3da401fbd62cc2caa5b96d2 54fadb412c4e40cdbaed9335e4c35a9e - - -] 10.11.10.1 \"GET /v2/54fadb412c4e40cdbaed9335e4c35a9e/servers/detail HTTP/1.1\" Return code: 200 len: 1893 time: 0.2913761', 'nova.osapi_compute.wsgi.server [req-4d246567-e421-4c7a-a3bb-25a9aca95a74 113d3a99c3da401fbd62cc2caa5b96d2 54fadb412c4e40cdbaed9335e4c35a9e - - -] 10.11.10.1 \"GET /v2/54fadb412c4e40cdbaed9335e4c35a9e/servers/detail HTTP/1.1\" Return code: 200 len: 1893 time: 0.2553751', 'nova.osapi_compute.wsgi.server [req-5768d800-ecd4-4554-a48a-2b1671a84c8c 113d3a99c3da401fbd62cc2caa5b96d2 54fadb412c4e40cdbaed9335e4c35a9e - - -] 10.11.10.1 \"GET /v2/54fadb412c4e40cdbaed9335e4c35a9e/servers/detail HTTP/1.1\" RCODE  200 len: 1910 time: 0.2755542', 'nova.osapi_compute.wsgi.server [req-62ff267f-85a7-45e5-be31-1b23edc89a22 113d3a99c3da401fbd62cc2caa5b96d2 54fadb412c4e40cdbaed9335e4c35a9e - - -] 10.11.10.1 \"GET /v2/54fadb412c4e40cdbaed9335e4c35a9e/servers/detail HTTP/1.1\" Return code: 200 len: 1910 time: 0.2752779', 'nova.osapi_compute.wsgi.server [req-0502af14-8377-4e21-9cce-d9138bd27e32 113d3a99c3da401fbd62cc2caa5b96d2 54fadb412c4e40cdbaed9335e4c35a9e - - -] 10.11.10.1 \"GET /v2/54fadb412c4e40cdbaed9335e4c35a9e/servers/detail HTTP/1.1\" Return code: 200 len: 1583 time: 0.1754098', 'nova.osapi_compute.wsgi.server [req-d4f13b7d-5438-4b7b-a8be-68d64e065378 113d3a99c3da401fbd62cc2caa5b96d2 54fadb412c4e40cdbaed9335e4c35a9e - - -] 10.11.10.1 \"GET /v2/54fadb412c4e40cdbaed9335e4c35a9e/servers/detail HTTP/1.1\" Status code -  200 len: 211 time: 0.1000040', 'nova.osapi_compute.wsgi.server [req-e0181115-d3d1-4f16-b1fc-845c62a17d36 113d3a99c3da401fbd62cc2caa5b96d2 54fadb412c4e40cdbaed9335e4c35a9e - - -] 10.11.10.1 \"GET /v2/54fadb412c4e40cdbaed9335e4c35a9e/servers/detail HTTP/1.1\" Return code: 200 len: 1893 time: 0.2748618', 'nova.osapi_compute.wsgi.server [req-cf54ca47-9d41-4346-80df-3b12a85567a4 113d3a99c3da401fbd62cc2caa5b96d2 54fadb412c4e40cdbaed9335e4c35a9e - - -] 10.11.10.1 \"GET /v2/54fadb412c4e40cdbaed9335e4c35a9e/servers/detail HTTP/1.1\" Status code -  200 len: 1893 time: 0.2689090', 'nova.osapi_compute.wsgi.server [req-2f1a8f6f-b2fc-48af-92c3-8a37d40f54dc f7b8d1f1d4d44643b07fa10ca7d021fb e9746973ac574c6b8a9e8857f56a7608 - - -] 10.11.10.1 \"POST /v2/e9746973ac574c6b8a9e8857f56a7608/os-server-external-events HTTP/1.1\" Status code -  200 len: 380 time: 0.0879810', 'nova.osapi_compute.wsgi.server [req-40de51cd-b1d6-4350-9d46-57e0bc9489c1 113d3a99c3da401fbd62cc2caa5b96d2 54fadb412c4e40cdbaed9335e4c35a9e - - -] 10.11.10.1 \"GET /v2/54fadb412c4e40cdbaed9335e4c35a9e/servers/detail HTTP/1.1\" status: 200 len: 1759 time: 0.2750871', 'nova.osapi_compute.wsgi.server [req-4b4dd551-26d8-48e2-bd52-91793d2157bc 113d3a99c3da401fbd62cc2caa5b96d2 54fadb412c4e40cdbaed9335e4c35a9e - - -] 10.11.10.1 \"POST /v2/54fadb412c4e40cdbaed9335e4c35a9e/servers HTTP/1.1\" Return code: 202 len: 733 time: 0.4657719', 'nova.osapi_compute.wsgi.server [req-939eb332-c1c1-4e67-99b8-8695f8f1980a 113d3a99c3da401fbd62cc2caa5b96d2 54fadb412c4e40cdbaed9335e4c35a9e - - -] 10.11.10.1 \"GET /v2/54fadb412c4e40cdbaed9335e4c35a9e/servers/detail HTTP/1.1\" RCODE  200 len: 1893 time: 0.2727931', 'nova.osapi_compute.wsgi.server [req-5fad98fe-c83a-4293-8b50-5fdf9c6b9127 113d3a99c3da401fbd62cc2caa5b96d2 54fadb412c4e40cdbaed9335e4c35a9e - - -] 10.11.10.1 \"GET /v2/54fadb412c4e40cdbaed9335e4c35a9e/servers/detail HTTP/1.1\" Status code -  200 len: 1893 time: 0.2613258', 'nova.osapi_compute.wsgi.server [req-428f28af-b5be-46d2-a334-c261235ec80d 113d3a99c3da401fbd62cc2caa5b96d2 54fadb412c4e40cdbaed9335e4c35a9e - - -] 10.11.10.1 \"GET /v2/54fadb412c4e40cdbaed9335e4c35a9e/servers/detail HTTP/1.1\" status: 200 len: 1759 time: 0.2561328', 'nova.osapi_compute.wsgi.server [req-0a83191f-13cf-4f95-a6bc-a55a554c37bf 113d3a99c3da401fbd62cc2caa5b96d2 54fadb412c4e40cdbaed9335e4c35a9e - - -] 10.11.10.1 \"GET /v2/54fadb412c4e40cdbaed9335e4c35a9e/servers/detail HTTP/1.1\" Status code -  200 len: 1893 time: 0.2735391', 'nova.osapi_compute.wsgi.server [req-33bf2413-1b09-4d0f-8465-91d928a7994a 113d3a99c3da401fbd62cc2caa5b96d2 54fadb412c4e40cdbaed9335e4c35a9e - - -] 10.11.10.1 \"GET /v2/54fadb412c4e40cdbaed9335e4c35a9e/servers/detail HTTP/1.1\" RCODE  200 len: 1893 time: 0.2772589', 'nova.osapi_compute.wsgi.server [req-ebd68e1c-457d-484c-9bc7-e813b34f0c7e 113d3a99c3da401fbd62cc2caa5b96d2 54fadb412c4e40cdbaed9335e4c35a9e - - -] 10.11.10.1 \"GET /v2/54fadb412c4e40cdbaed9335e4c35a9e/servers/detail HTTP/1.1\" status: 200 len: 1893 time: 0.2695768', 'nova.osapi_compute.wsgi.server [req-5fba3209-52f5-4586-822a-2ecea551f621 113d3a99c3da401fbd62cc2caa5b96d2 54fadb412c4e40cdbaed9335e4c35a9e - - -] 10.11.10.1 \"GET /v2/54fadb412c4e40cdbaed9335e4c35a9e/servers/detail HTTP/1.1\" RCODE  200 len: 1759 time: 0.2835598', 'nova.metadata.wsgi.server [-] 10.11.21.137,10.11.10.1 \"GET /openstack/2013-10-17/vendor_data.json HTTP/1.1\" Status code -  200 len: 124 time: 0.0005460', 'nova.osapi_compute.wsgi.server [req-d86ac496-7a40-4c30-8075-1217fca754d3 113d3a99c3da401fbd62cc2caa5b96d2 54fadb412c4e40cdbaed9335e4c35a9e - - -] 10.11.10.1 \"GET /v2/54fadb412c4e40cdbaed9335e4c35a9e/servers/detail HTTP/1.1\" Return code: 200 len: 1759 time: 0.2584841', 'nova.osapi_compute.wsgi.server [req-1cd04999-4cd8-418c-9117-ecaf3e129b33 113d3a99c3da401fbd62cc2caa5b96d2 54fadb412c4e40cdbaed9335e4c35a9e - - -] 10.11.10.1 \"GET /v2/54fadb412c4e40cdbaed9335e4c35a9e/servers/detail HTTP/1.1\" HTTP status code -  200 len: 1893 time: 0.3592770', 'nova.osapi_compute.wsgi.server [req-e46f1fc1-61ce-4673-b3c7-f8bd94554273 113d3a99c3da401fbd62cc2caa5b96d2 54fadb412c4e40cdbaed9335e4c35a9e - - -] 10.11.10.1 \"GET /v2/54fadb412c4e40cdbaed9335e4c35a9e/servers/detail HTTP/1.1\" Return code: 200 len: 1893 time: 0.2580891', 'nova.osapi_compute.wsgi.server [req-665a67f1-74e7-4ffe-8ffa-9a81977fe6df 113d3a99c3da401fbd62cc2caa5b96d2 54fadb412c4e40cdbaed9335e4c35a9e - - -] 10.11.10.1 \"GET /v2/54fadb412c4e40cdbaed9335e4c35a9e/servers/detail HTTP/1.1\" RCODE  200 len: 1893 time: 0.2598279', 'nova.osapi_compute.wsgi.server [req-a2cd93b2-1e15-4277-91c3-f32e5949210b 113d3a99c3da401fbd62cc2caa5b96d2 54fadb412c4e40cdbaed9335e4c35a9e - - -] 10.11.10.1 \"GET /v2/54fadb412c4e40cdbaed9335e4c35a9e/servers/detail HTTP/1.1\" HTTP status code -  200 len: 1893 time: 0.2514729', 'nova.osapi_compute.wsgi.server [req-c3a9d75b-ddc5-4987-9989-6925aa53232a 113d3a99c3da401fbd62cc2caa5b96d2 54fadb412c4e40cdbaed9335e4c35a9e - - -] 10.11.10.1 \"GET /v2/54fadb412c4e40cdbaed9335e4c35a9e/servers/detail HTTP/1.1\" Return code: 200 len: 1910 time: 0.2654040', 'nova.metadata.wsgi.server [req-16b789d8-59a7-4979-8807-37686ec0144a - - - - -] 10.11.21.135,10.11.10.1 \"GET /latest/meta-data/reservation-id HTTP/1.1\" HTTP status code -  200 len: 127 time: 0.2272091', 'nova.osapi_compute.wsgi.server [req-9fe605b6-b7ce-41bf-b16a-2be754c45c65 113d3a99c3da401fbd62cc2caa5b96d2 54fadb412c4e40cdbaed9335e4c35a9e - - -] 10.11.10.1 \"GET /v2/54fadb412c4e40cdbaed9335e4c35a9e/servers/detail HTTP/1.1\" Return code: 200 len: 1893 time: 0.3648129', 'nova.osapi_compute.wsgi.server [req-55db2d8d-cdb7-4b4b-993b-429be84c0c3e 113d3a99c3da401fbd62cc2caa5b96d2 54fadb412c4e40cdbaed9335e4c35a9e - - -] 10.11.10.1 \"GET /v2/54fadb412c4e40cdbaed9335e4c35a9e/servers/detail HTTP/1.1\" Return code: 200 len: 1893 time: 0.2731631', 'nova.osapi_compute.wsgi.server [req-100e1170-b42e-4840-8c18-618eec0dbb92 113d3a99c3da401fbd62cc2caa5b96d2 54fadb412c4e40cdbaed9335e4c35a9e - - -] 10.11.10.1 \"GET /v2/54fadb412c4e40cdbaed9335e4c35a9e/servers/detail HTTP/1.1\" HTTP status code -  200 len: 1893 time: 0.2595811', 'nova.osapi_compute.wsgi.server [req-96502cb9-998c-4726-aca3-c3de19a2c3c1 113d3a99c3da401fbd62cc2caa5b96d2 54fadb412c4e40cdbaed9335e4c35a9e - - -] 10.11.10.1 \"GET /v2/54fadb412c4e40cdbaed9335e4c35a9e/servers/detail HTTP/1.1\" RCODE  200 len: 1893 time: 0.2585871', 'nova.osapi_compute.wsgi.server [req-e0e308c0-7fe0-4d30-a7ec-07972df0447c 113d3a99c3da401fbd62cc2caa5b96d2 54fadb412c4e40cdbaed9335e4c35a9e - - -] 10.11.10.1 \"GET /v2/54fadb412c4e40cdbaed9335e4c35a9e/servers/detail HTTP/1.1\" Status code -  200 len: 1583 time: 0.1796741', 'nova.osapi_compute.wsgi.server [req-bababf49-3a32-4c04-937b-14c494b95f3d 113d3a99c3da401fbd62cc2caa5b96d2 54fadb412c4e40cdbaed9335e4c35a9e - - -] 10.11.10.1 \"GET /v2/54fadb412c4e40cdbaed9335e4c35a9e/servers/detail HTTP/1.1\" RCODE  200 len: 1893 time: 0.2577350', 'nova.metadata.wsgi.server [-] 10.11.21.142,10.11.10.1 \"GET /openstack/2013-10-17 HTTP/1.1\" RCODE  200 len: 157 time: 0.0008900', 'nova.osapi_compute.wsgi.server [req-e7b18c45-b875-4590-b598-617401f382c3 113d3a99c3da401fbd62cc2caa5b96d2 54fadb412c4e40cdbaed9335e4c35a9e - - -] 10.11.10.1 \"GET /v2/54fadb412c4e40cdbaed9335e4c35a9e/servers/detail HTTP/1.1\" status: 200 len: 1759 time: 0.2754171', 'nova.osapi_compute.wsgi.server [req-5e81acc6-75f4-4110-ac6a-3adf677d4d9f 113d3a99c3da401fbd62cc2caa5b96d2 54fadb412c4e40cdbaed9335e4c35a9e - - -] 10.11.10.1 \"GET /v2/54fadb412c4e40cdbaed9335e4c35a9e/servers/detail HTTP/1.1\" Status code -  200 len: 1893 time: 0.2592661', 'nova.osapi_compute.wsgi.server [req-56339001-1664-4389-b65c-2a5328d70e88 d16a600c5e2a47fe98aee00ee4cb9743 e9746973ac574c6b8a9e8857f56a7608 - - -] 10.11.10.2 \"GET /v2/e9746973ac574c6b8a9e8857f56a7608/flavors/2 HTTP/1.1\" HTTP status code -  200 len: 604 time: 0.0573232', 'nova.osapi_compute.wsgi.server [req-bf5f82ea-8ca0-4437-b4d6-f914db1fb477 113d3a99c3da401fbd62cc2caa5b96d2 54fadb412c4e40cdbaed9335e4c35a9e - - -] 10.11.10.1 \"GET /v2/54fadb412c4e40cdbaed9335e4c35a9e/servers/detail HTTP/1.1\" RCODE  200 len: 1893 time: 0.2676780', 'nova.osapi_compute.wsgi.server [req-f309f43f-4929-4345-92bf-d85babef55fd 113d3a99c3da401fbd62cc2caa5b96d2 54fadb412c4e40cdbaed9335e4c35a9e - - -] 10.11.10.1 \"GET /v2/54fadb412c4e40cdbaed9335e4c35a9e/servers/detail HTTP/1.1\" Return code: 200 len: 1893 time: 0.2974470', 'nova.osapi_compute.wsgi.server [req-31b99b97-cf99-4845-9481-b8b3719a11e4 113d3a99c3da401fbd62cc2caa5b96d2 54fadb412c4e40cdbaed9335e4c35a9e - - -] 10.11.10.1 \"GET /v2/54fadb412c4e40cdbaed9335e4c35a9e/servers/detail HTTP/1.1\" status: 200 len: 211 time: 0.0940671', 'nova.osapi_compute.wsgi.server [req-bf118dbc-40ea-4813-bddd-8d9dee338ac5 113d3a99c3da401fbd62cc2caa5b96d2 54fadb412c4e40cdbaed9335e4c35a9e - - -] 10.11.10.1 \"GET /v2/54fadb412c4e40cdbaed9335e4c35a9e/servers/detail HTTP/1.1\" HTTP status code -  200 len: 1893 time: 0.2576840', 'nova.metadata.wsgi.server [-] 10.11.21.142,10.11.10.1 \"GET /openstack/2013-10-17/user_data HTTP/1.1\" HTTP status code -  404 len: 176 time: 0.0009949', 'nova.osapi_compute.wsgi.server [req-2f3cc725-2a26-46b3-9b24-0df5baf1ebf2 113d3a99c3da401fbd62cc2caa5b96d2 54fadb412c4e40cdbaed9335e4c35a9e - - -] 10.11.10.1 \"GET /v2/54fadb412c4e40cdbaed9335e4c35a9e/servers/detail HTTP/1.1\" RCODE  200 len: 1893 time: 0.2660620', 'nova.metadata.wsgi.server [req-8e7a76fa-e150-42ed-9775-906ec38f2389 - - - - -] 10.11.21.136,10.11.10.1 \"GET /openstack/2013-10-17/meta_data.json HTTP/1.1\" HTTP status code -  200 len: 967 time: 0.2261841', 'nova.osapi_compute.wsgi.server [req-67506f9d-a336-4418-893e-aa3b01d2dfba 113d3a99c3da401fbd62cc2caa5b96d2 54fadb412c4e40cdbaed9335e4c35a9e - - -] 10.11.10.1 \"GET /v2/54fadb412c4e40cdbaed9335e4c35a9e/servers/detail HTTP/1.1\" Status code -  200 len: 1893 time: 0.2727580', 'nova.osapi_compute.wsgi.server [req-0b3194a7-fbae-4214-88fe-39afd63e25a7 113d3a99c3da401fbd62cc2caa5b96d2 54fadb412c4e40cdbaed9335e4c35a9e - - -] 10.11.10.1 \"GET /v2/54fadb412c4e40cdbaed9335e4c35a9e/servers/detail HTTP/1.1\" HTTP status code -  200 len: 1893 time: 0.2536151', 'nova.osapi_compute.wsgi.server [req-9568479e-0bb4-4c74-9a16-cf8bc204a371 113d3a99c3da401fbd62cc2caa5b96d2 54fadb412c4e40cdbaed9335e4c35a9e - - -] 10.11.10.1 \"GET /v2/54fadb412c4e40cdbaed9335e4c35a9e/servers/detail HTTP/1.1\" Status code -  200 len: 1893 time: 0.2639749', 'nova.osapi_compute.wsgi.server [req-9c9d1d32-84c4-469c-8092-ba8d95d524b7 113d3a99c3da401fbd62cc2caa5b96d2 54fadb412c4e40cdbaed9335e4c35a9e - - -] 10.11.10.1 \"GET /v2/54fadb412c4e40cdbaed9335e4c35a9e/servers/detail HTTP/1.1\" Return code: 200 len: 1893 time: 0.2688880', 'nova.osapi_compute.wsgi.server [req-437ba7af-f981-4699-819a-700389a00f34 113d3a99c3da401fbd62cc2caa5b96d2 54fadb412c4e40cdbaed9335e4c35a9e - - -] 10.11.10.1 \"GET /v2/54fadb412c4e40cdbaed9335e4c35a9e/servers/detail HTTP/1.1\" Return code: 200 len: 1893 time: 0.2730091', 'nova.metadata.wsgi.server [req-a9f11ae2-996a-4e7e-acf5-453f7a2ff027 - - - - -] 10.11.21.143,10.11.10.1 \"GET /openstack/2012-08-10/meta_data.json HTTP/1.1\" RCODE  200 len: 264 time: 0.2402911', 'nova.osapi_compute.wsgi.server [req-3bb31561-435a-48b5-806e-5ef157eab7d6 113d3a99c3da401fbd62cc2caa5b96d2 54fadb412c4e40cdbaed9335e4c35a9e - - -] 10.11.10.1 \"GET /v2/54fadb412c4e40cdbaed9335e4c35a9e/servers/detail HTTP/1.1\" HTTP status code -  200 len: 1893 time: 0.2627311', 'nova.osapi_compute.wsgi.server [req-6d417741-b7d6-40b7-8468-1c87adfebbb8 113d3a99c3da401fbd62cc2caa5b96d2 54fadb412c4e40cdbaed9335e4c35a9e - - -] 10.11.10.1 \"GET /v2/54fadb412c4e40cdbaed9335e4c35a9e/servers/detail HTTP/1.1\" Status code -  200 len: 1910 time: 0.2486420', 'nova.metadata.wsgi.server [req-d7729064-6e3e-4d44-b65f-5b329ba18a74 - - - - -] 10.11.21.126,10.11.10.1 \"GET /latest/meta-data/block-device-mapping/ HTTP/1.1\" HTTP status code -  200 len: 124 time: 0.4023941', 'nova.metadata.wsgi.server [req-60baf898-c32b-4e88-916e-2bf4c115fa33 - - - - -] 10.11.21.125,10.11.10.1 \"GET /openstack/2012-08-10/meta_data.json HTTP/1.1\" status: 200 len: 264 time: 0.2202821', 'nova.metadata.wsgi.server [-] 10.11.21.133,10.11.10.1 \"GET /openstack/2013-10-17/vendor_data.json HTTP/1.1\" status: 200 len: 124 time: 0.0008950', 'nova.osapi_compute.wsgi.server [req-007c1773-4e52-4805-a67c-6b8b4df633f4 113d3a99c3da401fbd62cc2caa5b96d2 54fadb412c4e40cdbaed9335e4c35a9e - - -] 10.11.10.1 \"GET /v2/54fadb412c4e40cdbaed9335e4c35a9e/servers/detail HTTP/1.1\" HTTP status code -  200 len: 1910 time: 0.2721858', 'nova.osapi_compute.wsgi.server [req-fed0e14d-7871-4f5c-8445-d4fbc93c48a3 f7b8d1f1d4d44643b07fa10ca7d021fb e9746973ac574c6b8a9e8857f56a7608 - - -] 10.11.10.1 \"POST /v2/e9746973ac574c6b8a9e8857f56a7608/os-server-external-events HTTP/1.1\" Return code: 200 len: 380 time: 0.1030841', 'nova.osapi_compute.wsgi.server [req-31453286-67b1-4c86-89bc-445a668da2d9 113d3a99c3da401fbd62cc2caa5b96d2 54fadb412c4e40cdbaed9335e4c35a9e - - -] 10.11.10.1 \"DELETE /v2/54fadb412c4e40cdbaed9335e4c35a9e/servers/43204226-2f87-4da7-b7ee-4d20cc66e846 HTTP/1.1\" HTTP status code -  204 len: 203 time: 0.2904482', 'nova.osapi_compute.wsgi.server [req-87fb3150-d67d-4752-9f09-376914ef72ec 113d3a99c3da401fbd62cc2caa5b96d2 54fadb412c4e40cdbaed9335e4c35a9e - - -] 10.11.10.1 \"GET /v2/54fadb412c4e40cdbaed9335e4c35a9e/servers/detail HTTP/1.1\" HTTP status code -  200 len: 1893 time: 0.2497211', 'nova.metadata.wsgi.server [req-32ecf06f-cf33-4487-baa9-740cb3b4fc82 - - - - -] 10.11.21.133,10.11.10.1 \"GET /latest/meta-data/ HTTP/1.1\" status: 200 len: 328 time: 0.2367840', 'nova.osapi_compute.wsgi.server [req-5ff477a1-4d19-44b2-bd80-bc948fd71044 113d3a99c3da401fbd62cc2caa5b96d2 54fadb412c4e40cdbaed9335e4c35a9e - - -] 10.11.10.1 \"GET /v2/54fadb412c4e40cdbaed9335e4c35a9e/servers/detail HTTP/1.1\" Return code: 200 len: 1893 time: 0.2753420', 'nova.metadata.wsgi.server [-] 10.11.21.143,10.11.10.1 \"GET /openstack/2013-10-17 HTTP/1.1\" status: 200 len: 157 time: 0.0009041', 'nova.metadata.wsgi.server [req-9dfe357d-81fd-45bb-b2b1-3a0ead0a0770 - - - - -] 10.11.21.132,10.11.10.1 \"GET /latest/meta-data/ami-id HTTP/1.1\" HTTP status code -  200 len: 129 time: 0.2386379', 'nova.osapi_compute.wsgi.server [req-54356141-cc49-4eb1-a69e-3f6833ea9a63 113d3a99c3da401fbd62cc2caa5b96d2 54fadb412c4e40cdbaed9335e4c35a9e - - -] 10.11.10.1 \"GET /v2/54fadb412c4e40cdbaed9335e4c35a9e/servers/detail HTTP/1.1\" status: 200 len: 1893 time: 0.2530420', 'nova.osapi_compute.wsgi.server [req-80cf4c1c-dbce-4ad2-87df-2d1c410694d1 113d3a99c3da401fbd62cc2caa5b96d2 54fadb412c4e40cdbaed9335e4c35a9e - - -] 10.11.10.1 \"GET /v2/54fadb412c4e40cdbaed9335e4c35a9e/servers/detail HTTP/1.1\" status: 200 len: 1893 time: 0.2494071', 'nova.osapi_compute.wsgi.server [req-5e0f9d3c-be64-4960-a107-d406900e0ea8 113d3a99c3da401fbd62cc2caa5b96d2 54fadb412c4e40cdbaed9335e4c35a9e - - -] 10.11.10.1 \"DELETE /v2/54fadb412c4e40cdbaed9335e4c35a9e/servers/a015cf14-84bb-4156-a48d-7c4824ac7a9d HTTP/1.1\" HTTP status code -  204 len: 203 time: 0.3042688', 'nova.metadata.wsgi.server [-] 10.11.21.123,10.11.10.1 \"GET /latest/meta-data/block-device-mapping/root HTTP/1.1\" status: 200 len: 124 time: 0.0018420', 'nova.osapi_compute.wsgi.server [req-0b851395-2895-44b9-8265-a27d0bb52910 f7b8d1f1d4d44643b07fa10ca7d021fb e9746973ac574c6b8a9e8857f56a7608 - - -] 10.11.10.1 \"POST /v2/e9746973ac574c6b8a9e8857f56a7608/os-server-external-events HTTP/1.1\" HTTP status code -  404 len: 296 time: 0.0793190', 'nova.osapi_compute.wsgi.server [req-69484de8-4761-43a1-9246-3751ba4eef5b 113d3a99c3da401fbd62cc2caa5b96d2 54fadb412c4e40cdbaed9335e4c35a9e - - -] 10.11.10.1 \"GET /v2/54fadb412c4e40cdbaed9335e4c35a9e/servers/detail HTTP/1.1\" Return code: 200 len: 1893 time: 0.3519812', 'nova.osapi_compute.wsgi.server [req-01f43732-6b76-41c6-953f-a061d8fde6bc 113d3a99c3da401fbd62cc2caa5b96d2 54fadb412c4e40cdbaed9335e4c35a9e - - -] 10.11.10.1 \"GET /v2/54fadb412c4e40cdbaed9335e4c35a9e/servers/127e769a-4fe6-4548-93b1-513ac51e0452 HTTP/1.1\" Return code: 200 len: 1708 time: 0.1873600', 'nova.osapi_compute.wsgi.server [req-195dc088-f47a-400c-88fc-84679675701e 113d3a99c3da401fbd62cc2caa5b96d2 54fadb412c4e40cdbaed9335e4c35a9e - - -] 10.11.10.1 \"GET /v2/54fadb412c4e40cdbaed9335e4c35a9e/servers/detail HTTP/1.1\" Return code: 200 len: 1893 time: 0.2558119', 'nova.osapi_compute.wsgi.server [req-e796fbdd-a70f-4bae-883d-b2098996e4a7 113d3a99c3da401fbd62cc2caa5b96d2 54fadb412c4e40cdbaed9335e4c35a9e - - -] 10.11.10.1 \"GET /v2/54fadb412c4e40cdbaed9335e4c35a9e/servers/detail HTTP/1.1\" status: 200 len: 1893 time: 0.2494860', 'nova.osapi_compute.wsgi.server [req-fb899231-69fa-4ab6-ac40-93bb982b208e 113d3a99c3da401fbd62cc2caa5b96d2 54fadb412c4e40cdbaed9335e4c35a9e - - -] 10.11.10.1 \"GET /v2/54fadb412c4e40cdbaed9335e4c35a9e/servers/detail HTTP/1.1\" status: 200 len: 1893 time: 0.2669530', 'nova.osapi_compute.wsgi.server [req-a20bd580-2378-436b-91fc-79d1ce871713 113d3a99c3da401fbd62cc2caa5b96d2 54fadb412c4e40cdbaed9335e4c35a9e - - -] 10.11.10.1 \"GET /v2/54fadb412c4e40cdbaed9335e4c35a9e/servers/detail HTTP/1.1\" RCODE  200 len: 1910 time: 0.2556732', 'nova.metadata.wsgi.server [req-e7dbbfbb-8c21-4c78-86d5-d207f180455f - - - - -] 10.11.21.133,10.11.10.1 \"GET /openstack/2013-10-17/vendor_data.json HTTP/1.1\" RCODE  200 len: 124 time: 0.2253911', 'nova.osapi_compute.wsgi.server [req-3c4808c7-7693-4cff-9e9f-1bf449ae9a56 113d3a99c3da401fbd62cc2caa5b96d2 54fadb412c4e40cdbaed9335e4c35a9e - - -] 10.11.10.1 \"GET /v2/54fadb412c4e40cdbaed9335e4c35a9e/servers/detail HTTP/1.1\" Status code -  200 len: 1893 time: 0.2719259', 'nova.metadata.wsgi.server [-] 10.11.21.123,10.11.10.1 \"GET /openstack/2013-10-17/meta_data.json HTTP/1.1\" status: 200 len: 967 time: 0.0010512', 'nova.osapi_compute.wsgi.server [req-9b15f752-78b7-4fc5-8d2b-54f619e0e2b5 113d3a99c3da401fbd62cc2caa5b96d2 54fadb412c4e40cdbaed9335e4c35a9e - - -] 10.11.10.1 \"GET /v2/54fadb412c4e40cdbaed9335e4c35a9e/servers/detail HTTP/1.1\" Status code -  200 len: 1893 time: 0.2771640', 'nova.osapi_compute.wsgi.server [req-121ecfae-3fb1-49cc-9a78-8b046fe73a77 113d3a99c3da401fbd62cc2caa5b96d2 54fadb412c4e40cdbaed9335e4c35a9e - - -] 10.11.10.1 \"DELETE /v2/54fadb412c4e40cdbaed9335e4c35a9e/servers/d96a117b-0193-4549-bdcc-63b917273d1d HTTP/1.1\" HTTP status code -  204 len: 203 time: 0.2549498', 'nova.osapi_compute.wsgi.server [req-d82fab16-60f8-4c9f-bde8-f362f57bdd40 113d3a99c3da401fbd62cc2caa5b96d2 54fadb412c4e40cdbaed9335e4c35a9e - - -] 10.11.10.1 \"POST /v2/54fadb412c4e40cdbaed9335e4c35a9e/servers HTTP/1.1\" Status code -  202 len: 733 time: 0.4953768', 'nova.osapi_compute.wsgi.server [req-08d50ea8-a6d0-474a-aaea-560407ef2dec 113d3a99c3da401fbd62cc2caa5b96d2 54fadb412c4e40cdbaed9335e4c35a9e - - -] 10.11.10.1 \"DELETE /v2/54fadb412c4e40cdbaed9335e4c35a9e/servers/c62f4f25-982c-4ea2-b5e4-93000edfcfbf HTTP/1.1\" RCODE  204 len: 203 time: 0.2904921', 'nova.osapi_compute.wsgi.server [req-4872dec2-12a9-494a-a0c7-237f279bf011 113d3a99c3da401fbd62cc2caa5b96d2 54fadb412c4e40cdbaed9335e4c35a9e - - -] 10.11.10.1 \"GET /v2/54fadb412c4e40cdbaed9335e4c35a9e/servers/detail HTTP/1.1\" Return code: 200 len: 1893 time: 0.2676511', 'nova.metadata.wsgi.server [-] 10.11.21.132,10.11.10.1 \"GET /latest/meta-data/block-device-mapping/root HTTP/1.1\" HTTP status code -  200 len: 124 time: 0.0007141', 'nova.metadata.wsgi.server [-] 10.11.21.134,10.11.10.1 \"GET /openstack/2013-10-17/vendor_data.json HTTP/1.1\" HTTP status code -  200 len: 124 time: 0.0007591', 'nova.osapi_compute.wsgi.server [req-a20a3b43-972a-487f-94a6-bff85ee735fc 113d3a99c3da401fbd62cc2caa5b96d2 54fadb412c4e40cdbaed9335e4c35a9e - - -] 10.11.10.1 \"GET /v2/54fadb412c4e40cdbaed9335e4c35a9e/servers/detail HTTP/1.1\" Return code: 200 len: 1893 time: 0.2697771', 'nova.osapi_compute.wsgi.server [req-ec4801c6-49fe-4c54-8978-87ec1dca9133 113d3a99c3da401fbd62cc2caa5b96d2 54fadb412c4e40cdbaed9335e4c35a9e - - -] 10.11.10.1 \"GET /v2/54fadb412c4e40cdbaed9335e4c35a9e/servers/detail HTTP/1.1\" RCODE  200 len: 1893 time: 0.3924651', 'nova.metadata.wsgi.server [-] 10.11.21.123,10.11.10.1 \"GET /latest/meta-data/ HTTP/1.1\" Return code: 200 len: 328 time: 0.0009170', 'nova.osapi_compute.wsgi.server [req-c860e116-eadb-455a-921a-fedfa8e998a2 113d3a99c3da401fbd62cc2caa5b96d2 54fadb412c4e40cdbaed9335e4c35a9e - - -] 10.11.10.1 \"GET /v2/54fadb412c4e40cdbaed9335e4c35a9e/servers/detail HTTP/1.1\" RCODE  200 len: 1893 time: 0.2615430', 'nova.osapi_compute.wsgi.server [req-0674a244-9379-44c7-b63e-24ca4623fd72 113d3a99c3da401fbd62cc2caa5b96d2 54fadb412c4e40cdbaed9335e4c35a9e - - -] 10.11.10.1 \"GET /v2/54fadb412c4e40cdbaed9335e4c35a9e/servers/detail HTTP/1.1\" Status code -  200 len: 1893 time: 0.2741919', 'nova.osapi_compute.wsgi.server [req-136a1713-e90c-489c-b626-cabb0f68302a 113d3a99c3da401fbd62cc2caa5b96d2 54fadb412c4e40cdbaed9335e4c35a9e - - -] 10.11.10.1 \"GET /v2/54fadb412c4e40cdbaed9335e4c35a9e/servers/detail HTTP/1.1\" status: 200 len: 1916 time: 0.2837551', 'nova.osapi_compute.wsgi.server [req-0482ad95-c90b-4dc3-b288-1960a118b189 113d3a99c3da401fbd62cc2caa5b96d2 54fadb412c4e40cdbaed9335e4c35a9e - - -] 10.11.10.1 \"GET /v2/54fadb412c4e40cdbaed9335e4c35a9e/servers/detail HTTP/1.1\" Status code -  200 len: 1893 time: 0.2574868', 'nova.osapi_compute.wsgi.server [req-77b6a0fd-dcab-47dd-8465-13cbe5434d40 113d3a99c3da401fbd62cc2caa5b96d2 54fadb412c4e40cdbaed9335e4c35a9e - - -] 10.11.10.1 \"GET /v2/54fadb412c4e40cdbaed9335e4c35a9e/servers/detail HTTP/1.1\" HTTP status code -  200 len: 1893 time: 0.2681870', 'nova.osapi_compute.wsgi.server [req-f86b0a78-1dbe-4610-824e-b80f7f687b3c 113d3a99c3da401fbd62cc2caa5b96d2 54fadb412c4e40cdbaed9335e4c35a9e - - -] 10.11.10.1 \"GET /v2/54fadb412c4e40cdbaed9335e4c35a9e/servers/detail HTTP/1.1\" RCODE  200 len: 1893 time: 0.3997040', 'nova.osapi_compute.wsgi.server [req-e0346c36-c199-4fb3-805c-30036a6a6bb8 113d3a99c3da401fbd62cc2caa5b96d2 54fadb412c4e40cdbaed9335e4c35a9e - - -] 10.11.10.1 \"GET /v2/54fadb412c4e40cdbaed9335e4c35a9e/servers/detail HTTP/1.1\" RCODE  200 len: 1893 time: 0.2643161', 'nova.osapi_compute.wsgi.server [req-eb575f6b-9fcc-48a5-b179-97b24561a888 113d3a99c3da401fbd62cc2caa5b96d2 54fadb412c4e40cdbaed9335e4c35a9e - - -] 10.11.10.1 \"GET /v2/54fadb412c4e40cdbaed9335e4c35a9e/servers/detail HTTP/1.1\" Return code: 200 len: 1893 time: 0.2747040', 'nova.osapi_compute.wsgi.server [req-e0003c57-829b-4caf-bcde-8593b829ff56 113d3a99c3da401fbd62cc2caa5b96d2 54fadb412c4e40cdbaed9335e4c35a9e - - -] 10.11.10.1 \"GET /v2/54fadb412c4e40cdbaed9335e4c35a9e/servers/detail HTTP/1.1\" status: 200 len: 211 time: 0.0959971', 'nova.metadata.wsgi.server [-] 10.11.21.124,10.11.10.1 \"GET /openstack/2013-10-17/vendor_data.json HTTP/1.1\" status: 200 len: 124 time: 0.0007789', 'nova.metadata.wsgi.server [-] 10.11.21.135,10.11.10.1 \"GET /latest/meta-data/ HTTP/1.1\" Return code: 200 len: 328 time: 0.0007021', 'nova.osapi_compute.wsgi.server [req-ddbf9283-3fb6-4ea4-b19f-8d50d72ad8a1 113d3a99c3da401fbd62cc2caa5b96d2 54fadb412c4e40cdbaed9335e4c35a9e - - -] 10.11.10.1 \"GET /v2/54fadb412c4e40cdbaed9335e4c35a9e/servers/a015cf14-84bb-4156-a48d-7c4824ac7a9d HTTP/1.1\" Status code -  200 len: 1708 time: 0.1869872', 'nova.osapi_compute.wsgi.server [req-b2a03290-0331-430f-93f8-b3ead868b0d5 113d3a99c3da401fbd62cc2caa5b96d2 54fadb412c4e40cdbaed9335e4c35a9e - - -] 10.11.10.1 \"GET /v2/54fadb412c4e40cdbaed9335e4c35a9e/servers/detail HTTP/1.1\" Return code: 200 len: 1893 time: 0.2558751', 'nova.osapi_compute.wsgi.server [req-91545d8f-3e15-4a9d-869f-5e9af23a108d 113d3a99c3da401fbd62cc2caa5b96d2 54fadb412c4e40cdbaed9335e4c35a9e - - -] 10.11.10.1 \"GET /v2/54fadb412c4e40cdbaed9335e4c35a9e/servers/detail HTTP/1.1\" Return code: 200 len: 1893 time: 0.2779088', 'nova.osapi_compute.wsgi.server [req-093db94a-7c2d-442f-be65-7f28c92b858d 113d3a99c3da401fbd62cc2caa5b96d2 54fadb412c4e40cdbaed9335e4c35a9e - - -] 10.11.10.1 \"GET /v2/54fadb412c4e40cdbaed9335e4c35a9e/servers/detail HTTP/1.1\" RCODE  200 len: 1893 time: 0.2675610', 'nova.osapi_compute.wsgi.server [req-660ffeaf-e3fe-4f45-a960-2a207e61fcc7 113d3a99c3da401fbd62cc2caa5b96d2 54fadb412c4e40cdbaed9335e4c35a9e - - -] 10.11.10.1 \"GET /v2/54fadb412c4e40cdbaed9335e4c35a9e/servers/detail HTTP/1.1\" Return code: 200 len: 1893 time: 0.2509589', 'nova.metadata.wsgi.server [req-7f28b5ca-c3e5-4e98-876e-cc3c0065dcb6 - - - - -] 10.11.21.128,10.11.10.1 \"GET /openstack/2013-10-17/user_data HTTP/1.1\" Return code: 404 len: 176 time: 0.2495749', 'nova.osapi_compute.wsgi.server [req-64997958-5681-4d81-9842-7761830aba34 113d3a99c3da401fbd62cc2caa5b96d2 54fadb412c4e40cdbaed9335e4c35a9e - - -] 10.11.10.1 \"GET /v2/54fadb412c4e40cdbaed9335e4c35a9e/servers/detail HTTP/1.1\" status: 200 len: 1893 time: 0.2691131', 'nova.osapi_compute.wsgi.server [req-ea160a5d-14a4-4637-b413-119173854b09 113d3a99c3da401fbd62cc2caa5b96d2 54fadb412c4e40cdbaed9335e4c35a9e - - -] 10.11.10.1 \"DELETE /v2/54fadb412c4e40cdbaed9335e4c35a9e/servers/bf8c824d-f099-4433-a41e-e3da7578262e HTTP/1.1\" Status code -  204 len: 203 time: 0.2631681', 'nova.osapi_compute.wsgi.server [req-f19e6425-c9a9-46d2-9439-7e9b0d955ed5 113d3a99c3da401fbd62cc2caa5b96d2 54fadb412c4e40cdbaed9335e4c35a9e - - -] 10.11.10.1 \"GET /v2/54fadb412c4e40cdbaed9335e4c35a9e/servers/detail HTTP/1.1\" HTTP status code -  200 len: 1893 time: 0.2491391', 'nova.osapi_compute.wsgi.server [req-24665636-9f41-4a8b-8158-2967540c88a6 113d3a99c3da401fbd62cc2caa5b96d2 54fadb412c4e40cdbaed9335e4c35a9e - - -] 10.11.10.1 \"GET /v2/54fadb412c4e40cdbaed9335e4c35a9e/servers/detail HTTP/1.1\" status: 200 len: 1583 time: 0.1911871', 'nova.metadata.wsgi.server [req-c56d6984-5128-4925-aa24-2009c409e9e1 - - - - -] 10.11.21.138,10.11.10.1 \"GET /openstack/2013-10-17/vendor_data.json HTTP/1.1\" Return code: 200 len: 124 time: 0.2222931', 'nova.metadata.wsgi.server [-] 10.11.21.132,10.11.10.1 \"GET /latest/meta-data/placement/availability-zone HTTP/1.1\" Status code -  200 len: 120 time: 0.0009980', 'nova.osapi_compute.wsgi.server [req-619e0308-cfbb-4b47-b280-8dfa8b9a257f 113d3a99c3da401fbd62cc2caa5b96d2 54fadb412c4e40cdbaed9335e4c35a9e - - -] 10.11.10.1 \"GET /v2/54fadb412c4e40cdbaed9335e4c35a9e/servers/detail HTTP/1.1\" Return code: 200 len: 1910 time: 0.2556121', 'nova.osapi_compute.wsgi.server [req-dc3bb50f-58cf-4aab-ae70-8d41b2009f52 113d3a99c3da401fbd62cc2caa5b96d2 54fadb412c4e40cdbaed9335e4c35a9e - - -] 10.11.10.1 \"GET /v2/54fadb412c4e40cdbaed9335e4c35a9e/servers/detail HTTP/1.1\" Status code -  200 len: 211 time: 0.0951850', 'nova.osapi_compute.wsgi.server [req-ec90bc75-c4b2-4022-a072-9c9aa8fd7fc5 113d3a99c3da401fbd62cc2caa5b96d2 54fadb412c4e40cdbaed9335e4c35a9e - - -] 10.11.10.1 \"GET /v2/54fadb412c4e40cdbaed9335e4c35a9e/servers/detail HTTP/1.1\" HTTP status code -  200 len: 1893 time: 0.2611251', 'nova.osapi_compute.wsgi.server [req-17ee8196-ec23-4adc-acc9-4c24686d8b68 113d3a99c3da401fbd62cc2caa5b96d2 54fadb412c4e40cdbaed9335e4c35a9e - - -] 10.11.10.1 \"GET /v2/54fadb412c4e40cdbaed9335e4c35a9e/servers/detail HTTP/1.1\" RCODE  200 len: 1893 time: 0.2791021', 'nova.osapi_compute.wsgi.server [req-91380ad7-eb23-433c-aba8-4bd0747e1c66 113d3a99c3da401fbd62cc2caa5b96d2 54fadb412c4e40cdbaed9335e4c35a9e - - -] 10.11.10.1 \"GET /v2/54fadb412c4e40cdbaed9335e4c35a9e/servers/detail HTTP/1.1\" RCODE  200 len: 1893 time: 0.2670941', 'nova.osapi_compute.wsgi.server [req-a237c1a8-c823-4154-927b-ebcd741f6fbf f7b8d1f1d4d44643b07fa10ca7d021fb e9746973ac574c6b8a9e8857f56a7608 - - -] 10.11.10.1 \"POST /v2/e9746973ac574c6b8a9e8857f56a7608/os-server-external-events HTTP/1.1\" RCODE  404 len: 296 time: 0.0892961', 'nova.osapi_compute.wsgi.server [req-fd4a841b-8d46-4485-b466-117bf8e53a94 113d3a99c3da401fbd62cc2caa5b96d2 54fadb412c4e40cdbaed9335e4c35a9e - - -] 10.11.10.1 \"GET /v2/54fadb412c4e40cdbaed9335e4c35a9e/servers/detail HTTP/1.1\" HTTP status code -  200 len: 1893 time: 0.2663469', 'nova.osapi_compute.wsgi.server [req-3e79db14-65fd-4ace-abb1-7923c8fc654f 113d3a99c3da401fbd62cc2caa5b96d2 54fadb412c4e40cdbaed9335e4c35a9e - - -] 10.11.10.1 \"GET /v2/54fadb412c4e40cdbaed9335e4c35a9e/servers/detail HTTP/1.1\" HTTP status code -  200 len: 1893 time: 0.2679651', 'nova.osapi_compute.wsgi.server [req-a9fc7a8f-1f8c-4a69-90f4-5e5dc260051e 113d3a99c3da401fbd62cc2caa5b96d2 54fadb412c4e40cdbaed9335e4c35a9e - - -] 10.11.10.1 \"GET /v2/54fadb412c4e40cdbaed9335e4c35a9e/servers/detail HTTP/1.1\" Return code: 200 len: 1893 time: 0.2646010', 'nova.osapi_compute.wsgi.server [req-de9d35cf-5e55-41c8-85ed-eae0a39f53f4 113d3a99c3da401fbd62cc2caa5b96d2 54fadb412c4e40cdbaed9335e4c35a9e - - -] 10.11.10.1 \"GET /v2/54fadb412c4e40cdbaed9335e4c35a9e/servers/detail HTTP/1.1\" status: 200 len: 1575 time: 0.1767941', 'nova.osapi_compute.wsgi.server [req-1ff7c697-95a2-4bf6-9198-158d16989796 113d3a99c3da401fbd62cc2caa5b96d2 54fadb412c4e40cdbaed9335e4c35a9e - - -] 10.11.10.1 \"GET /v2/54fadb412c4e40cdbaed9335e4c35a9e/servers/detail HTTP/1.1\" HTTP status code -  200 len: 1893 time: 0.2463491', 'nova.osapi_compute.wsgi.server [req-6d19b68e-0a24-4e59-8d02-5f3e1ca859f8 113d3a99c3da401fbd62cc2caa5b96d2 54fadb412c4e40cdbaed9335e4c35a9e - - -] 10.11.10.1 \"GET /v2/54fadb412c4e40cdbaed9335e4c35a9e/servers/detail HTTP/1.1\" status: 200 len: 1893 time: 0.2597642', 'nova.metadata.wsgi.server [-] 10.11.21.136,10.11.10.1 \"GET /latest/meta-data/block-device-mapping/ami HTTP/1.1\" RCODE  200 len: 119 time: 0.0009940', 'nova.metadata.wsgi.server [req-1e7b94f6-9cde-4749-9677-71235d2b0cad - - - - -] 10.11.21.128,10.11.10.1 \"GET /openstack/2013-10-17 HTTP/1.1\" status: 200 len: 157 time: 0.2219090', 'nova.metadata.wsgi.server [req-5295ab7c-ca83-4234-a5ed-6a67d7d38b4b - - - - -] 10.11.21.132,10.11.10.1 \"GET /latest/meta-data/public-hostname HTTP/1.1\" RCODE  200 len: 130 time: 0.2245400', 'nova.osapi_compute.wsgi.server [req-3cea2065-89b0-4f75-ad1a-338464ef9cd3 113d3a99c3da401fbd62cc2caa5b96d2 54fadb412c4e40cdbaed9335e4c35a9e - - -] 10.11.10.1 \"GET /v2/54fadb412c4e40cdbaed9335e4c35a9e/servers/detail HTTP/1.1\" RCODE  200 len: 1893 time: 0.2708280', 'nova.osapi_compute.wsgi.server [req-538510d6-0945-4417-a8c9-1c377762514f 113d3a99c3da401fbd62cc2caa5b96d2 54fadb412c4e40cdbaed9335e4c35a9e - - -] 10.11.10.1 \"GET /v2/54fadb412c4e40cdbaed9335e4c35a9e/servers/detail HTTP/1.1\" Return code: 200 len: 1910 time: 0.2472789', 'nova.osapi_compute.wsgi.server [req-ea3a5f31-5950-484f-be55-67a9df287f2e 113d3a99c3da401fbd62cc2caa5b96d2 54fadb412c4e40cdbaed9335e4c35a9e - - -] 10.11.10.1 \"GET /v2/54fadb412c4e40cdbaed9335e4c35a9e/servers/detail HTTP/1.1\" Return code: 200 len: 1893 time: 0.4113560', 'nova.metadata.wsgi.server [-] 10.11.21.126,10.11.10.1 \"GET /openstack/2013-10-17/vendor_data.json HTTP/1.1\" RCODE  200 len: 124 time: 0.0009999', 'nova.osapi_compute.wsgi.server [req-a9ca2993-416e-4268-a0c5-a1ff1214fcb7 113d3a99c3da401fbd62cc2caa5b96d2 54fadb412c4e40cdbaed9335e4c35a9e - - -] 10.11.10.1 \"GET /v2/54fadb412c4e40cdbaed9335e4c35a9e/servers/detail HTTP/1.1\" status: 200 len: 1893 time: 0.2501280', 'nova.osapi_compute.wsgi.server [req-1fc1761c-fded-443a-814a-e48c5f5d3567 113d3a99c3da401fbd62cc2caa5b96d2 54fadb412c4e40cdbaed9335e4c35a9e - - -] 10.11.10.1 \"GET /v2/54fadb412c4e40cdbaed9335e4c35a9e/servers/17288ea8-cbf4-4f0e-94fe-853fd2735f29 HTTP/1.1\" Return code: 200 len: 1708 time: 0.1789858', 'nova.osapi_compute.wsgi.server [req-d30bba94-9266-4848-8388-87de60c4ee51 113d3a99c3da401fbd62cc2caa5b96d2 54fadb412c4e40cdbaed9335e4c35a9e - - -] 10.11.10.1 \"GET /v2/54fadb412c4e40cdbaed9335e4c35a9e/servers/detail HTTP/1.1\" HTTP status code -  200 len: 1893 time: 0.2635791', 'nova.osapi_compute.wsgi.server [req-424209a4-ace9-489b-b79d-86686ef48d00 113d3a99c3da401fbd62cc2caa5b96d2 54fadb412c4e40cdbaed9335e4c35a9e - - -] 10.11.10.1 \"GET /v2/54fadb412c4e40cdbaed9335e4c35a9e/servers/detail HTTP/1.1\" Status code -  200 len: 1893 time: 0.2697830', 'nova.osapi_compute.wsgi.server [req-178e4577-d563-4131-a9cb-021a4ef7b10c 113d3a99c3da401fbd62cc2caa5b96d2 54fadb412c4e40cdbaed9335e4c35a9e - - -] 10.11.10.1 \"GET /v2/54fadb412c4e40cdbaed9335e4c35a9e/servers/detail HTTP/1.1\" RCODE  200 len: 1893 time: 0.2630880', 'nova.metadata.wsgi.server [req-04d59c69-59a1-47ec-8179-f86938f6da66 - - - - -] 10.11.21.124,10.11.10.1 \"GET /openstack/2013-10-17/meta_data.json HTTP/1.1\" RCODE  200 len: 967 time: 0.2326000', 'nova.metadata.wsgi.server [-] 10.11.21.141,10.11.10.1 \"GET /openstack/2013-10-17/user_data HTTP/1.1\" Return code: 404 len: 176 time: 0.0009251', 'nova.osapi_compute.wsgi.server [req-b35243f5-f4cf-44c3-8085-9c3e6d636cd4 113d3a99c3da401fbd62cc2caa5b96d2 54fadb412c4e40cdbaed9335e4c35a9e - - -] 10.11.10.1 \"GET /v2/54fadb412c4e40cdbaed9335e4c35a9e/servers/detail HTTP/1.1\" Status code -  200 len: 1893 time: 0.2634368', 'nova.osapi_compute.wsgi.server [req-5c8f52bd-8e3c-41f0-95a5-7861d247cafa 113d3a99c3da401fbd62cc2caa5b96d2 54fadb412c4e40cdbaed9335e4c35a9e - - -] 10.11.10.1 \"POST /v2/54fadb412c4e40cdbaed9335e4c35a9e/servers HTTP/1.1\" RCODE  202 len: 733 time: 0.4846020', 'nova.osapi_compute.wsgi.server [req-1357c966-8c54-46e4-be1d-b9651e26fa66 113d3a99c3da401fbd62cc2caa5b96d2 54fadb412c4e40cdbaed9335e4c35a9e - - -] 10.11.10.1 \"GET /v2/54fadb412c4e40cdbaed9335e4c35a9e/servers/detail HTTP/1.1\" Return code: 200 len: 1759 time: 0.2973850', 'nova.metadata.wsgi.server [req-56b3881f-cc53-4c33-a96e-41d2d6b2ed59 - - - - -] 10.11.21.131,10.11.10.1 \"GET /openstack/2013-10-17 HTTP/1.1\" HTTP status code -  200 len: 157 time: 0.2318211', 'nova.osapi_compute.wsgi.server [req-f25b814c-14fb-49a7-8bdd-1f2ffb3483e6 113d3a99c3da401fbd62cc2caa5b96d2 54fadb412c4e40cdbaed9335e4c35a9e - - -] 10.11.10.1 \"GET /v2/54fadb412c4e40cdbaed9335e4c35a9e/servers/detail HTTP/1.1\" RCODE  200 len: 1583 time: 0.1850250', 'nova.osapi_compute.wsgi.server [req-b7a3a805-eee2-4539-b412-18d9d9b22c0f 113d3a99c3da401fbd62cc2caa5b96d2 54fadb412c4e40cdbaed9335e4c35a9e - - -] 10.11.10.1 \"GET /v2/54fadb412c4e40cdbaed9335e4c35a9e/servers/detail HTTP/1.1\" HTTP status code -  200 len: 1893 time: 0.2643571', 'nova.osapi_compute.wsgi.server [req-55ebb1b1-6e88-44d5-be79-fe8b37e64ecf 113d3a99c3da401fbd62cc2caa5b96d2 54fadb412c4e40cdbaed9335e4c35a9e - - -] 10.11.10.1 \"GET /v2/54fadb412c4e40cdbaed9335e4c35a9e/servers/detail HTTP/1.1\" HTTP status code -  200 len: 1893 time: 0.2707460', 'nova.osapi_compute.wsgi.server [req-ae221290-3f43-4590-a89a-386bf9616794 113d3a99c3da401fbd62cc2caa5b96d2 54fadb412c4e40cdbaed9335e4c35a9e - - -] 10.11.10.1 \"GET /v2/54fadb412c4e40cdbaed9335e4c35a9e/servers/detail HTTP/1.1\" Return code: 200 len: 1893 time: 0.2508280', 'nova.osapi_compute.wsgi.server [req-699eeadf-6db8-44a4-8521-1ab4e8a53b53 113d3a99c3da401fbd62cc2caa5b96d2 54fadb412c4e40cdbaed9335e4c35a9e - - -] 10.11.10.1 \"DELETE /v2/54fadb412c4e40cdbaed9335e4c35a9e/servers/faf974ea-cba5-4e1b-93f4-3a3bc606006f HTTP/1.1\" status: 204 len: 203 time: 0.2727120', 'nova.osapi_compute.wsgi.server [req-505be128-84cc-4f5a-a280-38720ea84241 113d3a99c3da401fbd62cc2caa5b96d2 54fadb412c4e40cdbaed9335e4c35a9e - - -] 10.11.10.1 \"GET /v2/54fadb412c4e40cdbaed9335e4c35a9e/servers/detail HTTP/1.1\" Status code -  200 len: 1893 time: 0.2774730', 'nova.osapi_compute.wsgi.server [req-038072fc-4104-4e19-a0d5-f29a252fd887 113d3a99c3da401fbd62cc2caa5b96d2 54fadb412c4e40cdbaed9335e4c35a9e - - -] 10.11.10.1 \"GET /v2/54fadb412c4e40cdbaed9335e4c35a9e/servers/detail HTTP/1.1\" HTTP status code -  200 len: 1893 time: 0.2583978', 'nova.osapi_compute.wsgi.server [req-2d4c68d5-0961-4f37-8cc3-ceb9268e1419 113d3a99c3da401fbd62cc2caa5b96d2 54fadb412c4e40cdbaed9335e4c35a9e - - -] 10.11.10.1 \"GET /v2/54fadb412c4e40cdbaed9335e4c35a9e/servers/detail HTTP/1.1\" status: 200 len: 1893 time: 0.4287961', 'nova.osapi_compute.wsgi.server [req-14c5efcb-3268-41d1-aeb2-c73cae0553a2 113d3a99c3da401fbd62cc2caa5b96d2 54fadb412c4e40cdbaed9335e4c35a9e - - -] 10.11.10.1 \"GET /v2/54fadb412c4e40cdbaed9335e4c35a9e/servers/detail HTTP/1.1\" RCODE  200 len: 1893 time: 0.2620471', 'nova.osapi_compute.wsgi.server [req-9135d880-f631-446a-a1be-52240999a2a8 113d3a99c3da401fbd62cc2caa5b96d2 54fadb412c4e40cdbaed9335e4c35a9e - - -] 10.11.10.1 \"GET /v2/54fadb412c4e40cdbaed9335e4c35a9e/servers/detail HTTP/1.1\" Return code: 200 len: 1893 time: 0.2629149', 'nova.osapi_compute.wsgi.server [req-285b8598-3e91-4f68-929a-c538179bfece 113d3a99c3da401fbd62cc2caa5b96d2 54fadb412c4e40cdbaed9335e4c35a9e - - -] 10.11.10.1 \"GET /v2/54fadb412c4e40cdbaed9335e4c35a9e/servers/detail HTTP/1.1\" RCODE  200 len: 1893 time: 0.2567759', 'nova.osapi_compute.wsgi.server [req-e9256d28-3bba-4704-b96c-9257d8a94f9a 113d3a99c3da401fbd62cc2caa5b96d2 54fadb412c4e40cdbaed9335e4c35a9e - - -] 10.11.10.1 \"GET /v2/54fadb412c4e40cdbaed9335e4c35a9e/servers/detail HTTP/1.1\" status: 200 len: 1893 time: 0.2605171', 'nova.osapi_compute.wsgi.server [req-7160b3e7-676b-498f-b147-7759d8eaea76 113d3a99c3da401fbd62cc2caa5b96d2 54fadb412c4e40cdbaed9335e4c35a9e - - -] 10.11.10.1 \"GET /v2/54fadb412c4e40cdbaed9335e4c35a9e/servers/detail HTTP/1.1\" RCODE  200 len: 1893 time: 0.2563808', 'nova.osapi_compute.wsgi.server [req-010217f3-bf1a-48b7-9077-bd3cf46faf82 113d3a99c3da401fbd62cc2caa5b96d2 54fadb412c4e40cdbaed9335e4c35a9e - - -] 10.11.10.1 \"GET /v2/54fadb412c4e40cdbaed9335e4c35a9e/servers/detail HTTP/1.1\" RCODE  200 len: 1893 time: 0.2640989', 'nova.osapi_compute.wsgi.server [req-d38f479d-9bb9-4276-9688-52607e8fd350 113d3a99c3da401fbd62cc2caa5b96d2 54fadb412c4e40cdbaed9335e4c35a9e - - -] 10.11.10.1 \"POST /v2/54fadb412c4e40cdbaed9335e4c35a9e/servers HTTP/1.1\" status: 202 len: 733 time: 0.5169401', 'nova.metadata.wsgi.server [-] 10.11.21.136,10.11.10.1 \"GET /openstack/2013-10-17 HTTP/1.1\" HTTP status code -  200 len: 157 time: 0.0013340', 'nova.osapi_compute.wsgi.server [req-f5f0905b-6c4a-42d1-b5c3-6b1da21ed657 113d3a99c3da401fbd62cc2caa5b96d2 54fadb412c4e40cdbaed9335e4c35a9e - - -] 10.11.10.1 \"GET /v2/54fadb412c4e40cdbaed9335e4c35a9e/servers/detail HTTP/1.1\" Return code: 200 len: 1893 time: 0.4212601', 'nova.metadata.wsgi.server [req-a12a3398-3d5e-4ac5-ad15-7e88582d0bb7 - - - - -] 10.11.21.131,10.11.10.1 \"GET /openstack/2013-10-17/vendor_data.json HTTP/1.1\" Return code: 200 len: 124 time: 0.2361510', 'nova.osapi_compute.wsgi.server [req-9e6e6ab0-4a0e-4d51-aed1-028d418862ad 113d3a99c3da401fbd62cc2caa5b96d2 54fadb412c4e40cdbaed9335e4c35a9e - - -] 10.11.10.1 \"GET /v2/54fadb412c4e40cdbaed9335e4c35a9e/servers/detail HTTP/1.1\" Status code -  200 len: 1893 time: 0.2611539', 'nova.metadata.wsgi.server [req-24f7495b-14ca-4513-87d2-a413dd760f5c - - - - -] 10.11.21.137,10.11.10.1 \"GET /openstack/2013-10-17/user_data HTTP/1.1\" status: 404 len: 176 time: 0.2108901', 'nova.osapi_compute.wsgi.server [req-bbfc3fb8-7cb3-4ac8-801e-c893d1082762 113d3a99c3da401fbd62cc2caa5b96d2 54fadb412c4e40cdbaed9335e4c35a9e - - -] 10.11.10.1 \"GET /v2/54fadb412c4e40cdbaed9335e4c35a9e/servers/detail HTTP/1.1\" HTTP status code -  200 len: 1893 time: 0.4256971', 'nova.osapi_compute.wsgi.server [req-a19a18d8-b7db-460c-b90a-4fa035362c3b 113d3a99c3da401fbd62cc2caa5b96d2 54fadb412c4e40cdbaed9335e4c35a9e - - -] 10.11.10.1 \"GET /v2/54fadb412c4e40cdbaed9335e4c35a9e/servers/detail HTTP/1.1\" Return code: 200 len: 1893 time: 0.2555051', 'nova.osapi_compute.wsgi.server [req-4beb51c0-21fe-4609-b459-ffc91c724c5c 113d3a99c3da401fbd62cc2caa5b96d2 54fadb412c4e40cdbaed9335e4c35a9e - - -] 10.11.10.1 \"GET /v2/54fadb412c4e40cdbaed9335e4c35a9e/servers/detail HTTP/1.1\" Status code -  200 len: 1893 time: 0.2611339', 'nova.osapi_compute.wsgi.server [req-242354ec-cd50-4661-9a66-be40b6b679cb 113d3a99c3da401fbd62cc2caa5b96d2 54fadb412c4e40cdbaed9335e4c35a9e - - -] 10.11.10.1 \"GET /v2/54fadb412c4e40cdbaed9335e4c35a9e/servers/detail HTTP/1.1\" HTTP status code -  200 len: 1893 time: 0.2633321', 'nova.osapi_compute.wsgi.server [req-16da8660-30be-44ba-990e-63231063b762 113d3a99c3da401fbd62cc2caa5b96d2 54fadb412c4e40cdbaed9335e4c35a9e - - -] 10.11.10.1 \"GET /v2/54fadb412c4e40cdbaed9335e4c35a9e/servers/detail HTTP/1.1\" RCODE  200 len: 1893 time: 0.2677679', 'nova.osapi_compute.wsgi.server [req-54b8381a-ee9b-4e94-a9dc-53762e6f6f33 113d3a99c3da401fbd62cc2caa5b96d2 54fadb412c4e40cdbaed9335e4c35a9e - - -] 10.11.10.1 \"GET /v2/54fadb412c4e40cdbaed9335e4c35a9e/servers/detail HTTP/1.1\" HTTP status code -  200 len: 1893 time: 0.2742689', 'nova.osapi_compute.wsgi.server [req-e48f0708-5059-4eb3-8742-55fb03247cd9 113d3a99c3da401fbd62cc2caa5b96d2 54fadb412c4e40cdbaed9335e4c35a9e - - -] 10.11.10.1 \"GET /v2/54fadb412c4e40cdbaed9335e4c35a9e/servers/detail HTTP/1.1\" RCODE  200 len: 1893 time: 0.2630441', 'nova.osapi_compute.wsgi.server [req-0e06bc07-8dc9-459a-9796-81ec99d6d085 113d3a99c3da401fbd62cc2caa5b96d2 54fadb412c4e40cdbaed9335e4c35a9e - - -] 10.11.10.1 \"GET /v2/54fadb412c4e40cdbaed9335e4c35a9e/servers/detail HTTP/1.1\" HTTP status code -  200 len: 1893 time: 0.2669740', 'nova.metadata.wsgi.server [-] 10.11.21.123,10.11.10.1 \"GET /latest/meta-data/block-device-mapping/ami HTTP/1.1\" HTTP status code -  200 len: 119 time: 0.0009408', 'nova.osapi_compute.wsgi.server [req-2e32a4b6-281d-4b23-8783-e23e909271ae 113d3a99c3da401fbd62cc2caa5b96d2 54fadb412c4e40cdbaed9335e4c35a9e - - -] 10.11.10.1 \"GET /v2/54fadb412c4e40cdbaed9335e4c35a9e/servers/detail HTTP/1.1\" Status code -  200 len: 1893 time: 0.2499630', 'nova.metadata.wsgi.server [req-9adf5fbe-d988-4bac-9993-a4141b8fcadb - - - - -] 10.11.21.143,10.11.10.1 \"GET /openstack/2013-10-17/meta_data.json HTTP/1.1\" HTTP status code -  200 len: 967 time: 0.2221360', 'nova.osapi_compute.wsgi.server [req-8ce73885-a9a6-4631-8b4e-5ff2c1b6f9ee 113d3a99c3da401fbd62cc2caa5b96d2 54fadb412c4e40cdbaed9335e4c35a9e - - -] 10.11.10.1 \"GET /v2/54fadb412c4e40cdbaed9335e4c35a9e/servers/detail HTTP/1.1\" Status code -  200 len: 1893 time: 0.2709410', 'nova.osapi_compute.wsgi.server [req-54ffbd34-3bea-4d1a-9433-db04e8dbb2af 113d3a99c3da401fbd62cc2caa5b96d2 54fadb412c4e40cdbaed9335e4c35a9e - - -] 10.11.10.1 \"GET /v2/54fadb412c4e40cdbaed9335e4c35a9e/servers/detail HTTP/1.1\" status: 200 len: 1874 time: 0.2087660', 'nova.metadata.wsgi.server [-] 10.11.21.124,10.11.10.1 \"GET /openstack/2013-10-17/user_data HTTP/1.1\" Return code: 404 len: 176 time: 0.0010281', 'nova.osapi_compute.wsgi.server [req-f75f4c92-16e4-4a6c-9ab5-fc2155379490 113d3a99c3da401fbd62cc2caa5b96d2 54fadb412c4e40cdbaed9335e4c35a9e - - -] 10.11.10.1 \"GET /v2/54fadb412c4e40cdbaed9335e4c35a9e/servers/detail HTTP/1.1\" status: 200 len: 1893 time: 0.2694011', 'nova.osapi_compute.wsgi.server [req-89a2dec8-a82e-4108-ab4a-eda9c9bc896d 113d3a99c3da401fbd62cc2caa5b96d2 54fadb412c4e40cdbaed9335e4c35a9e - - -] 10.11.10.1 \"GET /v2/54fadb412c4e40cdbaed9335e4c35a9e/servers/detail HTTP/1.1\" Status code -  200 len: 1759 time: 0.2763519', 'nova.osapi_compute.wsgi.server [req-127a13a3-306e-435a-af4c-7bc12e7a8d3f 113d3a99c3da401fbd62cc2caa5b96d2 54fadb412c4e40cdbaed9335e4c35a9e - - -] 10.11.10.1 \"GET /v2/54fadb412c4e40cdbaed9335e4c35a9e/servers/detail HTTP/1.1\" HTTP status code -  200 len: 1916 time: 0.2779312', 'nova.osapi_compute.wsgi.server [req-dc2db9dc-6a63-40a1-8dc4-b0194200ffb3 113d3a99c3da401fbd62cc2caa5b96d2 54fadb412c4e40cdbaed9335e4c35a9e - - -] 10.11.10.1 \"GET /v2/54fadb412c4e40cdbaed9335e4c35a9e/servers/detail HTTP/1.1\" HTTP status code -  200 len: 1893 time: 0.2617428', 'nova.osapi_compute.wsgi.server [req-9bba2bda-1367-48fa-906a-e1632f23d1fc 113d3a99c3da401fbd62cc2caa5b96d2 54fadb412c4e40cdbaed9335e4c35a9e - - -] 10.11.10.1 \"GET /v2/54fadb412c4e40cdbaed9335e4c35a9e/servers/detail HTTP/1.1\" Status code -  200 len: 211 time: 0.1013889', 'nova.osapi_compute.wsgi.server [req-c1a9a7e5-bc9c-40eb-8ec5-5a07a611b661 113d3a99c3da401fbd62cc2caa5b96d2 54fadb412c4e40cdbaed9335e4c35a9e - - -] 10.11.10.1 \"GET /v2/54fadb412c4e40cdbaed9335e4c35a9e/servers/43204226-2f87-4da7-b7ee-4d20cc66e846 HTTP/1.1\" Status code -  200 len: 1708 time: 0.2040591', 'nova.osapi_compute.wsgi.server [req-7d3fe371-e3ea-4f93-be96-eb4d1c93b951 113d3a99c3da401fbd62cc2caa5b96d2 54fadb412c4e40cdbaed9335e4c35a9e - - -] 10.11.10.1 \"GET /v2/54fadb412c4e40cdbaed9335e4c35a9e/servers/detail HTTP/1.1\" HTTP status code -  200 len: 1874 time: 0.1882880', 'nova.osapi_compute.wsgi.server [req-408beb7b-9353-4b15-be97-7bdcdcb86011 113d3a99c3da401fbd62cc2caa5b96d2 54fadb412c4e40cdbaed9335e4c35a9e - - -] 10.11.10.1 \"GET /v2/54fadb412c4e40cdbaed9335e4c35a9e/servers/detail HTTP/1.1\" Status code -  200 len: 1893 time: 0.2582371', 'nova.osapi_compute.wsgi.server [req-bc2d4d95-02a9-48df-9933-d07c2e4a7ba3 113d3a99c3da401fbd62cc2caa5b96d2 54fadb412c4e40cdbaed9335e4c35a9e - - -] 10.11.10.1 \"GET /v2/54fadb412c4e40cdbaed9335e4c35a9e/servers/detail HTTP/1.1\" Return code: 200 len: 1874 time: 0.2152700', 'nova.osapi_compute.wsgi.server [req-874c0a78-48c8-43df-a9f9-9764103e03fa 113d3a99c3da401fbd62cc2caa5b96d2 54fadb412c4e40cdbaed9335e4c35a9e - - -] 10.11.10.1 \"GET /v2/54fadb412c4e40cdbaed9335e4c35a9e/servers/detail HTTP/1.1\" RCODE  200 len: 1583 time: 0.1820800', 'nova.osapi_compute.wsgi.server [req-08ef7873-7b28-46f6-953e-c1f5d19ffffa 113d3a99c3da401fbd62cc2caa5b96d2 54fadb412c4e40cdbaed9335e4c35a9e - - -] 10.11.10.1 \"GET /v2/54fadb412c4e40cdbaed9335e4c35a9e/servers/detail HTTP/1.1\" status: 200 len: 211 time: 0.1004288', 'nova.metadata.wsgi.server [req-2d24fed7-3524-414c-9783-e3e042c71543 - - - - -] 10.11.21.123,10.11.10.1 \"GET /openstack/2013-10-17/meta_data.json HTTP/1.1\" Return code: 200 len: 967 time: 0.2275620', 'nova.osapi_compute.wsgi.server [req-c802891c-19ae-487c-bb5b-f9f65e8523ea 113d3a99c3da401fbd62cc2caa5b96d2 54fadb412c4e40cdbaed9335e4c35a9e - - -] 10.11.10.1 \"GET /v2/54fadb412c4e40cdbaed9335e4c35a9e/servers/detail HTTP/1.1\" status: 200 len: 1893 time: 0.3769510', 'nova.osapi_compute.wsgi.server [req-f34c1523-f03e-46b7-a24d-af00c94cf879 113d3a99c3da401fbd62cc2caa5b96d2 54fadb412c4e40cdbaed9335e4c35a9e - - -] 10.11.10.1 \"GET /v2/54fadb412c4e40cdbaed9335e4c35a9e/servers/detail HTTP/1.1\" Status code -  200 len: 1893 time: 0.2507980', 'nova.osapi_compute.wsgi.server [req-70429066-8c1a-4b28-a3aa-7d8b43d9b9f7 113d3a99c3da401fbd62cc2caa5b96d2 54fadb412c4e40cdbaed9335e4c35a9e - - -] 10.11.10.1 \"GET /v2/54fadb412c4e40cdbaed9335e4c35a9e/servers/detail HTTP/1.1\" status: 200 len: 1893 time: 0.2594910', 'nova.osapi_compute.wsgi.server [req-88946337-1b76-4bc9-b24f-586f5a78abe2 113d3a99c3da401fbd62cc2caa5b96d2 54fadb412c4e40cdbaed9335e4c35a9e - - -] 10.11.10.1 \"GET /v2/54fadb412c4e40cdbaed9335e4c35a9e/servers/detail HTTP/1.1\" RCODE  200 len: 1893 time: 0.2740719', 'nova.osapi_compute.wsgi.server [req-a7234b0b-8e5a-4abd-9da1-6855ec3130d6 113d3a99c3da401fbd62cc2caa5b96d2 54fadb412c4e40cdbaed9335e4c35a9e - - -] 10.11.10.1 \"GET /v2/54fadb412c4e40cdbaed9335e4c35a9e/servers/detail HTTP/1.1\" RCODE  200 len: 1893 time: 0.2648492', 'nova.metadata.wsgi.server [-] 10.11.21.126,10.11.10.1 \"GET /openstack/2013-10-17/user_data HTTP/1.1\" Return code: 404 len: 176 time: 0.0010130', 'nova.osapi_compute.wsgi.server [req-434ba9f2-b0d5-4cfd-8a12-16024f09e6eb 113d3a99c3da401fbd62cc2caa5b96d2 54fadb412c4e40cdbaed9335e4c35a9e - - -] 10.11.10.1 \"GET /v2/54fadb412c4e40cdbaed9335e4c35a9e/servers/detail HTTP/1.1\" Status code -  200 len: 1910 time: 0.2654181', 'nova.osapi_compute.wsgi.server [req-206aa9c3-b7b4-41e7-92a2-70cff6538462 113d3a99c3da401fbd62cc2caa5b96d2 54fadb412c4e40cdbaed9335e4c35a9e - - -] 10.11.10.1 \"GET /v2/54fadb412c4e40cdbaed9335e4c35a9e/servers/detail HTTP/1.1\" status: 200 len: 1893 time: 0.2538040', 'nova.osapi_compute.wsgi.server [req-6c8b83e2-6f28-48d3-a8ab-71da45452ed9 113d3a99c3da401fbd62cc2caa5b96d2 54fadb412c4e40cdbaed9335e4c35a9e - - -] 10.11.10.1 \"GET /v2/54fadb412c4e40cdbaed9335e4c35a9e/servers/detail HTTP/1.1\" RCODE  200 len: 1893 time: 0.2556951', 'nova.osapi_compute.wsgi.server [req-fac2c33c-ee61-4d6a-9875-408a6a0be215 113d3a99c3da401fbd62cc2caa5b96d2 54fadb412c4e40cdbaed9335e4c35a9e - - -] 10.11.10.1 \"GET /v2/54fadb412c4e40cdbaed9335e4c35a9e/servers/detail HTTP/1.1\" status: 200 len: 1893 time: 0.2699261', 'nova.metadata.wsgi.server [-] 10.11.21.132,10.11.10.1 \"GET /latest/meta-data/ HTTP/1.1\" HTTP status code -  200 len: 328 time: 0.0013649', 'nova.osapi_compute.wsgi.server [req-871a45c2-0c1b-4c81-9fac-cb018a99a9ff 113d3a99c3da401fbd62cc2caa5b96d2 54fadb412c4e40cdbaed9335e4c35a9e - - -] 10.11.10.1 \"GET /v2/54fadb412c4e40cdbaed9335e4c35a9e/servers/detail HTTP/1.1\" Return code: 200 len: 1583 time: 0.1919560', 'nova.osapi_compute.wsgi.server [req-5f93f093-6d8c-45cc-86cd-c8602e922d6a 113d3a99c3da401fbd62cc2caa5b96d2 54fadb412c4e40cdbaed9335e4c35a9e - - -] 10.11.10.1 \"GET /v2/54fadb412c4e40cdbaed9335e4c35a9e/servers/detail HTTP/1.1\" HTTP status code -  200 len: 1759 time: 0.2707939', 'nova.osapi_compute.wsgi.server [req-3fa8a45e-031e-4f3b-b327-b9cd4210f3ba f7b8d1f1d4d44643b07fa10ca7d021fb e9746973ac574c6b8a9e8857f56a7608 - - -] 10.11.10.1 \"POST /v2/e9746973ac574c6b8a9e8857f56a7608/os-server-external-events HTTP/1.1\" RCODE  404 len: 296 time: 0.1029620', 'nova.osapi_compute.wsgi.server [req-1714e9d2-6899-439e-95de-0481a374037e 113d3a99c3da401fbd62cc2caa5b96d2 54fadb412c4e40cdbaed9335e4c35a9e - - -] 10.11.10.1 \"GET /v2/54fadb412c4e40cdbaed9335e4c35a9e/servers/detail HTTP/1.1\" Status code -  200 len: 1893 time: 0.3674121', 'nova.osapi_compute.wsgi.server [req-671e38f1-b681-4dfb-b2a3-b28096ffe443 113d3a99c3da401fbd62cc2caa5b96d2 54fadb412c4e40cdbaed9335e4c35a9e - - -] 10.11.10.1 \"GET /v2/54fadb412c4e40cdbaed9335e4c35a9e/servers/detail HTTP/1.1\" status: 200 len: 1893 time: 0.2640181', 'nova.osapi_compute.wsgi.server [req-392e4a88-f4cb-41f2-98e7-44d87bd159d7 113d3a99c3da401fbd62cc2caa5b96d2 54fadb412c4e40cdbaed9335e4c35a9e - - -] 10.11.10.1 \"GET /v2/54fadb412c4e40cdbaed9335e4c35a9e/servers/detail HTTP/1.1\" status: 200 len: 1893 time: 0.2756960', 'nova.osapi_compute.wsgi.server [req-0327658a-755d-47f2-93c8-b96bfeadd80f 113d3a99c3da401fbd62cc2caa5b96d2 54fadb412c4e40cdbaed9335e4c35a9e - - -] 10.11.10.1 \"GET /v2/54fadb412c4e40cdbaed9335e4c35a9e/servers/detail HTTP/1.1\" HTTP status code -  200 len: 1893 time: 0.2663522', 'nova.osapi_compute.wsgi.server [req-6cf1a1d4-92bd-457c-8fc5-7dc005447ea2 113d3a99c3da401fbd62cc2caa5b96d2 54fadb412c4e40cdbaed9335e4c35a9e - - -] 10.11.10.1 \"GET /v2/54fadb412c4e40cdbaed9335e4c35a9e/servers/detail HTTP/1.1\" Return code: 200 len: 1916 time: 0.2582610', 'nova.metadata.wsgi.server [-] 10.11.21.143,10.11.10.1 \"GET /latest/meta-data/block-device-mapping/ HTTP/1.1\" RCODE  200 len: 124 time: 0.0010331', 'nova.metadata.wsgi.server [req-87cd83be-e801-4d38-9256-f3308d3178b4 - - - - -] 10.11.21.129,10.11.10.1 \"GET /openstack/2013-10-17/vendor_data.json HTTP/1.1\" HTTP status code -  200 len: 124 time: 0.2354860', 'nova.metadata.wsgi.server [-] 10.11.21.143,10.11.10.1 \"GET /openstack/2013-10-17/meta_data.json HTTP/1.1\" status: 200 len: 967 time: 0.0014119', 'nova.osapi_compute.wsgi.server [req-87e35b57-2f3f-4c30-a490-d4711539d535 113d3a99c3da401fbd62cc2caa5b96d2 54fadb412c4e40cdbaed9335e4c35a9e - - -] 10.11.10.1 \"GET /v2/54fadb412c4e40cdbaed9335e4c35a9e/servers/detail HTTP/1.1\" Return code: 200 len: 1759 time: 0.2846689', 'nova.metadata.wsgi.server [req-ca350bb1-e8ca-4c16-8049-9ac51c2dd13e - - - - -] 10.11.21.135,10.11.10.1 \"GET /openstack/2012-08-10/meta_data.json HTTP/1.1\" HTTP status code -  200 len: 264 time: 0.3158371', 'nova.osapi_compute.wsgi.server [req-39b88da5-d66a-4bd5-8c1c-3d9a86685f81 113d3a99c3da401fbd62cc2caa5b96d2 54fadb412c4e40cdbaed9335e4c35a9e - - -] 10.11.10.1 \"GET /v2/54fadb412c4e40cdbaed9335e4c35a9e/servers/detail HTTP/1.1\" HTTP status code -  200 len: 1893 time: 0.4555459', 'nova.osapi_compute.wsgi.server [req-a0893d5a-dc60-4c49-82e5-b9f7dfc2f6ab f7b8d1f1d4d44643b07fa10ca7d021fb e9746973ac574c6b8a9e8857f56a7608 - - -] 10.11.10.1 \"POST /v2/e9746973ac574c6b8a9e8857f56a7608/os-server-external-events HTTP/1.1\" HTTP status code -  404 len: 296 time: 0.1146111', 'nova.metadata.wsgi.server [req-79c8b1ef-a852-415b-8c7c-8be53574cd17 - - - - -] 10.11.21.138,10.11.10.1 \"GET /openstack/2013-10-17/meta_data.json HTTP/1.1\" HTTP status code -  200 len: 967 time: 0.2491531', 'nova.osapi_compute.wsgi.server [req-9d8cd0a4-1fa9-4eb1-ad29-42d2756029e0 113d3a99c3da401fbd62cc2caa5b96d2 54fadb412c4e40cdbaed9335e4c35a9e - - -] 10.11.10.1 \"GET /v2/54fadb412c4e40cdbaed9335e4c35a9e/servers/detail HTTP/1.1\" HTTP status code -  200 len: 1893 time: 0.2719712', 'nova.osapi_compute.wsgi.server [req-93b87e0b-d97f-4334-9d9f-44974b048f51 113d3a99c3da401fbd62cc2caa5b96d2 54fadb412c4e40cdbaed9335e4c35a9e - - -] 10.11.10.1 \"GET /v2/54fadb412c4e40cdbaed9335e4c35a9e/servers/detail HTTP/1.1\" status: 200 len: 1893 time: 0.2718840', 'nova.metadata.wsgi.server [req-c754e29a-bcc8-48d9-b29d-9c375a27275a - - - - -] 10.11.21.133,10.11.10.1 \"GET /openstack/2013-10-17 HTTP/1.1\" Status code -  200 len: 157 time: 0.2319870', 'nova.osapi_compute.wsgi.server [req-ce9c8a59-c9ba-43b1-9735-318ceabc9216 113d3a99c3da401fbd62cc2caa5b96d2 54fadb412c4e40cdbaed9335e4c35a9e - - -] 10.11.10.1 \"GET /v2/54fadb412c4e40cdbaed9335e4c35a9e/servers/detail HTTP/1.1\" RCODE  200 len: 1893 time: 0.2692339', 'nova.osapi_compute.wsgi.server [req-e1da47c6-0f46-4ce8-940c-05397a5fab9e 113d3a99c3da401fbd62cc2caa5b96d2 54fadb412c4e40cdbaed9335e4c35a9e - - -] 10.11.10.1 \"GET /v2/54fadb412c4e40cdbaed9335e4c35a9e/servers/detail HTTP/1.1\" Status code -  200 len: 1893 time: 0.2777061', 'nova.osapi_compute.wsgi.server [req-5addb7fc-f821-4418-85ee-18d453e4401e 113d3a99c3da401fbd62cc2caa5b96d2 54fadb412c4e40cdbaed9335e4c35a9e - - -] 10.11.10.1 \"GET /v2/54fadb412c4e40cdbaed9335e4c35a9e/servers/detail HTTP/1.1\" HTTP status code -  200 len: 211 time: 0.0954659', 'nova.osapi_compute.wsgi.server [req-f6148ee1-e3f6-4bb3-a200-847fd8486d77 113d3a99c3da401fbd62cc2caa5b96d2 54fadb412c4e40cdbaed9335e4c35a9e - - -] 10.11.10.1 \"GET /v2/54fadb412c4e40cdbaed9335e4c35a9e/servers/detail HTTP/1.1\" HTTP status code -  200 len: 1893 time: 0.2600410', 'nova.osapi_compute.wsgi.server [req-6e866b4c-bd67-4e7b-8beb-a450edda2fa5 113d3a99c3da401fbd62cc2caa5b96d2 54fadb412c4e40cdbaed9335e4c35a9e - - -] 10.11.10.1 \"GET /v2/54fadb412c4e40cdbaed9335e4c35a9e/servers/detail HTTP/1.1\" RCODE  200 len: 1893 time: 0.2659979', 'nova.metadata.wsgi.server [req-667e1983-f313-4cac-9f50-5203fb4ac0be - - - - -] 10.11.21.143,10.11.10.1 \"GET /latest/meta-data/block-device-mapping/ami HTTP/1.1\" Return code: 200 len: 119 time: 0.2359550', 'nova.metadata.wsgi.server [req-d1ae2038-d065-471d-9607-0c3547d44422 - - - - -] 10.11.21.132,10.11.10.1 \"GET /openstack/2013-10-17/meta_data.json HTTP/1.1\" status: 200 len: 967 time: 0.2430041', 'nova.osapi_compute.wsgi.server [req-709c0ecb-ac6e-4b6b-80d1-cf6215b828d5 113d3a99c3da401fbd62cc2caa5b96d2 54fadb412c4e40cdbaed9335e4c35a9e - - -] 10.11.10.1 \"GET /v2/54fadb412c4e40cdbaed9335e4c35a9e/servers/detail HTTP/1.1\" RCODE  200 len: 1575 time: 0.1659300', 'nova.metadata.wsgi.server [req-778a3f3a-8eac-41f0-968b-5c8fb31e7bb1 - - - - -] 10.11.21.142,10.11.10.1 \"GET /latest/meta-data/ HTTP/1.1\" Status code -  200 len: 328 time: 0.2538400', 'nova.osapi_compute.wsgi.server [req-5cf6a402-2c6f-4dd4-96ee-de51ad620633 f7b8d1f1d4d44643b07fa10ca7d021fb e9746973ac574c6b8a9e8857f56a7608 - - -] 10.11.10.1 \"POST /v2/e9746973ac574c6b8a9e8857f56a7608/os-server-external-events HTTP/1.1\" Status code -  404 len: 296 time: 0.0835118', 'nova.osapi_compute.wsgi.server [req-826238fb-3373-47c4-b6ef-2576b3bc286f 113d3a99c3da401fbd62cc2caa5b96d2 54fadb412c4e40cdbaed9335e4c35a9e - - -] 10.11.10.1 \"GET /v2/54fadb412c4e40cdbaed9335e4c35a9e/servers/detail HTTP/1.1\" Status code -  200 len: 1893 time: 0.2608051', 'nova.osapi_compute.wsgi.server [req-38319757-f509-49a2-ac28-becee3202f47 113d3a99c3da401fbd62cc2caa5b96d2 54fadb412c4e40cdbaed9335e4c35a9e - - -] 10.11.10.1 \"GET /v2/54fadb412c4e40cdbaed9335e4c35a9e/servers/detail HTTP/1.1\" status: 200 len: 211 time: 0.1033430', 'nova.metadata.wsgi.server [req-d04bb0bd-f965-40e1-90d3-b1b01f160b06 - - - - -] 10.11.21.133,10.11.10.1 \"GET /openstack/2013-10-17/meta_data.json HTTP/1.1\" Return code: 200 len: 967 time: 0.4052589', 'nova.osapi_compute.wsgi.server [req-412cbd21-a789-4318-8f25-acea4ff050d5 113d3a99c3da401fbd62cc2caa5b96d2 54fadb412c4e40cdbaed9335e4c35a9e - - -] 10.11.10.1 \"GET /v2/54fadb412c4e40cdbaed9335e4c35a9e/servers/detail HTTP/1.1\" Return code: 200 len: 1893 time: 0.2608390', 'nova.osapi_compute.wsgi.server [req-d703d08d-9f80-49a8-aa5e-ac59537fe21d 113d3a99c3da401fbd62cc2caa5b96d2 54fadb412c4e40cdbaed9335e4c35a9e - - -] 10.11.10.1 \"GET /v2/54fadb412c4e40cdbaed9335e4c35a9e/servers/detail HTTP/1.1\" RCODE  200 len: 1893 time: 0.2551649', 'nova.osapi_compute.wsgi.server [req-40d207ea-99bc-47cd-b37b-d2bb7e7e030c 113d3a99c3da401fbd62cc2caa5b96d2 54fadb412c4e40cdbaed9335e4c35a9e - - -] 10.11.10.1 \"GET /v2/54fadb412c4e40cdbaed9335e4c35a9e/servers/detail HTTP/1.1\" RCODE  200 len: 1893 time: 0.2665081', 'nova.metadata.wsgi.server [req-3521b636-65e4-4a20-8eab-d4cc01f20eff - - - - -] 10.11.21.137,10.11.10.1 \"GET /latest/meta-data/ HTTP/1.1\" RCODE  200 len: 328 time: 0.2276061', 'nova.metadata.wsgi.server [-] 10.11.21.132,10.11.10.1 \"GET /openstack/2013-10-17/user_data HTTP/1.1\" status: 404 len: 176 time: 0.0011230', 'nova.osapi_compute.wsgi.server [req-e56c8db8-cbdd-4865-a4f9-4a47b276c118 113d3a99c3da401fbd62cc2caa5b96d2 54fadb412c4e40cdbaed9335e4c35a9e - - -] 10.11.10.1 \"GET /v2/54fadb412c4e40cdbaed9335e4c35a9e/servers/detail HTTP/1.1\" Return code: 200 len: 1893 time: 0.4260600', 'nova.osapi_compute.wsgi.server [req-065015f7-ef1c-460d-be9e-68adf319b082 113d3a99c3da401fbd62cc2caa5b96d2 54fadb412c4e40cdbaed9335e4c35a9e - - -] 10.11.10.1 \"GET /v2/54fadb412c4e40cdbaed9335e4c35a9e/servers/d6b7bd36-2943-4363-9235-fffdd89ea40e HTTP/1.1\" HTTP status code -  200 len: 1708 time: 0.2011390', 'nova.osapi_compute.wsgi.server [req-450cfe03-d536-4ad6-8d45-109150d3fe46 113d3a99c3da401fbd62cc2caa5b96d2 54fadb412c4e40cdbaed9335e4c35a9e - - -] 10.11.10.1 \"GET /v2/54fadb412c4e40cdbaed9335e4c35a9e/servers/detail HTTP/1.1\" RCODE  200 len: 1893 time: 0.2515070', 'nova.osapi_compute.wsgi.server [req-777cc5b2-6b84-4afb-8ee2-a1517f1b1eae 113d3a99c3da401fbd62cc2caa5b96d2 54fadb412c4e40cdbaed9335e4c35a9e - - -] 10.11.10.1 \"GET /v2/54fadb412c4e40cdbaed9335e4c35a9e/servers/detail HTTP/1.1\" RCODE  200 len: 1893 time: 0.2524779', 'nova.osapi_compute.wsgi.server [req-b543ced1-368e-4997-bd19-bfe484087365 113d3a99c3da401fbd62cc2caa5b96d2 54fadb412c4e40cdbaed9335e4c35a9e - - -] 10.11.10.1 \"GET /v2/54fadb412c4e40cdbaed9335e4c35a9e/servers/detail HTTP/1.1\" Status code -  200 len: 1759 time: 0.2633560', 'nova.osapi_compute.wsgi.server [req-9120b63e-fdd9-4dc6-9ccd-7888f3d38fcd 113d3a99c3da401fbd62cc2caa5b96d2 54fadb412c4e40cdbaed9335e4c35a9e - - -] 10.11.10.1 \"GET /v2/54fadb412c4e40cdbaed9335e4c35a9e/servers/detail HTTP/1.1\" RCODE  200 len: 1893 time: 0.2586780', 'nova.osapi_compute.wsgi.server [req-213c462a-869c-4e96-95c0-5d9b49fd5f79 113d3a99c3da401fbd62cc2caa5b96d2 54fadb412c4e40cdbaed9335e4c35a9e - - -] 10.11.10.1 \"GET /v2/54fadb412c4e40cdbaed9335e4c35a9e/servers/detail HTTP/1.1\" RCODE  200 len: 1893 time: 0.2630680', 'nova.osapi_compute.wsgi.server [req-92a8a068-8372-4c81-8008-6b8111e2dcb1 113d3a99c3da401fbd62cc2caa5b96d2 54fadb412c4e40cdbaed9335e4c35a9e - - -] 10.11.10.1 \"GET /v2/54fadb412c4e40cdbaed9335e4c35a9e/servers/detail HTTP/1.1\" RCODE  200 len: 1575 time: 0.1819348', 'nova.osapi_compute.wsgi.server [req-f2df3c93-dded-4eed-9f76-6554b6f0ad80 113d3a99c3da401fbd62cc2caa5b96d2 54fadb412c4e40cdbaed9335e4c35a9e - - -] 10.11.10.1 \"GET /v2/54fadb412c4e40cdbaed9335e4c35a9e/servers/detail HTTP/1.1\" Status code -  200 len: 1893 time: 0.2661891', 'nova.metadata.wsgi.server [req-94ad64f0-2983-4cec-821a-3a634edec172 - - - - -] 10.11.21.141,10.11.10.1 \"GET /openstack/2012-08-10/meta_data.json HTTP/1.1\" status: 200 len: 264 time: 0.2279789', 'nova.osapi_compute.wsgi.server [req-cd862c89-18a0-4954-a1a0-f3f26df71d39 113d3a99c3da401fbd62cc2caa5b96d2 54fadb412c4e40cdbaed9335e4c35a9e - - -] 10.11.10.1 \"GET /v2/54fadb412c4e40cdbaed9335e4c35a9e/servers/detail HTTP/1.1\" status: 200 len: 1893 time: 0.2794621', 'nova.osapi_compute.wsgi.server [req-aded094f-044c-41ef-b827-8a8a69bd0e73 113d3a99c3da401fbd62cc2caa5b96d2 54fadb412c4e40cdbaed9335e4c35a9e - - -] 10.11.10.1 \"GET /v2/54fadb412c4e40cdbaed9335e4c35a9e/servers/detail HTTP/1.1\" status: 200 len: 1893 time: 0.2634399', 'nova.osapi_compute.wsgi.server [req-98851fab-6d07-49e3-a4de-b2fd5162bcba 113d3a99c3da401fbd62cc2caa5b96d2 54fadb412c4e40cdbaed9335e4c35a9e - - -] 10.11.10.1 \"GET /v2/54fadb412c4e40cdbaed9335e4c35a9e/servers/detail HTTP/1.1\" HTTP status code -  200 len: 1893 time: 0.2529030', 'nova.osapi_compute.wsgi.server [req-b6883fec-dc0e-4f54-9df7-394c2491e52a 113d3a99c3da401fbd62cc2caa5b96d2 54fadb412c4e40cdbaed9335e4c35a9e - - -] 10.11.10.1 \"GET /v2/54fadb412c4e40cdbaed9335e4c35a9e/servers/detail HTTP/1.1\" Status code -  200 len: 1893 time: 0.2690120', 'nova.osapi_compute.wsgi.server [req-ca134311-b7a4-47ee-9f59-3f6fa9745739 113d3a99c3da401fbd62cc2caa5b96d2 54fadb412c4e40cdbaed9335e4c35a9e - - -] 10.11.10.1 \"GET /v2/54fadb412c4e40cdbaed9335e4c35a9e/servers/detail HTTP/1.1\" Status code -  200 len: 1893 time: 0.2671990', 'nova.osapi_compute.wsgi.server [req-54202d96-8c90-4b84-96bc-36a64cd83102 113d3a99c3da401fbd62cc2caa5b96d2 54fadb412c4e40cdbaed9335e4c35a9e - - -] 10.11.10.1 \"GET /v2/54fadb412c4e40cdbaed9335e4c35a9e/servers/detail HTTP/1.1\" Return code: 200 len: 1893 time: 0.2769511', 'nova.metadata.wsgi.server [req-e0ed36e7-7f48-4cf0-b1c1-8f2d0147a296 - - - - -] 10.11.21.130,10.11.10.1 \"GET /openstack/2013-10-17/meta_data.json HTTP/1.1\" RCODE  200 len: 967 time: 0.2446721', 'nova.osapi_compute.wsgi.server [req-4cb2bae3-c745-454c-bdca-bd5f7c53340f 113d3a99c3da401fbd62cc2caa5b96d2 54fadb412c4e40cdbaed9335e4c35a9e - - -] 10.11.10.1 \"GET /v2/54fadb412c4e40cdbaed9335e4c35a9e/servers/detail HTTP/1.1\" RCODE  200 len: 211 time: 0.0977290', 'nova.osapi_compute.wsgi.server [req-bb1ab8b2-c10d-40e5-889d-21d7e739ad43 113d3a99c3da401fbd62cc2caa5b96d2 54fadb412c4e40cdbaed9335e4c35a9e - - -] 10.11.10.1 \"GET /v2/54fadb412c4e40cdbaed9335e4c35a9e/servers/detail HTTP/1.1\" status: 200 len: 1893 time: 0.2491281', 'nova.osapi_compute.wsgi.server [req-2545b8fd-40f0-4e23-988d-b56699acc006 113d3a99c3da401fbd62cc2caa5b96d2 54fadb412c4e40cdbaed9335e4c35a9e - - -] 10.11.10.1 \"GET /v2/54fadb412c4e40cdbaed9335e4c35a9e/servers/detail HTTP/1.1\" Return code: 200 len: 1893 time: 0.2583179', 'nova.osapi_compute.wsgi.server [req-e5a94766-dd02-47b2-8ee8-27d1f873a57c 113d3a99c3da401fbd62cc2caa5b96d2 54fadb412c4e40cdbaed9335e4c35a9e - - -] 10.11.10.1 \"GET /v2/54fadb412c4e40cdbaed9335e4c35a9e/servers/detail HTTP/1.1\" Status code -  200 len: 1893 time: 0.2579432', 'nova.osapi_compute.wsgi.server [req-caad057d-79a5-41b4-a223-4c1a0d757007 113d3a99c3da401fbd62cc2caa5b96d2 54fadb412c4e40cdbaed9335e4c35a9e - - -] 10.11.10.1 \"GET /v2/54fadb412c4e40cdbaed9335e4c35a9e/servers/detail HTTP/1.1\" status: 200 len: 1893 time: 0.4240189', 'nova.osapi_compute.wsgi.server [req-085df2be-ea00-4a37-b91a-1a9e1213782d 113d3a99c3da401fbd62cc2caa5b96d2 54fadb412c4e40cdbaed9335e4c35a9e - - -] 10.11.10.1 \"GET /v2/54fadb412c4e40cdbaed9335e4c35a9e/servers/detail HTTP/1.1\" status: 200 len: 1893 time: 0.2659712', 'nova.metadata.wsgi.server [req-a3b733a0-a9ce-4a98-8d03-33b07da80a72 - - - - -] 10.11.21.133,10.11.10.1 \"GET /latest/meta-data/block-device-mapping/ami HTTP/1.1\" Return code: 200 len: 119 time: 0.4668469', 'nova.osapi_compute.wsgi.server [req-3bc17f6d-1354-46d7-9366-675d3c38eba9 113d3a99c3da401fbd62cc2caa5b96d2 54fadb412c4e40cdbaed9335e4c35a9e - - -] 10.11.10.1 \"GET /v2/54fadb412c4e40cdbaed9335e4c35a9e/servers/d54b44eb-2d1a-4aa2-ba6b-074d35f8f12c HTTP/1.1\" Status code -  200 len: 1572 time: 0.2030520', 'nova.osapi_compute.wsgi.server [req-eb2ffac6-1ce1-42fe-99a9-cd7b7c6cb78f 113d3a99c3da401fbd62cc2caa5b96d2 54fadb412c4e40cdbaed9335e4c35a9e - - -] 10.11.10.1 \"GET /v2/54fadb412c4e40cdbaed9335e4c35a9e/servers/detail HTTP/1.1\" Return code: 200 len: 1893 time: 0.2694941', 'nova.osapi_compute.wsgi.server [req-82610fd9-87cb-4433-a9d1-73a9f1bba99b 113d3a99c3da401fbd62cc2caa5b96d2 54fadb412c4e40cdbaed9335e4c35a9e - - -] 10.11.10.1 \"GET /v2/54fadb412c4e40cdbaed9335e4c35a9e/servers/detail HTTP/1.1\" Return code: 200 len: 1893 time: 0.2669392', 'nova.metadata.wsgi.server [-] 10.11.21.135,10.11.10.1 \"GET /latest/meta-data/placement/ HTTP/1.1\" RCODE  200 len: 134 time: 0.0008729', 'nova.metadata.wsgi.server [req-b16e8403-55ff-4459-93fe-3bba6e77f57c - - - - -] 10.11.21.131,10.11.10.1 \"GET /openstack/2013-10-17/meta_data.json HTTP/1.1\" Return code: 200 len: 967 time: 0.2374320', 'nova.osapi_compute.wsgi.server [req-425db137-40f4-4163-acca-c43a54f135c7 113d3a99c3da401fbd62cc2caa5b96d2 54fadb412c4e40cdbaed9335e4c35a9e - - -] 10.11.10.1 \"GET /v2/54fadb412c4e40cdbaed9335e4c35a9e/servers/d96a117b-0193-4549-bdcc-63b917273d1d HTTP/1.1\" RCODE  200 len: 1708 time: 0.1916969', 'nova.osapi_compute.wsgi.server [req-413607a3-2a36-4868-a07e-2dd451878744 113d3a99c3da401fbd62cc2caa5b96d2 54fadb412c4e40cdbaed9335e4c35a9e - - -] 10.11.10.1 \"GET /v2/54fadb412c4e40cdbaed9335e4c35a9e/servers/detail HTTP/1.1\" status: 200 len: 1916 time: 0.2678130', 'nova.osapi_compute.wsgi.server [req-d4353962-c926-4d9c-87ea-4cc0834b395a 113d3a99c3da401fbd62cc2caa5b96d2 54fadb412c4e40cdbaed9335e4c35a9e - - -] 10.11.10.1 \"GET /v2/54fadb412c4e40cdbaed9335e4c35a9e/servers/detail HTTP/1.1\" RCODE  200 len: 1893 time: 0.2747011', 'nova.osapi_compute.wsgi.server [req-31312dd3-0875-43e3-a6c5-5869e0c7e953 113d3a99c3da401fbd62cc2caa5b96d2 54fadb412c4e40cdbaed9335e4c35a9e - - -] 10.11.10.1 \"GET /v2/54fadb412c4e40cdbaed9335e4c35a9e/servers/detail HTTP/1.1\" status: 200 len: 1893 time: 0.2665739', 'nova.osapi_compute.wsgi.server [req-5d540c90-a504-4ae7-ac15-3f527a2a8b71 113d3a99c3da401fbd62cc2caa5b96d2 54fadb412c4e40cdbaed9335e4c35a9e - - -] 10.11.10.1 \"GET /v2/54fadb412c4e40cdbaed9335e4c35a9e/servers/detail HTTP/1.1\" Status code -  200 len: 1893 time: 0.2657590', 'nova.osapi_compute.wsgi.server [req-a567979f-c5a4-42af-ae34-4707d45e2d19 f7b8d1f1d4d44643b07fa10ca7d021fb e9746973ac574c6b8a9e8857f56a7608 - - -] 10.11.10.1 \"POST /v2/e9746973ac574c6b8a9e8857f56a7608/os-server-external-events HTTP/1.1\" Return code: 404 len: 296 time: 0.0918391', 'nova.metadata.wsgi.server [-] 10.11.21.129,10.11.10.1 \"GET /openstack/2013-10-17/vendor_data.json HTTP/1.1\" status: 200 len: 124 time: 0.0009260', 'nova.osapi_compute.wsgi.server [req-e2c35e53-06d3-4feb-84b9-705c94d40e5b 113d3a99c3da401fbd62cc2caa5b96d2 54fadb412c4e40cdbaed9335e4c35a9e - - -] 10.11.10.1 \"GET /v2/54fadb412c4e40cdbaed9335e4c35a9e/servers/detail HTTP/1.1\" HTTP status code -  200 len: 1893 time: 0.2694771', 'nova.osapi_compute.wsgi.server [req-6a675cf4-c816-4ccd-ae9c-eb30dacc7512 113d3a99c3da401fbd62cc2caa5b96d2 54fadb412c4e40cdbaed9335e4c35a9e - - -] 10.11.10.1 \"GET /v2/54fadb412c4e40cdbaed9335e4c35a9e/servers/detail HTTP/1.1\" Status code -  200 len: 1893 time: 0.2645810', 'nova.osapi_compute.wsgi.server [req-cd5e40af-8fe5-4bd7-ae38-b5fb546d31ff 113d3a99c3da401fbd62cc2caa5b96d2 54fadb412c4e40cdbaed9335e4c35a9e - - -] 10.11.10.1 \"GET /v2/54fadb412c4e40cdbaed9335e4c35a9e/servers/detail HTTP/1.1\" HTTP status code -  200 len: 211 time: 0.1034541', 'nova.osapi_compute.wsgi.server [req-f334d0f5-b683-4689-a574-ae0a7da19a69 113d3a99c3da401fbd62cc2caa5b96d2 54fadb412c4e40cdbaed9335e4c35a9e - - -] 10.11.10.1 \"GET /v2/54fadb412c4e40cdbaed9335e4c35a9e/servers/detail HTTP/1.1\" Return code: 200 len: 1893 time: 0.2840128', 'nova.osapi_compute.wsgi.server [req-fc5a3419-08c8-4398-9b5c-1b14207e6129 f7b8d1f1d4d44643b07fa10ca7d021fb e9746973ac574c6b8a9e8857f56a7608 - - -] 10.11.10.1 \"POST /v2/e9746973ac574c6b8a9e8857f56a7608/os-server-external-events HTTP/1.1\" Status code -  200 len: 380 time: 0.0975678', 'nova.metadata.wsgi.server [-] 10.11.21.139,10.11.10.1 \"GET /openstack/2013-10-17/vendor_data.json HTTP/1.1\" status: 200 len: 124 time: 0.0006561', 'nova.metadata.wsgi.server [-] 10.11.21.132,10.11.10.1 \"GET /latest/meta-data/ami-launch-index HTTP/1.1\" HTTP status code -  200 len: 117 time: 0.0007291', 'nova.osapi_compute.wsgi.server [req-969a61db-496a-4350-8b5b-ff1bc11eb114 113d3a99c3da401fbd62cc2caa5b96d2 54fadb412c4e40cdbaed9335e4c35a9e - - -] 10.11.10.1 \"GET /v2/54fadb412c4e40cdbaed9335e4c35a9e/servers/detail HTTP/1.1\" Status code -  200 len: 1583 time: 0.1885760', 'nova.osapi_compute.wsgi.server [req-1a40db47-25b1-456f-82a6-62af7d642a7b 113d3a99c3da401fbd62cc2caa5b96d2 54fadb412c4e40cdbaed9335e4c35a9e - - -] 10.11.10.1 \"GET /v2/54fadb412c4e40cdbaed9335e4c35a9e/servers/detail HTTP/1.1\" Status code -  200 len: 1893 time: 0.2719719', 'nova.metadata.wsgi.server [req-129bcb0b-f78e-42bf-8553-a34ff5884e77 - - - - -] 10.11.21.128,10.11.10.1 \"GET /openstack/2013-10-17/vendor_data.json HTTP/1.1\" Return code: 200 len: 124 time: 0.2283430', 'nova.osapi_compute.wsgi.server [req-8db66943-ce30-49e8-998c-7235e8f971c2 113d3a99c3da401fbd62cc2caa5b96d2 54fadb412c4e40cdbaed9335e4c35a9e - - -] 10.11.10.1 \"GET /v2/54fadb412c4e40cdbaed9335e4c35a9e/servers/detail HTTP/1.1\" Status code -  200 len: 1893 time: 0.2594271', 'nova.osapi_compute.wsgi.server [req-08b757f2-16eb-4ebd-8cef-1b922ef51b5e 113d3a99c3da401fbd62cc2caa5b96d2 54fadb412c4e40cdbaed9335e4c35a9e - - -] 10.11.10.1 \"GET /v2/54fadb412c4e40cdbaed9335e4c35a9e/servers/detail HTTP/1.1\" Return code: 200 len: 1759 time: 0.2967250', 'nova.osapi_compute.wsgi.server [req-6984d94a-c865-4248-afbc-07e050bea526 113d3a99c3da401fbd62cc2caa5b96d2 54fadb412c4e40cdbaed9335e4c35a9e - - -] 10.11.10.1 \"GET /v2/54fadb412c4e40cdbaed9335e4c35a9e/servers/detail HTTP/1.1\" status: 200 len: 1910 time: 0.2781398', 'nova.osapi_compute.wsgi.server [req-a27af937-85b3-4903-abf5-6c809b6cde67 f7b8d1f1d4d44643b07fa10ca7d021fb e9746973ac574c6b8a9e8857f56a7608 - - -] 10.11.10.1 \"POST /v2/e9746973ac574c6b8a9e8857f56a7608/os-server-external-events HTTP/1.1\" Return code: 200 len: 380 time: 0.0935540', 'nova.osapi_compute.wsgi.server [req-f152f651-e6f7-445c-926d-3bfc957bb0f4 113d3a99c3da401fbd62cc2caa5b96d2 54fadb412c4e40cdbaed9335e4c35a9e - - -] 10.11.10.1 \"GET /v2/54fadb412c4e40cdbaed9335e4c35a9e/servers/detail HTTP/1.1\" Status code -  200 len: 1893 time: 0.3740301', 'nova.osapi_compute.wsgi.server [req-db9f16f5-a91f-421d-a4a9-ae0f7e563c6d 113d3a99c3da401fbd62cc2caa5b96d2 54fadb412c4e40cdbaed9335e4c35a9e - - -] 10.11.10.1 \"GET /v2/54fadb412c4e40cdbaed9335e4c35a9e/servers/detail HTTP/1.1\" HTTP status code -  200 len: 1893 time: 0.2685769', 'nova.metadata.wsgi.server [req-414101a6-d4d4-48ba-adf3-b2c15eb943e1 - - - - -] 10.11.21.139,10.11.10.1 \"GET /latest/meta-data/block-device-mapping/ami HTTP/1.1\" Return code: 200 len: 119 time: 0.2219629', 'nova.osapi_compute.wsgi.server [req-5158941a-f199-4fb0-9e63-688d2ba433a9 113d3a99c3da401fbd62cc2caa5b96d2 54fadb412c4e40cdbaed9335e4c35a9e - - -] 10.11.10.1 \"GET /v2/54fadb412c4e40cdbaed9335e4c35a9e/servers/detail HTTP/1.1\" RCODE  200 len: 1874 time: 0.2061739', 'nova.osapi_compute.wsgi.server [req-fff6fe1a-cbb6-4b38-806a-afee069d7c13 f7b8d1f1d4d44643b07fa10ca7d021fb e9746973ac574c6b8a9e8857f56a7608 - - -] 10.11.10.1 \"POST /v2/e9746973ac574c6b8a9e8857f56a7608/os-server-external-events HTTP/1.1\" Status code -  404 len: 296 time: 0.0886950', 'nova.osapi_compute.wsgi.server [req-b88d307a-b459-47f5-b4a3-ef2e78868ebb 113d3a99c3da401fbd62cc2caa5b96d2 54fadb412c4e40cdbaed9335e4c35a9e - - -] 10.11.10.1 \"GET /v2/54fadb412c4e40cdbaed9335e4c35a9e/servers/detail HTTP/1.1\" Return code: 200 len: 1893 time: 0.2594640', 'nova.osapi_compute.wsgi.server [req-b4692194-e82b-4c3b-9f95-afd1bcb5d768 113d3a99c3da401fbd62cc2caa5b96d2 54fadb412c4e40cdbaed9335e4c35a9e - - -] 10.11.10.1 \"GET /v2/54fadb412c4e40cdbaed9335e4c35a9e/servers/detail HTTP/1.1\" status: 200 len: 1893 time: 0.2636631', 'nova.osapi_compute.wsgi.server [req-74ee69bd-fd92-497e-8fce-3049300a465d 113d3a99c3da401fbd62cc2caa5b96d2 54fadb412c4e40cdbaed9335e4c35a9e - - -] 10.11.10.1 \"GET /v2/54fadb412c4e40cdbaed9335e4c35a9e/servers/detail HTTP/1.1\" HTTP status code -  200 len: 1893 time: 0.2857480', 'nova.osapi_compute.wsgi.server [req-72b4858f-049e-49e1-b31e-b562c5018eaf 113d3a99c3da401fbd62cc2caa5b96d2 54fadb412c4e40cdbaed9335e4c35a9e - - -] 10.11.10.1 \"POST /v2/54fadb412c4e40cdbaed9335e4c35a9e/servers HTTP/1.1\" HTTP status code -  202 len: 733 time: 0.4763680', 'nova.metadata.wsgi.server [-] 10.11.21.122,10.11.10.1 \"GET /openstack/2013-10-17 HTTP/1.1\" status: 200 len: 157 time: 0.0008290', 'nova.metadata.wsgi.server [-] 10.11.21.139,10.11.10.1 \"GET /latest/meta-data/placement/availability-zone HTTP/1.1\" RCODE  200 len: 120 time: 0.0008299', 'nova.osapi_compute.wsgi.server [req-29e61e24-e666-401a-a46b-70449016967f 113d3a99c3da401fbd62cc2caa5b96d2 54fadb412c4e40cdbaed9335e4c35a9e - - -] 10.11.10.1 \"GET /v2/54fadb412c4e40cdbaed9335e4c35a9e/servers/detail HTTP/1.1\" Return code: 200 len: 211 time: 0.1012239', 'nova.osapi_compute.wsgi.server [req-5274c7d6-718d-4d14-99bc-3a6a3c6a8987 113d3a99c3da401fbd62cc2caa5b96d2 54fadb412c4e40cdbaed9335e4c35a9e - - -] 10.11.10.1 \"GET /v2/54fadb412c4e40cdbaed9335e4c35a9e/servers/detail HTTP/1.1\" Status code -  200 len: 1893 time: 0.2626600', 'nova.osapi_compute.wsgi.server [req-297ec716-683d-434e-8b23-eb29cdd762cb f7b8d1f1d4d44643b07fa10ca7d021fb e9746973ac574c6b8a9e8857f56a7608 - - -] 10.11.10.1 \"POST /v2/e9746973ac574c6b8a9e8857f56a7608/os-server-external-events HTTP/1.1\" HTTP status code -  200 len: 380 time: 0.0912890', 'nova.osapi_compute.wsgi.server [req-1c0b524e-3746-4307-b884-a4ae0ee3bac9 d16a600c5e2a47fe98aee00ee4cb9743 e9746973ac574c6b8a9e8857f56a7608 - - -] 10.11.10.2 \"GET /v2/e9746973ac574c6b8a9e8857f56a7608/servers/detail?all_tenants=True&changes-since=2017-05-16T05%3A55%3A11.521167%2B00%3A00&host=cp-1.slowvm1.tcloud-pg0.utah.cloudlab.us HTTP/1.1\" Return code: 200 len: 23222 time: 0.2740111', 'nova.osapi_compute.wsgi.server [req-30cef5d6-4405-4d45-8372-bb6e7d306da7 113d3a99c3da401fbd62cc2caa5b96d2 54fadb412c4e40cdbaed9335e4c35a9e - - -] 10.11.10.1 \"GET /v2/54fadb412c4e40cdbaed9335e4c35a9e/servers/detail HTTP/1.1\" RCODE  200 len: 1893 time: 0.2594419', 'nova.osapi_compute.wsgi.server [req-f0300fec-04dc-44c6-b410-5c7fbf5b2254 113d3a99c3da401fbd62cc2caa5b96d2 54fadb412c4e40cdbaed9335e4c35a9e - - -] 10.11.10.1 \"GET /v2/54fadb412c4e40cdbaed9335e4c35a9e/servers/detail HTTP/1.1\" status: 200 len: 1893 time: 0.2646649', 'nova.osapi_compute.wsgi.server [req-e265ea4c-ba4b-44f0-b086-7420e34e17cb f7b8d1f1d4d44643b07fa10ca7d021fb e9746973ac574c6b8a9e8857f56a7608 - - -] 10.11.10.1 \"POST /v2/e9746973ac574c6b8a9e8857f56a7608/os-server-external-events HTTP/1.1\" RCODE  200 len: 380 time: 0.0867331', 'nova.osapi_compute.wsgi.server [req-62d76f3f-ce7b-4d81-babe-cb80cafb0c46 113d3a99c3da401fbd62cc2caa5b96d2 54fadb412c4e40cdbaed9335e4c35a9e - - -] 10.11.10.1 \"GET /v2/54fadb412c4e40cdbaed9335e4c35a9e/servers/detail HTTP/1.1\" HTTP status code -  200 len: 1893 time: 0.4316020', 'nova.osapi_compute.wsgi.server [req-5cb84c28-f466-4fad-949b-23da89895861 113d3a99c3da401fbd62cc2caa5b96d2 54fadb412c4e40cdbaed9335e4c35a9e - - -] 10.11.10.1 \"GET /v2/54fadb412c4e40cdbaed9335e4c35a9e/servers/detail HTTP/1.1\" status: 200 len: 1893 time: 0.2679729', 'nova.metadata.wsgi.server [req-ffe3e7b2-f553-4460-aa21-9f437d384256 - - - - -] 10.11.21.128,10.11.10.1 \"GET /openstack/2013-10-17/vendor_data.json HTTP/1.1\" HTTP status code -  200 len: 124 time: 0.2238111', 'nova.osapi_compute.wsgi.server [req-5a32f601-7181-47a1-8edc-eb734fc58645 113d3a99c3da401fbd62cc2caa5b96d2 54fadb412c4e40cdbaed9335e4c35a9e - - -] 10.11.10.1 \"GET /v2/54fadb412c4e40cdbaed9335e4c35a9e/servers/detail HTTP/1.1\" Status code -  200 len: 1893 time: 0.2691431', 'nova.osapi_compute.wsgi.server [req-2bd7010e-8e5a-4ed3-afbe-9cfb2918fce7 113d3a99c3da401fbd62cc2caa5b96d2 54fadb412c4e40cdbaed9335e4c35a9e - - -] 10.11.10.1 \"GET /v2/54fadb412c4e40cdbaed9335e4c35a9e/servers/detail HTTP/1.1\" Return code: 200 len: 1893 time: 0.2540510', 'nova.osapi_compute.wsgi.server [req-4115658f-3cd0-4dc0-9025-dbf0e4581302 113d3a99c3da401fbd62cc2caa5b96d2 54fadb412c4e40cdbaed9335e4c35a9e - - -] 10.11.10.1 \"GET /v2/54fadb412c4e40cdbaed9335e4c35a9e/servers/detail HTTP/1.1\" RCODE  200 len: 1893 time: 0.2711699', 'nova.metadata.wsgi.server [-] 10.11.21.141,10.11.10.1 \"GET /openstack/2013-10-17/meta_data.json HTTP/1.1\" RCODE  200 len: 967 time: 0.0009491', 'nova.osapi_compute.wsgi.server [req-1695526d-1332-4b35-932c-bb5df4d7e1bb f7b8d1f1d4d44643b07fa10ca7d021fb e9746973ac574c6b8a9e8857f56a7608 - - -] 10.11.10.1 \"POST /v2/e9746973ac574c6b8a9e8857f56a7608/os-server-external-events HTTP/1.1\" Status code -  200 len: 380 time: 0.1011631', 'nova.metadata.wsgi.server [req-3e10a534-1a8e-4ae8-a49a-df5cb9b87fb0 - - - - -] 10.11.21.129,10.11.10.1 \"GET /latest/meta-data/block-device-mapping/root HTTP/1.1\" Status code -  200 len: 124 time: 0.2325919', 'nova.osapi_compute.wsgi.server [req-f2287178-8d2a-4421-a098-c154341ae628 113d3a99c3da401fbd62cc2caa5b96d2 54fadb412c4e40cdbaed9335e4c35a9e - - -] 10.11.10.1 \"GET /v2/54fadb412c4e40cdbaed9335e4c35a9e/servers/detail HTTP/1.1\" status: 200 len: 1893 time: 0.2777491', 'nova.osapi_compute.wsgi.server [req-529aa531-a3ff-4ded-80ad-b001df794f5b 113d3a99c3da401fbd62cc2caa5b96d2 54fadb412c4e40cdbaed9335e4c35a9e - - -] 10.11.10.1 \"GET /v2/54fadb412c4e40cdbaed9335e4c35a9e/servers/detail HTTP/1.1\" Status code -  200 len: 1893 time: 0.2563291', 'nova.osapi_compute.wsgi.server [req-93ec4346-3e60-4997-8a32-420bab0a390f 113d3a99c3da401fbd62cc2caa5b96d2 54fadb412c4e40cdbaed9335e4c35a9e - - -] 10.11.10.1 \"GET /v2/54fadb412c4e40cdbaed9335e4c35a9e/servers/detail HTTP/1.1\" Return code: 200 len: 1874 time: 0.1886330', 'nova.osapi_compute.wsgi.server [req-05bac4af-55c4-4d90-bd9e-f782858bd4d1 113d3a99c3da401fbd62cc2caa5b96d2 54fadb412c4e40cdbaed9335e4c35a9e - - -] 10.11.10.1 \"GET /v2/54fadb412c4e40cdbaed9335e4c35a9e/servers/detail HTTP/1.1\" RCODE  200 len: 1910 time: 0.2505140', 'nova.osapi_compute.wsgi.server [req-35722e9e-e5fb-47d9-8e20-d5237bd7440c 113d3a99c3da401fbd62cc2caa5b96d2 54fadb412c4e40cdbaed9335e4c35a9e - - -] 10.11.10.1 \"GET /v2/54fadb412c4e40cdbaed9335e4c35a9e/servers/detail HTTP/1.1\" Return code: 200 len: 1893 time: 0.2711270', 'nova.osapi_compute.wsgi.server [req-f00e1f15-d28f-491d-95ad-07d51491f3af 113d3a99c3da401fbd62cc2caa5b96d2 54fadb412c4e40cdbaed9335e4c35a9e - - -] 10.11.10.1 \"GET /v2/54fadb412c4e40cdbaed9335e4c35a9e/servers/detail HTTP/1.1\" status: 200 len: 1874 time: 0.1953011', 'nova.metadata.wsgi.server [-] 10.11.21.139,10.11.10.1 \"GET /latest/meta-data/local-ipv4 HTTP/1.1\" HTTP status code -  200 len: 129 time: 0.0008519', 'nova.osapi_compute.wsgi.server [req-60307fcf-4b28-4649-ba54-227bbbf75c6a 113d3a99c3da401fbd62cc2caa5b96d2 54fadb412c4e40cdbaed9335e4c35a9e - - -] 10.11.10.1 \"GET /v2/54fadb412c4e40cdbaed9335e4c35a9e/servers/detail HTTP/1.1\" HTTP status code -  200 len: 1893 time: 0.2517381', 'nova.osapi_compute.wsgi.server [req-546e2e6a-b85e-434a-91dc-53a0a9124a4f 113d3a99c3da401fbd62cc2caa5b96d2 54fadb412c4e40cdbaed9335e4c35a9e - - -] 10.11.10.1 \"GET /v2/54fadb412c4e40cdbaed9335e4c35a9e/servers/detail HTTP/1.1\" Status code -  200 len: 1893 time: 0.2733629', 'nova.osapi_compute.wsgi.server [req-6dd4cb0c-c909-4935-af86-a978ccb6a461 113d3a99c3da401fbd62cc2caa5b96d2 54fadb412c4e40cdbaed9335e4c35a9e - - -] 10.11.10.1 \"GET /v2/54fadb412c4e40cdbaed9335e4c35a9e/servers/detail HTTP/1.1\" status: 200 len: 1893 time: 0.2695961', 'nova.metadata.wsgi.server [req-3af3383b-9776-4b43-8cdf-c4983651f4bd - - - - -] 10.11.21.138,10.11.10.1 \"GET /openstack/2013-10-17/vendor_data.json HTTP/1.1\" RCODE  200 len: 124 time: 0.2357898', 'nova.osapi_compute.wsgi.server [req-75353906-801d-43f3-a38b-1c1fbab380a1 113d3a99c3da401fbd62cc2caa5b96d2 54fadb412c4e40cdbaed9335e4c35a9e - - -] 10.11.10.1 \"GET /v2/54fadb412c4e40cdbaed9335e4c35a9e/servers/detail HTTP/1.1\" Return code: 200 len: 1893 time: 0.2760520', 'nova.metadata.wsgi.server [-] 10.11.21.126,10.11.10.1 \"GET /openstack/2013-10-17/meta_data.json HTTP/1.1\" Return code: 200 len: 967 time: 0.0012150', 'nova.osapi_compute.wsgi.server [req-4892d245-063a-4b1a-b6b6-9fb90b09c63d 113d3a99c3da401fbd62cc2caa5b96d2 54fadb412c4e40cdbaed9335e4c35a9e - - -] 10.11.10.1 \"GET /v2/54fadb412c4e40cdbaed9335e4c35a9e/servers/detail HTTP/1.1\" Status code -  200 len: 1893 time: 0.2466712', 'nova.osapi_compute.wsgi.server [req-f7783f57-038a-4d59-af27-9c554d8fd072 113d3a99c3da401fbd62cc2caa5b96d2 54fadb412c4e40cdbaed9335e4c35a9e - - -] 10.11.10.1 \"GET /v2/54fadb412c4e40cdbaed9335e4c35a9e/servers/detail HTTP/1.1\" Status code -  200 len: 1893 time: 0.2585540', 'nova.osapi_compute.wsgi.server [req-b3dbbd16-100c-4a9e-a7cd-e2911d09417d 113d3a99c3da401fbd62cc2caa5b96d2 54fadb412c4e40cdbaed9335e4c35a9e - - -] 10.11.10.1 \"GET /v2/54fadb412c4e40cdbaed9335e4c35a9e/servers/detail HTTP/1.1\" status: 200 len: 1893 time: 0.2583311', 'nova.osapi_compute.wsgi.server [req-dd5eea8f-ecd9-481e-aa07-ada6bea727cc 113d3a99c3da401fbd62cc2caa5b96d2 54fadb412c4e40cdbaed9335e4c35a9e - - -] 10.11.10.1 \"GET /v2/54fadb412c4e40cdbaed9335e4c35a9e/servers/detail HTTP/1.1\" Status code -  200 len: 1893 time: 0.2614441', 'nova.osapi_compute.wsgi.server [req-f1f8bad1-1773-49bb-a7b5-782106415c71 113d3a99c3da401fbd62cc2caa5b96d2 54fadb412c4e40cdbaed9335e4c35a9e - - -] 10.11.10.1 \"GET /v2/54fadb412c4e40cdbaed9335e4c35a9e/servers/detail HTTP/1.1\" Status code -  200 len: 1893 time: 0.4522619', 'nova.osapi_compute.wsgi.server [req-97fcea79-42f7-4241-9b9e-63fe193c1929 113d3a99c3da401fbd62cc2caa5b96d2 54fadb412c4e40cdbaed9335e4c35a9e - - -] 10.11.10.1 \"POST /v2/54fadb412c4e40cdbaed9335e4c35a9e/servers HTTP/1.1\" HTTP status code -  202 len: 733 time: 0.5442920', 'nova.osapi_compute.wsgi.server [req-45d4275d-2214-4159-b61e-168da60fc29d 113d3a99c3da401fbd62cc2caa5b96d2 54fadb412c4e40cdbaed9335e4c35a9e - - -] 10.11.10.1 \"GET /v2/54fadb412c4e40cdbaed9335e4c35a9e/servers/detail HTTP/1.1\" status: 200 len: 1893 time: 0.2567871', 'nova.osapi_compute.wsgi.server [req-dd237280-5bc8-41cb-a035-26c8e64d49fc 113d3a99c3da401fbd62cc2caa5b96d2 54fadb412c4e40cdbaed9335e4c35a9e - - -] 10.11.10.1 \"GET /v2/54fadb412c4e40cdbaed9335e4c35a9e/servers/detail HTTP/1.1\" status: 200 len: 1916 time: 0.2717581', 'nova.osapi_compute.wsgi.server [req-ab2e766f-eee9-4e84-8171-8ba713a28f9f f7b8d1f1d4d44643b07fa10ca7d021fb e9746973ac574c6b8a9e8857f56a7608 - - -] 10.11.10.1 \"POST /v2/e9746973ac574c6b8a9e8857f56a7608/os-server-external-events HTTP/1.1\" status: 404 len: 296 time: 0.0927291', 'nova.osapi_compute.wsgi.server [req-9118475d-6e72-48fa-9dee-e6b7d957dcd6 113d3a99c3da401fbd62cc2caa5b96d2 54fadb412c4e40cdbaed9335e4c35a9e - - -] 10.11.10.1 \"POST /v2/54fadb412c4e40cdbaed9335e4c35a9e/servers HTTP/1.1\" Return code: 202 len: 733 time: 0.4532349', 'nova.metadata.wsgi.server [req-e78e9555-b566-46e4-8753-94827f0c2910 - - - - -] 10.11.21.123,10.11.10.1 \"GET /openstack/2012-08-10/meta_data.json HTTP/1.1\" Return code: 200 len: 264 time: 0.2205780', 'nova.osapi_compute.wsgi.server [req-9f55f8ef-5f3f-4087-9a62-af37a1d6ba75 113d3a99c3da401fbd62cc2caa5b96d2 54fadb412c4e40cdbaed9335e4c35a9e - - -] 10.11.10.1 \"GET /v2/54fadb412c4e40cdbaed9335e4c35a9e/servers/detail HTTP/1.1\" HTTP status code -  200 len: 1893 time: 0.2563009', 'nova.osapi_compute.wsgi.server [req-2d69546b-af37-4bab-b9b9-be2a92f487a2 113d3a99c3da401fbd62cc2caa5b96d2 54fadb412c4e40cdbaed9335e4c35a9e - - -] 10.11.10.1 \"GET /v2/54fadb412c4e40cdbaed9335e4c35a9e/servers/detail HTTP/1.1\" RCODE  200 len: 1874 time: 0.1977990', 'nova.osapi_compute.wsgi.server [req-f1971a67-cc91-4a21-af01-43fcb2b23f5f 113d3a99c3da401fbd62cc2caa5b96d2 54fadb412c4e40cdbaed9335e4c35a9e - - -] 10.11.10.1 \"GET /v2/54fadb412c4e40cdbaed9335e4c35a9e/servers/detail HTTP/1.1\" Return code: 200 len: 1893 time: 0.2641511', 'nova.osapi_compute.wsgi.server [req-065efef6-3934-40b5-91b3-03db9f152a8e 113d3a99c3da401fbd62cc2caa5b96d2 54fadb412c4e40cdbaed9335e4c35a9e - - -] 10.11.10.1 \"GET /v2/54fadb412c4e40cdbaed9335e4c35a9e/servers/detail HTTP/1.1\" HTTP status code -  200 len: 1893 time: 0.2734950', 'nova.osapi_compute.wsgi.server [req-410230db-16e7-4909-9ce4-8147d7bb053f 113d3a99c3da401fbd62cc2caa5b96d2 54fadb412c4e40cdbaed9335e4c35a9e - - -] 10.11.10.1 \"GET /v2/54fadb412c4e40cdbaed9335e4c35a9e/servers/detail HTTP/1.1\" status: 200 len: 1893 time: 0.4367440', 'nova.osapi_compute.wsgi.server [req-3fdad801-640b-40e9-8554-508a00a681ad 113d3a99c3da401fbd62cc2caa5b96d2 54fadb412c4e40cdbaed9335e4c35a9e - - -] 10.11.10.1 \"GET /v2/54fadb412c4e40cdbaed9335e4c35a9e/servers/detail HTTP/1.1\" HTTP status code -  200 len: 1893 time: 0.2723150', 'nova.metadata.wsgi.server [req-259797db-8cb1-4b12-b243-5269bdd6dc13 - - - - -] 10.11.21.133,10.11.10.1 \"GET /latest/meta-data/block-device-mapping/ HTTP/1.1\" status: 200 len: 124 time: 0.2289269', 'nova.osapi_compute.wsgi.server [req-395ef8c3-1b43-49ab-97ea-cbac197fb624 113d3a99c3da401fbd62cc2caa5b96d2 54fadb412c4e40cdbaed9335e4c35a9e - - -] 10.11.10.1 \"GET /v2/54fadb412c4e40cdbaed9335e4c35a9e/servers/detail HTTP/1.1\" status: 200 len: 1910 time: 0.2584429', 'nova.osapi_compute.wsgi.server [req-ccffca62-8a09-4c29-b42e-d7500c235d6d 113d3a99c3da401fbd62cc2caa5b96d2 54fadb412c4e40cdbaed9335e4c35a9e - - -] 10.11.10.1 \"GET /v2/54fadb412c4e40cdbaed9335e4c35a9e/servers/detail HTTP/1.1\" RCODE  200 len: 1893 time: 0.2796071', 'nova.osapi_compute.wsgi.server [req-6f9ecdfe-481c-4535-9bdc-45d86085d739 113d3a99c3da401fbd62cc2caa5b96d2 54fadb412c4e40cdbaed9335e4c35a9e - - -] 10.11.10.1 \"POST /v2/54fadb412c4e40cdbaed9335e4c35a9e/servers HTTP/1.1\" RCODE  202 len: 733 time: 0.4923580', 'nova.osapi_compute.wsgi.server [req-5289331a-b4c1-48d6-b35f-9edfcacccef0 113d3a99c3da401fbd62cc2caa5b96d2 54fadb412c4e40cdbaed9335e4c35a9e - - -] 10.11.10.1 \"GET /v2/54fadb412c4e40cdbaed9335e4c35a9e/servers/detail HTTP/1.1\" status: 200 len: 1893 time: 0.2714450', 'nova.osapi_compute.wsgi.server [req-de162460-0015-4ef5-ad34-36cdaf269be6 113d3a99c3da401fbd62cc2caa5b96d2 54fadb412c4e40cdbaed9335e4c35a9e - - -] 10.11.10.1 \"GET /v2/54fadb412c4e40cdbaed9335e4c35a9e/servers/detail HTTP/1.1\" Return code: 200 len: 1893 time: 0.2570632', 'nova.osapi_compute.wsgi.server [req-1239a305-a3f9-4451-8fd8-fc1da207fd05 113d3a99c3da401fbd62cc2caa5b96d2 54fadb412c4e40cdbaed9335e4c35a9e - - -] 10.11.10.1 \"GET /v2/54fadb412c4e40cdbaed9335e4c35a9e/servers/detail HTTP/1.1\" HTTP status code -  200 len: 1759 time: 0.2832491', 'nova.osapi_compute.wsgi.server [req-86058deb-b5e1-4cc2-96b2-4b1f0ca81306 113d3a99c3da401fbd62cc2caa5b96d2 54fadb412c4e40cdbaed9335e4c35a9e - - -] 10.11.10.1 \"GET /v2/54fadb412c4e40cdbaed9335e4c35a9e/servers/detail HTTP/1.1\" status: 200 len: 1893 time: 0.2519629', 'nova.metadata.wsgi.server [-] 10.11.21.136,10.11.10.1 \"GET /latest/meta-data/ HTTP/1.1\" HTTP status code -  200 len: 328 time: 0.0023859', 'nova.osapi_compute.wsgi.server [req-74354c38-3eb0-4bde-a63d-5a53b008030c f7b8d1f1d4d44643b07fa10ca7d021fb e9746973ac574c6b8a9e8857f56a7608 - - -] 10.11.10.1 \"POST /v2/e9746973ac574c6b8a9e8857f56a7608/os-server-external-events HTTP/1.1\" RCODE  200 len: 380 time: 0.0921431', 'nova.osapi_compute.wsgi.server [req-405a1c42-ae3c-45ec-abaf-eac55b56f73e 113d3a99c3da401fbd62cc2caa5b96d2 54fadb412c4e40cdbaed9335e4c35a9e - - -] 10.11.10.1 \"GET /v2/54fadb412c4e40cdbaed9335e4c35a9e/servers/detail HTTP/1.1\" Return code: 200 len: 1893 time: 0.2570741', 'nova.metadata.wsgi.server [req-1f64aad7-bba8-415a-8664-7c6d747c60e4 - - - - -] 10.11.21.125,10.11.10.1 \"GET /openstack/2013-10-17 HTTP/1.1\" Return code: 200 len: 157 time: 0.2119691', 'nova.osapi_compute.wsgi.server [req-7504342b-b277-44f1-a711-06a0ebacca4e 113d3a99c3da401fbd62cc2caa5b96d2 54fadb412c4e40cdbaed9335e4c35a9e - - -] 10.11.10.1 \"GET /v2/54fadb412c4e40cdbaed9335e4c35a9e/servers/detail HTTP/1.1\" RCODE  200 len: 1893 time: 0.2528281', 'nova.osapi_compute.wsgi.server [req-31a940b9-3604-4c3f-8aec-386824bc1e9d 113d3a99c3da401fbd62cc2caa5b96d2 54fadb412c4e40cdbaed9335e4c35a9e - - -] 10.11.10.1 \"GET /v2/54fadb412c4e40cdbaed9335e4c35a9e/servers/detail HTTP/1.1\" status: 200 len: 1893 time: 0.2664509', 'nova.metadata.wsgi.server [req-240372b7-bd9c-4cdd-977c-d2dc10bf8526 - - - - -] 10.11.21.123,10.11.10.1 \"GET /latest/meta-data/placement/ HTTP/1.1\" Status code -  200 len: 134 time: 0.3841610', 'nova.metadata.wsgi.server [req-82d56826-e751-467c-b922-97a8f782f84f - - - - -] 10.11.21.130,10.11.10.1 \"GET /openstack/2012-08-10/meta_data.json HTTP/1.1\" HTTP status code -  200 len: 264 time: 0.2336938', 'nova.osapi_compute.wsgi.server [req-410ed8a3-3cb0-47ca-920a-653be17f284e 113d3a99c3da401fbd62cc2caa5b96d2 54fadb412c4e40cdbaed9335e4c35a9e - - -] 10.11.10.1 \"GET /v2/54fadb412c4e40cdbaed9335e4c35a9e/servers/detail HTTP/1.1\" HTTP status code -  200 len: 1893 time: 0.2555740', 'nova.osapi_compute.wsgi.server [req-bb798c56-02c1-4910-afe1-cf37fdf05e3b 113d3a99c3da401fbd62cc2caa5b96d2 54fadb412c4e40cdbaed9335e4c35a9e - - -] 10.11.10.1 \"GET /v2/54fadb412c4e40cdbaed9335e4c35a9e/servers/detail HTTP/1.1\" Return code: 200 len: 1575 time: 0.1902869', 'nova.metadata.wsgi.server [req-2c3352c8-820a-4166-ab18-cdc88a711208 - - - - -] 10.11.21.132,10.11.10.1 \"GET /openstack/2013-10-17/vendor_data.json HTTP/1.1\" Status code -  200 len: 124 time: 0.2239330', 'nova.metadata.wsgi.server [req-a910b888-17ef-40b7-9311-a75a73d748d1 - - - - -] 10.11.21.136,10.11.10.1 \"GET /openstack/2013-10-17/vendor_data.json HTTP/1.1\" status: 200 len: 124 time: 0.2159710', 'nova.metadata.wsgi.server [req-ba29717b-249a-4b80-bceb-f95959dedc24 - - - - -] 10.11.21.141,10.11.10.1 \"GET /latest/meta-data/block-device-mapping/ HTTP/1.1\" HTTP status code -  200 len: 124 time: 0.2311139', 'nova.osapi_compute.wsgi.server [req-4bdf00b0-3bbc-44fa-bd84-de85ec43c8a2 113d3a99c3da401fbd62cc2caa5b96d2 54fadb412c4e40cdbaed9335e4c35a9e - - -] 10.11.10.1 \"GET /v2/54fadb412c4e40cdbaed9335e4c35a9e/servers/detail HTTP/1.1\" status: 200 len: 1916 time: 0.2769570', 'nova.osapi_compute.wsgi.server [req-2c9c783f-3c7a-4844-87b1-e207a38c74ab 113d3a99c3da401fbd62cc2caa5b96d2 54fadb412c4e40cdbaed9335e4c35a9e - - -] 10.11.10.1 \"GET /v2/54fadb412c4e40cdbaed9335e4c35a9e/servers/detail HTTP/1.1\" Return code: 200 len: 1893 time: 0.2527661', 'nova.osapi_compute.wsgi.server [req-96c3ec98-21a0-4af2-84a8-d4989512413e 113d3a99c3da401fbd62cc2caa5b96d2 54fadb412c4e40cdbaed9335e4c35a9e - - -] 10.11.10.1 \"GET /v2/54fadb412c4e40cdbaed9335e4c35a9e/servers/detail HTTP/1.1\" Return code: 200 len: 1916 time: 0.2677610', 'nova.metadata.wsgi.server [req-b6d4a270-accb-4c3a-8179-9611e52e1768 - - - - -] 10.11.21.124,10.11.10.1 \"GET /openstack/2013-10-17 HTTP/1.1\" RCODE  200 len: 157 time: 0.2249990']\n",
      "\n",
      "\n",
      "Cluster 5:\n",
      "['nova.compute.claims [req-a07ac654-8e81-416d-bfbb-189116b07969 113d3a99c3da401fbd62cc2caa5b96d2 54fadb412c4e40cdbaed9335e4c35a9e - - -] [instance: bf8c824d-f099-4433-a41e-e3da7578262e] Total memory: 64172 MB, used: 512.00 MB', 'nova.compute.claims [req-d6986b54-3735-4a42-9074-0ba7d9717de9 113d3a99c3da401fbd62cc2caa5b96d2 54fadb412c4e40cdbaed9335e4c35a9e - - -] [instance: af5f7392-f7d4-4298-b647-c98924c64aa1] memory limit: 96258.00 MB, free: 95746.00 MB', 'nova.compute.claims [req-72b4858f-049e-49e1-b31e-b562c5018eaf 113d3a99c3da401fbd62cc2caa5b96d2 54fadb412c4e40cdbaed9335e4c35a9e - - -] [instance: 63a0d960-70b6-44c6-b606-491478a5cadf] disk limit not specified, defaulting to unlimited', 'nova.compute.claims [req-5c8f52bd-8e3c-41f0-95a5-7861d247cafa 113d3a99c3da401fbd62cc2caa5b96d2 54fadb412c4e40cdbaed9335e4c35a9e - - -] [instance: d96a117b-0193-4549-bdcc-63b917273d1d] vcpu limit not specified, defaulting to unlimited', 'nova.compute.claims [req-d38f479d-9bb9-4276-9688-52607e8fd350 113d3a99c3da401fbd62cc2caa5b96d2 54fadb412c4e40cdbaed9335e4c35a9e - - -] [instance: 95960536-049b-41f6-9049-05fc479b6a7c] disk limit not specified, defaulting to unlimited', 'nova.compute.claims [req-d82fab16-60f8-4c9f-bde8-f362f57bdd40 113d3a99c3da401fbd62cc2caa5b96d2 54fadb412c4e40cdbaed9335e4c35a9e - - -] [instance: ae3a1b5d-eec1-45bb-b76a-c59d83b1471f] memory limit: 96258.00 MB, free: 95746.00 MB', 'nova.compute.claims [req-868a5460-dbb6-416b-b4c4-a98abae6c847 113d3a99c3da401fbd62cc2caa5b96d2 54fadb412c4e40cdbaed9335e4c35a9e - - -] [instance: 17288ea8-cbf4-4f0e-94fe-853fd2735f29] Total vcpu: 16 VCPU, used: 0.00 VCPU', 'nova.compute.claims [req-2d658d2c-7eff-414e-a68f-3f1c75c9e874 113d3a99c3da401fbd62cc2caa5b96d2 54fadb412c4e40cdbaed9335e4c35a9e - - -] [instance: 7e7cc42f-3cb9-4d91-804c-f5a32d54f1c5] Total disk: 15 GB, used: 0.00 GB', 'nova.compute.claims [req-29a09cdb-3169-4c40-8bd1-552636286362 113d3a99c3da401fbd62cc2caa5b96d2 54fadb412c4e40cdbaed9335e4c35a9e - - -] [instance: 43204226-2f87-4da7-b7ee-4d20cc66e846] Total vcpu: 16 VCPU, used: 0.00 VCPU', 'nova.compute.claims [req-9118475d-6e72-48fa-9dee-e6b7d957dcd6 113d3a99c3da401fbd62cc2caa5b96d2 54fadb412c4e40cdbaed9335e4c35a9e - - -] [instance: be793e89-2cc3-4f99-9884-9c6a624a84bc] Attempting claim: memory 2048 MB, disk 20 GB, vcpus 1 CPU', 'nova.compute.claims [req-4b4dd551-26d8-48e2-bd52-91793d2157bc 113d3a99c3da401fbd62cc2caa5b96d2 54fadb412c4e40cdbaed9335e4c35a9e - - -] [instance: a015cf14-84bb-4156-a48d-7c4824ac7a9d] Total disk: 15 GB, used: 0.00 GB', 'nova.compute.claims [req-d82fab16-60f8-4c9f-bde8-f362f57bdd40 113d3a99c3da401fbd62cc2caa5b96d2 54fadb412c4e40cdbaed9335e4c35a9e - - -] [instance: ae3a1b5d-eec1-45bb-b76a-c59d83b1471f] Total vcpu: 16 VCPU, used: 0.00 VCPU', 'nova.compute.claims [req-9118475d-6e72-48fa-9dee-e6b7d957dcd6 113d3a99c3da401fbd62cc2caa5b96d2 54fadb412c4e40cdbaed9335e4c35a9e - - -] [instance: be793e89-2cc3-4f99-9884-9c6a624a84bc] Total memory: 64172 MB, used: 512.00 MB', 'nova.compute.claims [req-4b4dd551-26d8-48e2-bd52-91793d2157bc 113d3a99c3da401fbd62cc2caa5b96d2 54fadb412c4e40cdbaed9335e4c35a9e - - -] [instance: a015cf14-84bb-4156-a48d-7c4824ac7a9d] Total memory: 64172 MB, used: 512.00 MB', 'nova.compute.claims [req-6a763803-4838-49c7-814e-eaefbaddee9d 113d3a99c3da401fbd62cc2caa5b96d2 54fadb412c4e40cdbaed9335e4c35a9e - - -] [instance: 96abccce-8d1f-4e07-b6d1-4b2ab87e23b4] disk limit not specified, defaulting to unlimited', 'nova.compute.claims [req-29a09cdb-3169-4c40-8bd1-552636286362 113d3a99c3da401fbd62cc2caa5b96d2 54fadb412c4e40cdbaed9335e4c35a9e - - -] [instance: 43204226-2f87-4da7-b7ee-4d20cc66e846] Attempting claim: memory 2048 MB, disk 20 GB, vcpus 1 CPU', 'nova.compute.claims [req-a07ac654-8e81-416d-bfbb-189116b07969 113d3a99c3da401fbd62cc2caa5b96d2 54fadb412c4e40cdbaed9335e4c35a9e - - -] [instance: bf8c824d-f099-4433-a41e-e3da7578262e] disk limit not specified, defaulting to unlimited', 'nova.compute.claims [req-01d570b0-78a7-4719-b7a3-429fd7dc5a3f 113d3a99c3da401fbd62cc2caa5b96d2 54fadb412c4e40cdbaed9335e4c35a9e - - -] [instance: d54b44eb-2d1a-4aa2-ba6b-074d35f8f12c] disk limit not specified, defaulting to unlimited', 'nova.compute.claims [req-a07ac654-8e81-416d-bfbb-189116b07969 113d3a99c3da401fbd62cc2caa5b96d2 54fadb412c4e40cdbaed9335e4c35a9e - - -] [instance: bf8c824d-f099-4433-a41e-e3da7578262e] Attempting claim: memory 2048 MB, disk 20 GB, vcpus 1 CPU', 'nova.compute.claims [req-01d570b0-78a7-4719-b7a3-429fd7dc5a3f 113d3a99c3da401fbd62cc2caa5b96d2 54fadb412c4e40cdbaed9335e4c35a9e - - -] [instance: d54b44eb-2d1a-4aa2-ba6b-074d35f8f12c] vcpu limit not specified, defaulting to unlimited', 'nova.compute.claims [req-6f9ecdfe-481c-4535-9bdc-45d86085d739 113d3a99c3da401fbd62cc2caa5b96d2 54fadb412c4e40cdbaed9335e4c35a9e - - -] [instance: c62f4f25-982c-4ea2-b5e4-93000edfcfbf] Total memory: 64172 MB, used: 512.00 MB', 'nova.compute.claims [req-4b4dd551-26d8-48e2-bd52-91793d2157bc 113d3a99c3da401fbd62cc2caa5b96d2 54fadb412c4e40cdbaed9335e4c35a9e - - -] [instance: a015cf14-84bb-4156-a48d-7c4824ac7a9d] vcpu limit not specified, defaulting to unlimited', 'nova.compute.claims [req-01d570b0-78a7-4719-b7a3-429fd7dc5a3f 113d3a99c3da401fbd62cc2caa5b96d2 54fadb412c4e40cdbaed9335e4c35a9e - - -] [instance: d54b44eb-2d1a-4aa2-ba6b-074d35f8f12c] memory limit: 96258.00 MB, free: 95746.00 MB', 'nova.compute.claims [req-d82fab16-60f8-4c9f-bde8-f362f57bdd40 113d3a99c3da401fbd62cc2caa5b96d2 54fadb412c4e40cdbaed9335e4c35a9e - - -] [instance: ae3a1b5d-eec1-45bb-b76a-c59d83b1471f] vcpu limit not specified, defaulting to unlimited', 'nova.compute.claims [req-3d26bc3d-373c-4269-b095-004aab7a9785 113d3a99c3da401fbd62cc2caa5b96d2 54fadb412c4e40cdbaed9335e4c35a9e - - -] [instance: faf974ea-cba5-4e1b-93f4-3a3bc606006f] Attempting claim: memory 2048 MB, disk 20 GB, vcpus 1 CPU', 'nova.compute.claims [req-caeb3818-dab6-4e8d-9ea6-aceb23905ebc 113d3a99c3da401fbd62cc2caa5b96d2 54fadb412c4e40cdbaed9335e4c35a9e - - -] [instance: 78dc1847-8848-49cc-933e-9239b12c9dcf] Total memory: 64172 MB, used: 512.00 MB', 'nova.compute.claims [req-6f9ecdfe-481c-4535-9bdc-45d86085d739 113d3a99c3da401fbd62cc2caa5b96d2 54fadb412c4e40cdbaed9335e4c35a9e - - -] [instance: c62f4f25-982c-4ea2-b5e4-93000edfcfbf] Attempting claim: memory 2048 MB, disk 20 GB, vcpus 1 CPU', 'nova.compute.claims [req-01d570b0-78a7-4719-b7a3-429fd7dc5a3f 113d3a99c3da401fbd62cc2caa5b96d2 54fadb412c4e40cdbaed9335e4c35a9e - - -] [instance: d54b44eb-2d1a-4aa2-ba6b-074d35f8f12c] Total memory: 64172 MB, used: 512.00 MB', 'nova.compute.claims [req-d6986b54-3735-4a42-9074-0ba7d9717de9 113d3a99c3da401fbd62cc2caa5b96d2 54fadb412c4e40cdbaed9335e4c35a9e - - -] [instance: af5f7392-f7d4-4298-b647-c98924c64aa1] Attempting claim: memory 2048 MB, disk 20 GB, vcpus 1 CPU', 'nova.compute.claims [req-3d26bc3d-373c-4269-b095-004aab7a9785 113d3a99c3da401fbd62cc2caa5b96d2 54fadb412c4e40cdbaed9335e4c35a9e - - -] [instance: faf974ea-cba5-4e1b-93f4-3a3bc606006f] Total vcpu: 16 VCPU, used: 0.00 VCPU', 'nova.compute.claims [req-6f9ecdfe-481c-4535-9bdc-45d86085d739 113d3a99c3da401fbd62cc2caa5b96d2 54fadb412c4e40cdbaed9335e4c35a9e - - -] [instance: c62f4f25-982c-4ea2-b5e4-93000edfcfbf] disk limit not specified, defaulting to unlimited', 'nova.compute.claims [req-98474cd9-61e1-4afe-bd52-676a577b058f 113d3a99c3da401fbd62cc2caa5b96d2 54fadb412c4e40cdbaed9335e4c35a9e - - -] [instance: 70c1714b-c11b-4c88-b300-239afe1f5ff8] memory limit: 96258.00 MB, free: 95746.00 MB', 'nova.compute.claims [req-72b4858f-049e-49e1-b31e-b562c5018eaf 113d3a99c3da401fbd62cc2caa5b96d2 54fadb412c4e40cdbaed9335e4c35a9e - - -] [instance: 63a0d960-70b6-44c6-b606-491478a5cadf] vcpu limit not specified, defaulting to unlimited', 'nova.compute.claims [req-3d26bc3d-373c-4269-b095-004aab7a9785 113d3a99c3da401fbd62cc2caa5b96d2 54fadb412c4e40cdbaed9335e4c35a9e - - -] [instance: faf974ea-cba5-4e1b-93f4-3a3bc606006f] Total memory: 64172 MB, used: 512.00 MB', 'nova.compute.claims [req-caeb3818-dab6-4e8d-9ea6-aceb23905ebc 113d3a99c3da401fbd62cc2caa5b96d2 54fadb412c4e40cdbaed9335e4c35a9e - - -] [instance: 78dc1847-8848-49cc-933e-9239b12c9dcf] Attempting claim: memory 2048 MB, disk 20 GB, vcpus 1 CPU', 'nova.compute.claims [req-d6986b54-3735-4a42-9074-0ba7d9717de9 113d3a99c3da401fbd62cc2caa5b96d2 54fadb412c4e40cdbaed9335e4c35a9e - - -] [instance: af5f7392-f7d4-4298-b647-c98924c64aa1] Total memory: 64172 MB, used: 512.00 MB', 'nova.compute.claims [req-d82fab16-60f8-4c9f-bde8-f362f57bdd40 113d3a99c3da401fbd62cc2caa5b96d2 54fadb412c4e40cdbaed9335e4c35a9e - - -] [instance: ae3a1b5d-eec1-45bb-b76a-c59d83b1471f] Attempting claim: memory 2048 MB, disk 20 GB, vcpus 1 CPU', 'nova.compute.claims [req-4b4dd551-26d8-48e2-bd52-91793d2157bc 113d3a99c3da401fbd62cc2caa5b96d2 54fadb412c4e40cdbaed9335e4c35a9e - - -] [instance: a015cf14-84bb-4156-a48d-7c4824ac7a9d] Total vcpu: 16 VCPU, used: 0.00 VCPU', 'nova.compute.claims [req-caeb3818-dab6-4e8d-9ea6-aceb23905ebc 113d3a99c3da401fbd62cc2caa5b96d2 54fadb412c4e40cdbaed9335e4c35a9e - - -] [instance: 78dc1847-8848-49cc-933e-9239b12c9dcf] memory limit: 96258.00 MB, free: 95746.00 MB', 'nova.compute.claims [req-6a763803-4838-49c7-814e-eaefbaddee9d 113d3a99c3da401fbd62cc2caa5b96d2 54fadb412c4e40cdbaed9335e4c35a9e - - -] [instance: 96abccce-8d1f-4e07-b6d1-4b2ab87e23b4] Total memory: 64172 MB, used: 512.00 MB', 'nova.compute.claims [req-1162e278-3bf2-4b32-93b5-9c7ec218365e 113d3a99c3da401fbd62cc2caa5b96d2 54fadb412c4e40cdbaed9335e4c35a9e - - -] [instance: fecdd5a9-3ca0-4c82-9336-63b7774f738e] Total disk: 15 GB, used: 0.00 GB', 'nova.compute.claims [req-d82fab16-60f8-4c9f-bde8-f362f57bdd40 113d3a99c3da401fbd62cc2caa5b96d2 54fadb412c4e40cdbaed9335e4c35a9e - - -] [instance: ae3a1b5d-eec1-45bb-b76a-c59d83b1471f] Total disk: 15 GB, used: 0.00 GB', 'nova.compute.claims [req-98474cd9-61e1-4afe-bd52-676a577b058f 113d3a99c3da401fbd62cc2caa5b96d2 54fadb412c4e40cdbaed9335e4c35a9e - - -] [instance: 70c1714b-c11b-4c88-b300-239afe1f5ff8] Attempting claim: memory 2048 MB, disk 20 GB, vcpus 1 CPU', 'nova.compute.claims [req-a07ac654-8e81-416d-bfbb-189116b07969 113d3a99c3da401fbd62cc2caa5b96d2 54fadb412c4e40cdbaed9335e4c35a9e - - -] [instance: bf8c824d-f099-4433-a41e-e3da7578262e] vcpu limit not specified, defaulting to unlimited', 'nova.compute.claims [req-2d658d2c-7eff-414e-a68f-3f1c75c9e874 113d3a99c3da401fbd62cc2caa5b96d2 54fadb412c4e40cdbaed9335e4c35a9e - - -] [instance: 7e7cc42f-3cb9-4d91-804c-f5a32d54f1c5] disk limit not specified, defaulting to unlimited', 'nova.compute.claims [req-6a763803-4838-49c7-814e-eaefbaddee9d 113d3a99c3da401fbd62cc2caa5b96d2 54fadb412c4e40cdbaed9335e4c35a9e - - -] [instance: 96abccce-8d1f-4e07-b6d1-4b2ab87e23b4] vcpu limit not specified, defaulting to unlimited', 'nova.compute.claims [req-afb5ee70-39d1-435e-9bf9-2fc3339c5b5b 113d3a99c3da401fbd62cc2caa5b96d2 54fadb412c4e40cdbaed9335e4c35a9e - - -] [instance: 127e769a-4fe6-4548-93b1-513ac51e0452] vcpu limit not specified, defaulting to unlimited', 'nova.compute.claims [req-2d658d2c-7eff-414e-a68f-3f1c75c9e874 113d3a99c3da401fbd62cc2caa5b96d2 54fadb412c4e40cdbaed9335e4c35a9e - - -] [instance: 7e7cc42f-3cb9-4d91-804c-f5a32d54f1c5] Total memory: 64172 MB, used: 512.00 MB', 'nova.compute.claims [req-868a5460-dbb6-416b-b4c4-a98abae6c847 113d3a99c3da401fbd62cc2caa5b96d2 54fadb412c4e40cdbaed9335e4c35a9e - - -] [instance: 17288ea8-cbf4-4f0e-94fe-853fd2735f29] Total disk: 15 GB, used: 0.00 GB', 'nova.compute.claims [req-98474cd9-61e1-4afe-bd52-676a577b058f 113d3a99c3da401fbd62cc2caa5b96d2 54fadb412c4e40cdbaed9335e4c35a9e - - -] [instance: 70c1714b-c11b-4c88-b300-239afe1f5ff8] disk limit not specified, defaulting to unlimited', 'nova.compute.claims [req-5c8f52bd-8e3c-41f0-95a5-7861d247cafa 113d3a99c3da401fbd62cc2caa5b96d2 54fadb412c4e40cdbaed9335e4c35a9e - - -] [instance: d96a117b-0193-4549-bdcc-63b917273d1d] Total memory: 64172 MB, used: 512.00 MB', 'nova.compute.claims [req-868a5460-dbb6-416b-b4c4-a98abae6c847 113d3a99c3da401fbd62cc2caa5b96d2 54fadb412c4e40cdbaed9335e4c35a9e - - -] [instance: 17288ea8-cbf4-4f0e-94fe-853fd2735f29] Total memory: 64172 MB, used: 512.00 MB', 'nova.compute.claims [req-868a5460-dbb6-416b-b4c4-a98abae6c847 113d3a99c3da401fbd62cc2caa5b96d2 54fadb412c4e40cdbaed9335e4c35a9e - - -] [instance: 17288ea8-cbf4-4f0e-94fe-853fd2735f29] vcpu limit not specified, defaulting to unlimited', 'nova.compute.claims [req-d38f479d-9bb9-4276-9688-52607e8fd350 113d3a99c3da401fbd62cc2caa5b96d2 54fadb412c4e40cdbaed9335e4c35a9e - - -] [instance: 95960536-049b-41f6-9049-05fc479b6a7c] memory limit: 96258.00 MB, free: 95746.00 MB', 'nova.compute.claims [req-caeb3818-dab6-4e8d-9ea6-aceb23905ebc 113d3a99c3da401fbd62cc2caa5b96d2 54fadb412c4e40cdbaed9335e4c35a9e - - -] [instance: 78dc1847-8848-49cc-933e-9239b12c9dcf] Total disk: 15 GB, used: 0.00 GB', 'nova.compute.claims [req-97fcea79-42f7-4241-9b9e-63fe193c1929 113d3a99c3da401fbd62cc2caa5b96d2 54fadb412c4e40cdbaed9335e4c35a9e - - -] [instance: b562ef10-ba2d-48ae-bf4a-18666cba4a51] Total disk: 15 GB, used: 0.00 GB', 'nova.compute.claims [req-d6986b54-3735-4a42-9074-0ba7d9717de9 113d3a99c3da401fbd62cc2caa5b96d2 54fadb412c4e40cdbaed9335e4c35a9e - - -] [instance: af5f7392-f7d4-4298-b647-c98924c64aa1] disk limit not specified, defaulting to unlimited', 'nova.compute.claims [req-afb5ee70-39d1-435e-9bf9-2fc3339c5b5b 113d3a99c3da401fbd62cc2caa5b96d2 54fadb412c4e40cdbaed9335e4c35a9e - - -] [instance: 127e769a-4fe6-4548-93b1-513ac51e0452] memory limit: 96258.00 MB, free: 95746.00 MB', 'nova.compute.claims [req-2d658d2c-7eff-414e-a68f-3f1c75c9e874 113d3a99c3da401fbd62cc2caa5b96d2 54fadb412c4e40cdbaed9335e4c35a9e - - -] [instance: 7e7cc42f-3cb9-4d91-804c-f5a32d54f1c5] memory limit: 96258.00 MB, free: 95746.00 MB', 'nova.compute.claims [req-3d26bc3d-373c-4269-b095-004aab7a9785 113d3a99c3da401fbd62cc2caa5b96d2 54fadb412c4e40cdbaed9335e4c35a9e - - -] [instance: faf974ea-cba5-4e1b-93f4-3a3bc606006f] Total disk: 15 GB, used: 0.00 GB', 'nova.compute.claims [req-97fcea79-42f7-4241-9b9e-63fe193c1929 113d3a99c3da401fbd62cc2caa5b96d2 54fadb412c4e40cdbaed9335e4c35a9e - - -] [instance: b562ef10-ba2d-48ae-bf4a-18666cba4a51] vcpu limit not specified, defaulting to unlimited', 'nova.compute.claims [req-1162e278-3bf2-4b32-93b5-9c7ec218365e 113d3a99c3da401fbd62cc2caa5b96d2 54fadb412c4e40cdbaed9335e4c35a9e - - -] [instance: fecdd5a9-3ca0-4c82-9336-63b7774f738e] vcpu limit not specified, defaulting to unlimited', 'nova.compute.claims [req-beb938db-df6e-4611-8113-1a148a0224bc 113d3a99c3da401fbd62cc2caa5b96d2 54fadb412c4e40cdbaed9335e4c35a9e - - -] [instance: d6b7bd36-2943-4363-9235-fffdd89ea40e] vcpu limit not specified, defaulting to unlimited', 'nova.compute.claims [req-01d570b0-78a7-4719-b7a3-429fd7dc5a3f 113d3a99c3da401fbd62cc2caa5b96d2 54fadb412c4e40cdbaed9335e4c35a9e - - -] [instance: d54b44eb-2d1a-4aa2-ba6b-074d35f8f12c] Attempting claim: memory 2048 MB, disk 20 GB, vcpus 1 CPU', 'nova.compute.claims [req-97fcea79-42f7-4241-9b9e-63fe193c1929 113d3a99c3da401fbd62cc2caa5b96d2 54fadb412c4e40cdbaed9335e4c35a9e - - -] [instance: b562ef10-ba2d-48ae-bf4a-18666cba4a51] Attempting claim: memory 2048 MB, disk 20 GB, vcpus 1 CPU', 'nova.compute.claims [req-6a763803-4838-49c7-814e-eaefbaddee9d 113d3a99c3da401fbd62cc2caa5b96d2 54fadb412c4e40cdbaed9335e4c35a9e - - -] [instance: 96abccce-8d1f-4e07-b6d1-4b2ab87e23b4] Total disk: 15 GB, used: 0.00 GB', 'nova.compute.claims [req-beb938db-df6e-4611-8113-1a148a0224bc 113d3a99c3da401fbd62cc2caa5b96d2 54fadb412c4e40cdbaed9335e4c35a9e - - -] [instance: d6b7bd36-2943-4363-9235-fffdd89ea40e] Total memory: 64172 MB, used: 512.00 MB', 'nova.compute.claims [req-d82fab16-60f8-4c9f-bde8-f362f57bdd40 113d3a99c3da401fbd62cc2caa5b96d2 54fadb412c4e40cdbaed9335e4c35a9e - - -] [instance: ae3a1b5d-eec1-45bb-b76a-c59d83b1471f] Total memory: 64172 MB, used: 512.00 MB', 'nova.compute.claims [req-afb5ee70-39d1-435e-9bf9-2fc3339c5b5b 113d3a99c3da401fbd62cc2caa5b96d2 54fadb412c4e40cdbaed9335e4c35a9e - - -] [instance: 127e769a-4fe6-4548-93b1-513ac51e0452] Total vcpu: 16 VCPU, used: 0.00 VCPU', 'nova.compute.claims [req-a07ac654-8e81-416d-bfbb-189116b07969 113d3a99c3da401fbd62cc2caa5b96d2 54fadb412c4e40cdbaed9335e4c35a9e - - -] [instance: bf8c824d-f099-4433-a41e-e3da7578262e] Total disk: 15 GB, used: 0.00 GB', 'nova.compute.claims [req-a07ac654-8e81-416d-bfbb-189116b07969 113d3a99c3da401fbd62cc2caa5b96d2 54fadb412c4e40cdbaed9335e4c35a9e - - -] [instance: bf8c824d-f099-4433-a41e-e3da7578262e] memory limit: 96258.00 MB, free: 95746.00 MB', 'nova.compute.claims [req-6a763803-4838-49c7-814e-eaefbaddee9d 113d3a99c3da401fbd62cc2caa5b96d2 54fadb412c4e40cdbaed9335e4c35a9e - - -] [instance: 96abccce-8d1f-4e07-b6d1-4b2ab87e23b4] Total vcpu: 16 VCPU, used: 0.00 VCPU', 'nova.compute.claims [req-98474cd9-61e1-4afe-bd52-676a577b058f 113d3a99c3da401fbd62cc2caa5b96d2 54fadb412c4e40cdbaed9335e4c35a9e - - -] [instance: 70c1714b-c11b-4c88-b300-239afe1f5ff8] Total vcpu: 16 VCPU, used: 0.00 VCPU', 'nova.compute.claims [req-97fcea79-42f7-4241-9b9e-63fe193c1929 113d3a99c3da401fbd62cc2caa5b96d2 54fadb412c4e40cdbaed9335e4c35a9e - - -] [instance: b562ef10-ba2d-48ae-bf4a-18666cba4a51] Total vcpu: 16 VCPU, used: 0.00 VCPU', 'nova.compute.claims [req-6a763803-4838-49c7-814e-eaefbaddee9d 113d3a99c3da401fbd62cc2caa5b96d2 54fadb412c4e40cdbaed9335e4c35a9e - - -] [instance: 96abccce-8d1f-4e07-b6d1-4b2ab87e23b4] memory limit: 96258.00 MB, free: 95746.00 MB', 'nova.compute.claims [req-a07ac654-8e81-416d-bfbb-189116b07969 113d3a99c3da401fbd62cc2caa5b96d2 54fadb412c4e40cdbaed9335e4c35a9e - - -] [instance: bf8c824d-f099-4433-a41e-e3da7578262e] Total vcpu: 16 VCPU, used: 0.00 VCPU', 'nova.compute.claims [req-4b4dd551-26d8-48e2-bd52-91793d2157bc 113d3a99c3da401fbd62cc2caa5b96d2 54fadb412c4e40cdbaed9335e4c35a9e - - -] [instance: a015cf14-84bb-4156-a48d-7c4824ac7a9d] disk limit not specified, defaulting to unlimited', 'nova.compute.claims [req-9118475d-6e72-48fa-9dee-e6b7d957dcd6 113d3a99c3da401fbd62cc2caa5b96d2 54fadb412c4e40cdbaed9335e4c35a9e - - -] [instance: be793e89-2cc3-4f99-9884-9c6a624a84bc] Total disk: 15 GB, used: 0.00 GB', 'nova.compute.claims [req-afb5ee70-39d1-435e-9bf9-2fc3339c5b5b 113d3a99c3da401fbd62cc2caa5b96d2 54fadb412c4e40cdbaed9335e4c35a9e - - -] [instance: 127e769a-4fe6-4548-93b1-513ac51e0452] Attempting claim: memory 2048 MB, disk 20 GB, vcpus 1 CPU', 'nova.compute.claims [req-d38f479d-9bb9-4276-9688-52607e8fd350 113d3a99c3da401fbd62cc2caa5b96d2 54fadb412c4e40cdbaed9335e4c35a9e - - -] [instance: 95960536-049b-41f6-9049-05fc479b6a7c] Total vcpu: 16 VCPU, used: 0.00 VCPU', 'nova.compute.claims [req-9118475d-6e72-48fa-9dee-e6b7d957dcd6 113d3a99c3da401fbd62cc2caa5b96d2 54fadb412c4e40cdbaed9335e4c35a9e - - -] [instance: be793e89-2cc3-4f99-9884-9c6a624a84bc] vcpu limit not specified, defaulting to unlimited', 'nova.compute.claims [req-6f9ecdfe-481c-4535-9bdc-45d86085d739 113d3a99c3da401fbd62cc2caa5b96d2 54fadb412c4e40cdbaed9335e4c35a9e - - -] [instance: c62f4f25-982c-4ea2-b5e4-93000edfcfbf] Total disk: 15 GB, used: 0.00 GB', 'nova.compute.claims [req-5c8f52bd-8e3c-41f0-95a5-7861d247cafa 113d3a99c3da401fbd62cc2caa5b96d2 54fadb412c4e40cdbaed9335e4c35a9e - - -] [instance: d96a117b-0193-4549-bdcc-63b917273d1d] Attempting claim: memory 2048 MB, disk 20 GB, vcpus 1 CPU', 'nova.compute.claims [req-9118475d-6e72-48fa-9dee-e6b7d957dcd6 113d3a99c3da401fbd62cc2caa5b96d2 54fadb412c4e40cdbaed9335e4c35a9e - - -] [instance: be793e89-2cc3-4f99-9884-9c6a624a84bc] disk limit not specified, defaulting to unlimited', 'nova.compute.claims [req-afb5ee70-39d1-435e-9bf9-2fc3339c5b5b 113d3a99c3da401fbd62cc2caa5b96d2 54fadb412c4e40cdbaed9335e4c35a9e - - -] [instance: 127e769a-4fe6-4548-93b1-513ac51e0452] Total disk: 15 GB, used: 0.00 GB', 'nova.compute.claims [req-5c8f52bd-8e3c-41f0-95a5-7861d247cafa 113d3a99c3da401fbd62cc2caa5b96d2 54fadb412c4e40cdbaed9335e4c35a9e - - -] [instance: d96a117b-0193-4549-bdcc-63b917273d1d] disk limit not specified, defaulting to unlimited', 'nova.compute.claims [req-72b4858f-049e-49e1-b31e-b562c5018eaf 113d3a99c3da401fbd62cc2caa5b96d2 54fadb412c4e40cdbaed9335e4c35a9e - - -] [instance: 63a0d960-70b6-44c6-b606-491478a5cadf] Attempting claim: memory 2048 MB, disk 20 GB, vcpus 1 CPU', 'nova.compute.claims [req-5c8f52bd-8e3c-41f0-95a5-7861d247cafa 113d3a99c3da401fbd62cc2caa5b96d2 54fadb412c4e40cdbaed9335e4c35a9e - - -] [instance: d96a117b-0193-4549-bdcc-63b917273d1d] memory limit: 96258.00 MB, free: 95746.00 MB', 'nova.compute.claims [req-97fcea79-42f7-4241-9b9e-63fe193c1929 113d3a99c3da401fbd62cc2caa5b96d2 54fadb412c4e40cdbaed9335e4c35a9e - - -] [instance: b562ef10-ba2d-48ae-bf4a-18666cba4a51] Total memory: 64172 MB, used: 512.00 MB', 'nova.compute.claims [req-beb938db-df6e-4611-8113-1a148a0224bc 113d3a99c3da401fbd62cc2caa5b96d2 54fadb412c4e40cdbaed9335e4c35a9e - - -] [instance: d6b7bd36-2943-4363-9235-fffdd89ea40e] memory limit: 96258.00 MB, free: 95746.00 MB', 'nova.compute.claims [req-1162e278-3bf2-4b32-93b5-9c7ec218365e 113d3a99c3da401fbd62cc2caa5b96d2 54fadb412c4e40cdbaed9335e4c35a9e - - -] [instance: fecdd5a9-3ca0-4c82-9336-63b7774f738e] Total memory: 64172 MB, used: 512.00 MB', 'nova.compute.claims [req-d6986b54-3735-4a42-9074-0ba7d9717de9 113d3a99c3da401fbd62cc2caa5b96d2 54fadb412c4e40cdbaed9335e4c35a9e - - -] [instance: af5f7392-f7d4-4298-b647-c98924c64aa1] vcpu limit not specified, defaulting to unlimited', 'nova.compute.claims [req-29a09cdb-3169-4c40-8bd1-552636286362 113d3a99c3da401fbd62cc2caa5b96d2 54fadb412c4e40cdbaed9335e4c35a9e - - -] [instance: 43204226-2f87-4da7-b7ee-4d20cc66e846] vcpu limit not specified, defaulting to unlimited', 'nova.compute.claims [req-d6986b54-3735-4a42-9074-0ba7d9717de9 113d3a99c3da401fbd62cc2caa5b96d2 54fadb412c4e40cdbaed9335e4c35a9e - - -] [instance: af5f7392-f7d4-4298-b647-c98924c64aa1] Total disk: 15 GB, used: 0.00 GB', 'nova.compute.claims [req-29a09cdb-3169-4c40-8bd1-552636286362 113d3a99c3da401fbd62cc2caa5b96d2 54fadb412c4e40cdbaed9335e4c35a9e - - -] [instance: 43204226-2f87-4da7-b7ee-4d20cc66e846] Total memory: 64172 MB, used: 512.00 MB', 'nova.compute.claims [req-868a5460-dbb6-416b-b4c4-a98abae6c847 113d3a99c3da401fbd62cc2caa5b96d2 54fadb412c4e40cdbaed9335e4c35a9e - - -] [instance: 17288ea8-cbf4-4f0e-94fe-853fd2735f29] disk limit not specified, defaulting to unlimited', 'nova.compute.claims [req-9118475d-6e72-48fa-9dee-e6b7d957dcd6 113d3a99c3da401fbd62cc2caa5b96d2 54fadb412c4e40cdbaed9335e4c35a9e - - -] [instance: be793e89-2cc3-4f99-9884-9c6a624a84bc] memory limit: 96258.00 MB, free: 95746.00 MB', 'nova.compute.claims [req-01d570b0-78a7-4719-b7a3-429fd7dc5a3f 113d3a99c3da401fbd62cc2caa5b96d2 54fadb412c4e40cdbaed9335e4c35a9e - - -] [instance: d54b44eb-2d1a-4aa2-ba6b-074d35f8f12c] Total disk: 15 GB, used: 0.00 GB', 'nova.compute.claims [req-2d658d2c-7eff-414e-a68f-3f1c75c9e874 113d3a99c3da401fbd62cc2caa5b96d2 54fadb412c4e40cdbaed9335e4c35a9e - - -] [instance: 7e7cc42f-3cb9-4d91-804c-f5a32d54f1c5] Total vcpu: 16 VCPU, used: 0.00 VCPU', 'nova.compute.claims [req-beb938db-df6e-4611-8113-1a148a0224bc 113d3a99c3da401fbd62cc2caa5b96d2 54fadb412c4e40cdbaed9335e4c35a9e - - -] [instance: d6b7bd36-2943-4363-9235-fffdd89ea40e] disk limit not specified, defaulting to unlimited', 'nova.compute.claims [req-d82fab16-60f8-4c9f-bde8-f362f57bdd40 113d3a99c3da401fbd62cc2caa5b96d2 54fadb412c4e40cdbaed9335e4c35a9e - - -] [instance: ae3a1b5d-eec1-45bb-b76a-c59d83b1471f] disk limit not specified, defaulting to unlimited', 'nova.compute.claims [req-1162e278-3bf2-4b32-93b5-9c7ec218365e 113d3a99c3da401fbd62cc2caa5b96d2 54fadb412c4e40cdbaed9335e4c35a9e - - -] [instance: fecdd5a9-3ca0-4c82-9336-63b7774f738e] Total vcpu: 16 VCPU, used: 0.00 VCPU', 'nova.compute.claims [req-29a09cdb-3169-4c40-8bd1-552636286362 113d3a99c3da401fbd62cc2caa5b96d2 54fadb412c4e40cdbaed9335e4c35a9e - - -] [instance: 43204226-2f87-4da7-b7ee-4d20cc66e846] disk limit not specified, defaulting to unlimited', 'nova.compute.claims [req-5c8f52bd-8e3c-41f0-95a5-7861d247cafa 113d3a99c3da401fbd62cc2caa5b96d2 54fadb412c4e40cdbaed9335e4c35a9e - - -] [instance: d96a117b-0193-4549-bdcc-63b917273d1d] Total disk: 15 GB, used: 0.00 GB', 'nova.compute.claims [req-1162e278-3bf2-4b32-93b5-9c7ec218365e 113d3a99c3da401fbd62cc2caa5b96d2 54fadb412c4e40cdbaed9335e4c35a9e - - -] [instance: fecdd5a9-3ca0-4c82-9336-63b7774f738e] memory limit: 96258.00 MB, free: 95746.00 MB', 'nova.compute.claims [req-d6986b54-3735-4a42-9074-0ba7d9717de9 113d3a99c3da401fbd62cc2caa5b96d2 54fadb412c4e40cdbaed9335e4c35a9e - - -] [instance: af5f7392-f7d4-4298-b647-c98924c64aa1] Total vcpu: 16 VCPU, used: 0.00 VCPU', 'nova.compute.claims [req-98474cd9-61e1-4afe-bd52-676a577b058f 113d3a99c3da401fbd62cc2caa5b96d2 54fadb412c4e40cdbaed9335e4c35a9e - - -] [instance: 70c1714b-c11b-4c88-b300-239afe1f5ff8] Total memory: 64172 MB, used: 512.00 MB', 'nova.compute.claims [req-afb5ee70-39d1-435e-9bf9-2fc3339c5b5b 113d3a99c3da401fbd62cc2caa5b96d2 54fadb412c4e40cdbaed9335e4c35a9e - - -] [instance: 127e769a-4fe6-4548-93b1-513ac51e0452] Total memory: 64172 MB, used: 512.00 MB', 'nova.compute.claims [req-beb938db-df6e-4611-8113-1a148a0224bc 113d3a99c3da401fbd62cc2caa5b96d2 54fadb412c4e40cdbaed9335e4c35a9e - - -] [instance: d6b7bd36-2943-4363-9235-fffdd89ea40e] Attempting claim: memory 2048 MB, disk 20 GB, vcpus 1 CPU', 'nova.compute.claims [req-97fcea79-42f7-4241-9b9e-63fe193c1929 113d3a99c3da401fbd62cc2caa5b96d2 54fadb412c4e40cdbaed9335e4c35a9e - - -] [instance: b562ef10-ba2d-48ae-bf4a-18666cba4a51] memory limit: 96258.00 MB, free: 95746.00 MB', 'nova.compute.claims [req-29a09cdb-3169-4c40-8bd1-552636286362 113d3a99c3da401fbd62cc2caa5b96d2 54fadb412c4e40cdbaed9335e4c35a9e - - -] [instance: 43204226-2f87-4da7-b7ee-4d20cc66e846] Total disk: 15 GB, used: 0.00 GB', 'nova.compute.claims [req-2d658d2c-7eff-414e-a68f-3f1c75c9e874 113d3a99c3da401fbd62cc2caa5b96d2 54fadb412c4e40cdbaed9335e4c35a9e - - -] [instance: 7e7cc42f-3cb9-4d91-804c-f5a32d54f1c5] vcpu limit not specified, defaulting to unlimited', 'nova.compute.claims [req-4b4dd551-26d8-48e2-bd52-91793d2157bc 113d3a99c3da401fbd62cc2caa5b96d2 54fadb412c4e40cdbaed9335e4c35a9e - - -] [instance: a015cf14-84bb-4156-a48d-7c4824ac7a9d] memory limit: 96258.00 MB, free: 95746.00 MB', 'nova.compute.claims [req-72b4858f-049e-49e1-b31e-b562c5018eaf 113d3a99c3da401fbd62cc2caa5b96d2 54fadb412c4e40cdbaed9335e4c35a9e - - -] [instance: 63a0d960-70b6-44c6-b606-491478a5cadf] memory limit: 96258.00 MB, free: 95746.00 MB', 'nova.compute.claims [req-beb938db-df6e-4611-8113-1a148a0224bc 113d3a99c3da401fbd62cc2caa5b96d2 54fadb412c4e40cdbaed9335e4c35a9e - - -] [instance: d6b7bd36-2943-4363-9235-fffdd89ea40e] Total vcpu: 16 VCPU, used: 0.00 VCPU', 'nova.compute.claims [req-6a763803-4838-49c7-814e-eaefbaddee9d 113d3a99c3da401fbd62cc2caa5b96d2 54fadb412c4e40cdbaed9335e4c35a9e - - -] [instance: 96abccce-8d1f-4e07-b6d1-4b2ab87e23b4] Attempting claim: memory 2048 MB, disk 20 GB, vcpus 1 CPU', 'nova.compute.claims [req-3d26bc3d-373c-4269-b095-004aab7a9785 113d3a99c3da401fbd62cc2caa5b96d2 54fadb412c4e40cdbaed9335e4c35a9e - - -] [instance: faf974ea-cba5-4e1b-93f4-3a3bc606006f] memory limit: 96258.00 MB, free: 95746.00 MB', 'nova.compute.claims [req-4b4dd551-26d8-48e2-bd52-91793d2157bc 113d3a99c3da401fbd62cc2caa5b96d2 54fadb412c4e40cdbaed9335e4c35a9e - - -] [instance: a015cf14-84bb-4156-a48d-7c4824ac7a9d] Attempting claim: memory 2048 MB, disk 20 GB, vcpus 1 CPU', 'nova.compute.claims [req-d38f479d-9bb9-4276-9688-52607e8fd350 113d3a99c3da401fbd62cc2caa5b96d2 54fadb412c4e40cdbaed9335e4c35a9e - - -] [instance: 95960536-049b-41f6-9049-05fc479b6a7c] vcpu limit not specified, defaulting to unlimited', 'nova.compute.claims [req-72b4858f-049e-49e1-b31e-b562c5018eaf 113d3a99c3da401fbd62cc2caa5b96d2 54fadb412c4e40cdbaed9335e4c35a9e - - -] [instance: 63a0d960-70b6-44c6-b606-491478a5cadf] Total disk: 15 GB, used: 0.00 GB', 'nova.compute.claims [req-868a5460-dbb6-416b-b4c4-a98abae6c847 113d3a99c3da401fbd62cc2caa5b96d2 54fadb412c4e40cdbaed9335e4c35a9e - - -] [instance: 17288ea8-cbf4-4f0e-94fe-853fd2735f29] Attempting claim: memory 2048 MB, disk 20 GB, vcpus 1 CPU', 'nova.compute.claims [req-5c8f52bd-8e3c-41f0-95a5-7861d247cafa 113d3a99c3da401fbd62cc2caa5b96d2 54fadb412c4e40cdbaed9335e4c35a9e - - -] [instance: d96a117b-0193-4549-bdcc-63b917273d1d] Total vcpu: 16 VCPU, used: 0.00 VCPU', 'nova.compute.claims [req-beb938db-df6e-4611-8113-1a148a0224bc 113d3a99c3da401fbd62cc2caa5b96d2 54fadb412c4e40cdbaed9335e4c35a9e - - -] [instance: d6b7bd36-2943-4363-9235-fffdd89ea40e] Total disk: 15 GB, used: 0.00 GB', 'nova.compute.claims [req-3d26bc3d-373c-4269-b095-004aab7a9785 113d3a99c3da401fbd62cc2caa5b96d2 54fadb412c4e40cdbaed9335e4c35a9e - - -] [instance: faf974ea-cba5-4e1b-93f4-3a3bc606006f] vcpu limit not specified, defaulting to unlimited', 'nova.compute.claims [req-868a5460-dbb6-416b-b4c4-a98abae6c847 113d3a99c3da401fbd62cc2caa5b96d2 54fadb412c4e40cdbaed9335e4c35a9e - - -] [instance: 17288ea8-cbf4-4f0e-94fe-853fd2735f29] memory limit: 96258.00 MB, free: 95746.00 MB', 'nova.compute.claims [req-d38f479d-9bb9-4276-9688-52607e8fd350 113d3a99c3da401fbd62cc2caa5b96d2 54fadb412c4e40cdbaed9335e4c35a9e - - -] [instance: 95960536-049b-41f6-9049-05fc479b6a7c] Total disk: 15 GB, used: 0.00 GB', 'nova.compute.claims [req-caeb3818-dab6-4e8d-9ea6-aceb23905ebc 113d3a99c3da401fbd62cc2caa5b96d2 54fadb412c4e40cdbaed9335e4c35a9e - - -] [instance: 78dc1847-8848-49cc-933e-9239b12c9dcf] disk limit not specified, defaulting to unlimited', 'nova.compute.claims [req-3d26bc3d-373c-4269-b095-004aab7a9785 113d3a99c3da401fbd62cc2caa5b96d2 54fadb412c4e40cdbaed9335e4c35a9e - - -] [instance: faf974ea-cba5-4e1b-93f4-3a3bc606006f] disk limit not specified, defaulting to unlimited', 'nova.compute.claims [req-29a09cdb-3169-4c40-8bd1-552636286362 113d3a99c3da401fbd62cc2caa5b96d2 54fadb412c4e40cdbaed9335e4c35a9e - - -] [instance: 43204226-2f87-4da7-b7ee-4d20cc66e846] memory limit: 96258.00 MB, free: 95746.00 MB', 'nova.compute.claims [req-6f9ecdfe-481c-4535-9bdc-45d86085d739 113d3a99c3da401fbd62cc2caa5b96d2 54fadb412c4e40cdbaed9335e4c35a9e - - -] [instance: c62f4f25-982c-4ea2-b5e4-93000edfcfbf] memory limit: 96258.00 MB, free: 95746.00 MB', 'nova.compute.claims [req-afb5ee70-39d1-435e-9bf9-2fc3339c5b5b 113d3a99c3da401fbd62cc2caa5b96d2 54fadb412c4e40cdbaed9335e4c35a9e - - -] [instance: 127e769a-4fe6-4548-93b1-513ac51e0452] disk limit not specified, defaulting to unlimited', 'nova.compute.claims [req-72b4858f-049e-49e1-b31e-b562c5018eaf 113d3a99c3da401fbd62cc2caa5b96d2 54fadb412c4e40cdbaed9335e4c35a9e - - -] [instance: 63a0d960-70b6-44c6-b606-491478a5cadf] Total memory: 64172 MB, used: 512.00 MB', 'nova.compute.claims [req-6f9ecdfe-481c-4535-9bdc-45d86085d739 113d3a99c3da401fbd62cc2caa5b96d2 54fadb412c4e40cdbaed9335e4c35a9e - - -] [instance: c62f4f25-982c-4ea2-b5e4-93000edfcfbf] Total vcpu: 16 VCPU, used: 0.00 VCPU', 'nova.compute.claims [req-caeb3818-dab6-4e8d-9ea6-aceb23905ebc 113d3a99c3da401fbd62cc2caa5b96d2 54fadb412c4e40cdbaed9335e4c35a9e - - -] [instance: 78dc1847-8848-49cc-933e-9239b12c9dcf] Total vcpu: 16 VCPU, used: 0.00 VCPU', 'nova.compute.claims [req-9118475d-6e72-48fa-9dee-e6b7d957dcd6 113d3a99c3da401fbd62cc2caa5b96d2 54fadb412c4e40cdbaed9335e4c35a9e - - -] [instance: be793e89-2cc3-4f99-9884-9c6a624a84bc] Total vcpu: 16 VCPU, used: 0.00 VCPU', 'nova.compute.claims [req-d38f479d-9bb9-4276-9688-52607e8fd350 113d3a99c3da401fbd62cc2caa5b96d2 54fadb412c4e40cdbaed9335e4c35a9e - - -] [instance: 95960536-049b-41f6-9049-05fc479b6a7c] Total memory: 64172 MB, used: 512.00 MB', 'nova.compute.claims [req-1162e278-3bf2-4b32-93b5-9c7ec218365e 113d3a99c3da401fbd62cc2caa5b96d2 54fadb412c4e40cdbaed9335e4c35a9e - - -] [instance: fecdd5a9-3ca0-4c82-9336-63b7774f738e] Attempting claim: memory 2048 MB, disk 20 GB, vcpus 1 CPU', 'nova.compute.claims [req-1162e278-3bf2-4b32-93b5-9c7ec218365e 113d3a99c3da401fbd62cc2caa5b96d2 54fadb412c4e40cdbaed9335e4c35a9e - - -] [instance: fecdd5a9-3ca0-4c82-9336-63b7774f738e] disk limit not specified, defaulting to unlimited', 'nova.compute.claims [req-98474cd9-61e1-4afe-bd52-676a577b058f 113d3a99c3da401fbd62cc2caa5b96d2 54fadb412c4e40cdbaed9335e4c35a9e - - -] [instance: 70c1714b-c11b-4c88-b300-239afe1f5ff8] vcpu limit not specified, defaulting to unlimited', 'nova.compute.claims [req-2d658d2c-7eff-414e-a68f-3f1c75c9e874 113d3a99c3da401fbd62cc2caa5b96d2 54fadb412c4e40cdbaed9335e4c35a9e - - -] [instance: 7e7cc42f-3cb9-4d91-804c-f5a32d54f1c5] Attempting claim: memory 2048 MB, disk 20 GB, vcpus 1 CPU', 'nova.compute.claims [req-72b4858f-049e-49e1-b31e-b562c5018eaf 113d3a99c3da401fbd62cc2caa5b96d2 54fadb412c4e40cdbaed9335e4c35a9e - - -] [instance: 63a0d960-70b6-44c6-b606-491478a5cadf] Total vcpu: 16 VCPU, used: 0.00 VCPU', 'nova.compute.claims [req-d38f479d-9bb9-4276-9688-52607e8fd350 113d3a99c3da401fbd62cc2caa5b96d2 54fadb412c4e40cdbaed9335e4c35a9e - - -] [instance: 95960536-049b-41f6-9049-05fc479b6a7c] Attempting claim: memory 2048 MB, disk 20 GB, vcpus 1 CPU', 'nova.compute.claims [req-97fcea79-42f7-4241-9b9e-63fe193c1929 113d3a99c3da401fbd62cc2caa5b96d2 54fadb412c4e40cdbaed9335e4c35a9e - - -] [instance: b562ef10-ba2d-48ae-bf4a-18666cba4a51] disk limit not specified, defaulting to unlimited', 'nova.compute.claims [req-caeb3818-dab6-4e8d-9ea6-aceb23905ebc 113d3a99c3da401fbd62cc2caa5b96d2 54fadb412c4e40cdbaed9335e4c35a9e - - -] [instance: 78dc1847-8848-49cc-933e-9239b12c9dcf] vcpu limit not specified, defaulting to unlimited', 'nova.compute.claims [req-98474cd9-61e1-4afe-bd52-676a577b058f 113d3a99c3da401fbd62cc2caa5b96d2 54fadb412c4e40cdbaed9335e4c35a9e - - -] [instance: 70c1714b-c11b-4c88-b300-239afe1f5ff8] Total disk: 15 GB, used: 0.00 GB', 'nova.compute.claims [req-6f9ecdfe-481c-4535-9bdc-45d86085d739 113d3a99c3da401fbd62cc2caa5b96d2 54fadb412c4e40cdbaed9335e4c35a9e - - -] [instance: c62f4f25-982c-4ea2-b5e4-93000edfcfbf] vcpu limit not specified, defaulting to unlimited', 'nova.compute.claims [req-01d570b0-78a7-4719-b7a3-429fd7dc5a3f 113d3a99c3da401fbd62cc2caa5b96d2 54fadb412c4e40cdbaed9335e4c35a9e - - -] [instance: d54b44eb-2d1a-4aa2-ba6b-074d35f8f12c] Total vcpu: 16 VCPU, used: 0.00 VCPU']\n",
      "\n",
      "\n",
      "Cluster 11:\n",
      "['User User685 logged out.', 'User User395 logged in.', 'User User225 logged in.', 'User User494 logged out.', 'User User900 logged in.', 'User User272 logged out.', 'User User706 logged out.', 'User User881 logged out.', 'User User313 logged out.', 'User User641 logged out.', 'User User799 logged in.', 'User User496 logged in.', 'User User617 logged in.', 'User User907 logged out.', 'User User634 logged in.', 'User User231 logged out.', 'User User699 logged in.', 'User User842 logged out.', 'User User547 logged in.', 'User User846 logged in.', 'User User838 logged out.', 'User User132 logged in.', 'User User187 logged in.', 'User User822 logged out.', 'User User950 logged out.', 'User User247 logged in.', 'User User344 logged out.', 'User User402 logged out.', 'User User167 logged in.', 'User User919 logged out.', 'User User784 logged out.', 'User User448 logged in.', 'User User867 logged out.', 'User User975 logged out.', 'User User238 logged out.', 'User User948 logged out.', 'User User308 logged in.', 'User User375 logged in.', 'User User175 logged out.', 'User User687 logged out.', 'User User127 logged out.', 'User User495 logged out.', 'User User703 logged out.', 'User User764 logged out.', 'User User948 logged in.', 'User User585 logged in.', 'User User387 logged in.', 'User User455 logged out.', 'User User246 logged out.', 'User User640 logged out.', 'User User916 logged in.', 'User User844 logged out.', 'User User459 logged out.', 'User User125 logged out.', 'User User818 logged out.', 'User User927 logged in.', 'User User905 logged in.', 'User User771 logged out.', 'User User409 logged out.', 'User User930 logged in.', 'User User839 logged out.', 'User User234 logged in.', 'User User541 logged in.', 'User User169 logged in.', 'User User241 logged in.', 'User User970 logged in.', 'User User622 logged in.', 'User User275 logged out.', 'User User413 logged in.', 'User User860 logged in.', 'User User186 logged out.', 'User User164 logged in.', 'User User777 logged out.', 'User User745 logged in.', 'User User762 logged out.', 'User User883 logged out.', 'User User354 logged in.', 'User User966 logged out.', 'User User847 logged out.', 'User User871 logged in.', 'User User117 logged out.', 'User User639 logged out.', 'User User834 logged in.', 'User User917 logged out.', 'User User587 logged out.', 'User User502 logged out.', 'User User303 logged out.', 'User User904 logged out.', 'User User827 logged in.', 'User User617 logged in.', 'User User569 logged out.', 'User User272 logged in.', 'User User522 logged in.', 'User User596 logged out.', 'User User399 logged in.', 'User User495 logged in.', 'User User429 logged out.', 'User User755 logged out.', 'User User882 logged out.', 'User User536 logged in.']\n",
      "\n",
      "\n",
      "Cluster 13:\n",
      "['Backup started at 2025-05-14 07:06:55.', 'Backup started at 2025-02-15 20:00:19.', 'Backup ended at 2025-08-08 13:06:23.', 'Backup started at 2025-11-14 08:27:43.', 'Backup started at 2025-12-09 10:19:11.', 'Backup started at 2025-01-15 04:36:39.', 'Backup started at 2025-08-29 15:17:18.', 'Backup ended at 2025-06-01 06:27:38.', 'Backup ended at 2025-11-16 08:17:13.', 'Backup ended at 2025-07-18 17:06:54.', 'Backup ended at 2025-08-18 14:29:26.', 'Backup ended at 2025-02-21 07:53:56.', 'Backup ended at 2025-08-22 14:11:44.', 'Backup started at 2025-10-12 10:35:15.', 'Backup ended at 2025-08-08 14:14:05.', 'Backup started at 2025-04-19 23:43:04.', 'Backup ended at 2025-04-16 05:59:10.', 'Backup ended at 2025-07-01 14:07:11.', 'Backup ended at 2025-07-31 13:19:58.', 'Backup started at 2025-10-31 23:48:54.', 'Backup started at 2025-05-02 05:17:47.', 'Backup ended at 2025-11-24 19:02:55.', 'Backup ended at 2025-08-06 22:28:29.', 'Backup started at 2025-02-03 22:33:16.', 'Backup ended at 2025-08-18 12:18:47.', 'Backup started at 2025-03-04 20:50:28.', 'Backup ended at 2025-06-08 17:57:26.', 'Backup started at 2025-09-15 18:27:39.', 'Backup started at 2025-03-12 22:42:26.', 'Backup ended at 2025-07-27 02:12:12.', 'Backup ended at 2025-12-04 02:19:48.', 'Backup started at 2025-05-06 07:03:31.', 'Backup ended at 2025-01-24 09:07:54.', 'Backup started at 2025-02-12 06:47:30.', 'Backup ended at 2025-07-31 09:29:01.', 'Backup started at 2025-05-05 02:06:03.', 'Backup ended at 2025-01-29 23:05:36.', 'Backup ended at 2025-08-22 12:30:23.', 'Backup ended at 2025-08-20 00:24:58.', 'Backup ended at 2025-09-18 23:59:31.', 'Backup ended at 2025-10-17 19:00:39.', 'Backup ended at 2025-08-26 12:46:21.', 'Backup ended at 2025-09-03 10:09:30.', 'Backup ended at 2025-11-22 14:28:11.', 'Backup started at 2025-03-21 00:20:21.', 'Backup ended at 2025-08-22 07:33:55.', 'Backup started at 2025-08-10 12:07:51.', 'Backup started at 2025-09-05 04:17:13.', 'Backup started at 2025-07-26 10:56:51.', 'Backup ended at 2025-10-20 20:14:21.', 'Backup ended at 2025-06-27 17:02:38.', 'Backup ended at 2025-07-27 14:48:53.', 'Backup started at 2025-03-04 20:49:02.', 'Backup ended at 2025-04-28 17:49:19.', 'Backup ended at 2025-03-04 01:07:19.', 'Backup ended at 2025-07-13 04:15:06.', 'Backup ended at 2025-04-06 13:20:18.', 'Backup started at 2025-11-06 10:01:01.', 'Backup ended at 2025-03-12 11:19:02.', 'Backup ended at 2025-02-21 02:50:57.', 'Backup started at 2025-05-28 23:49:19.', 'Backup ended at 2025-08-09 02:27:08.', 'Backup started at 2025-05-24 16:51:08.', 'Backup started at 2025-02-21 14:50:28.', 'Backup ended at 2025-04-13 10:00:34.', 'Backup started at 2025-02-07 07:50:02.', 'Backup started at 2025-11-23 01:05:16.', 'Backup ended at 2025-09-26 13:08:49.', 'Backup ended at 2025-11-15 23:16:45.', 'Backup ended at 2025-02-12 08:23:09.', 'Backup ended at 2025-06-08 23:24:35.', 'Backup ended at 2025-06-02 10:47:12.', 'Backup ended at 2025-11-06 05:28:37.', 'Backup ended at 2025-04-27 00:46:45.', 'Backup ended at 2025-04-30 12:17:31.', 'Backup ended at 2025-11-28 12:48:22.', 'Backup started at 2025-04-22 09:11:13.', 'Backup started at 2025-01-25 22:10:08.', 'Backup ended at 2025-07-05 07:44:33.', 'Backup started at 2025-04-12 13:44:40.', 'Backup ended at 2025-06-26 20:07:46.', 'Backup started at 2025-09-08 22:36:53.', 'Backup started at 2025-05-13 09:01:52.', 'Backup ended at 2025-05-15 10:56:20.', 'Backup ended at 2025-09-19 08:52:02.', 'Backup ended at 2025-05-06 11:23:16.']\n",
      "\n",
      "\n",
      "Cluster 7:\n",
      "['Multiple bad login attempts detected on user 8538 account', 'Multiple login failures occurred on user 9052 account', 'User 7153 made multiple incorrect login attempts', 'User 8300 made multiple incorrect login attempts', 'Multiple login failures were detected for user 6373', 'Multiple failed login attempts were reported for user 1053', 'Multiple incorrect login attempts were made by user 7918', 'User 9167 experienced repeated login failures', 'Repeated failed login attempts occurred for user ID 8527', 'User 9131 made multiple failed login attempts', 'User 8075 made multiple failed login attempts', 'User 8276 account experienced multiple login failures', 'User 5456 experienced multiple login rejections', 'User 7790 account had multiple failed login tries', 'Multiple invalid login attempts were made for user 8920', 'User 1403 had multiple login attempts rejected', 'User 3330 account experienced multiple login failures', 'Repeated failed login attempts occurred for user ID 7482', 'Multiple invalid login attempts were made for user 6894', 'User 1884 experienced repeated login failures', 'User 7937 had multiple login attempts rejected', 'Several login attempts by user 8161 were unsuccessful', 'User 2957 account had multiple failed login tries', 'User 2104 made multiple failed login attempts', 'Multiple login failures occurred on user 7102 account', 'User 5555 account experienced multiple login failures', 'Multiple rejected login attempts found for user 1270', 'User 3424 experienced multiple login rejections', 'Multiple rejected login attempts found for user 1805', 'Multiple incorrect login attempts were made by user 7798', 'User 2344 had multiple unsuccessful login attempts', 'Multiple login failures occurred on user 6454 account', 'User 5045 had multiple unsuccessful login attempts', 'User 5019 had multiple unsuccessful login attempts', 'Multiple login failures were detected for user 5304', 'Several unsuccessful login tries found for user 7058', 'Multiple login failures were detected for user 6607', 'Multiple rejected login attempts found for user 6397', 'Multiple failed login attempts were reported for user 5355', 'Several login attempts by user 6641 were unsuccessful', 'Several unsuccessful login tries found for user 9353', 'Multiple failed login tries occurred for user 9217', 'User 4288 made multiple incorrect login attempts', 'User 3692 account had multiple failed login tries', 'Multiple failed login attempts were reported for user 3550', 'User 2750 had multiple login attempts rejected', 'Multiple failed login tries occurred for user 9361', 'User 4489 experienced repeated login failures', 'Multiple failed login tries occurred for user 1792', 'Multiple invalid login attempts were made for user 1087', 'Multiple incorrect login attempts were made by user 5215', 'User 8382 account experienced multiple failed logins', 'Multiple bad login attempts detected on user 8663 account', 'Several login attempts by user 8694 were unsuccessful', 'Several unsuccessful login tries found for user 9964', 'User 8048 account experienced multiple failed logins', 'User 1587 experienced multiple login rejections', 'Multiple bad login attempts detected on user 4184 account', 'User 3844 account experienced multiple failed logins', 'Repeated failed login attempts occurred for user ID 8555']\n",
      "\n",
      "\n",
      "Cluster 8:\n",
      "['Backup completed successfully.', 'Backup completed successfully.', 'Backup completed successfully.', 'Backup completed successfully.', 'Backup completed successfully.', 'Backup completed successfully.', 'Backup completed successfully.', 'Backup completed successfully.', 'Backup completed successfully.', 'Backup completed successfully.', 'Backup completed successfully.', 'Backup completed successfully.', 'Backup completed successfully.', 'Backup completed successfully.', 'Backup completed successfully.', 'Backup completed successfully.', 'Backup completed successfully.', 'Backup completed successfully.', 'Backup completed successfully.', 'Backup completed successfully.', 'Backup completed successfully.', 'Backup completed successfully.', 'Backup completed successfully.', 'Backup completed successfully.', 'Backup completed successfully.', 'Backup completed successfully.', 'Backup completed successfully.', 'Backup completed successfully.', 'Backup completed successfully.', 'Backup completed successfully.', 'Backup completed successfully.', 'Backup completed successfully.', 'Backup completed successfully.', 'Backup completed successfully.', 'Backup completed successfully.', 'Backup completed successfully.', 'Backup completed successfully.', 'Backup completed successfully.', 'Backup completed successfully.', 'Backup completed successfully.', 'Backup completed successfully.', 'Backup completed successfully.', 'Backup completed successfully.', 'Backup completed successfully.', 'Backup completed successfully.', 'Backup completed successfully.', 'Backup completed successfully.', 'Backup completed successfully.', 'Backup completed successfully.', 'Backup completed successfully.', 'Backup completed successfully.', 'Backup completed successfully.', 'Backup completed successfully.', 'Backup completed successfully.', 'Backup completed successfully.', 'Backup completed successfully.', 'Backup completed successfully.', 'Backup completed successfully.', 'Backup completed successfully.', 'Backup completed successfully.']\n",
      "\n",
      "\n",
      "Cluster 21:\n",
      "['System updated to version 3.9.1.', 'System updated to version 5.5.4.', 'System updated to version 4.7.4.', 'System updated to version 3.7.7.', 'System updated to version 2.6.2.', 'System updated to version 3.8.2.', 'System updated to version 1.9.3.', 'System updated to version 4.8.6.', 'System updated to version 5.0.7.', 'System updated to version 1.2.9.', 'System updated to version 1.1.7.', 'System updated to version 2.0.1.', 'System updated to version 2.7.9.', 'System updated to version 1.2.9.', 'System updated to version 3.4.7.', 'System updated to version 3.3.2.', 'System updated to version 5.0.6.', 'System updated to version 2.0.5.', 'System updated to version 2.0.6.', 'System updated to version 3.6.4.', 'System updated to version 5.8.1.', 'System updated to version 2.1.1.', 'System updated to version 4.6.3.', 'System updated to version 4.4.0.', 'System updated to version 4.4.8.', 'System updated to version 1.2.5.', 'System updated to version 5.9.3.', 'System updated to version 3.0.7.', 'System updated to version 4.0.3.', 'System updated to version 3.3.6.', 'System updated to version 4.9.9.', 'System updated to version 1.2.2.', 'System updated to version 1.5.8.', 'System updated to version 1.9.6.', 'System updated to version 1.4.4.', 'System updated to version 5.4.0.', 'System updated to version 2.7.9.', 'System updated to version 4.3.3.', 'System updated to version 5.7.5.', 'System updated to version 2.7.3.', 'System updated to version 2.1.3.', 'System updated to version 2.8.8.', 'System updated to version 2.8.3.', 'System updated to version 1.0.3.', 'System updated to version 5.1.0.', 'System updated to version 1.6.8.', 'System updated to version 1.5.7.', 'System updated to version 2.4.9.', 'System updated to version 5.0.9.', 'System updated to version 4.3.0.', 'System updated to version 1.7.5.', 'System updated to version 2.3.5.', 'System updated to version 2.4.4.', 'System updated to version 5.8.4.', 'System updated to version 4.5.9.', 'System updated to version 1.0.7.', 'System updated to version 2.7.8.', 'System updated to version 2.0.5.']\n",
      "\n",
      "\n",
      "Cluster 3:\n",
      "['Shard 6 replication task ended in failure', 'Data replication task for shard 14 did not complete', 'Data replication task failed for shard 17', 'Replication of data to shard 14 failed', 'Data replication task for shard 6 did not complete', 'Shard 1 data copy failed', 'Data replication for shard 13 encountered an issue', 'Shard 8 synchronization task failed', 'Data replication for shard 16 was unsuccessful', 'Shard 2 experienced a replication failure', 'Replication error occurred for shard 10', 'Shard 19 data copy failed', 'Replication of data to shard 1 failed', 'Data replication task failed for shard 8', 'Data replication for shard 2 was unsuccessful', 'Shard 4 data transfer failed', 'Shard 20 data synchronization failed', 'Data replication for shard 6 encountered an issue', 'Data replication for shard 2 was unsuccessful', 'Shard 11 data replication task was terminated', 'Failed to replicate data for shard 4', 'Shard 6 data transfer failed', 'Error replicating data to shard 17', 'Shard 20 data replication was not successful', 'Shard 20 synchronization task failed', 'Data synchronization failed for shard 18', 'Shard 18 data transfer failed', 'Failed data replication attempt for shard 12', 'Failed data replication attempt for shard 16', 'Shard 1 data replication task was terminated', 'Replication of data to shard 9 failed', 'Shard 12 data replication task was terminated', 'Replication error occurred for shard 14', 'Shard 1 data replication was not successful', 'Shard 2 data copy failed', 'Shard 19 data synchronization failed', 'Shard 12 data replication was not successful', 'Failed data replication attempt for shard 3', 'Data synchronization failed for shard 8', 'Data replication issue on shard 3', 'Error replicating data to shard 2', 'Shard 16 synchronization task failed', 'Error replicating data to shard 1', 'Failed to replicate data for shard 13', 'Failed to replicate data for shard 18', 'Shard 4 replication task ended in failure', 'Data replication issue on shard 13', 'Data replication for shard 8 encountered an issue', 'Data replication issue on shard 15', 'Shard 18 replication task ended in failure', 'Shard 4 data synchronization failed', 'Data replication task for shard 4 did not complete', 'Shard 4 experienced a replication failure', 'Shard 14 experienced a replication failure', 'Data replication task failed for shard 1', 'Data synchronization failed for shard 9', 'Replication error occurred for shard 10']\n",
      "\n",
      "\n",
      "Cluster 4:\n",
      "['File data_6169.csv uploaded successfully by user User953.', 'File data_3847.csv uploaded successfully by user User175.', 'File data_7366.csv uploaded successfully by user User282.', 'File data_1206.csv uploaded successfully by user User359.', 'File data_1503.csv uploaded successfully by user User151.', 'File data_2127.csv uploaded successfully by user User577.', 'File data_9318.csv uploaded successfully by user User917.', 'File data_5435.csv uploaded successfully by user User563.', 'File data_4085.csv uploaded successfully by user User222.', 'File data_7222.csv uploaded successfully by user User296.', 'File data_9735.csv uploaded successfully by user User705.', 'File data_7502.csv uploaded successfully by user User395.', 'File data_5366.csv uploaded successfully by user User502.', 'File data_6510.csv uploaded successfully by user User777.', 'File data_9595.csv uploaded successfully by user User589.', 'File data_1124.csv uploaded successfully by user User729.', 'File data_9838.csv uploaded successfully by user User616.', 'File data_8212.csv uploaded successfully by user User846.', 'File data_5038.csv uploaded successfully by user User567.', 'File data_2271.csv uploaded successfully by user User727.', 'File data_1483.csv uploaded successfully by user User776.', 'File data_2614.csv uploaded successfully by user User268.', 'File data_2843.csv uploaded successfully by user User308.', 'File data_3277.csv uploaded successfully by user User893.', 'File data_8435.csv uploaded successfully by user User424.', 'File data_7160.csv uploaded successfully by user User629.', 'File data_6550.csv uploaded successfully by user User232.', 'File data_4497.csv uploaded successfully by user User379.', 'File data_5208.csv uploaded successfully by user User303.', 'File data_5507.csv uploaded successfully by user User177.', 'File data_2288.csv uploaded successfully by user User234.', 'File data_2691.csv uploaded successfully by user User473.', 'File data_2056.csv uploaded successfully by user User559.', 'File data_3824.csv uploaded successfully by user User487.', 'File data_3868.csv uploaded successfully by user User911.', 'File data_5312.csv uploaded successfully by user User620.', 'File data_6571.csv uploaded successfully by user User142.', 'File data_1714.csv uploaded successfully by user User967.', 'File data_6245.csv uploaded successfully by user User830.', 'File data_3002.csv uploaded successfully by user User340.', 'File data_8519.csv uploaded successfully by user User189.', 'File data_2061.csv uploaded successfully by user User310.', 'File data_9413.csv uploaded successfully by user User743.', 'File data_5870.csv uploaded successfully by user User443.', 'File data_4759.csv uploaded successfully by user User376.', 'File data_9075.csv uploaded successfully by user User321.', 'File data_2777.csv uploaded successfully by user User629.', 'File data_7589.csv uploaded successfully by user User261.', 'File data_5237.csv uploaded successfully by user User742.', 'File data_8485.csv uploaded successfully by user User940.', 'File data_6957.csv uploaded successfully by user User265.', 'File data_7822.csv uploaded successfully by user User919.', 'File data_9262.csv uploaded successfully by user User977.']\n",
      "\n",
      "\n",
      "Cluster 17:\n",
      "['Denied access attempt on restricted account Account2682', 'Unauthorized login attempt on protected account Account5030', 'Account Account9437 blocked due to failed login', 'Account Account7999 access denied due to login failure', 'Invalid login attempt made on secured account Account7864', 'Account Account8057 login attempt was not successful', 'Invalid login attempt made on secured account Account8771', 'Restricted account Account9226 had login failure', 'Account Account9938 blocked due to failed login', 'Login to secured account Account6057 was not possible', 'Failed login try on account Account1984 occurred', 'Failed access attempt on limited account Account4615', 'Denied access attempt on restricted account Account5391', 'Invalid login attempt made on secured account Account9649', 'Failed access attempt on limited account Account9465', 'Login to secured account Account8484 was not possible', 'Failed to login to restricted account Account8723', 'Unauthorized try to login on restricted account Account2773', 'Unauthorized try to login on restricted account Account6465', 'Failed login try on account Account9819 occurred', 'Failed login try on account Account2024 occurred', 'Unsuccessful login try on locked account Account2258', 'Secured account Account3367 had unsuccessful login attempt', 'Login failure occurred on blocked account Account6484', 'Unsuccessful login try on locked account Account9960', 'Failed access attempt on limited account Account7127', 'Restricted account Account5937 experienced failed login', 'Restricted account Account9137 had login failure', 'Login failure occurred on blocked account Account2882', 'Restricted account Account4475 had login failure', 'Account Account1297 login was unsuccessful due to restrictions', 'Unsuccessful login try on locked account Account9385', 'Account Account5979 login attempt was not successful', 'Account Account2597 login was unsuccessful due to restrictions', 'Account Account6722 access denied due to login failure', 'Failed to login to restricted account Account4990', 'Denied access attempt on restricted account Account4130', 'Login to secured account Account5069 was not possible', 'Secured account Account8925 had unsuccessful login attempt', 'Unauthorized login attempt on protected account Account2527', 'Restricted account Account3222 experienced failed login', 'Account Account2345 experienced unauthorized login attempt', 'Account Account4999 experienced unauthorized login attempt', 'Unauthorized login attempt on protected account Account5486', 'Failed to login to restricted account Account6973', 'Unauthorized try to login on restricted account Account9275', 'Restricted account Account9871 experienced failed login', 'Account Account7332 experienced unauthorized login attempt', 'Account Account7844 login attempt was not successful', 'Login failure occurred on blocked account Account6763', 'Secured account Account2365 had unsuccessful login attempt', 'Account Account3262 login was unsuccessful due to restrictions']\n",
      "\n",
      "\n",
      "Cluster 32:\n",
      "['Disk cleanup completed successfully.', 'Disk cleanup completed successfully.', 'Disk cleanup completed successfully.', 'Disk cleanup completed successfully.', 'Disk cleanup completed successfully.', 'Disk cleanup completed successfully.', 'Disk cleanup completed successfully.', 'Disk cleanup completed successfully.', 'Disk cleanup completed successfully.', 'Disk cleanup completed successfully.', 'Disk cleanup completed successfully.', 'Disk cleanup completed successfully.', 'Disk cleanup completed successfully.', 'Disk cleanup completed successfully.', 'Disk cleanup completed successfully.', 'Disk cleanup completed successfully.', 'Disk cleanup completed successfully.', 'Disk cleanup completed successfully.', 'Disk cleanup completed successfully.', 'Disk cleanup completed successfully.', 'Disk cleanup completed successfully.', 'Disk cleanup completed successfully.', 'Disk cleanup completed successfully.', 'Disk cleanup completed successfully.', 'Disk cleanup completed successfully.', 'Disk cleanup completed successfully.', 'Disk cleanup completed successfully.', 'Disk cleanup completed successfully.', 'Disk cleanup completed successfully.', 'Disk cleanup completed successfully.', 'Disk cleanup completed successfully.', 'Disk cleanup completed successfully.', 'Disk cleanup completed successfully.', 'Disk cleanup completed successfully.', 'Disk cleanup completed successfully.', 'Disk cleanup completed successfully.', 'Disk cleanup completed successfully.', 'Disk cleanup completed successfully.', 'Disk cleanup completed successfully.', 'Disk cleanup completed successfully.', 'Disk cleanup completed successfully.', 'Disk cleanup completed successfully.', 'Disk cleanup completed successfully.', 'Disk cleanup completed successfully.', 'Disk cleanup completed successfully.', 'Disk cleanup completed successfully.', 'Disk cleanup completed successfully.', 'Disk cleanup completed successfully.', 'Disk cleanup completed successfully.', 'Disk cleanup completed successfully.', 'Disk cleanup completed successfully.']\n",
      "\n",
      "\n",
      "Cluster 6:\n",
      "['Critical system unit error: unit ID Component55', 'System component malfunction: component ID Component79', 'Critical system element is down: element ID Component96', 'Essential system part malfunction: part ID Component6', 'Failure occurred in critical system component: component ID Component92', 'Essential system part malfunction: part ID Component97', 'System component malfunction: component ID Component90', 'Failure of critical system component: component ID Component54', 'System component has stopped working: component ID Component51', 'Critical system equipment failure: equipment ID Component68', 'Critical system unit error: unit ID Component64', 'System component has failed: component ID Component62', 'Critical system module failure: module ID Component29', 'Critical system unit failure: unit ID Component12', 'Critical system module failure: module ID Component59', 'System component is not functioning: component ID Component3', 'System component is not functioning: component ID Component29', 'Critical system equipment failure: equipment ID Component10', 'System component is not operating: component ID Component12', 'System component has stopped working: component ID Component63', 'Critical system module error: module ID Component58', 'System component malfunction: component ID Component94', 'System component error detected: component ID Component17', 'System component error detected: component ID Component18', 'Critical system element is down: element ID Component7', 'Failure occurred in critical system component: component ID Component6', 'Critical system module error: module ID Component29', 'Failure occurred in critical system component: component ID Component47', 'Critical system unit error: unit ID Component6', 'Critical system unit failure: unit ID Component76', 'Critical system equipment failure: equipment ID Component57', 'System component is not operating: component ID Component26', 'System component failure occurred: component ID Component84', 'System component is not operating: component ID Component4', 'System component is not functioning: component ID Component23', 'Critical system part failure: part ID Component72', 'Critical system unit failure: unit ID Component41', 'Critical system module error: module ID Component31', 'Critical system part failure: part ID Component28', 'Essential system part malfunction: part ID Component54', 'Critical system module failure: module ID Component66', 'Critical system part failure: part ID Component16', 'System component has stopped working: component ID Component41', 'System component has failed: component ID Component95', 'System component has failed: component ID Component94', 'Failure of critical system component: component ID Component92', 'System component failure occurred: component ID Component78', 'Critical system element is down: element ID Component77', 'System component failure occurred: component ID Component54', 'Failure of critical system component: component ID Component38', 'System component error detected: component ID Component16']\n",
      "\n",
      "\n",
      "Cluster 16:\n",
      "['System reboot initiated by user User243.', 'System reboot initiated by user User471.', 'System reboot initiated by user User216.', 'System reboot initiated by user User639.', 'System reboot initiated by user User819.', 'System reboot initiated by user User938.', 'System reboot initiated by user User929.', 'System reboot initiated by user User533.', 'System reboot initiated by user User591.', 'System reboot initiated by user User421.', 'System reboot initiated by user User297.', 'System reboot initiated by user User159.', 'System reboot initiated by user User648.', 'System reboot initiated by user User600.', 'System reboot initiated by user User120.', 'System reboot initiated by user User901.', 'System reboot initiated by user User876.', 'System reboot initiated by user User811.', 'System reboot initiated by user User964.', 'System reboot initiated by user User766.', 'System reboot initiated by user User765.', 'System reboot initiated by user User427.', 'System reboot initiated by user User246.', 'System reboot initiated by user User329.', 'System reboot initiated by user User747.', 'System reboot initiated by user User829.', 'System reboot initiated by user User966.', 'System reboot initiated by user User758.', 'System reboot initiated by user User278.', 'System reboot initiated by user User648.', 'System reboot initiated by user User268.', 'System reboot initiated by user User315.', 'System reboot initiated by user User155.', 'System reboot initiated by user User204.', 'System reboot initiated by user User899.', 'System reboot initiated by user User223.', 'System reboot initiated by user User932.', 'System reboot initiated by user User264.', 'System reboot initiated by user User517.', 'System reboot initiated by user User293.', 'System reboot initiated by user User262.', 'System reboot initiated by user User937.', 'System reboot initiated by user User179.', 'System reboot initiated by user User770.', 'System reboot initiated by user User488.', 'System reboot initiated by user User644.', 'System reboot initiated by user User724.', 'System reboot initiated by user User876.']\n",
      "\n",
      "\n",
      "Cluster 20:\n",
      "['User 7662 tried to bypass API security measures', 'User 2367 failed to provide valid API access credentials', 'User 3569 made an unauthorized API request', 'Unauthorized user 2968 tried to access restricted API', 'User 2186 attempted to access API without proper authorization', 'Unapproved API login attempt from user 1618 recorded', 'Security alert: unauthorized API access attempt by user 9816', 'Unapproved API login attempt from user 5771 recorded', 'Unauthenticated API access attempt from user 7672 logged', 'API access denied due to unauthorized credentials for user 7900', 'Unauthenticated API access attempt from user 3845 logged', 'API access request from user 2665 was rejected due to invalid credentials', 'Unapproved API login attempt from user 8007 recorded', 'User 4508 was unable to authenticate for API access', 'API access denied due to unauthorized credentials for user 5914', 'API access request from user 9714 was rejected due to invalid credentials', 'API access control system blocked user 5736', 'API access denied due to unauthorized credentials for user 8868', 'User 7566 tried to bypass API security measures', 'API access audit trail shows unauthorized entry for user 5627', 'User 2097 was unable to authenticate for API access', 'Unauthenticated API access attempt from user 3307 logged', 'User 3490 failed to provide valid API access credentials', 'User 3080 did not have permission to access API', 'API access control system blocked user 8626', 'User 6336 was unable to authenticate for API access', 'User 3834 made an unauthorized API request', 'API access request from user 8502 was rejected due to invalid credentials', 'User 9214 did not have permission to access API', 'API access log shows unauthorized attempt by user 9193', 'API access control system blocked user 6559', 'Security alert: unauthorized API access attempt by user 8462', 'API access audit trail shows unauthorized entry for user 5887', 'Invalid API access request detected for user 4200', 'Invalid API access request detected for user 7316', 'API access log shows unauthorized attempt by user 1753', 'Unauthorized user 3051 tried to access restricted API', 'Security alert: unauthorized API access attempt by user 9802', 'User 7662 did not have permission to access API', 'User 4523 attempted to access API without proper authorization', 'User 4300 failed to provide valid API access credentials', 'Unauthorized user 8557 tried to access restricted API', 'User 3618 attempted to access API without proper authorization', 'API access log shows unauthorized attempt by user 5643', 'User 7977 made an unauthorized API request', 'Invalid API access request detected for user 8796', 'User 4069 tried to bypass API security measures', 'API access audit trail shows unauthorized entry for user 7533']\n",
      "\n",
      "\n",
      "Cluster 9:\n",
      "['Account with ID 5351 created by User634.', 'Account with ID 7813 created by User373.', 'Account with ID 9827 created by User965.', 'Account with ID 2520 created by User546.', 'Account with ID 2300 created by User964.', 'Account with ID 7505 created by User322.', 'Account with ID 4810 created by User581.', 'Account with ID 4995 created by User559.', 'Account with ID 3889 created by User852.', 'Account with ID 1478 created by User605.', 'Account with ID 8884 created by User893.', 'Account with ID 1314 created by User418.', 'Account with ID 4725 created by User771.', 'Account with ID 3189 created by User444.', 'Account with ID 9621 created by User886.', 'Account with ID 1559 created by User136.', 'Account with ID 1977 created by User815.', 'Account with ID 4585 created by User485.', 'Account with ID 6661 created by User556.', 'Account with ID 3297 created by User718.', 'Account with ID 1302 created by User326.', 'Account with ID 4022 created by User163.', 'Account with ID 2970 created by User461.', 'Account with ID 2072 created by User135.', 'Account with ID 6953 created by User933.', 'Account with ID 5456 created by User386.', 'Account with ID 9488 created by User361.', 'Account with ID 2519 created by User355.', 'Account with ID 8114 created by User101.', 'Account with ID 9614 created by User610.', 'Account with ID 9928 created by User354.', 'Account with ID 2580 created by User185.', 'Account with ID 1724 created by User232.', 'Account with ID 3788 created by User123.', 'Account with ID 9807 created by User944.', 'Account with ID 5103 created by User721.', 'Account with ID 6874 created by User524.', 'Account with ID 2155 created by User809.', 'Account with ID 9829 created by User329.', 'Account with ID 6237 created by User607.', 'Account with ID 6616 created by User170.', 'Account with ID 1688 created by User619.', 'Account with ID 7238 created by User520.', 'Account with ID 7905 created by User288.']\n",
      "\n",
      "\n",
      "Cluster 1:\n",
      "['Email service experiencing issues with sending', 'Email server encountered a sending fault', 'Mail service encountered a delivery glitch', 'Service disruption caused by email sending error', 'Email system had a problem sending emails', 'Email service experienced a sending issue', 'Email delivery system encountered an error', 'Email transmission error caused service impact', 'Email service impacted by sending failure', 'Email delivery problem affected system', 'Service outage due to email delivery problem', 'Error in email delivery affected service', 'Email service suffered a delivery failure', 'Error in email sending impacted service', 'Mail service impacted by delivery glitch', 'Email service had a difficulty delivering messages', 'Email system failed to deliver emails', 'Delivery failure impacted email services', 'Mail service was unable to send emails', 'Email provider faced a delivery challenge', 'Service issue caused by email delivery error', 'Email system down due to sending error', 'Email system encountered a sending error', 'Email provider had trouble sending emails', 'Mail delivery error impacted email service', 'Email system had a difficulty sending messages', 'Email system affected by delivery failure', 'Email delivery failure resulted in service issue', 'Email provider experienced a mail delivery issue', 'Email service had a sending malfunction', 'Email service experienced a mail sending issue', 'Delivery issue with email service caused outage', 'Email server experienced a delivery problem', 'Email server had trouble transmitting emails', 'Mail delivery issue caused service disruption', 'Email service down due to transmission issue', 'Email service faced a delivery obstacle', 'Service outage due to email transmission error', 'Email service affected by failed transmission']\n",
      "\n",
      "\n",
      "Cluster 10:\n",
      "['nova.compute.resource_tracker [req-addc1839-2ed5-4778-b57e-5854eb7b8b09 - - - - -] Final resource view: name=cp-1.slowvm1.tcloud-pg0.utah.cloudlab.us phys_ram=64172MB used_ram=512MB phys_disk=15GB used_disk=0GB total_vcpus=16 used_vcpus=0 pci_stats=[]', 'nova.compute.resource_tracker [req-addc1839-2ed5-4778-b57e-5854eb7b8b09 - - - - -] Final resource view: name=cp-1.slowvm1.tcloud-pg0.utah.cloudlab.us phys_ram=64172MB used_ram=2560MB phys_disk=15GB used_disk=20GB total_vcpus=16 used_vcpus=1 pci_stats=[]', 'nova.compute.resource_tracker [req-addc1839-2ed5-4778-b57e-5854eb7b8b09 - - - - -] Total usable vcpus: 16, total allocated vcpus: 0', 'nova.compute.resource_tracker [req-addc1839-2ed5-4778-b57e-5854eb7b8b09 - - - - -] Final resource view: name=cp-1.slowvm1.tcloud-pg0.utah.cloudlab.us phys_ram=64172MB used_ram=2560MB phys_disk=15GB used_disk=20GB total_vcpus=16 used_vcpus=1 pci_stats=[]', 'nova.compute.resource_tracker [req-addc1839-2ed5-4778-b57e-5854eb7b8b09 - - - - -] Final resource view: name=cp-1.slowvm1.tcloud-pg0.utah.cloudlab.us phys_ram=64172MB used_ram=2560MB phys_disk=15GB used_disk=20GB total_vcpus=16 used_vcpus=1 pci_stats=[]', 'nova.compute.resource_tracker [req-addc1839-2ed5-4778-b57e-5854eb7b8b09 - - - - -] Total usable vcpus: 16, total allocated vcpus: 1', 'nova.compute.resource_tracker [req-addc1839-2ed5-4778-b57e-5854eb7b8b09 - - - - -] Final resource view: name=cp-1.slowvm1.tcloud-pg0.utah.cloudlab.us phys_ram=64172MB used_ram=2560MB phys_disk=15GB used_disk=20GB total_vcpus=16 used_vcpus=1 pci_stats=[]', 'nova.compute.resource_tracker [req-addc1839-2ed5-4778-b57e-5854eb7b8b09 - - - - -] Final resource view: name=cp-1.slowvm1.tcloud-pg0.utah.cloudlab.us phys_ram=64172MB used_ram=512MB phys_disk=15GB used_disk=0GB total_vcpus=16 used_vcpus=0 pci_stats=[]', 'nova.compute.resource_tracker [req-addc1839-2ed5-4778-b57e-5854eb7b8b09 - - - - -] Final resource view: name=cp-1.slowvm1.tcloud-pg0.utah.cloudlab.us phys_ram=64172MB used_ram=512MB phys_disk=15GB used_disk=0GB total_vcpus=16 used_vcpus=0 pci_stats=[]', 'nova.compute.resource_tracker [req-addc1839-2ed5-4778-b57e-5854eb7b8b09 - - - - -] Final resource view: name=cp-1.slowvm1.tcloud-pg0.utah.cloudlab.us phys_ram=64172MB used_ram=2560MB phys_disk=15GB used_disk=20GB total_vcpus=16 used_vcpus=1 pci_stats=[]', 'nova.compute.resource_tracker [req-addc1839-2ed5-4778-b57e-5854eb7b8b09 - - - - -] Final resource view: name=cp-1.slowvm1.tcloud-pg0.utah.cloudlab.us phys_ram=64172MB used_ram=512MB phys_disk=15GB used_disk=0GB total_vcpus=16 used_vcpus=0 pci_stats=[]', 'nova.compute.resource_tracker [req-addc1839-2ed5-4778-b57e-5854eb7b8b09 - - - - -] Total usable vcpus: 16, total allocated vcpus: 0', 'nova.compute.resource_tracker [req-addc1839-2ed5-4778-b57e-5854eb7b8b09 - - - - -] Final resource view: name=cp-1.slowvm1.tcloud-pg0.utah.cloudlab.us phys_ram=64172MB used_ram=512MB phys_disk=15GB used_disk=0GB total_vcpus=16 used_vcpus=0 pci_stats=[]', 'nova.compute.resource_tracker [req-addc1839-2ed5-4778-b57e-5854eb7b8b09 - - - - -] Final resource view: name=cp-1.slowvm1.tcloud-pg0.utah.cloudlab.us phys_ram=64172MB used_ram=512MB phys_disk=15GB used_disk=0GB total_vcpus=16 used_vcpus=0 pci_stats=[]', 'nova.compute.resource_tracker [req-addc1839-2ed5-4778-b57e-5854eb7b8b09 - - - - -] Total usable vcpus: 16, total allocated vcpus: 0', 'nova.compute.resource_tracker [req-addc1839-2ed5-4778-b57e-5854eb7b8b09 - - - - -] Final resource view: name=cp-1.slowvm1.tcloud-pg0.utah.cloudlab.us phys_ram=64172MB used_ram=2560MB phys_disk=15GB used_disk=20GB total_vcpus=16 used_vcpus=1 pci_stats=[]', 'nova.compute.resource_tracker [req-addc1839-2ed5-4778-b57e-5854eb7b8b09 - - - - -] Total usable vcpus: 16, total allocated vcpus: 1', 'nova.compute.resource_tracker [req-addc1839-2ed5-4778-b57e-5854eb7b8b09 - - - - -] Total usable vcpus: 16, total allocated vcpus: 0', 'nova.compute.resource_tracker [req-addc1839-2ed5-4778-b57e-5854eb7b8b09 - - - - -] Total usable vcpus: 16, total allocated vcpus: 1', 'nova.compute.resource_tracker [req-addc1839-2ed5-4778-b57e-5854eb7b8b09 - - - - -] Total usable vcpus: 16, total allocated vcpus: 1', 'nova.compute.resource_tracker [req-addc1839-2ed5-4778-b57e-5854eb7b8b09 - - - - -] Final resource view: name=cp-1.slowvm1.tcloud-pg0.utah.cloudlab.us phys_ram=64172MB used_ram=2560MB phys_disk=15GB used_disk=20GB total_vcpus=16 used_vcpus=1 pci_stats=[]', 'nova.compute.resource_tracker [req-addc1839-2ed5-4778-b57e-5854eb7b8b09 - - - - -] Total usable vcpus: 16, total allocated vcpus: 1', 'nova.compute.resource_tracker [req-addc1839-2ed5-4778-b57e-5854eb7b8b09 - - - - -] Final resource view: name=cp-1.slowvm1.tcloud-pg0.utah.cloudlab.us phys_ram=64172MB used_ram=2560MB phys_disk=15GB used_disk=20GB total_vcpus=16 used_vcpus=1 pci_stats=[]', 'nova.compute.resource_tracker [req-addc1839-2ed5-4778-b57e-5854eb7b8b09 - - - - -] Total usable vcpus: 16, total allocated vcpus: 1', 'nova.compute.resource_tracker [req-addc1839-2ed5-4778-b57e-5854eb7b8b09 - - - - -] Final resource view: name=cp-1.slowvm1.tcloud-pg0.utah.cloudlab.us phys_ram=64172MB used_ram=2560MB phys_disk=15GB used_disk=20GB total_vcpus=16 used_vcpus=1 pci_stats=[]', 'nova.compute.resource_tracker [req-addc1839-2ed5-4778-b57e-5854eb7b8b09 - - - - -] Total usable vcpus: 16, total allocated vcpus: 1', 'nova.compute.resource_tracker [req-addc1839-2ed5-4778-b57e-5854eb7b8b09 - - - - -] Total usable vcpus: 16, total allocated vcpus: 1', 'nova.compute.resource_tracker [req-addc1839-2ed5-4778-b57e-5854eb7b8b09 - - - - -] Total usable vcpus: 16, total allocated vcpus: 0', 'nova.compute.resource_tracker [req-addc1839-2ed5-4778-b57e-5854eb7b8b09 - - - - -] Total usable vcpus: 16, total allocated vcpus: 0', 'nova.compute.resource_tracker [req-addc1839-2ed5-4778-b57e-5854eb7b8b09 - - - - -] Total usable vcpus: 16, total allocated vcpus: 1']\n",
      "\n",
      "\n",
      "Cluster 34:\n",
      "['Abnormal behavior found on server 10, possible security threat', 'Security alert: suspicious activity on server 1', 'Anomalous activity identified on server 23, security review recommended', 'Server 27 experienced potential security incident, review required', 'Server 36 experienced potential security incident, review required', 'Security alert: suspicious activity on server 31', 'Abnormal behavior found on server 50, possible security threat', 'Server 31 has been flagged for suspicious activity, security review', 'Server 46 has been compromised, potential security risk', 'Security issue detected on server 23, investigation required', 'Anomalous activity identified on server 47, security review recommended', 'Security issue detected on server 46, investigation required', 'Potential security breach detected on server 48', 'Unidentified activity on server 37, possible security issue', 'Server 32 has been compromised, potential security risk', 'Security issue detected on server 43, investigation required', 'Server 11 experienced potential security incident, review required', 'Security alert: suspicious activity on server 31', 'Unidentified activity on server 43, possible security issue', 'Anomalous activity identified on server 25, security review recommended', 'Abnormal behavior found on server 19, possible security threat', 'Potential security breach detected on server 27', 'Unidentified activity on server 47, possible security issue', 'Server 37 has been flagged for suspicious activity, security review', 'Potential security breach detected on server 27']\n",
      "\n",
      "\n",
      "Cluster 14:\n",
      "['Detection of multiple disk faults in RAID setup', 'RAID array suffered multiple hard drive failures', 'RAID array experienced multiple disk crashes', 'Multiple hard drive issues in RAID configuration found', 'Identification of multiple faulty disks in RAID array', 'RAID system detected multiple disk failures and errors', 'RAID system reported multiple hard drive malfunctions', 'RAID configuration had multiple disk failures detected', 'Multiple disk errors found in RAID configuration', 'RAID array experienced multiple disk failures and issues', 'RAID configuration experienced multiple disk issues', 'Multiple failed disks in RAID system reported', 'Multiple disk crashes identified in RAID array', 'Multiple failures in disk array detected in RAID', 'Multiple disk problems detected in RAID system', 'Multiple disk malfunctions in RAID setup identified', 'Multiple hard drive failures detected in RAID configuration', 'Detection of multiple failed disks in RAID setup', 'Several hard drive failures in RAID system identified', 'Multiple disk errors in RAID system detected and reported']\n",
      "\n",
      "\n",
      "Cluster 53:\n",
      "['Module X experienced an invalid data format issue', 'Input format mismatch occurred in module X', 'Module X reported an error in input format validation', 'Module X failed to process input due to formatting error', 'Input data format in module X was invalid or corrupted', 'Input to module X did not conform to expected format', 'Format of input data in module X was not recognized', 'Error in input format occurred during module X execution', 'Invalid input format caused module X to fail', 'Input to module X was not in the expected format', 'Module X failed to validate input data format', 'Module X experienced a format validation error', 'Invalid input syntax found in module X', 'Module X encountered an issue with improperly formatted input', 'Module X input processing failed due to invalid format', 'Invalid data encountered during execution of module X', 'Module X reported an invalid input format exception', 'Malformed input detected in module X', 'Module X was unable to parse input due to format error', 'Error occurred due to incorrect input in module X']\n",
      "\n",
      "\n",
      "Cluster 52:\n",
      "['Service health check was not successful because of SSL certificate validation failures.', 'Invalid SSL certificate resulted in a failed service health check.', 'Service health check failure was due to an invalid or improperly configured SSL certificate.', 'An issue with the SSL certificate caused the service health check to fail.', 'Service health check failure was caused by an expired SSL certificate.', 'SSL certificate validation errors resulted in a failed service health check.', 'The service health check could not complete due to an SSL certificate issue.', 'Service health check was unsuccessful due to an invalid SSL certification.', 'Invalid SSL certificate configuration led to a failed service health check.', 'SSL certificate validation issues caused the service health check to be unsuccessful.', 'Service health check failed to complete due to SSL certificate validation issues.', 'SSL certificate errors led to a failed service health check.', 'The service health check did not pass due to SSL certificate problems.', 'Service health check failed because of an invalid SSL certificate.', 'SSL certificate issue caused service health check to fail.', 'Service health check did not pass due to an invalid SSL certificate configuration.', 'Service health check was unsuccessful due to problems with the SSL certificate.', 'Invalid SSL certificate caused the service health check to be unsuccessful.', 'Service health check failure occurred due to an invalid or expired SSL certificate.', 'An invalid SSL certificate prevented the service health check from passing.']\n",
      "\n",
      "\n",
      "Cluster 18:\n",
      "['Boot process terminated unexpectedly due to kernel issue', 'System encountered kernel panic during initialization phase', 'Boot process was stopped by kernel malfunction', 'System encountered kernel failure during bootup sequence', 'Boot sequence failed due to kernel panic', 'System boot was halted by kernel issue', 'Kernel issue prevented system from booting correctly', 'System crash happened due to kernel problem during boot', 'Kernel panic terminated system boot sequence', 'Kernel error terminated boot process prematurely', 'Boot sequence was aborted due to kernel failure', 'Kernel error caused system to malfunction during initialization', 'Kernel malfunction caused boot process to terminate', 'System failed to boot due to kernel panic issue', 'Kernel failure occurred during system startup process', 'Boot process was interrupted by kernel error', 'Kernel problem caused system to crash during boot']\n",
      "\n",
      "\n",
      "Cluster 25:\n",
      "['System configuration is no longer valid', 'Configuration is corrupted throughout the system', 'Cross-system configuration failure occurred', 'System configuration is experiencing errors', 'Configuration malfunction is system-wide', 'Entire system configuration is faulty', 'System configuration errors have been detected', 'System configuration has been severely damaged', 'System-wide configuration failure has occurred', 'System configuration files are corrupted', 'Configuration errors were found system-wide', 'Configuration corruption is affecting the system', 'Configuration problem has been found system-wide']\n",
      "\n",
      "\n",
      "Cluster 42:\n",
      "['User 5127 has escalated admin privileges without authorization', 'User 9745 has escalated to admin level', 'User 8483 escalated privileges to admin level', 'User 1987 has escalated to admin level', 'User 8395 escalated privileges to admin level', 'User 8693 has escalated to admin level', 'User 9202 has admin privileges escalated', 'User 4373 has escalated admin privileges without authorization', 'Unauthorized admin privilege escalation by user 3332', 'User 1985 has admin privileges escalated', 'Unauthorized admin privilege escalation by user 8440', 'Unauthorized admin privilege escalation by user 4249', 'User 3098 escalated privileges to admin level']\n",
      "\n",
      "\n",
      "Cluster 59:\n",
      "['Potential security threat: Admin privilege escalation for user 5130', 'Admin privilege escalation alert for user 2893', 'Admin privilege escalation alert for user 8532', 'Potential security threat: Admin privilege escalation for user 1554', 'Warning: Potential admin privilege escalation for user 5720', 'Alert: Admin privilege escalation for user 6856 detected', 'Alert: Admin privilege escalation for user 5721 detected', 'Warning: Potential admin privilege escalation for user 5706', 'Alert: Admin privilege escalation for user 9724 detected', 'Warning: Potential admin privilege escalation for user 1559', 'Admin privilege escalation alert for user 2655', 'Potential security threat: Admin privilege escalation for user 5550']\n",
      "\n",
      "\n",
      "Cluster 26:\n",
      "['Privilege elevation detected for user 5038', 'Elevation of admin privileges detected for user 6137', 'Elevation of admin privileges detected for user 4907', 'User 6069 has been granted elevated admin privileges', 'Admin privilege elevation warning for user 7574', 'Privilege elevation detected for user 6942', 'Elevation of admin privileges detected for user 8436', 'Privilege elevation detected for user 3965', 'Admin rights elevated for user 6519', 'Admin privilege elevation warning for user 8383', 'Admin privilege elevation warning for user 8634']\n",
      "\n",
      "\n"
     ]
    }
   ],
   "source": [
    "# Group by cluster and filter clusters with more than 10 messages\n",
    "cluster_counts = df['cluster'].value_counts()\n",
    "clusters_with_more_than_10 = cluster_counts[cluster_counts > 10].index\n",
    "\n",
    "# Print the clusters and their corresponding log messages\n",
    "for cluster in clusters_with_more_than_10:\n",
    "    print(f\"Cluster {cluster}:\")\n",
    "    print(df[df['cluster'] == cluster]['log_message'].tolist())\n",
    "    print(\"\\n\")"
   ]
  },
  {
   "cell_type": "code",
   "execution_count": 26,
   "id": "aa755362",
   "metadata": {},
   "outputs": [],
   "source": [
    "def classify_regex(log_message):\n",
    "    regex_patterns = {\n",
    "        r\"User User\\d+ logged (in|out).\": \"User Action\",\n",
    "        r\"Backup (started|ended) at .*\": \"System Notification\",\n",
    "        r\"Backup completed successfully.\": \"System Notification\",\n",
    "        r\"System updated to version .*\": \"System Notification\",\n",
    "        r\"File .* uploaded successfully by user .*\": \"System Notification\",\n",
    "        r\"Disk cleanup completed successfully.\": \"System Notification\",\n",
    "        r\"System reboot initiated by user .*\": \"System Notification\",\n",
    "        r\"Account with ID .* created by .*\": \"User Action\"\n",
    "    }\n",
    "    for pattern, category in regex_patterns.items():\n",
    "        if re.search(pattern, log_message, re.IGNORECASE):\n",
    "            return category\n",
    "    return \"Unknown\""
   ]
  },
  {
   "cell_type": "code",
   "execution_count": 27,
   "id": "3d95bef8",
   "metadata": {},
   "outputs": [
    {
     "data": {
      "text/plain": [
       "'Unknown'"
      ]
     },
     "execution_count": 27,
     "metadata": {},
     "output_type": "execute_result"
    }
   ],
   "source": [
    "classify_regex(\"this is message will return NONE.\")"
   ]
  },
  {
   "cell_type": "code",
   "execution_count": 28,
   "id": "3090a334",
   "metadata": {},
   "outputs": [
    {
     "data": {
      "application/vnd.microsoft.datawrangler.viewer.v0+json": {
       "columns": [
        {
         "name": "index",
         "rawType": "int64",
         "type": "integer"
        },
        {
         "name": "timestamp",
         "rawType": "object",
         "type": "string"
        },
        {
         "name": "source",
         "rawType": "object",
         "type": "string"
        },
        {
         "name": "log_message",
         "rawType": "object",
         "type": "string"
        },
        {
         "name": "target_label",
         "rawType": "object",
         "type": "string"
        },
        {
         "name": "cluster",
         "rawType": "int64",
         "type": "integer"
        },
        {
         "name": "regex_label",
         "rawType": "object",
         "type": "string"
        }
       ],
       "conversionMethod": "pd.DataFrame",
       "ref": "aa5681a4-bd76-4592-8ef0-d2b91f2872b7",
       "rows": [
        [
         "0",
         "2025-06-27 07:20:25",
         "ModernCRM",
         "nova.osapi_compute.wsgi.server [req-b9718cd8-f65e-49cc-8349-6cf7122af137 113d3a99c3da401fbd62cc2caa5b96d2 54fadb412c4e40cdbaed9335e4c35a9e - - -] 10.11.10.1 \"GET /v2/54fadb412c4e40cdbaed9335e4c35a9e/servers/detail HTTP/1.1\" status: 200 len: 1893 time: 0.2675118",
         "HTTP Status",
         "0",
         "Unknown"
        ],
        [
         "1",
         "1/14/2025 23:07",
         "ModernCRM",
         "Email service experiencing issues with sending",
         "Critical Error",
         "1",
         "Unknown"
        ],
        [
         "2",
         "1/17/2025 1:29",
         "AnalyticsEngine",
         "Unauthorized access to data was attempted",
         "Security Alert",
         "2",
         "Unknown"
        ],
        [
         "3",
         "2025-07-12 00:24:16",
         "ModernHR",
         "nova.osapi_compute.wsgi.server [req-4895c258-b2f8-488f-a2a3-4fae63982e48 113d3a99c3da401fbd62cc2caa5b96d2 54fadb412c4e40cdbaed9335e4c35a9e - - -] 10.11.10.1 \"GET /v2/54fadb412c4e40cdbaed9335e4c35a9e/servers/detail HTTP/1.1\" HTTP status code -  200 len: 211 time: 0.0968180",
         "HTTP Status",
         "0",
         "Unknown"
        ],
        [
         "4",
         "2025-06-02 18:25:23",
         "BillingSystem",
         "nova.osapi_compute.wsgi.server [req-ee8bc8ba-9265-4280-9215-dbe000a41209 113d3a99c3da401fbd62cc2caa5b96d2 54fadb412c4e40cdbaed9335e4c35a9e - - -] 10.11.10.1 \"GET /v2/54fadb412c4e40cdbaed9335e4c35a9e/servers/detail HTTP/1.1\" RCODE  200 len: 1874 time: 0.2280791",
         "HTTP Status",
         "0",
         "Unknown"
        ],
        [
         "5",
         "2025-10-09 10:30:31",
         "ModernHR",
         "nova.osapi_compute.wsgi.server [req-f0bffbc3-5ab0-4916-91c1-0a61dd7d4ec2 113d3a99c3da401fbd62cc2caa5b96d2 54fadb412c4e40cdbaed9335e4c35a9e - - -] 10.11.10.1 \"GET /v2/54fadb412c4e40cdbaed9335e4c35a9e/servers/detail HTTP/1.1\" Return code: 200 len: 1874 time: 0.2131531",
         "HTTP Status",
         "0",
         "Unknown"
        ],
        [
         "6",
         "3/1/2025 19:14",
         "ModernHR",
         "Shard 6 replication task ended in failure",
         "Error",
         "3",
         "Unknown"
        ],
        [
         "7",
         "10/11/2025 8:44",
         "ModernHR",
         "File data_6169.csv uploaded successfully by user User953.",
         "System Notification",
         "4",
         "System Notification"
        ],
        [
         "8",
         "2025-02-12 10:42:29",
         "ThirdPartyAPI",
         "nova.compute.claims [req-a07ac654-8e81-416d-bfbb-189116b07969 113d3a99c3da401fbd62cc2caa5b96d2 54fadb412c4e40cdbaed9335e4c35a9e - - -] [instance: bf8c824d-f099-4433-a41e-e3da7578262e] Total memory: 64172 MB, used: 512.00 MB",
         "Resource Usage",
         "5",
         "Unknown"
        ],
        [
         "9",
         "2025-03-30 04:01:45",
         "ModernHR",
         "nova.osapi_compute.wsgi.server [req-2bf7cfee-a236-42f3-8fb1-96fefab0b302 113d3a99c3da401fbd62cc2caa5b96d2 54fadb412c4e40cdbaed9335e4c35a9e - - -] 10.11.10.1 \"GET /v2/54fadb412c4e40cdbaed9335e4c35a9e/servers/detail HTTP/1.1\" RCODE  200 len: 1874 time: 0.1794369",
         "HTTP Status",
         "0",
         "Unknown"
        ],
        [
         "10",
         "8/9/2025 18:58",
         "ModernCRM",
         "Email server encountered a sending fault",
         "Error",
         "1",
         "Unknown"
        ],
        [
         "11",
         "6/15/2025 11:44",
         "ModernHR",
         "Critical system unit error: unit ID Component55",
         "Critical Error",
         "6",
         "Unknown"
        ],
        [
         "12",
         "2025-07-12 03:03:18",
         "ModernHR",
         "nova.osapi_compute.wsgi.server [req-d4f8d0c2-4f21-4b38-9f85-d82f8da75c23 113d3a99c3da401fbd62cc2caa5b96d2 54fadb412c4e40cdbaed9335e4c35a9e - - -] 10.11.10.1 \"GET /v2/54fadb412c4e40cdbaed9335e4c35a9e/servers/detail HTTP/1.1\" status: 200 len: 1893 time: 0.2663860",
         "HTTP Status",
         "0",
         "Unknown"
        ],
        [
         "13",
         "8/4/2025 19:57",
         "ThirdPartyAPI",
         "Multiple bad login attempts detected on user 8538 account",
         "Security Alert",
         "7",
         "Unknown"
        ],
        [
         "14",
         "1/4/2025 1:43",
         "ThirdPartyAPI",
         "File data_3847.csv uploaded successfully by user User175.",
         "System Notification",
         "4",
         "System Notification"
        ],
        [
         "15",
         "5/1/2025 9:41",
         "ModernCRM",
         "Backup completed successfully.",
         "System Notification",
         "8",
         "System Notification"
        ],
        [
         "16",
         "2025-11-15 14:48:30",
         "BillingSystem",
         "nova.osapi_compute.wsgi.server [req-6fe0e366-f20b-454e-ade1-771deb7a911f 113d3a99c3da401fbd62cc2caa5b96d2 54fadb412c4e40cdbaed9335e4c35a9e - - -] 10.11.10.1 \"GET /v2/54fadb412c4e40cdbaed9335e4c35a9e/servers/detail HTTP/1.1\" Status code -  200 len: 1893 time: 0.2608259",
         "HTTP Status",
         "0",
         "Unknown"
        ],
        [
         "17",
         "2025-01-27 12:39:05",
         "ModernCRM",
         "nova.osapi_compute.wsgi.server [req-5f1c2027-e1b0-43f1-b6d3-694f483a69be 113d3a99c3da401fbd62cc2caa5b96d2 54fadb412c4e40cdbaed9335e4c35a9e - - -] 10.11.10.1 \"GET /v2/54fadb412c4e40cdbaed9335e4c35a9e/servers/detail HTTP/1.1\" RCODE  200 len: 1893 time: 0.2732208",
         "HTTP Status",
         "0",
         "Unknown"
        ],
        [
         "18",
         "2/22/2025 17:49",
         "ModernCRM",
         "Account with ID 5351 created by User634.",
         "User Action",
         "9",
         "User Action"
        ],
        [
         "19",
         "2025-07-10 01:17:59",
         "BillingSystem",
         "nova.osapi_compute.wsgi.server [req-945d1f31-a2e5-496a-a1da-21a0c88b6b61 113d3a99c3da401fbd62cc2caa5b96d2 54fadb412c4e40cdbaed9335e4c35a9e - - -] 10.11.10.1 \"GET /v2/54fadb412c4e40cdbaed9335e4c35a9e/servers/detail HTTP/1.1\" HTTP status code -  200 len: 1893 time: 0.2775040",
         "HTTP Status",
         "0",
         "Unknown"
        ],
        [
         "20",
         "2025-12-27 12:52:25",
         "ThirdPartyAPI",
         "nova.osapi_compute.wsgi.server [req-033d97b9-69e4-4acd-9029-f0d7b9370645 f7b8d1f1d4d44643b07fa10ca7d021fb e9746973ac574c6b8a9e8857f56a7608 - - -] 10.11.10.1 \"POST /v2/e9746973ac574c6b8a9e8857f56a7608/os-server-external-events HTTP/1.1\" status: 404 len: 296 time: 0.0847020",
         "HTTP Status",
         "0",
         "Unknown"
        ],
        [
         "21",
         "2025-03-01 19:16:10",
         "ModernCRM",
         "nova.osapi_compute.wsgi.server [req-75bc6269-8527-4b6a-8925-67611b9e00d9 113d3a99c3da401fbd62cc2caa5b96d2 54fadb412c4e40cdbaed9335e4c35a9e - - -] 10.11.10.1 \"GET /v2/54fadb412c4e40cdbaed9335e4c35a9e/servers/detail HTTP/1.1\" status: 200 len: 1916 time: 0.2785730",
         "HTTP Status",
         "0",
         "Unknown"
        ],
        [
         "22",
         "2025-08-28 03:54:33",
         "ThirdPartyAPI",
         "nova.compute.resource_tracker [req-addc1839-2ed5-4778-b57e-5854eb7b8b09 - - - - -] Final resource view: name=cp-1.slowvm1.tcloud-pg0.utah.cloudlab.us phys_ram=64172MB used_ram=512MB phys_disk=15GB used_disk=0GB total_vcpus=16 used_vcpus=0 pci_stats=[]",
         "Resource Usage",
         "10",
         "Unknown"
        ],
        [
         "23",
         "2025-09-01 18:46:38",
         "ModernHR",
         "nova.osapi_compute.wsgi.server [req-077c3c87-b7ff-46f8-8320-8fed200a0b94 113d3a99c3da401fbd62cc2caa5b96d2 54fadb412c4e40cdbaed9335e4c35a9e - - -] 10.11.10.1 \"GET /v2/54fadb412c4e40cdbaed9335e4c35a9e/servers/detail HTTP/1.1\" Status code -  200 len: 1893 time: 0.2517929",
         "HTTP Status",
         "0",
         "Unknown"
        ],
        [
         "24",
         "2025-12-16 23:18:28",
         "ModernCRM",
         "nova.osapi_compute.wsgi.server [req-4e83daf7-a24c-4ab4-96ff-1da5848255ad 113d3a99c3da401fbd62cc2caa5b96d2 54fadb412c4e40cdbaed9335e4c35a9e - - -] 10.11.10.1 \"GET /v2/54fadb412c4e40cdbaed9335e4c35a9e/servers/detail HTTP/1.1\" RCODE  200 len: 1583 time: 0.1878400",
         "HTTP Status",
         "0",
         "Unknown"
        ],
        [
         "25",
         "2025-02-15 09:00:40",
         "AnalyticsEngine",
         "nova.osapi_compute.wsgi.server [req-bfce366e-9868-4f52-b245-271e9b3455ca 113d3a99c3da401fbd62cc2caa5b96d2 54fadb412c4e40cdbaed9335e4c35a9e - - -] 10.11.10.1 \"GET /v2/54fadb412c4e40cdbaed9335e4c35a9e/servers/detail HTTP/1.1\" status: 200 len: 1583 time: 0.1962459",
         "HTTP Status",
         "0",
         "Unknown"
        ],
        [
         "26",
         "2025-03-03 17:11:11",
         "ModernCRM",
         "nova.compute.claims [req-d6986b54-3735-4a42-9074-0ba7d9717de9 113d3a99c3da401fbd62cc2caa5b96d2 54fadb412c4e40cdbaed9335e4c35a9e - - -] [instance: af5f7392-f7d4-4298-b647-c98924c64aa1] memory limit: 96258.00 MB, free: 95746.00 MB",
         "Resource Usage",
         "5",
         "Unknown"
        ],
        [
         "27",
         "9/24/2025 19:57",
         "ThirdPartyAPI",
         "User User685 logged out.",
         "User Action",
         "11",
         "User Action"
        ],
        [
         "28",
         "2025-07-31 07:47:02",
         "AnalyticsEngine",
         "nova.osapi_compute.wsgi.server [req-5e6e042b-f9e8-4ab4-add4-b4809623b13a 113d3a99c3da401fbd62cc2caa5b96d2 54fadb412c4e40cdbaed9335e4c35a9e - - -] 10.11.10.1 \"GET /v2/54fadb412c4e40cdbaed9335e4c35a9e/servers/detail HTTP/1.1\" Return code: 200 len: 1893 time: 0.2591050",
         "HTTP Status",
         "0",
         "Unknown"
        ],
        [
         "29",
         "3/10/2025 23:11",
         "AnalyticsEngine",
         "Alert: brute force login attempt from 192.168.80.114 detected",
         "Security Alert",
         "12",
         "Unknown"
        ],
        [
         "30",
         "4/26/2025 7:54",
         "AnalyticsEngine",
         "Backup started at 2025-05-14 07:06:55.",
         "System Notification",
         "13",
         "System Notification"
        ],
        [
         "31",
         "2025-10-28 00:49:44",
         "ModernCRM",
         "nova.metadata.wsgi.server [-] 10.11.21.138,10.11.10.1 \"GET /openstack/2013-10-17 HTTP/1.1\" RCODE  200 len: 157 time: 0.0010941",
         "HTTP Status",
         "0",
         "Unknown"
        ],
        [
         "32",
         "5/29/2025 7:36",
         "ModernCRM",
         "Detection of multiple disk faults in RAID setup",
         "Critical Error",
         "14",
         "Unknown"
        ],
        [
         "33",
         "2025-10-06 14:26:32",
         "AnalyticsEngine",
         "nova.osapi_compute.wsgi.server [req-fe9ef402-d3b4-4d8c-8093-17b49aba2993 113d3a99c3da401fbd62cc2caa5b96d2 54fadb412c4e40cdbaed9335e4c35a9e - - -] 10.11.10.1 \"GET /v2/54fadb412c4e40cdbaed9335e4c35a9e/servers/detail HTTP/1.1\" RCODE  200 len: 1893 time: 0.2738080",
         "HTTP Status",
         "0",
         "Unknown"
        ],
        [
         "34",
         "9/30/2025 8:13",
         "ThirdPartyAPI",
         "Suspicious login activity detected from 192.168.24.250",
         "Security Alert",
         "15",
         "Unknown"
        ],
        [
         "35",
         "6/22/2025 0:22",
         "ThirdPartyAPI",
         "System component malfunction: component ID Component79",
         "Critical Error",
         "6",
         "Unknown"
        ],
        [
         "36",
         "11/19/2025 13:14",
         "BillingSystem",
         "System reboot initiated by user User243.",
         "System Notification",
         "16",
         "System Notification"
        ],
        [
         "37",
         "2025-07-03 17:18:22",
         "ModernHR",
         "nova.metadata.wsgi.server [req-27e91939-3ba4-4d14-80e1-47d8fbb230ff - - - - -] 10.11.21.126,10.11.10.1 \"GET /latest/meta-data/block-device-mapping/root HTTP/1.1\" Status code -  200 len: 124 time: 0.2206309",
         "HTTP Status",
         "0",
         "Unknown"
        ],
        [
         "38",
         "8/19/2025 16:43",
         "AnalyticsEngine",
         "Denied access attempt on restricted account Account2682",
         "Security Alert",
         "17",
         "Unknown"
        ],
        [
         "39",
         "2025-04-12 08:10:38",
         "ModernHR",
         "nova.osapi_compute.wsgi.server [req-aef59c8e-1f3c-4a10-8c3b-8e73c538f3ed 113d3a99c3da401fbd62cc2caa5b96d2 54fadb412c4e40cdbaed9335e4c35a9e - - -] 10.11.10.1 \"GET /v2/54fadb412c4e40cdbaed9335e4c35a9e/servers/detail HTTP/1.1\" status: 200 len: 1583 time: 0.1843870",
         "HTTP Status",
         "0",
         "Unknown"
        ],
        [
         "40",
         "2025-06-19 21:42:34",
         "ThirdPartyAPI",
         "nova.compute.claims [req-72b4858f-049e-49e1-b31e-b562c5018eaf 113d3a99c3da401fbd62cc2caa5b96d2 54fadb412c4e40cdbaed9335e4c35a9e - - -] [instance: 63a0d960-70b6-44c6-b606-491478a5cadf] disk limit not specified, defaulting to unlimited",
         "Resource Usage",
         "5",
         "Unknown"
        ],
        [
         "41",
         "2025-04-01 19:44:04",
         "AnalyticsEngine",
         "nova.osapi_compute.wsgi.server [req-3f4867ee-5402-4e7f-bf24-41c58b20e80b 113d3a99c3da401fbd62cc2caa5b96d2 54fadb412c4e40cdbaed9335e4c35a9e - - -] 10.11.10.1 \"GET /v2/54fadb412c4e40cdbaed9335e4c35a9e/servers/detail HTTP/1.1\" RCODE  200 len: 1893 time: 0.2732630",
         "HTTP Status",
         "0",
         "Unknown"
        ],
        [
         "42",
         "4/1/2025 16:42",
         "ThirdPartyAPI",
         "Boot process terminated unexpectedly due to kernel issue",
         "Critical Error",
         "18",
         "Unknown"
        ],
        [
         "43",
         "11/22/2025 11:06",
         "BillingSystem",
         "Abnormal system behavior on server 40, potential security breach",
         "Security Alert",
         "19",
         "Unknown"
        ],
        [
         "44",
         "6/20/2025 0:53",
         "BillingSystem",
         "Backup started at 2025-02-15 20:00:19.",
         "System Notification",
         "13",
         "System Notification"
        ],
        [
         "45",
         "5/22/2025 3:17",
         "ThirdPartyAPI",
         "Data replication task for shard 14 did not complete",
         "Error",
         "3",
         "Unknown"
        ],
        [
         "46",
         "1/14/2025 4:46",
         "ModernHR",
         "User 7662 tried to bypass API security measures",
         "Security Alert",
         "20",
         "Unknown"
        ],
        [
         "47",
         "2025-03-25 01:18:09",
         "ModernCRM",
         "nova.osapi_compute.wsgi.server [req-4d05bae9-8a34-42b6-98be-991eae0f992c 113d3a99c3da401fbd62cc2caa5b96d2 54fadb412c4e40cdbaed9335e4c35a9e - - -] 10.11.10.1 \"GET /v2/54fadb412c4e40cdbaed9335e4c35a9e/servers/detail HTTP/1.1\" Return code: 200 len: 1874 time: 0.1925120",
         "HTTP Status",
         "0",
         "Unknown"
        ],
        [
         "48",
         "7/1/2025 9:43",
         "ModernHR",
         "File data_7366.csv uploaded successfully by user User282.",
         "System Notification",
         "4",
         "System Notification"
        ],
        [
         "49",
         "2025-01-13 20:36:16",
         "ModernCRM",
         "nova.osapi_compute.wsgi.server [req-d5fd3b8a-3323-4f9f-9453-d74ab24c21d3 113d3a99c3da401fbd62cc2caa5b96d2 54fadb412c4e40cdbaed9335e4c35a9e - - -] 10.11.10.1 \"GET /v2/54fadb412c4e40cdbaed9335e4c35a9e/servers/63a0d960-70b6-44c6-b606-491478a5cadf HTTP/1.1\" RCODE  200 len: 1708 time: 0.1946359",
         "HTTP Status",
         "0",
         "Unknown"
        ]
       ],
       "shape": {
        "columns": 6,
        "rows": 2410
       }
      },
      "text/html": [
       "<div>\n",
       "<style scoped>\n",
       "    .dataframe tbody tr th:only-of-type {\n",
       "        vertical-align: middle;\n",
       "    }\n",
       "\n",
       "    .dataframe tbody tr th {\n",
       "        vertical-align: top;\n",
       "    }\n",
       "\n",
       "    .dataframe thead th {\n",
       "        text-align: right;\n",
       "    }\n",
       "</style>\n",
       "<table border=\"1\" class=\"dataframe\">\n",
       "  <thead>\n",
       "    <tr style=\"text-align: right;\">\n",
       "      <th></th>\n",
       "      <th>timestamp</th>\n",
       "      <th>source</th>\n",
       "      <th>log_message</th>\n",
       "      <th>target_label</th>\n",
       "      <th>cluster</th>\n",
       "      <th>regex_label</th>\n",
       "    </tr>\n",
       "  </thead>\n",
       "  <tbody>\n",
       "    <tr>\n",
       "      <th>0</th>\n",
       "      <td>2025-06-27 07:20:25</td>\n",
       "      <td>ModernCRM</td>\n",
       "      <td>nova.osapi_compute.wsgi.server [req-b9718cd8-f...</td>\n",
       "      <td>HTTP Status</td>\n",
       "      <td>0</td>\n",
       "      <td>Unknown</td>\n",
       "    </tr>\n",
       "    <tr>\n",
       "      <th>1</th>\n",
       "      <td>1/14/2025 23:07</td>\n",
       "      <td>ModernCRM</td>\n",
       "      <td>Email service experiencing issues with sending</td>\n",
       "      <td>Critical Error</td>\n",
       "      <td>1</td>\n",
       "      <td>Unknown</td>\n",
       "    </tr>\n",
       "    <tr>\n",
       "      <th>2</th>\n",
       "      <td>1/17/2025 1:29</td>\n",
       "      <td>AnalyticsEngine</td>\n",
       "      <td>Unauthorized access to data was attempted</td>\n",
       "      <td>Security Alert</td>\n",
       "      <td>2</td>\n",
       "      <td>Unknown</td>\n",
       "    </tr>\n",
       "    <tr>\n",
       "      <th>3</th>\n",
       "      <td>2025-07-12 00:24:16</td>\n",
       "      <td>ModernHR</td>\n",
       "      <td>nova.osapi_compute.wsgi.server [req-4895c258-b...</td>\n",
       "      <td>HTTP Status</td>\n",
       "      <td>0</td>\n",
       "      <td>Unknown</td>\n",
       "    </tr>\n",
       "    <tr>\n",
       "      <th>4</th>\n",
       "      <td>2025-06-02 18:25:23</td>\n",
       "      <td>BillingSystem</td>\n",
       "      <td>nova.osapi_compute.wsgi.server [req-ee8bc8ba-9...</td>\n",
       "      <td>HTTP Status</td>\n",
       "      <td>0</td>\n",
       "      <td>Unknown</td>\n",
       "    </tr>\n",
       "    <tr>\n",
       "      <th>...</th>\n",
       "      <td>...</td>\n",
       "      <td>...</td>\n",
       "      <td>...</td>\n",
       "      <td>...</td>\n",
       "      <td>...</td>\n",
       "      <td>...</td>\n",
       "    </tr>\n",
       "    <tr>\n",
       "      <th>2405</th>\n",
       "      <td>2025-08-13 07:29:25</td>\n",
       "      <td>ModernHR</td>\n",
       "      <td>nova.osapi_compute.wsgi.server [req-96c3ec98-2...</td>\n",
       "      <td>HTTP Status</td>\n",
       "      <td>0</td>\n",
       "      <td>Unknown</td>\n",
       "    </tr>\n",
       "    <tr>\n",
       "      <th>2406</th>\n",
       "      <td>1/11/2025 5:32</td>\n",
       "      <td>ModernHR</td>\n",
       "      <td>User 3844 account experienced multiple failed ...</td>\n",
       "      <td>Security Alert</td>\n",
       "      <td>7</td>\n",
       "      <td>Unknown</td>\n",
       "    </tr>\n",
       "    <tr>\n",
       "      <th>2407</th>\n",
       "      <td>2025-08-03 03:07:47</td>\n",
       "      <td>ThirdPartyAPI</td>\n",
       "      <td>nova.metadata.wsgi.server [req-b6d4a270-accb-4...</td>\n",
       "      <td>HTTP Status</td>\n",
       "      <td>0</td>\n",
       "      <td>Unknown</td>\n",
       "    </tr>\n",
       "    <tr>\n",
       "      <th>2408</th>\n",
       "      <td>11/11/2025 11:52</td>\n",
       "      <td>BillingSystem</td>\n",
       "      <td>Email service affected by failed transmission</td>\n",
       "      <td>Critical Error</td>\n",
       "      <td>1</td>\n",
       "      <td>Unknown</td>\n",
       "    </tr>\n",
       "    <tr>\n",
       "      <th>2409</th>\n",
       "      <td>12/25/2025 13:21</td>\n",
       "      <td>AnalyticsEngine</td>\n",
       "      <td>Repeated failed login attempts occurred for us...</td>\n",
       "      <td>Security Alert</td>\n",
       "      <td>7</td>\n",
       "      <td>Unknown</td>\n",
       "    </tr>\n",
       "  </tbody>\n",
       "</table>\n",
       "<p>2410 rows × 6 columns</p>\n",
       "</div>"
      ],
      "text/plain": [
       "                timestamp           source  \\\n",
       "0     2025-06-27 07:20:25        ModernCRM   \n",
       "1         1/14/2025 23:07        ModernCRM   \n",
       "2          1/17/2025 1:29  AnalyticsEngine   \n",
       "3     2025-07-12 00:24:16         ModernHR   \n",
       "4     2025-06-02 18:25:23    BillingSystem   \n",
       "...                   ...              ...   \n",
       "2405  2025-08-13 07:29:25         ModernHR   \n",
       "2406       1/11/2025 5:32         ModernHR   \n",
       "2407  2025-08-03 03:07:47    ThirdPartyAPI   \n",
       "2408     11/11/2025 11:52    BillingSystem   \n",
       "2409     12/25/2025 13:21  AnalyticsEngine   \n",
       "\n",
       "                                            log_message    target_label  \\\n",
       "0     nova.osapi_compute.wsgi.server [req-b9718cd8-f...     HTTP Status   \n",
       "1        Email service experiencing issues with sending  Critical Error   \n",
       "2             Unauthorized access to data was attempted  Security Alert   \n",
       "3     nova.osapi_compute.wsgi.server [req-4895c258-b...     HTTP Status   \n",
       "4     nova.osapi_compute.wsgi.server [req-ee8bc8ba-9...     HTTP Status   \n",
       "...                                                 ...             ...   \n",
       "2405  nova.osapi_compute.wsgi.server [req-96c3ec98-2...     HTTP Status   \n",
       "2406  User 3844 account experienced multiple failed ...  Security Alert   \n",
       "2407  nova.metadata.wsgi.server [req-b6d4a270-accb-4...     HTTP Status   \n",
       "2408      Email service affected by failed transmission  Critical Error   \n",
       "2409  Repeated failed login attempts occurred for us...  Security Alert   \n",
       "\n",
       "      cluster regex_label  \n",
       "0           0     Unknown  \n",
       "1           1     Unknown  \n",
       "2           2     Unknown  \n",
       "3           0     Unknown  \n",
       "4           0     Unknown  \n",
       "...       ...         ...  \n",
       "2405        0     Unknown  \n",
       "2406        7     Unknown  \n",
       "2407        0     Unknown  \n",
       "2408        1     Unknown  \n",
       "2409        7     Unknown  \n",
       "\n",
       "[2410 rows x 6 columns]"
      ]
     },
     "execution_count": 28,
     "metadata": {},
     "output_type": "execute_result"
    }
   ],
   "source": [
    "df['regex_label'] = df['log_message'].apply(classify_regex)\n",
    "df"
   ]
  },
  {
   "cell_type": "code",
   "execution_count": 29,
   "id": "a45d3bce",
   "metadata": {},
   "outputs": [
    {
     "data": {
      "application/vnd.microsoft.datawrangler.viewer.v0+json": {
       "columns": [
        {
         "name": "index",
         "rawType": "int64",
         "type": "integer"
        },
        {
         "name": "timestamp",
         "rawType": "object",
         "type": "string"
        },
        {
         "name": "source",
         "rawType": "object",
         "type": "string"
        },
        {
         "name": "log_message",
         "rawType": "object",
         "type": "string"
        },
        {
         "name": "target_label",
         "rawType": "object",
         "type": "string"
        },
        {
         "name": "cluster",
         "rawType": "int64",
         "type": "integer"
        },
        {
         "name": "regex_label",
         "rawType": "object",
         "type": "string"
        }
       ],
       "conversionMethod": "pd.DataFrame",
       "ref": "964735cb-11e3-42f7-8cad-c18bd6f6b068",
       "rows": [
        [
         "0",
         "2025-06-27 07:20:25",
         "ModernCRM",
         "nova.osapi_compute.wsgi.server [req-b9718cd8-f65e-49cc-8349-6cf7122af137 113d3a99c3da401fbd62cc2caa5b96d2 54fadb412c4e40cdbaed9335e4c35a9e - - -] 10.11.10.1 \"GET /v2/54fadb412c4e40cdbaed9335e4c35a9e/servers/detail HTTP/1.1\" status: 200 len: 1893 time: 0.2675118",
         "HTTP Status",
         "0",
         "Unknown"
        ],
        [
         "1",
         "1/14/2025 23:07",
         "ModernCRM",
         "Email service experiencing issues with sending",
         "Critical Error",
         "1",
         "Unknown"
        ],
        [
         "2",
         "1/17/2025 1:29",
         "AnalyticsEngine",
         "Unauthorized access to data was attempted",
         "Security Alert",
         "2",
         "Unknown"
        ],
        [
         "3",
         "2025-07-12 00:24:16",
         "ModernHR",
         "nova.osapi_compute.wsgi.server [req-4895c258-b2f8-488f-a2a3-4fae63982e48 113d3a99c3da401fbd62cc2caa5b96d2 54fadb412c4e40cdbaed9335e4c35a9e - - -] 10.11.10.1 \"GET /v2/54fadb412c4e40cdbaed9335e4c35a9e/servers/detail HTTP/1.1\" HTTP status code -  200 len: 211 time: 0.0968180",
         "HTTP Status",
         "0",
         "Unknown"
        ],
        [
         "4",
         "2025-06-02 18:25:23",
         "BillingSystem",
         "nova.osapi_compute.wsgi.server [req-ee8bc8ba-9265-4280-9215-dbe000a41209 113d3a99c3da401fbd62cc2caa5b96d2 54fadb412c4e40cdbaed9335e4c35a9e - - -] 10.11.10.1 \"GET /v2/54fadb412c4e40cdbaed9335e4c35a9e/servers/detail HTTP/1.1\" RCODE  200 len: 1874 time: 0.2280791",
         "HTTP Status",
         "0",
         "Unknown"
        ],
        [
         "5",
         "2025-10-09 10:30:31",
         "ModernHR",
         "nova.osapi_compute.wsgi.server [req-f0bffbc3-5ab0-4916-91c1-0a61dd7d4ec2 113d3a99c3da401fbd62cc2caa5b96d2 54fadb412c4e40cdbaed9335e4c35a9e - - -] 10.11.10.1 \"GET /v2/54fadb412c4e40cdbaed9335e4c35a9e/servers/detail HTTP/1.1\" Return code: 200 len: 1874 time: 0.2131531",
         "HTTP Status",
         "0",
         "Unknown"
        ],
        [
         "6",
         "3/1/2025 19:14",
         "ModernHR",
         "Shard 6 replication task ended in failure",
         "Error",
         "3",
         "Unknown"
        ],
        [
         "8",
         "2025-02-12 10:42:29",
         "ThirdPartyAPI",
         "nova.compute.claims [req-a07ac654-8e81-416d-bfbb-189116b07969 113d3a99c3da401fbd62cc2caa5b96d2 54fadb412c4e40cdbaed9335e4c35a9e - - -] [instance: bf8c824d-f099-4433-a41e-e3da7578262e] Total memory: 64172 MB, used: 512.00 MB",
         "Resource Usage",
         "5",
         "Unknown"
        ],
        [
         "9",
         "2025-03-30 04:01:45",
         "ModernHR",
         "nova.osapi_compute.wsgi.server [req-2bf7cfee-a236-42f3-8fb1-96fefab0b302 113d3a99c3da401fbd62cc2caa5b96d2 54fadb412c4e40cdbaed9335e4c35a9e - - -] 10.11.10.1 \"GET /v2/54fadb412c4e40cdbaed9335e4c35a9e/servers/detail HTTP/1.1\" RCODE  200 len: 1874 time: 0.1794369",
         "HTTP Status",
         "0",
         "Unknown"
        ],
        [
         "10",
         "8/9/2025 18:58",
         "ModernCRM",
         "Email server encountered a sending fault",
         "Error",
         "1",
         "Unknown"
        ],
        [
         "11",
         "6/15/2025 11:44",
         "ModernHR",
         "Critical system unit error: unit ID Component55",
         "Critical Error",
         "6",
         "Unknown"
        ],
        [
         "12",
         "2025-07-12 03:03:18",
         "ModernHR",
         "nova.osapi_compute.wsgi.server [req-d4f8d0c2-4f21-4b38-9f85-d82f8da75c23 113d3a99c3da401fbd62cc2caa5b96d2 54fadb412c4e40cdbaed9335e4c35a9e - - -] 10.11.10.1 \"GET /v2/54fadb412c4e40cdbaed9335e4c35a9e/servers/detail HTTP/1.1\" status: 200 len: 1893 time: 0.2663860",
         "HTTP Status",
         "0",
         "Unknown"
        ],
        [
         "13",
         "8/4/2025 19:57",
         "ThirdPartyAPI",
         "Multiple bad login attempts detected on user 8538 account",
         "Security Alert",
         "7",
         "Unknown"
        ],
        [
         "16",
         "2025-11-15 14:48:30",
         "BillingSystem",
         "nova.osapi_compute.wsgi.server [req-6fe0e366-f20b-454e-ade1-771deb7a911f 113d3a99c3da401fbd62cc2caa5b96d2 54fadb412c4e40cdbaed9335e4c35a9e - - -] 10.11.10.1 \"GET /v2/54fadb412c4e40cdbaed9335e4c35a9e/servers/detail HTTP/1.1\" Status code -  200 len: 1893 time: 0.2608259",
         "HTTP Status",
         "0",
         "Unknown"
        ],
        [
         "17",
         "2025-01-27 12:39:05",
         "ModernCRM",
         "nova.osapi_compute.wsgi.server [req-5f1c2027-e1b0-43f1-b6d3-694f483a69be 113d3a99c3da401fbd62cc2caa5b96d2 54fadb412c4e40cdbaed9335e4c35a9e - - -] 10.11.10.1 \"GET /v2/54fadb412c4e40cdbaed9335e4c35a9e/servers/detail HTTP/1.1\" RCODE  200 len: 1893 time: 0.2732208",
         "HTTP Status",
         "0",
         "Unknown"
        ],
        [
         "19",
         "2025-07-10 01:17:59",
         "BillingSystem",
         "nova.osapi_compute.wsgi.server [req-945d1f31-a2e5-496a-a1da-21a0c88b6b61 113d3a99c3da401fbd62cc2caa5b96d2 54fadb412c4e40cdbaed9335e4c35a9e - - -] 10.11.10.1 \"GET /v2/54fadb412c4e40cdbaed9335e4c35a9e/servers/detail HTTP/1.1\" HTTP status code -  200 len: 1893 time: 0.2775040",
         "HTTP Status",
         "0",
         "Unknown"
        ],
        [
         "20",
         "2025-12-27 12:52:25",
         "ThirdPartyAPI",
         "nova.osapi_compute.wsgi.server [req-033d97b9-69e4-4acd-9029-f0d7b9370645 f7b8d1f1d4d44643b07fa10ca7d021fb e9746973ac574c6b8a9e8857f56a7608 - - -] 10.11.10.1 \"POST /v2/e9746973ac574c6b8a9e8857f56a7608/os-server-external-events HTTP/1.1\" status: 404 len: 296 time: 0.0847020",
         "HTTP Status",
         "0",
         "Unknown"
        ],
        [
         "21",
         "2025-03-01 19:16:10",
         "ModernCRM",
         "nova.osapi_compute.wsgi.server [req-75bc6269-8527-4b6a-8925-67611b9e00d9 113d3a99c3da401fbd62cc2caa5b96d2 54fadb412c4e40cdbaed9335e4c35a9e - - -] 10.11.10.1 \"GET /v2/54fadb412c4e40cdbaed9335e4c35a9e/servers/detail HTTP/1.1\" status: 200 len: 1916 time: 0.2785730",
         "HTTP Status",
         "0",
         "Unknown"
        ],
        [
         "22",
         "2025-08-28 03:54:33",
         "ThirdPartyAPI",
         "nova.compute.resource_tracker [req-addc1839-2ed5-4778-b57e-5854eb7b8b09 - - - - -] Final resource view: name=cp-1.slowvm1.tcloud-pg0.utah.cloudlab.us phys_ram=64172MB used_ram=512MB phys_disk=15GB used_disk=0GB total_vcpus=16 used_vcpus=0 pci_stats=[]",
         "Resource Usage",
         "10",
         "Unknown"
        ],
        [
         "23",
         "2025-09-01 18:46:38",
         "ModernHR",
         "nova.osapi_compute.wsgi.server [req-077c3c87-b7ff-46f8-8320-8fed200a0b94 113d3a99c3da401fbd62cc2caa5b96d2 54fadb412c4e40cdbaed9335e4c35a9e - - -] 10.11.10.1 \"GET /v2/54fadb412c4e40cdbaed9335e4c35a9e/servers/detail HTTP/1.1\" Status code -  200 len: 1893 time: 0.2517929",
         "HTTP Status",
         "0",
         "Unknown"
        ],
        [
         "24",
         "2025-12-16 23:18:28",
         "ModernCRM",
         "nova.osapi_compute.wsgi.server [req-4e83daf7-a24c-4ab4-96ff-1da5848255ad 113d3a99c3da401fbd62cc2caa5b96d2 54fadb412c4e40cdbaed9335e4c35a9e - - -] 10.11.10.1 \"GET /v2/54fadb412c4e40cdbaed9335e4c35a9e/servers/detail HTTP/1.1\" RCODE  200 len: 1583 time: 0.1878400",
         "HTTP Status",
         "0",
         "Unknown"
        ],
        [
         "25",
         "2025-02-15 09:00:40",
         "AnalyticsEngine",
         "nova.osapi_compute.wsgi.server [req-bfce366e-9868-4f52-b245-271e9b3455ca 113d3a99c3da401fbd62cc2caa5b96d2 54fadb412c4e40cdbaed9335e4c35a9e - - -] 10.11.10.1 \"GET /v2/54fadb412c4e40cdbaed9335e4c35a9e/servers/detail HTTP/1.1\" status: 200 len: 1583 time: 0.1962459",
         "HTTP Status",
         "0",
         "Unknown"
        ],
        [
         "26",
         "2025-03-03 17:11:11",
         "ModernCRM",
         "nova.compute.claims [req-d6986b54-3735-4a42-9074-0ba7d9717de9 113d3a99c3da401fbd62cc2caa5b96d2 54fadb412c4e40cdbaed9335e4c35a9e - - -] [instance: af5f7392-f7d4-4298-b647-c98924c64aa1] memory limit: 96258.00 MB, free: 95746.00 MB",
         "Resource Usage",
         "5",
         "Unknown"
        ],
        [
         "28",
         "2025-07-31 07:47:02",
         "AnalyticsEngine",
         "nova.osapi_compute.wsgi.server [req-5e6e042b-f9e8-4ab4-add4-b4809623b13a 113d3a99c3da401fbd62cc2caa5b96d2 54fadb412c4e40cdbaed9335e4c35a9e - - -] 10.11.10.1 \"GET /v2/54fadb412c4e40cdbaed9335e4c35a9e/servers/detail HTTP/1.1\" Return code: 200 len: 1893 time: 0.2591050",
         "HTTP Status",
         "0",
         "Unknown"
        ],
        [
         "29",
         "3/10/2025 23:11",
         "AnalyticsEngine",
         "Alert: brute force login attempt from 192.168.80.114 detected",
         "Security Alert",
         "12",
         "Unknown"
        ],
        [
         "31",
         "2025-10-28 00:49:44",
         "ModernCRM",
         "nova.metadata.wsgi.server [-] 10.11.21.138,10.11.10.1 \"GET /openstack/2013-10-17 HTTP/1.1\" RCODE  200 len: 157 time: 0.0010941",
         "HTTP Status",
         "0",
         "Unknown"
        ],
        [
         "32",
         "5/29/2025 7:36",
         "ModernCRM",
         "Detection of multiple disk faults in RAID setup",
         "Critical Error",
         "14",
         "Unknown"
        ],
        [
         "33",
         "2025-10-06 14:26:32",
         "AnalyticsEngine",
         "nova.osapi_compute.wsgi.server [req-fe9ef402-d3b4-4d8c-8093-17b49aba2993 113d3a99c3da401fbd62cc2caa5b96d2 54fadb412c4e40cdbaed9335e4c35a9e - - -] 10.11.10.1 \"GET /v2/54fadb412c4e40cdbaed9335e4c35a9e/servers/detail HTTP/1.1\" RCODE  200 len: 1893 time: 0.2738080",
         "HTTP Status",
         "0",
         "Unknown"
        ],
        [
         "34",
         "9/30/2025 8:13",
         "ThirdPartyAPI",
         "Suspicious login activity detected from 192.168.24.250",
         "Security Alert",
         "15",
         "Unknown"
        ],
        [
         "35",
         "6/22/2025 0:22",
         "ThirdPartyAPI",
         "System component malfunction: component ID Component79",
         "Critical Error",
         "6",
         "Unknown"
        ],
        [
         "37",
         "2025-07-03 17:18:22",
         "ModernHR",
         "nova.metadata.wsgi.server [req-27e91939-3ba4-4d14-80e1-47d8fbb230ff - - - - -] 10.11.21.126,10.11.10.1 \"GET /latest/meta-data/block-device-mapping/root HTTP/1.1\" Status code -  200 len: 124 time: 0.2206309",
         "HTTP Status",
         "0",
         "Unknown"
        ],
        [
         "38",
         "8/19/2025 16:43",
         "AnalyticsEngine",
         "Denied access attempt on restricted account Account2682",
         "Security Alert",
         "17",
         "Unknown"
        ],
        [
         "39",
         "2025-04-12 08:10:38",
         "ModernHR",
         "nova.osapi_compute.wsgi.server [req-aef59c8e-1f3c-4a10-8c3b-8e73c538f3ed 113d3a99c3da401fbd62cc2caa5b96d2 54fadb412c4e40cdbaed9335e4c35a9e - - -] 10.11.10.1 \"GET /v2/54fadb412c4e40cdbaed9335e4c35a9e/servers/detail HTTP/1.1\" status: 200 len: 1583 time: 0.1843870",
         "HTTP Status",
         "0",
         "Unknown"
        ],
        [
         "40",
         "2025-06-19 21:42:34",
         "ThirdPartyAPI",
         "nova.compute.claims [req-72b4858f-049e-49e1-b31e-b562c5018eaf 113d3a99c3da401fbd62cc2caa5b96d2 54fadb412c4e40cdbaed9335e4c35a9e - - -] [instance: 63a0d960-70b6-44c6-b606-491478a5cadf] disk limit not specified, defaulting to unlimited",
         "Resource Usage",
         "5",
         "Unknown"
        ],
        [
         "41",
         "2025-04-01 19:44:04",
         "AnalyticsEngine",
         "nova.osapi_compute.wsgi.server [req-3f4867ee-5402-4e7f-bf24-41c58b20e80b 113d3a99c3da401fbd62cc2caa5b96d2 54fadb412c4e40cdbaed9335e4c35a9e - - -] 10.11.10.1 \"GET /v2/54fadb412c4e40cdbaed9335e4c35a9e/servers/detail HTTP/1.1\" RCODE  200 len: 1893 time: 0.2732630",
         "HTTP Status",
         "0",
         "Unknown"
        ],
        [
         "42",
         "4/1/2025 16:42",
         "ThirdPartyAPI",
         "Boot process terminated unexpectedly due to kernel issue",
         "Critical Error",
         "18",
         "Unknown"
        ],
        [
         "43",
         "11/22/2025 11:06",
         "BillingSystem",
         "Abnormal system behavior on server 40, potential security breach",
         "Security Alert",
         "19",
         "Unknown"
        ],
        [
         "45",
         "5/22/2025 3:17",
         "ThirdPartyAPI",
         "Data replication task for shard 14 did not complete",
         "Error",
         "3",
         "Unknown"
        ],
        [
         "46",
         "1/14/2025 4:46",
         "ModernHR",
         "User 7662 tried to bypass API security measures",
         "Security Alert",
         "20",
         "Unknown"
        ],
        [
         "47",
         "2025-03-25 01:18:09",
         "ModernCRM",
         "nova.osapi_compute.wsgi.server [req-4d05bae9-8a34-42b6-98be-991eae0f992c 113d3a99c3da401fbd62cc2caa5b96d2 54fadb412c4e40cdbaed9335e4c35a9e - - -] 10.11.10.1 \"GET /v2/54fadb412c4e40cdbaed9335e4c35a9e/servers/detail HTTP/1.1\" Return code: 200 len: 1874 time: 0.1925120",
         "HTTP Status",
         "0",
         "Unknown"
        ],
        [
         "49",
         "2025-01-13 20:36:16",
         "ModernCRM",
         "nova.osapi_compute.wsgi.server [req-d5fd3b8a-3323-4f9f-9453-d74ab24c21d3 113d3a99c3da401fbd62cc2caa5b96d2 54fadb412c4e40cdbaed9335e4c35a9e - - -] 10.11.10.1 \"GET /v2/54fadb412c4e40cdbaed9335e4c35a9e/servers/63a0d960-70b6-44c6-b606-491478a5cadf HTTP/1.1\" RCODE  200 len: 1708 time: 0.1946359",
         "HTTP Status",
         "0",
         "Unknown"
        ],
        [
         "51",
         "8/19/2025 5:58",
         "ThirdPartyAPI",
         "Server 4 restarted without warning during data migration",
         "Error",
         "22",
         "Unknown"
        ],
        [
         "53",
         "7/29/2025 0:17",
         "ModernHR",
         "Multiple login failures occurred on user 9052 account",
         "Security Alert",
         "7",
         "Unknown"
        ],
        [
         "55",
         "6/18/2025 11:21",
         "AnalyticsEngine",
         "Server 34 crashed unexpectedly while syncing data",
         "Error",
         "23",
         "Unknown"
        ],
        [
         "56",
         "2025-11-17 19:50:16",
         "ModernCRM",
         "nova.osapi_compute.wsgi.server [req-86b60c9f-5825-4447-9b26-c90aa4eb5986 113d3a99c3da401fbd62cc2caa5b96d2 54fadb412c4e40cdbaed9335e4c35a9e - - -] 10.11.10.1 \"GET /v2/54fadb412c4e40cdbaed9335e4c35a9e/servers/detail HTTP/1.1\" Status code -  200 len: 1759 time: 0.2631650",
         "HTTP Status",
         "0",
         "Unknown"
        ],
        [
         "58",
         "2025-09-13 14:45:14",
         "AnalyticsEngine",
         "nova.compute.claims [req-5c8f52bd-8e3c-41f0-95a5-7861d247cafa 113d3a99c3da401fbd62cc2caa5b96d2 54fadb412c4e40cdbaed9335e4c35a9e - - -] [instance: d96a117b-0193-4549-bdcc-63b917273d1d] vcpu limit not specified, defaulting to unlimited",
         "Resource Usage",
         "5",
         "Unknown"
        ],
        [
         "59",
         "2025-05-07 02:37:25",
         "AnalyticsEngine",
         "nova.metadata.wsgi.server [-] 10.11.21.143,10.11.10.1 \"GET /latest/meta-data/block-device-mapping/root HTTP/1.1\" HTTP status code -  200 len: 124 time: 0.0009151",
         "HTTP Status",
         "0",
         "Unknown"
        ],
        [
         "60",
         "2025-10-06 16:55:23",
         "LegacyCRM",
         "Lead conversion failed for prospect ID 7842 due to missing contact information.",
         "Workflow Error",
         "24",
         "Unknown"
        ],
        [
         "61",
         "2025-04-27 11:18:18",
         "ThirdPartyAPI",
         "nova.compute.claims [req-d38f479d-9bb9-4276-9688-52607e8fd350 113d3a99c3da401fbd62cc2caa5b96d2 54fadb412c4e40cdbaed9335e4c35a9e - - -] [instance: 95960536-049b-41f6-9049-05fc479b6a7c] disk limit not specified, defaulting to unlimited",
         "Resource Usage",
         "5",
         "Unknown"
        ],
        [
         "62",
         "1/19/2025 13:55",
         "ModernCRM",
         "System configuration is no longer valid",
         "Critical Error",
         "25",
         "Unknown"
        ]
       ],
       "shape": {
        "columns": 6,
        "rows": 1910
       }
      },
      "text/html": [
       "<div>\n",
       "<style scoped>\n",
       "    .dataframe tbody tr th:only-of-type {\n",
       "        vertical-align: middle;\n",
       "    }\n",
       "\n",
       "    .dataframe tbody tr th {\n",
       "        vertical-align: top;\n",
       "    }\n",
       "\n",
       "    .dataframe thead th {\n",
       "        text-align: right;\n",
       "    }\n",
       "</style>\n",
       "<table border=\"1\" class=\"dataframe\">\n",
       "  <thead>\n",
       "    <tr style=\"text-align: right;\">\n",
       "      <th></th>\n",
       "      <th>timestamp</th>\n",
       "      <th>source</th>\n",
       "      <th>log_message</th>\n",
       "      <th>target_label</th>\n",
       "      <th>cluster</th>\n",
       "      <th>regex_label</th>\n",
       "    </tr>\n",
       "  </thead>\n",
       "  <tbody>\n",
       "    <tr>\n",
       "      <th>0</th>\n",
       "      <td>2025-06-27 07:20:25</td>\n",
       "      <td>ModernCRM</td>\n",
       "      <td>nova.osapi_compute.wsgi.server [req-b9718cd8-f...</td>\n",
       "      <td>HTTP Status</td>\n",
       "      <td>0</td>\n",
       "      <td>Unknown</td>\n",
       "    </tr>\n",
       "    <tr>\n",
       "      <th>1</th>\n",
       "      <td>1/14/2025 23:07</td>\n",
       "      <td>ModernCRM</td>\n",
       "      <td>Email service experiencing issues with sending</td>\n",
       "      <td>Critical Error</td>\n",
       "      <td>1</td>\n",
       "      <td>Unknown</td>\n",
       "    </tr>\n",
       "    <tr>\n",
       "      <th>2</th>\n",
       "      <td>1/17/2025 1:29</td>\n",
       "      <td>AnalyticsEngine</td>\n",
       "      <td>Unauthorized access to data was attempted</td>\n",
       "      <td>Security Alert</td>\n",
       "      <td>2</td>\n",
       "      <td>Unknown</td>\n",
       "    </tr>\n",
       "    <tr>\n",
       "      <th>3</th>\n",
       "      <td>2025-07-12 00:24:16</td>\n",
       "      <td>ModernHR</td>\n",
       "      <td>nova.osapi_compute.wsgi.server [req-4895c258-b...</td>\n",
       "      <td>HTTP Status</td>\n",
       "      <td>0</td>\n",
       "      <td>Unknown</td>\n",
       "    </tr>\n",
       "    <tr>\n",
       "      <th>4</th>\n",
       "      <td>2025-06-02 18:25:23</td>\n",
       "      <td>BillingSystem</td>\n",
       "      <td>nova.osapi_compute.wsgi.server [req-ee8bc8ba-9...</td>\n",
       "      <td>HTTP Status</td>\n",
       "      <td>0</td>\n",
       "      <td>Unknown</td>\n",
       "    </tr>\n",
       "    <tr>\n",
       "      <th>...</th>\n",
       "      <td>...</td>\n",
       "      <td>...</td>\n",
       "      <td>...</td>\n",
       "      <td>...</td>\n",
       "      <td>...</td>\n",
       "      <td>...</td>\n",
       "    </tr>\n",
       "    <tr>\n",
       "      <th>2405</th>\n",
       "      <td>2025-08-13 07:29:25</td>\n",
       "      <td>ModernHR</td>\n",
       "      <td>nova.osapi_compute.wsgi.server [req-96c3ec98-2...</td>\n",
       "      <td>HTTP Status</td>\n",
       "      <td>0</td>\n",
       "      <td>Unknown</td>\n",
       "    </tr>\n",
       "    <tr>\n",
       "      <th>2406</th>\n",
       "      <td>1/11/2025 5:32</td>\n",
       "      <td>ModernHR</td>\n",
       "      <td>User 3844 account experienced multiple failed ...</td>\n",
       "      <td>Security Alert</td>\n",
       "      <td>7</td>\n",
       "      <td>Unknown</td>\n",
       "    </tr>\n",
       "    <tr>\n",
       "      <th>2407</th>\n",
       "      <td>2025-08-03 03:07:47</td>\n",
       "      <td>ThirdPartyAPI</td>\n",
       "      <td>nova.metadata.wsgi.server [req-b6d4a270-accb-4...</td>\n",
       "      <td>HTTP Status</td>\n",
       "      <td>0</td>\n",
       "      <td>Unknown</td>\n",
       "    </tr>\n",
       "    <tr>\n",
       "      <th>2408</th>\n",
       "      <td>11/11/2025 11:52</td>\n",
       "      <td>BillingSystem</td>\n",
       "      <td>Email service affected by failed transmission</td>\n",
       "      <td>Critical Error</td>\n",
       "      <td>1</td>\n",
       "      <td>Unknown</td>\n",
       "    </tr>\n",
       "    <tr>\n",
       "      <th>2409</th>\n",
       "      <td>12/25/2025 13:21</td>\n",
       "      <td>AnalyticsEngine</td>\n",
       "      <td>Repeated failed login attempts occurred for us...</td>\n",
       "      <td>Security Alert</td>\n",
       "      <td>7</td>\n",
       "      <td>Unknown</td>\n",
       "    </tr>\n",
       "  </tbody>\n",
       "</table>\n",
       "<p>1910 rows × 6 columns</p>\n",
       "</div>"
      ],
      "text/plain": [
       "                timestamp           source  \\\n",
       "0     2025-06-27 07:20:25        ModernCRM   \n",
       "1         1/14/2025 23:07        ModernCRM   \n",
       "2          1/17/2025 1:29  AnalyticsEngine   \n",
       "3     2025-07-12 00:24:16         ModernHR   \n",
       "4     2025-06-02 18:25:23    BillingSystem   \n",
       "...                   ...              ...   \n",
       "2405  2025-08-13 07:29:25         ModernHR   \n",
       "2406       1/11/2025 5:32         ModernHR   \n",
       "2407  2025-08-03 03:07:47    ThirdPartyAPI   \n",
       "2408     11/11/2025 11:52    BillingSystem   \n",
       "2409     12/25/2025 13:21  AnalyticsEngine   \n",
       "\n",
       "                                            log_message    target_label  \\\n",
       "0     nova.osapi_compute.wsgi.server [req-b9718cd8-f...     HTTP Status   \n",
       "1        Email service experiencing issues with sending  Critical Error   \n",
       "2             Unauthorized access to data was attempted  Security Alert   \n",
       "3     nova.osapi_compute.wsgi.server [req-4895c258-b...     HTTP Status   \n",
       "4     nova.osapi_compute.wsgi.server [req-ee8bc8ba-9...     HTTP Status   \n",
       "...                                                 ...             ...   \n",
       "2405  nova.osapi_compute.wsgi.server [req-96c3ec98-2...     HTTP Status   \n",
       "2406  User 3844 account experienced multiple failed ...  Security Alert   \n",
       "2407  nova.metadata.wsgi.server [req-b6d4a270-accb-4...     HTTP Status   \n",
       "2408      Email service affected by failed transmission  Critical Error   \n",
       "2409  Repeated failed login attempts occurred for us...  Security Alert   \n",
       "\n",
       "      cluster regex_label  \n",
       "0           0     Unknown  \n",
       "1           1     Unknown  \n",
       "2           2     Unknown  \n",
       "3           0     Unknown  \n",
       "4           0     Unknown  \n",
       "...       ...         ...  \n",
       "2405        0     Unknown  \n",
       "2406        7     Unknown  \n",
       "2407        0     Unknown  \n",
       "2408        1     Unknown  \n",
       "2409        7     Unknown  \n",
       "\n",
       "[1910 rows x 6 columns]"
      ]
     },
     "execution_count": 29,
     "metadata": {},
     "output_type": "execute_result"
    }
   ],
   "source": [
    "df_non_regex= df[df['regex_label'] == \"Unknown\"]\n",
    "df_non_regex"
   ]
  },
  {
   "cell_type": "code",
   "execution_count": 42,
   "id": "b0ee4294",
   "metadata": {},
   "outputs": [
    {
     "data": {
      "application/vnd.microsoft.datawrangler.viewer.v0+json": {
       "columns": [
        {
         "name": "source",
         "rawType": "object",
         "type": "string"
        },
        {
         "name": "target_label",
         "rawType": "int64",
         "type": "integer"
        }
       ],
       "conversionMethod": "pd.DataFrame",
       "ref": "47fc8917-be73-4940-82a6-53e35e39e753",
       "rows": [
        [
         "AnalyticsEngine",
         "371"
        ],
        [
         "BillingSystem",
         "371"
        ],
        [
         "LegacyCRM",
         "7"
        ],
        [
         "ModernCRM",
         "373"
        ],
        [
         "ModernHR",
         "402"
        ],
        [
         "ThirdPartyAPI",
         "386"
        ]
       ],
       "shape": {
        "columns": 1,
        "rows": 6
       }
      },
      "text/html": [
       "<div>\n",
       "<style scoped>\n",
       "    .dataframe tbody tr th:only-of-type {\n",
       "        vertical-align: middle;\n",
       "    }\n",
       "\n",
       "    .dataframe tbody tr th {\n",
       "        vertical-align: top;\n",
       "    }\n",
       "\n",
       "    .dataframe thead th {\n",
       "        text-align: right;\n",
       "    }\n",
       "</style>\n",
       "<table border=\"1\" class=\"dataframe\">\n",
       "  <thead>\n",
       "    <tr style=\"text-align: right;\">\n",
       "      <th></th>\n",
       "      <th>target_label</th>\n",
       "    </tr>\n",
       "    <tr>\n",
       "      <th>source</th>\n",
       "      <th></th>\n",
       "    </tr>\n",
       "  </thead>\n",
       "  <tbody>\n",
       "    <tr>\n",
       "      <th>AnalyticsEngine</th>\n",
       "      <td>371</td>\n",
       "    </tr>\n",
       "    <tr>\n",
       "      <th>BillingSystem</th>\n",
       "      <td>371</td>\n",
       "    </tr>\n",
       "    <tr>\n",
       "      <th>LegacyCRM</th>\n",
       "      <td>7</td>\n",
       "    </tr>\n",
       "    <tr>\n",
       "      <th>ModernCRM</th>\n",
       "      <td>373</td>\n",
       "    </tr>\n",
       "    <tr>\n",
       "      <th>ModernHR</th>\n",
       "      <td>402</td>\n",
       "    </tr>\n",
       "    <tr>\n",
       "      <th>ThirdPartyAPI</th>\n",
       "      <td>386</td>\n",
       "    </tr>\n",
       "  </tbody>\n",
       "</table>\n",
       "</div>"
      ],
      "text/plain": [
       "                 target_label\n",
       "source                       \n",
       "AnalyticsEngine           371\n",
       "BillingSystem             371\n",
       "LegacyCRM                   7\n",
       "ModernCRM                 373\n",
       "ModernHR                  402\n",
       "ThirdPartyAPI             386"
      ]
     },
     "execution_count": 42,
     "metadata": {},
     "output_type": "execute_result"
    }
   ],
   "source": [
    "df_non_regex[['target_label']].groupby(df_non_regex['source']).count()"
   ]
  },
  {
   "cell_type": "code",
   "execution_count": null,
   "id": "786f8efa",
   "metadata": {},
   "outputs": [],
   "source": []
  }
 ],
 "metadata": {
  "kernelspec": {
   "display_name": "log_classification",
   "language": "python",
   "name": "python3"
  },
  "language_info": {
   "codemirror_mode": {
    "name": "ipython",
    "version": 3
   },
   "file_extension": ".py",
   "mimetype": "text/x-python",
   "name": "python",
   "nbconvert_exporter": "python",
   "pygments_lexer": "ipython3",
   "version": "3.11.8"
  }
 },
 "nbformat": 4,
 "nbformat_minor": 5
}
